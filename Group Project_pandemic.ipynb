{
 "cells": [
  {
   "cell_type": "markdown",
   "metadata": {},
   "source": [
    "## Dataset"
   ]
  },
  {
   "cell_type": "markdown",
   "metadata": {},
   "source": [
    "**Data fields:**\n",
    "    \n",
    "- **Patient_ID** - The unique identifier of the patient\n",
    "- **Family_Case_ID** - The family identification\n",
    "- **Severity** - The severity of the disease, where 1 is the lowest and 3 the highest severity\n",
    "- **Name** - The name of the patient\n",
    "- **Birthday_year** - The year of birthday of the patient\n",
    "- **Parents_Siblings_Infected** - The number of parents and/or siblings infected\n",
    "- **Partner_Children_Infected** - The number of partner and/or children infected\n",
    "- **Medical_Expenses_Family** - The medical expenses associated to try to contain the epidemy on the family\n",
    "- **Medical_Tent** - The medical tent where the patient is / was lodged\n",
    "- **City** - The original city of the patient\n",
    "- **Deceased** - Flag if the patient deceased or not with the virus (0 = No, 1 = Yes)"
   ]
  },
  {
   "cell_type": "markdown",
   "metadata": {},
   "source": [
    "## Libraries"
   ]
  },
  {
   "cell_type": "code",
   "execution_count": 1,
   "metadata": {},
   "outputs": [],
   "source": [
    "import warnings\n",
    "warnings.filterwarnings('ignore')\n",
    "import time\n",
    "from sklearn.neural_network import MLPClassifier\n",
    "import pandas as pd\n",
    "from sklearn.model_selection import train_test_split\n",
    "from sklearn.model_selection import KFold\n",
    "from sklearn.feature_selection import RFE, RFECV\n",
    "from sklearn.preprocessing import MinMaxScaler\n",
    "from sklearn.preprocessing import RobustScaler\n",
    "from sklearn.model_selection import RandomizedSearchCV\n",
    "from sklearn.linear_model import LogisticRegression, LogisticRegressionCV,LassoCV,RidgeCV, RidgeClassifier\n",
    "from sklearn.ensemble import RandomForestClassifier\n",
    "from sklearn.ensemble import GradientBoostingClassifier\n",
    "from sklearn.neighbors import KNeighborsClassifier\n",
    "from sklearn.naive_bayes import GaussianNB\n",
    "from sklearn.impute import KNNImputer\n",
    "from sklearn.svm import SVC, LinearSVC\n",
    "import numpy as np\n",
    "import matplotlib.pyplot as plt\n",
    "from matplotlib.pyplot import figure\n",
    "import seaborn as sb\n",
    "import math\n",
    "from xgboost import XGBClassifier\n",
    "from sklearn.preprocessing import RobustScaler, StandardScaler, LabelEncoder, MinMaxScaler, OneHotEncoder\n",
    "from sklearn import metrics\n",
    "import optuna\n",
    "import functools"
   ]
  },
  {
   "cell_type": "markdown",
   "metadata": {},
   "source": [
    "## Functions"
   ]
  },
  {
   "cell_type": "code",
   "execution_count": 2,
   "metadata": {},
   "outputs": [],
   "source": [
    "def avg_score(model):\n",
    "    # apply kfold\n",
    "    kf = KFold(n_splits=5)\n",
    "    # create lists to store the results from the different models \n",
    "    score_train = []\n",
    "    score_test = []\n",
    "    timer = []\n",
    "    n_iter = []\n",
    "    for train_index, val_index in kf.split(X):\n",
    "        # get the indexes of the observations assigned for each partition\n",
    "        X_train, X_val = X.iloc[train_index], X.iloc[val_index]\n",
    "        y_train, y_val = y.iloc[train_index], y.iloc[val_index]\n",
    "        # start counting time\n",
    "        begin = time.perf_counter()\n",
    "        # fit the model to the data\n",
    "        model.fit(X_train, y_train)\n",
    "        # finish counting time\n",
    "        end = time.perf_counter()\n",
    "        # check the mean accuracy for the train\n",
    "        value_train = model.score(X_train, y_train)\n",
    "        # check the mean accuracy for the test\n",
    "        value_test = model.score(X_val,y_val)\n",
    "        # append the accuracies, the time and the number of iterations in the corresponding list\n",
    "        score_train.append(value_train)\n",
    "        score_test.append(value_test)\n",
    "        timer.append(end-begin)\n",
    "        n_iter.append(model.n_iter_)\n",
    "    # calculate the average and the std for each measure (accuracy, time and number of iterations)\n",
    "    avg_time = round(np.mean(timer),3)\n",
    "    avg_train = round(np.mean(score_train),3)\n",
    "    avg_test = round(np.mean(score_test),3)\n",
    "    std_time = round(np.std(timer),2)\n",
    "    std_train = round(np.std(score_train),2)\n",
    "    std_test = round(np.std(score_test),2)\n",
    "    avg_iter = round(np.mean(n_iter),1)\n",
    "    std_iter = round(np.std(n_iter),1)\n",
    "    \n",
    "    return str(avg_time) + '+/-' + str(std_time), str(avg_train) + '+/-' + str(std_train),\\\n",
    "str(avg_test) + '+/-' + str(std_test), str(avg_iter) + '+/-' + str(std_iter)"
   ]
  },
  {
   "cell_type": "code",
   "execution_count": 3,
   "metadata": {},
   "outputs": [],
   "source": [
    "def show_results(df, *args):\n",
    "    \"\"\"\n",
    "    Receive an empty dataframe and the different models and call the function avg_score\n",
    "    \"\"\"\n",
    "    count = 0\n",
    "    # for each model passed as argument\n",
    "    for arg in args:\n",
    "        # obtain the results provided by avg_score\n",
    "        time, avg_train, avg_test, avg_iter = avg_score(arg)\n",
    "        # store the results in the right row\n",
    "        df.iloc[count] = time, avg_train, avg_test, avg_iter\n",
    "        count+=1\n",
    "    return df"
   ]
  },
  {
   "cell_type": "code",
   "execution_count": 4,
   "metadata": {},
   "outputs": [],
   "source": [
    "def cor_heatmap(cor):\n",
    "    plt.figure(figsize=(20,20))\n",
    "    sb.heatmap(data = cor, annot = True, cmap = plt.cm.Reds, fmt='.1')\n",
    "    plt.show()"
   ]
  },
  {
   "cell_type": "code",
   "execution_count": 5,
   "metadata": {},
   "outputs": [],
   "source": [
    "def plt_box(data):\n",
    "    n_col = 2\n",
    "    n_row = 2\n",
    "    fig, ax = plt.subplots(n_row, n_col, figsize=(15, 10))\n",
    "    for var, subplot in zip(data[numerical], ax.flatten()):\n",
    "        sb.boxplot(data[var], ax=subplot)"
   ]
  },
  {
   "cell_type": "code",
   "execution_count": 6,
   "metadata": {},
   "outputs": [],
   "source": [
    "from IPython.display import display_html\n",
    "def display_side_by_side(*args):\n",
    "    html_str=''\n",
    "    for df in args:\n",
    "        html_str+=df.to_html()\n",
    "    display_html(html_str.replace('table','table style=\"display:inline\"'),raw=True)"
   ]
  },
  {
   "cell_type": "markdown",
   "metadata": {},
   "source": [
    " ## Data exploration"
   ]
  },
  {
   "cell_type": "markdown",
   "metadata": {},
   "source": [
    "### Full dataset exploration"
   ]
  },
  {
   "cell_type": "markdown",
   "metadata": {},
   "source": [
    "preprocess as types \n",
    "year as integer \n",
    "patient_id and Family case as text"
   ]
  },
  {
   "cell_type": "code",
   "execution_count": 7,
   "metadata": {},
   "outputs": [
    {
     "data": {
      "text/html": [
       "<div>\n",
       "<style scoped>\n",
       "    .dataframe tbody tr th:only-of-type {\n",
       "        vertical-align: middle;\n",
       "    }\n",
       "\n",
       "    .dataframe tbody tr th {\n",
       "        vertical-align: top;\n",
       "    }\n",
       "\n",
       "    .dataframe thead th {\n",
       "        text-align: right;\n",
       "    }\n",
       "</style>\n",
       "<table border=\"1\" class=\"dataframe\">\n",
       "  <thead>\n",
       "    <tr style=\"text-align: right;\">\n",
       "      <th></th>\n",
       "      <th>Patient_ID</th>\n",
       "      <th>Family_Case_ID</th>\n",
       "      <th>Severity</th>\n",
       "      <th>Name</th>\n",
       "      <th>Birthday_year</th>\n",
       "      <th>Parents or siblings infected</th>\n",
       "      <th>Wife/Husband or children infected</th>\n",
       "      <th>Medical_Expenses_Family</th>\n",
       "      <th>Medical_Tent</th>\n",
       "      <th>City</th>\n",
       "      <th>Deceased</th>\n",
       "    </tr>\n",
       "  </thead>\n",
       "  <tbody>\n",
       "    <tr>\n",
       "      <th>count</th>\n",
       "      <td>900.000000</td>\n",
       "      <td>900.000000</td>\n",
       "      <td>900.000000</td>\n",
       "      <td>900</td>\n",
       "      <td>723.000000</td>\n",
       "      <td>900.000000</td>\n",
       "      <td>900.000000</td>\n",
       "      <td>900.000000</td>\n",
       "      <td>198</td>\n",
       "      <td>898</td>\n",
       "      <td>900.000000</td>\n",
       "    </tr>\n",
       "    <tr>\n",
       "      <th>unique</th>\n",
       "      <td>NaN</td>\n",
       "      <td>NaN</td>\n",
       "      <td>NaN</td>\n",
       "      <td>899</td>\n",
       "      <td>NaN</td>\n",
       "      <td>NaN</td>\n",
       "      <td>NaN</td>\n",
       "      <td>NaN</td>\n",
       "      <td>8</td>\n",
       "      <td>3</td>\n",
       "      <td>NaN</td>\n",
       "    </tr>\n",
       "    <tr>\n",
       "      <th>top</th>\n",
       "      <td>NaN</td>\n",
       "      <td>NaN</td>\n",
       "      <td>NaN</td>\n",
       "      <td>Mr. Samuel Darnell</td>\n",
       "      <td>NaN</td>\n",
       "      <td>NaN</td>\n",
       "      <td>NaN</td>\n",
       "      <td>NaN</td>\n",
       "      <td>C</td>\n",
       "      <td>Santa Fe</td>\n",
       "      <td>NaN</td>\n",
       "    </tr>\n",
       "    <tr>\n",
       "      <th>freq</th>\n",
       "      <td>NaN</td>\n",
       "      <td>NaN</td>\n",
       "      <td>NaN</td>\n",
       "      <td>2</td>\n",
       "      <td>NaN</td>\n",
       "      <td>NaN</td>\n",
       "      <td>NaN</td>\n",
       "      <td>NaN</td>\n",
       "      <td>57</td>\n",
       "      <td>649</td>\n",
       "      <td>NaN</td>\n",
       "    </tr>\n",
       "    <tr>\n",
       "      <th>mean</th>\n",
       "      <td>450.500000</td>\n",
       "      <td>14305.827778</td>\n",
       "      <td>2.313333</td>\n",
       "      <td>NaN</td>\n",
       "      <td>1990.266943</td>\n",
       "      <td>0.380000</td>\n",
       "      <td>0.521111</td>\n",
       "      <td>895.743333</td>\n",
       "      <td>NaN</td>\n",
       "      <td>NaN</td>\n",
       "      <td>0.614444</td>\n",
       "    </tr>\n",
       "    <tr>\n",
       "      <th>std</th>\n",
       "      <td>259.951919</td>\n",
       "      <td>25418.153900</td>\n",
       "      <td>0.834223</td>\n",
       "      <td>NaN</td>\n",
       "      <td>14.523335</td>\n",
       "      <td>0.803247</td>\n",
       "      <td>1.098385</td>\n",
       "      <td>1385.829926</td>\n",
       "      <td>NaN</td>\n",
       "      <td>NaN</td>\n",
       "      <td>0.486997</td>\n",
       "    </tr>\n",
       "    <tr>\n",
       "      <th>min</th>\n",
       "      <td>1.000000</td>\n",
       "      <td>345.000000</td>\n",
       "      <td>1.000000</td>\n",
       "      <td>NaN</td>\n",
       "      <td>1940.000000</td>\n",
       "      <td>0.000000</td>\n",
       "      <td>0.000000</td>\n",
       "      <td>0.000000</td>\n",
       "      <td>NaN</td>\n",
       "      <td>NaN</td>\n",
       "      <td>0.000000</td>\n",
       "    </tr>\n",
       "    <tr>\n",
       "      <th>25%</th>\n",
       "      <td>225.750000</td>\n",
       "      <td>8203.000000</td>\n",
       "      <td>2.000000</td>\n",
       "      <td>NaN</td>\n",
       "      <td>1982.000000</td>\n",
       "      <td>0.000000</td>\n",
       "      <td>0.000000</td>\n",
       "      <td>221.000000</td>\n",
       "      <td>NaN</td>\n",
       "      <td>NaN</td>\n",
       "      <td>0.000000</td>\n",
       "    </tr>\n",
       "    <tr>\n",
       "      <th>50%</th>\n",
       "      <td>450.500000</td>\n",
       "      <td>13593.500000</td>\n",
       "      <td>3.000000</td>\n",
       "      <td>NaN</td>\n",
       "      <td>1992.000000</td>\n",
       "      <td>0.000000</td>\n",
       "      <td>0.000000</td>\n",
       "      <td>405.000000</td>\n",
       "      <td>NaN</td>\n",
       "      <td>NaN</td>\n",
       "      <td>1.000000</td>\n",
       "    </tr>\n",
       "    <tr>\n",
       "      <th>75%</th>\n",
       "      <td>675.250000</td>\n",
       "      <td>18906.500000</td>\n",
       "      <td>3.000000</td>\n",
       "      <td>NaN</td>\n",
       "      <td>1999.500000</td>\n",
       "      <td>0.000000</td>\n",
       "      <td>1.000000</td>\n",
       "      <td>861.250000</td>\n",
       "      <td>NaN</td>\n",
       "      <td>NaN</td>\n",
       "      <td>1.000000</td>\n",
       "    </tr>\n",
       "    <tr>\n",
       "      <th>max</th>\n",
       "      <td>900.000000</td>\n",
       "      <td>742836.000000</td>\n",
       "      <td>3.000000</td>\n",
       "      <td>NaN</td>\n",
       "      <td>2019.000000</td>\n",
       "      <td>6.000000</td>\n",
       "      <td>8.000000</td>\n",
       "      <td>14345.000000</td>\n",
       "      <td>NaN</td>\n",
       "      <td>NaN</td>\n",
       "      <td>1.000000</td>\n",
       "    </tr>\n",
       "  </tbody>\n",
       "</table>\n",
       "</div>"
      ],
      "text/plain": [
       "        Patient_ID  Family_Case_ID    Severity                Name  \\\n",
       "count   900.000000      900.000000  900.000000                 900   \n",
       "unique         NaN             NaN         NaN                 899   \n",
       "top            NaN             NaN         NaN  Mr. Samuel Darnell   \n",
       "freq           NaN             NaN         NaN                   2   \n",
       "mean    450.500000    14305.827778    2.313333                 NaN   \n",
       "std     259.951919    25418.153900    0.834223                 NaN   \n",
       "min       1.000000      345.000000    1.000000                 NaN   \n",
       "25%     225.750000     8203.000000    2.000000                 NaN   \n",
       "50%     450.500000    13593.500000    3.000000                 NaN   \n",
       "75%     675.250000    18906.500000    3.000000                 NaN   \n",
       "max     900.000000   742836.000000    3.000000                 NaN   \n",
       "\n",
       "        Birthday_year  Parents or siblings infected  \\\n",
       "count      723.000000                    900.000000   \n",
       "unique            NaN                           NaN   \n",
       "top               NaN                           NaN   \n",
       "freq              NaN                           NaN   \n",
       "mean      1990.266943                      0.380000   \n",
       "std         14.523335                      0.803247   \n",
       "min       1940.000000                      0.000000   \n",
       "25%       1982.000000                      0.000000   \n",
       "50%       1992.000000                      0.000000   \n",
       "75%       1999.500000                      0.000000   \n",
       "max       2019.000000                      6.000000   \n",
       "\n",
       "        Wife/Husband or children infected  Medical_Expenses_Family  \\\n",
       "count                          900.000000               900.000000   \n",
       "unique                                NaN                      NaN   \n",
       "top                                   NaN                      NaN   \n",
       "freq                                  NaN                      NaN   \n",
       "mean                             0.521111               895.743333   \n",
       "std                              1.098385              1385.829926   \n",
       "min                              0.000000                 0.000000   \n",
       "25%                              0.000000               221.000000   \n",
       "50%                              0.000000               405.000000   \n",
       "75%                              1.000000               861.250000   \n",
       "max                              8.000000             14345.000000   \n",
       "\n",
       "       Medical_Tent      City    Deceased  \n",
       "count           198       898  900.000000  \n",
       "unique            8         3         NaN  \n",
       "top               C  Santa Fe         NaN  \n",
       "freq             57       649         NaN  \n",
       "mean            NaN       NaN    0.614444  \n",
       "std             NaN       NaN    0.486997  \n",
       "min             NaN       NaN    0.000000  \n",
       "25%             NaN       NaN    0.000000  \n",
       "50%             NaN       NaN    1.000000  \n",
       "75%             NaN       NaN    1.000000  \n",
       "max             NaN       NaN    1.000000  "
      ]
     },
     "execution_count": 7,
     "metadata": {},
     "output_type": "execute_result"
    }
   ],
   "source": [
    "Pandemic = pd.read_csv(\"train.csv\")\n",
    "Pandemic.describe(include='all')"
   ]
  },
  {
   "cell_type": "code",
   "execution_count": 8,
   "metadata": {},
   "outputs": [
    {
     "name": "stdout",
     "output_type": "stream",
     "text": [
      "Patient_ID                             0\n",
      "Family_Case_ID                         0\n",
      "Severity                               0\n",
      "Name                                   0\n",
      "Birthday_year                        177\n",
      "Parents or siblings infected           0\n",
      "Wife/Husband or children infected      0\n",
      "Medical_Expenses_Family                0\n",
      "Medical_Tent                         702\n",
      "City                                   2\n",
      "Deceased                               0\n",
      "dtype: int64\n"
     ]
    }
   ],
   "source": [
    "# Check missing values\n",
    "print(Pandemic.isnull().sum())"
   ]
  },
  {
   "cell_type": "markdown",
   "metadata": {},
   "source": [
    "**Initial considerations:**\n",
    "\n",
    "We have 900 patients records\n",
    "* one patient name repeats once but looking at the patients info we conclude these are two different people with same names\n",
    "* Families can be tracked by Family_case_ID\n",
    "* Birthday Year not available for everyone - fill in with KNNFiller? Also easier to work with age so will create a column \"Age\"(as of January 1st, 2020 when epidemic started)\n",
    "* City has two missing values - fill in with KNNImputer?\n",
    "* Medical tent can be unknown? (are there patients without tent or its data collection error?) so we cannot realy extrapolate these values and there are too many patients without Tent (almost 80%)\n",
    "* Medical tent has many categories (8). This can indicate an issue with distribution. Can convert to binary (Tent - Yes-No).\n",
    "* target value (deceased or not) is evenly distributed\n",
    "\n"
   ]
  },
  {
   "cell_type": "code",
   "execution_count": 9,
   "metadata": {},
   "outputs": [
    {
     "data": {
      "text/html": [
       "<div>\n",
       "<style scoped>\n",
       "    .dataframe tbody tr th:only-of-type {\n",
       "        vertical-align: middle;\n",
       "    }\n",
       "\n",
       "    .dataframe tbody tr th {\n",
       "        vertical-align: top;\n",
       "    }\n",
       "\n",
       "    .dataframe thead th {\n",
       "        text-align: right;\n",
       "    }\n",
       "</style>\n",
       "<table border=\"1\" class=\"dataframe\">\n",
       "  <thead>\n",
       "    <tr style=\"text-align: right;\">\n",
       "      <th>Severity</th>\n",
       "      <th>1</th>\n",
       "      <th>2</th>\n",
       "      <th>3</th>\n",
       "    </tr>\n",
       "    <tr>\n",
       "      <th>City</th>\n",
       "      <th></th>\n",
       "      <th></th>\n",
       "      <th></th>\n",
       "    </tr>\n",
       "  </thead>\n",
       "  <tbody>\n",
       "    <tr>\n",
       "      <th>Albuquerque</th>\n",
       "      <td>85</td>\n",
       "      <td>17</td>\n",
       "      <td>67</td>\n",
       "    </tr>\n",
       "    <tr>\n",
       "      <th>Santa Fe</th>\n",
       "      <td>127</td>\n",
       "      <td>165</td>\n",
       "      <td>357</td>\n",
       "    </tr>\n",
       "    <tr>\n",
       "      <th>Taos</th>\n",
       "      <td>2</td>\n",
       "      <td>4</td>\n",
       "      <td>74</td>\n",
       "    </tr>\n",
       "  </tbody>\n",
       "</table>\n",
       "</div>"
      ],
      "text/plain": [
       "Severity       1    2    3\n",
       "City                      \n",
       "Albuquerque   85   17   67\n",
       "Santa Fe     127  165  357\n",
       "Taos           2    4   74"
      ]
     },
     "execution_count": 9,
     "metadata": {},
     "output_type": "execute_result"
    }
   ],
   "source": [
    "# Exploration of categorical variables: cross table of Tents and city and severity of infection\n",
    "table1 = pd.crosstab(index=Pandemic['City'], columns=Pandemic['Severity'])\n",
    "table1"
   ]
  },
  {
   "cell_type": "code",
   "execution_count": 10,
   "metadata": {},
   "outputs": [
    {
     "data": {
      "text/plain": [
       "<matplotlib.axes._subplots.AxesSubplot at 0x1a240b84d0>"
      ]
     },
     "execution_count": 10,
     "metadata": {},
     "output_type": "execute_result"
    },
    {
     "data": {
      "image/png": "[encoded data removed]",
      "text/plain": [
       "<Figure size 432x432 with 1 Axes>"
      ]
     },
     "metadata": {
      "needs_background": "light"
     },
     "output_type": "display_data"
    }
   ],
   "source": [
    "# Visual exploration of the cross table\n",
    "table1.plot(kind=\"bar\", \n",
    "                 figsize=(6,6),\n",
    "                 stacked=False)"
   ]
  },
  {
   "cell_type": "code",
   "execution_count": 11,
   "metadata": {},
   "outputs": [
    {
     "data": {
      "text/html": [
       "<div>\n",
       "<style scoped>\n",
       "    .dataframe tbody tr th:only-of-type {\n",
       "        vertical-align: middle;\n",
       "    }\n",
       "\n",
       "    .dataframe tbody tr th {\n",
       "        vertical-align: top;\n",
       "    }\n",
       "\n",
       "    .dataframe thead th {\n",
       "        text-align: right;\n",
       "    }\n",
       "</style>\n",
       "<table border=\"1\" class=\"dataframe\">\n",
       "  <thead>\n",
       "    <tr style=\"text-align: right;\">\n",
       "      <th>Severity</th>\n",
       "      <th>1</th>\n",
       "      <th>2</th>\n",
       "      <th>3</th>\n",
       "    </tr>\n",
       "    <tr>\n",
       "      <th>Medical_Tent</th>\n",
       "      <th></th>\n",
       "      <th></th>\n",
       "      <th></th>\n",
       "    </tr>\n",
       "  </thead>\n",
       "  <tbody>\n",
       "    <tr>\n",
       "      <th>A</th>\n",
       "      <td>15</td>\n",
       "      <td>0</td>\n",
       "      <td>0</td>\n",
       "    </tr>\n",
       "    <tr>\n",
       "      <th>B</th>\n",
       "      <td>46</td>\n",
       "      <td>0</td>\n",
       "      <td>0</td>\n",
       "    </tr>\n",
       "    <tr>\n",
       "      <th>C</th>\n",
       "      <td>56</td>\n",
       "      <td>0</td>\n",
       "      <td>1</td>\n",
       "    </tr>\n",
       "    <tr>\n",
       "      <th>D</th>\n",
       "      <td>27</td>\n",
       "      <td>4</td>\n",
       "      <td>0</td>\n",
       "    </tr>\n",
       "    <tr>\n",
       "      <th>E</th>\n",
       "      <td>24</td>\n",
       "      <td>4</td>\n",
       "      <td>3</td>\n",
       "    </tr>\n",
       "    <tr>\n",
       "      <th>F</th>\n",
       "      <td>0</td>\n",
       "      <td>8</td>\n",
       "      <td>5</td>\n",
       "    </tr>\n",
       "    <tr>\n",
       "      <th>G</th>\n",
       "      <td>0</td>\n",
       "      <td>0</td>\n",
       "      <td>4</td>\n",
       "    </tr>\n",
       "    <tr>\n",
       "      <th>T</th>\n",
       "      <td>1</td>\n",
       "      <td>0</td>\n",
       "      <td>0</td>\n",
       "    </tr>\n",
       "  </tbody>\n",
       "</table>\n",
       "</div>"
      ],
      "text/plain": [
       "Severity       1  2  3\n",
       "Medical_Tent          \n",
       "A             15  0  0\n",
       "B             46  0  0\n",
       "C             56  0  1\n",
       "D             27  4  0\n",
       "E             24  4  3\n",
       "F              0  8  5\n",
       "G              0  0  4\n",
       "T              1  0  0"
      ]
     },
     "execution_count": 11,
     "metadata": {},
     "output_type": "execute_result"
    }
   ],
   "source": [
    "table1 = pd.crosstab(index=Pandemic['Medical_Tent'], columns=Pandemic['Severity'])\n",
    "table1"
   ]
  },
  {
   "cell_type": "code",
   "execution_count": 12,
   "metadata": {},
   "outputs": [
    {
     "data": {
      "text/plain": [
       "<matplotlib.axes._subplots.AxesSubplot at 0x1a24231f10>"
      ]
     },
     "execution_count": 12,
     "metadata": {},
     "output_type": "execute_result"
    },
    {
     "data": {
      "image/png": "[encoded data removed]",
      "text/plain": [
       "<Figure size 432x432 with 1 Axes>"
      ]
     },
     "metadata": {
      "needs_background": "light"
     },
     "output_type": "display_data"
    }
   ],
   "source": [
    "# Visual exploration of the cross table\n",
    "table1.plot(kind=\"bar\", \n",
    "                 figsize=(6,6),\n",
    "                 stacked=True)"
   ]
  },
  {
   "cell_type": "code",
   "execution_count": 13,
   "metadata": {},
   "outputs": [
    {
     "data": {
      "image/png": "[encoded data removed]",
      "text/plain": [
       "<Figure size 1080x1080 with 12 Axes>"
      ]
     },
     "metadata": {
      "needs_background": "light"
     },
     "output_type": "display_data"
    }
   ],
   "source": [
    "# Do histograms on all numeric variables\n",
    "numerical=Pandemic.select_dtypes(include=[np.number]).columns.tolist()\n",
    "Pandemic[numerical].hist(bins=15, figsize=(15, 15), layout=(4, 3), xlabelsize=8, ylabelsize=8);"
   ]
  },
  {
   "cell_type": "markdown",
   "metadata": {},
   "source": [
    "Age has somewhat normal distribution, but Medical expenses need to be transformed. Also Infected family needs to be looked at."
   ]
  },
  {
   "cell_type": "code",
   "execution_count": 14,
   "metadata": {},
   "outputs": [
    {
     "data": {
      "image/png": "[encoded data removed]",
      "text/plain": [
       "<Figure size 1080x720 with 4 Axes>"
      ]
     },
     "metadata": {
      "needs_background": "light"
     },
     "output_type": "display_data"
    }
   ],
   "source": [
    "# Boxplots on all numeric variables\n",
    "plt_box(Pandemic[numerical])"
   ]
  },
  {
   "cell_type": "markdown",
   "metadata": {},
   "source": [
    "### Exploration of variables in relation to target"
   ]
  },
  {
   "cell_type": "code",
   "execution_count": 15,
   "metadata": {},
   "outputs": [
    {
     "data": {
      "text/html": [
       "<div>\n",
       "<style scoped>\n",
       "    .dataframe tbody tr th:only-of-type {\n",
       "        vertical-align: middle;\n",
       "    }\n",
       "\n",
       "    .dataframe tbody tr th {\n",
       "        vertical-align: top;\n",
       "    }\n",
       "\n",
       "    .dataframe thead th {\n",
       "        text-align: right;\n",
       "    }\n",
       "</style>\n",
       "<table border=\"1\" class=\"dataframe\">\n",
       "  <thead>\n",
       "    <tr style=\"text-align: right;\">\n",
       "      <th></th>\n",
       "      <th>Patient_ID</th>\n",
       "      <th>Family_Case_ID</th>\n",
       "      <th>Severity</th>\n",
       "      <th>Birthday_year</th>\n",
       "      <th>Parents or siblings infected</th>\n",
       "      <th>Wife/Husband or children infected</th>\n",
       "      <th>Medical_Expenses_Family</th>\n",
       "    </tr>\n",
       "    <tr>\n",
       "      <th>Deceased</th>\n",
       "      <th></th>\n",
       "      <th></th>\n",
       "      <th></th>\n",
       "      <th></th>\n",
       "      <th></th>\n",
       "      <th></th>\n",
       "      <th></th>\n",
       "    </tr>\n",
       "  </thead>\n",
       "  <tbody>\n",
       "    <tr>\n",
       "      <th>0</th>\n",
       "      <td>449.423631</td>\n",
       "      <td>13619.536023</td>\n",
       "      <td>1.962536</td>\n",
       "      <td>1991.698305</td>\n",
       "      <td>0.463977</td>\n",
       "      <td>0.475504</td>\n",
       "      <td>1340.755043</td>\n",
       "    </tr>\n",
       "    <tr>\n",
       "      <th>1</th>\n",
       "      <td>451.175407</td>\n",
       "      <td>14736.466546</td>\n",
       "      <td>2.533454</td>\n",
       "      <td>1989.280374</td>\n",
       "      <td>0.327306</td>\n",
       "      <td>0.549729</td>\n",
       "      <td>616.504521</td>\n",
       "    </tr>\n",
       "  </tbody>\n",
       "</table>\n",
       "</div>"
      ],
      "text/plain": [
       "          Patient_ID  Family_Case_ID  Severity  Birthday_year  \\\n",
       "Deceased                                                        \n",
       "0         449.423631    13619.536023  1.962536    1991.698305   \n",
       "1         451.175407    14736.466546  2.533454    1989.280374   \n",
       "\n",
       "          Parents or siblings infected  Wife/Husband or children infected  \\\n",
       "Deceased                                                                    \n",
       "0                             0.463977                           0.475504   \n",
       "1                             0.327306                           0.549729   \n",
       "\n",
       "          Medical_Expenses_Family  \n",
       "Deceased                           \n",
       "0                     1340.755043  \n",
       "1                      616.504521  "
      ]
     },
     "execution_count": 15,
     "metadata": {},
     "output_type": "execute_result"
    }
   ],
   "source": [
    "#average metrics for Deceased and Survivors to get initial insights\n",
    "Pandemic.groupby('Deceased').mean()"
   ]
  },
  {
   "cell_type": "code",
   "execution_count": 16,
   "metadata": {},
   "outputs": [
    {
     "data": {
      "text/html": [
       "<table style=\"display:inline\" border=\"1\" class=\"dataframe\">\n",
       "  <thead>\n",
       "    <tr style=\"text-align: right;\">\n",
       "      <th>Deceased</th>\n",
       "      <th>0</th>\n",
       "      <th>1</th>\n",
       "    </tr>\n",
       "    <tr>\n",
       "      <th>City</th>\n",
       "      <th></th>\n",
       "      <th></th>\n",
       "    </tr>\n",
       "  </thead>\n",
       "  <tbody>\n",
       "    <tr>\n",
       "      <th>Albuquerque</th>\n",
       "      <td>94</td>\n",
       "      <td>75</td>\n",
       "    </tr>\n",
       "    <tr>\n",
       "      <th>Santa Fe</th>\n",
       "      <td>221</td>\n",
       "      <td>428</td>\n",
       "    </tr>\n",
       "    <tr>\n",
       "      <th>Taos</th>\n",
       "      <td>30</td>\n",
       "      <td>50</td>\n",
       "    </tr>\n",
       "  </tbody>\n",
       "</table style=\"display:inline\"><table style=\"display:inline\" border=\"1\" class=\"dataframe\">\n",
       "  <thead>\n",
       "    <tr style=\"text-align: right;\">\n",
       "      <th>Deceased</th>\n",
       "      <th>0</th>\n",
       "      <th>1</th>\n",
       "    </tr>\n",
       "    <tr>\n",
       "      <th>Severity</th>\n",
       "      <th></th>\n",
       "      <th></th>\n",
       "    </tr>\n",
       "  </thead>\n",
       "  <tbody>\n",
       "    <tr>\n",
       "      <th>1</th>\n",
       "      <td>136</td>\n",
       "      <td>80</td>\n",
       "    </tr>\n",
       "    <tr>\n",
       "      <th>2</th>\n",
       "      <td>88</td>\n",
       "      <td>98</td>\n",
       "    </tr>\n",
       "    <tr>\n",
       "      <th>3</th>\n",
       "      <td>123</td>\n",
       "      <td>375</td>\n",
       "    </tr>\n",
       "  </tbody>\n",
       "</table style=\"display:inline\"><table style=\"display:inline\" border=\"1\" class=\"dataframe\">\n",
       "  <thead>\n",
       "    <tr style=\"text-align: right;\">\n",
       "      <th>Deceased</th>\n",
       "      <th>0</th>\n",
       "      <th>1</th>\n",
       "    </tr>\n",
       "    <tr>\n",
       "      <th>Medical_Tent</th>\n",
       "      <th></th>\n",
       "      <th></th>\n",
       "    </tr>\n",
       "  </thead>\n",
       "  <tbody>\n",
       "    <tr>\n",
       "      <th>A</th>\n",
       "      <td>7.0</td>\n",
       "      <td>8.0</td>\n",
       "    </tr>\n",
       "    <tr>\n",
       "      <th>B</th>\n",
       "      <td>34.0</td>\n",
       "      <td>12.0</td>\n",
       "    </tr>\n",
       "    <tr>\n",
       "      <th>C</th>\n",
       "      <td>34.0</td>\n",
       "      <td>23.0</td>\n",
       "    </tr>\n",
       "    <tr>\n",
       "      <th>D</th>\n",
       "      <td>23.0</td>\n",
       "      <td>8.0</td>\n",
       "    </tr>\n",
       "    <tr>\n",
       "      <th>E</th>\n",
       "      <td>23.0</td>\n",
       "      <td>8.0</td>\n",
       "    </tr>\n",
       "    <tr>\n",
       "      <th>F</th>\n",
       "      <td>8.0</td>\n",
       "      <td>5.0</td>\n",
       "    </tr>\n",
       "    <tr>\n",
       "      <th>G</th>\n",
       "      <td>2.0</td>\n",
       "      <td>2.0</td>\n",
       "    </tr>\n",
       "    <tr>\n",
       "      <th>T</th>\n",
       "      <td>NaN</td>\n",
       "      <td>1.0</td>\n",
       "    </tr>\n",
       "  </tbody>\n",
       "</table style=\"display:inline\">"
      ]
     },
     "metadata": {},
     "output_type": "display_data"
    }
   ],
   "source": [
    "#Exploring categorical features\n",
    "piv1=pd.pivot_table(Pandemic, values='Patient_ID', index=['City'], columns=['Deceased'],aggfunc='count')\n",
    "piv2=pd.pivot_table(Pandemic, values='Patient_ID', index=['Severity'], columns=['Deceased'],aggfunc='count')\n",
    "piv3=pd.pivot_table(Pandemic, values='Patient_ID', index=['Medical_Tent'], columns=['Deceased'],aggfunc='count')\n",
    "\n",
    "display_side_by_side(piv1,piv2,piv3)\n"
   ]
  },
  {
   "cell_type": "code",
   "execution_count": 17,
   "metadata": {},
   "outputs": [
    {
     "data": {
      "text/plain": [
       "<matplotlib.axes._subplots.AxesSubplot at 0x1a25016cd0>"
      ]
     },
     "execution_count": 17,
     "metadata": {},
     "output_type": "execute_result"
    },
    {
     "data": {
      "image/png": "[encoded data removed]",
      "text/plain": [
       "<Figure size 432x432 with 1 Axes>"
      ]
     },
     "metadata": {
      "needs_background": "light"
     },
     "output_type": "display_data"
    }
   ],
   "source": [
    "piv1.plot(kind=\"bar\", \n",
    "                 figsize=(6,6),\n",
    "                 stacked=True)"
   ]
  },
  {
   "cell_type": "code",
   "execution_count": 18,
   "metadata": {},
   "outputs": [
    {
     "data": {
      "text/plain": [
       "<matplotlib.axes._subplots.AxesSubplot at 0x1a25295850>"
      ]
     },
     "execution_count": 18,
     "metadata": {},
     "output_type": "execute_result"
    },
    {
     "data": {
      "image/png": "[encoded data removed]",
      "text/plain": [
       "<Figure size 432x432 with 1 Axes>"
      ]
     },
     "metadata": {
      "needs_background": "light"
     },
     "output_type": "display_data"
    }
   ],
   "source": [
    "piv2.plot(kind=\"bar\", \n",
    "                 figsize=(6,6),\n",
    "                 stacked=True)"
   ]
  },
  {
   "cell_type": "code",
   "execution_count": 19,
   "metadata": {},
   "outputs": [
    {
     "data": {
      "image/png": "[encoded data removed]",
      "text/plain": [
       "<Figure size 1440x1440 with 2 Axes>"
      ]
     },
     "metadata": {
      "needs_background": "light"
     },
     "output_type": "display_data"
    }
   ],
   "source": [
    "corr_df = Pandemic.corr('spearman')\n",
    "cor_heatmap(corr_df)"
   ]
  },
  {
   "cell_type": "code",
   "execution_count": 20,
   "metadata": {},
   "outputs": [
    {
     "data": {
      "text/plain": [
       "Deceased                             1.000000\n",
       "Severity                             0.334289\n",
       "Medical_Expenses_Family              0.319579\n",
       "Parents or siblings infected         0.140860\n",
       "Wife/Husband or children infected    0.093854\n",
       "Birthday_year                        0.058452\n",
       "Family_Case_ID                       0.009041\n",
       "Patient_ID                           0.003282\n",
       "Name: Deceased, dtype: float64"
      ]
     },
     "execution_count": 20,
     "metadata": {},
     "output_type": "execute_result"
    }
   ],
   "source": [
    "abs(corr_df['Deceased']).sort_values(ascending=False)"
   ]
  },
  {
   "cell_type": "markdown",
   "metadata": {},
   "source": [
    "**Some conclusions relating to target variable and input features**\n",
    "\n",
    "* Family infected - younger patients die less, lower average in \"Parents or siblings infected\" can be explained by this. Also the two variables for infected in family seem to relay similar info so potentially can be merged into one feature \"Family members infected\" which reflects sum of the two columns\n",
    "* Discard of \"Medical_Tent\" as almost 80% records do not have it or replace nulls with 9th category \"No Tent\"\n",
    "* Create age variable\n",
    "* Santa Fe has worst situation for severity of disease and number of infected, Albuquerque is next in number of infected but still has more people with lighter form of illness than the severe\n",
    "* Survivors have spent more on medical expenses\n",
    "* Severity, Medical expenses and Birthday Year are highly correlated.\n",
    "* Partners/kids and parents/siblings are correlated\n",
    "\n",
    " **Severity, Medical expenses and infected family are most important features for the outcome of the illness**\n"
   ]
  },
  {
   "cell_type": "markdown",
   "metadata": {},
   "source": [
    "## Pre-Processing"
   ]
  },
  {
   "cell_type": "code",
   "execution_count": 21,
   "metadata": {
    "scrolled": true
   },
   "outputs": [
    {
     "name": "stdout",
     "output_type": "stream",
     "text": [
      "Patient_ID                             0\n",
      "Family_Case_ID                         0\n",
      "Severity                               0\n",
      "Name                                   0\n",
      "Birthday_year                        177\n",
      "Parents or siblings infected           0\n",
      "Wife/Husband or children infected      0\n",
      "Medical_Expenses_Family                0\n",
      "Medical_Tent                         702\n",
      "City                                   2\n",
      "Deceased                               0\n",
      "dtype: int64\n"
     ]
    }
   ],
   "source": [
    "print(Pandemic.isnull().sum())"
   ]
  },
  {
   "cell_type": "code",
   "execution_count": 22,
   "metadata": {},
   "outputs": [
    {
     "data": {
      "text/html": [
       "<div>\n",
       "<style scoped>\n",
       "    .dataframe tbody tr th:only-of-type {\n",
       "        vertical-align: middle;\n",
       "    }\n",
       "\n",
       "    .dataframe tbody tr th {\n",
       "        vertical-align: top;\n",
       "    }\n",
       "\n",
       "    .dataframe thead th {\n",
       "        text-align: right;\n",
       "    }\n",
       "</style>\n",
       "<table border=\"1\" class=\"dataframe\">\n",
       "  <thead>\n",
       "    <tr style=\"text-align: right;\">\n",
       "      <th></th>\n",
       "      <th>Patient_ID</th>\n",
       "      <th>Family_Case_ID</th>\n",
       "      <th>Severity</th>\n",
       "      <th>Name</th>\n",
       "      <th>Birthday_year</th>\n",
       "      <th>Parents or siblings infected</th>\n",
       "      <th>Wife/Husband or children infected</th>\n",
       "      <th>Medical_Expenses_Family</th>\n",
       "      <th>Medical_Tent</th>\n",
       "      <th>City</th>\n",
       "      <th>Deceased</th>\n",
       "    </tr>\n",
       "  </thead>\n",
       "  <tbody>\n",
       "    <tr>\n",
       "      <th>0</th>\n",
       "      <td>1</td>\n",
       "      <td>4696</td>\n",
       "      <td>3</td>\n",
       "      <td>Miss Linda Betty</td>\n",
       "      <td>NaN</td>\n",
       "      <td>0</td>\n",
       "      <td>0</td>\n",
       "      <td>225</td>\n",
       "      <td>NaN</td>\n",
       "      <td>Santa Fe</td>\n",
       "      <td>1</td>\n",
       "    </tr>\n",
       "    <tr>\n",
       "      <th>1</th>\n",
       "      <td>2</td>\n",
       "      <td>21436</td>\n",
       "      <td>1</td>\n",
       "      <td>Ms. Ramona Elvira</td>\n",
       "      <td>1966.0</td>\n",
       "      <td>0</td>\n",
       "      <td>1</td>\n",
       "      <td>1663</td>\n",
       "      <td>NaN</td>\n",
       "      <td>Albuquerque</td>\n",
       "      <td>0</td>\n",
       "    </tr>\n",
       "    <tr>\n",
       "      <th>2</th>\n",
       "      <td>3</td>\n",
       "      <td>7273</td>\n",
       "      <td>3</td>\n",
       "      <td>Mr. Mario Vernon</td>\n",
       "      <td>1982.0</td>\n",
       "      <td>0</td>\n",
       "      <td>0</td>\n",
       "      <td>221</td>\n",
       "      <td>NaN</td>\n",
       "      <td>Santa Fe</td>\n",
       "      <td>1</td>\n",
       "    </tr>\n",
       "    <tr>\n",
       "      <th>3</th>\n",
       "      <td>4</td>\n",
       "      <td>8226</td>\n",
       "      <td>3</td>\n",
       "      <td>Mr. Hector Joe</td>\n",
       "      <td>1997.0</td>\n",
       "      <td>0</td>\n",
       "      <td>0</td>\n",
       "      <td>220</td>\n",
       "      <td>NaN</td>\n",
       "      <td>Santa Fe</td>\n",
       "      <td>1</td>\n",
       "    </tr>\n",
       "    <tr>\n",
       "      <th>4</th>\n",
       "      <td>5</td>\n",
       "      <td>19689</td>\n",
       "      <td>3</td>\n",
       "      <td>Ms. Jennie Debra</td>\n",
       "      <td>1994.0</td>\n",
       "      <td>0</td>\n",
       "      <td>0</td>\n",
       "      <td>222</td>\n",
       "      <td>NaN</td>\n",
       "      <td>Santa Fe</td>\n",
       "      <td>0</td>\n",
       "    </tr>\n",
       "    <tr>\n",
       "      <th>...</th>\n",
       "      <td>...</td>\n",
       "      <td>...</td>\n",
       "      <td>...</td>\n",
       "      <td>...</td>\n",
       "      <td>...</td>\n",
       "      <td>...</td>\n",
       "      <td>...</td>\n",
       "      <td>...</td>\n",
       "      <td>...</td>\n",
       "      <td>...</td>\n",
       "      <td>...</td>\n",
       "    </tr>\n",
       "    <tr>\n",
       "      <th>895</th>\n",
       "      <td>896</td>\n",
       "      <td>6253</td>\n",
       "      <td>3</td>\n",
       "      <td>Ms. Linda Wilcox</td>\n",
       "      <td>1998.0</td>\n",
       "      <td>1</td>\n",
       "      <td>1</td>\n",
       "      <td>344</td>\n",
       "      <td>NaN</td>\n",
       "      <td>Santa Fe</td>\n",
       "      <td>0</td>\n",
       "    </tr>\n",
       "    <tr>\n",
       "      <th>896</th>\n",
       "      <td>897</td>\n",
       "      <td>6483</td>\n",
       "      <td>3</td>\n",
       "      <td>Mr. Haiden Vance</td>\n",
       "      <td>2006.0</td>\n",
       "      <td>0</td>\n",
       "      <td>0</td>\n",
       "      <td>258</td>\n",
       "      <td>NaN</td>\n",
       "      <td>Santa Fe</td>\n",
       "      <td>0</td>\n",
       "    </tr>\n",
       "    <tr>\n",
       "      <th>897</th>\n",
       "      <td>898</td>\n",
       "      <td>981</td>\n",
       "      <td>3</td>\n",
       "      <td>Miss Anaiya Love</td>\n",
       "      <td>1990.0</td>\n",
       "      <td>0</td>\n",
       "      <td>0</td>\n",
       "      <td>214</td>\n",
       "      <td>NaN</td>\n",
       "      <td>Taos</td>\n",
       "      <td>1</td>\n",
       "    </tr>\n",
       "    <tr>\n",
       "      <th>898</th>\n",
       "      <td>899</td>\n",
       "      <td>16418</td>\n",
       "      <td>2</td>\n",
       "      <td>Mr. Robert Williams</td>\n",
       "      <td>1994.0</td>\n",
       "      <td>1</td>\n",
       "      <td>1</td>\n",
       "      <td>812</td>\n",
       "      <td>NaN</td>\n",
       "      <td>Santa Fe</td>\n",
       "      <td>0</td>\n",
       "    </tr>\n",
       "    <tr>\n",
       "      <th>899</th>\n",
       "      <td>900</td>\n",
       "      <td>3782</td>\n",
       "      <td>3</td>\n",
       "      <td>Ms. Marjorie Hays</td>\n",
       "      <td>2002.0</td>\n",
       "      <td>0</td>\n",
       "      <td>0</td>\n",
       "      <td>202</td>\n",
       "      <td>C</td>\n",
       "      <td>Albuquerque</td>\n",
       "      <td>0</td>\n",
       "    </tr>\n",
       "  </tbody>\n",
       "</table>\n",
       "<p>900 rows × 11 columns</p>\n",
       "</div>"
      ],
      "text/plain": [
       "     Patient_ID  Family_Case_ID  Severity                 Name  Birthday_year  \\\n",
       "0             1            4696         3     Miss Linda Betty            NaN   \n",
       "1             2           21436         1    Ms. Ramona Elvira         1966.0   \n",
       "2             3            7273         3     Mr. Mario Vernon         1982.0   \n",
       "3             4            8226         3       Mr. Hector Joe         1997.0   \n",
       "4             5           19689         3     Ms. Jennie Debra         1994.0   \n",
       "..          ...             ...       ...                  ...            ...   \n",
       "895         896            6253         3     Ms. Linda Wilcox         1998.0   \n",
       "896         897            6483         3     Mr. Haiden Vance         2006.0   \n",
       "897         898             981         3     Miss Anaiya Love         1990.0   \n",
       "898         899           16418         2  Mr. Robert Williams         1994.0   \n",
       "899         900            3782         3    Ms. Marjorie Hays         2002.0   \n",
       "\n",
       "     Parents or siblings infected  Wife/Husband or children infected  \\\n",
       "0                               0                                  0   \n",
       "1                               0                                  1   \n",
       "2                               0                                  0   \n",
       "3                               0                                  0   \n",
       "4                               0                                  0   \n",
       "..                            ...                                ...   \n",
       "895                             1                                  1   \n",
       "896                             0                                  0   \n",
       "897                             0                                  0   \n",
       "898                             1                                  1   \n",
       "899                             0                                  0   \n",
       "\n",
       "     Medical_Expenses_Family Medical_Tent         City  Deceased  \n",
       "0                        225          NaN     Santa Fe         1  \n",
       "1                       1663          NaN  Albuquerque         0  \n",
       "2                        221          NaN     Santa Fe         1  \n",
       "3                        220          NaN     Santa Fe         1  \n",
       "4                        222          NaN     Santa Fe         0  \n",
       "..                       ...          ...          ...       ...  \n",
       "895                      344          NaN     Santa Fe         0  \n",
       "896                      258          NaN     Santa Fe         0  \n",
       "897                      214          NaN         Taos         1  \n",
       "898                      812          NaN     Santa Fe         0  \n",
       "899                      202            C  Albuquerque         0  \n",
       "\n",
       "[900 rows x 11 columns]"
      ]
     },
     "execution_count": 22,
     "metadata": {},
     "output_type": "execute_result"
    }
   ],
   "source": [
    "Pandemic"
   ]
  },
  {
   "cell_type": "code",
   "execution_count": 23,
   "metadata": {},
   "outputs": [],
   "source": [
    "#dropping missing city\n",
    "Pandemic.dropna(subset=['City'],axis=0,inplace=True)"
   ]
  },
  {
   "cell_type": "code",
   "execution_count": 24,
   "metadata": {},
   "outputs": [],
   "source": [
    "#filling the missing Medical tent with \"None\"\n",
    "Pandemic['Medical_Tent'].fillna('None',inplace=True)"
   ]
  },
  {
   "cell_type": "code",
   "execution_count": 25,
   "metadata": {},
   "outputs": [
    {
     "data": {
      "text/html": [
       "<div>\n",
       "<style scoped>\n",
       "    .dataframe tbody tr th:only-of-type {\n",
       "        vertical-align: middle;\n",
       "    }\n",
       "\n",
       "    .dataframe tbody tr th {\n",
       "        vertical-align: top;\n",
       "    }\n",
       "\n",
       "    .dataframe thead th {\n",
       "        text-align: right;\n",
       "    }\n",
       "</style>\n",
       "<table border=\"1\" class=\"dataframe\">\n",
       "  <thead>\n",
       "    <tr style=\"text-align: right;\">\n",
       "      <th></th>\n",
       "      <th>Patient_ID</th>\n",
       "      <th>Family_Case_ID</th>\n",
       "      <th>Severity</th>\n",
       "      <th>Name</th>\n",
       "      <th>Birthday_year</th>\n",
       "      <th>Parents or siblings infected</th>\n",
       "      <th>Wife/Husband or children infected</th>\n",
       "      <th>Medical_Expenses_Family</th>\n",
       "      <th>Medical_Tent</th>\n",
       "      <th>City</th>\n",
       "      <th>Deceased</th>\n",
       "    </tr>\n",
       "  </thead>\n",
       "  <tbody>\n",
       "    <tr>\n",
       "      <th>0</th>\n",
       "      <td>1</td>\n",
       "      <td>4696</td>\n",
       "      <td>3</td>\n",
       "      <td>Miss Linda Betty</td>\n",
       "      <td>NaN</td>\n",
       "      <td>0</td>\n",
       "      <td>0</td>\n",
       "      <td>225</td>\n",
       "      <td>None</td>\n",
       "      <td>Santa Fe</td>\n",
       "      <td>1</td>\n",
       "    </tr>\n",
       "    <tr>\n",
       "      <th>1</th>\n",
       "      <td>2</td>\n",
       "      <td>21436</td>\n",
       "      <td>1</td>\n",
       "      <td>Ms. Ramona Elvira</td>\n",
       "      <td>1966.0</td>\n",
       "      <td>0</td>\n",
       "      <td>1</td>\n",
       "      <td>1663</td>\n",
       "      <td>None</td>\n",
       "      <td>Albuquerque</td>\n",
       "      <td>0</td>\n",
       "    </tr>\n",
       "    <tr>\n",
       "      <th>2</th>\n",
       "      <td>3</td>\n",
       "      <td>7273</td>\n",
       "      <td>3</td>\n",
       "      <td>Mr. Mario Vernon</td>\n",
       "      <td>1982.0</td>\n",
       "      <td>0</td>\n",
       "      <td>0</td>\n",
       "      <td>221</td>\n",
       "      <td>None</td>\n",
       "      <td>Santa Fe</td>\n",
       "      <td>1</td>\n",
       "    </tr>\n",
       "    <tr>\n",
       "      <th>3</th>\n",
       "      <td>4</td>\n",
       "      <td>8226</td>\n",
       "      <td>3</td>\n",
       "      <td>Mr. Hector Joe</td>\n",
       "      <td>1997.0</td>\n",
       "      <td>0</td>\n",
       "      <td>0</td>\n",
       "      <td>220</td>\n",
       "      <td>None</td>\n",
       "      <td>Santa Fe</td>\n",
       "      <td>1</td>\n",
       "    </tr>\n",
       "    <tr>\n",
       "      <th>4</th>\n",
       "      <td>5</td>\n",
       "      <td>19689</td>\n",
       "      <td>3</td>\n",
       "      <td>Ms. Jennie Debra</td>\n",
       "      <td>1994.0</td>\n",
       "      <td>0</td>\n",
       "      <td>0</td>\n",
       "      <td>222</td>\n",
       "      <td>None</td>\n",
       "      <td>Santa Fe</td>\n",
       "      <td>0</td>\n",
       "    </tr>\n",
       "    <tr>\n",
       "      <th>...</th>\n",
       "      <td>...</td>\n",
       "      <td>...</td>\n",
       "      <td>...</td>\n",
       "      <td>...</td>\n",
       "      <td>...</td>\n",
       "      <td>...</td>\n",
       "      <td>...</td>\n",
       "      <td>...</td>\n",
       "      <td>...</td>\n",
       "      <td>...</td>\n",
       "      <td>...</td>\n",
       "    </tr>\n",
       "    <tr>\n",
       "      <th>895</th>\n",
       "      <td>896</td>\n",
       "      <td>6253</td>\n",
       "      <td>3</td>\n",
       "      <td>Ms. Linda Wilcox</td>\n",
       "      <td>1998.0</td>\n",
       "      <td>1</td>\n",
       "      <td>1</td>\n",
       "      <td>344</td>\n",
       "      <td>None</td>\n",
       "      <td>Santa Fe</td>\n",
       "      <td>0</td>\n",
       "    </tr>\n",
       "    <tr>\n",
       "      <th>896</th>\n",
       "      <td>897</td>\n",
       "      <td>6483</td>\n",
       "      <td>3</td>\n",
       "      <td>Mr. Haiden Vance</td>\n",
       "      <td>2006.0</td>\n",
       "      <td>0</td>\n",
       "      <td>0</td>\n",
       "      <td>258</td>\n",
       "      <td>None</td>\n",
       "      <td>Santa Fe</td>\n",
       "      <td>0</td>\n",
       "    </tr>\n",
       "    <tr>\n",
       "      <th>897</th>\n",
       "      <td>898</td>\n",
       "      <td>981</td>\n",
       "      <td>3</td>\n",
       "      <td>Miss Anaiya Love</td>\n",
       "      <td>1990.0</td>\n",
       "      <td>0</td>\n",
       "      <td>0</td>\n",
       "      <td>214</td>\n",
       "      <td>None</td>\n",
       "      <td>Taos</td>\n",
       "      <td>1</td>\n",
       "    </tr>\n",
       "    <tr>\n",
       "      <th>898</th>\n",
       "      <td>899</td>\n",
       "      <td>16418</td>\n",
       "      <td>2</td>\n",
       "      <td>Mr. Robert Williams</td>\n",
       "      <td>1994.0</td>\n",
       "      <td>1</td>\n",
       "      <td>1</td>\n",
       "      <td>812</td>\n",
       "      <td>None</td>\n",
       "      <td>Santa Fe</td>\n",
       "      <td>0</td>\n",
       "    </tr>\n",
       "    <tr>\n",
       "      <th>899</th>\n",
       "      <td>900</td>\n",
       "      <td>3782</td>\n",
       "      <td>3</td>\n",
       "      <td>Ms. Marjorie Hays</td>\n",
       "      <td>2002.0</td>\n",
       "      <td>0</td>\n",
       "      <td>0</td>\n",
       "      <td>202</td>\n",
       "      <td>C</td>\n",
       "      <td>Albuquerque</td>\n",
       "      <td>0</td>\n",
       "    </tr>\n",
       "  </tbody>\n",
       "</table>\n",
       "<p>898 rows × 11 columns</p>\n",
       "</div>"
      ],
      "text/plain": [
       "     Patient_ID  Family_Case_ID  Severity                 Name  Birthday_year  \\\n",
       "0             1            4696         3     Miss Linda Betty            NaN   \n",
       "1             2           21436         1    Ms. Ramona Elvira         1966.0   \n",
       "2             3            7273         3     Mr. Mario Vernon         1982.0   \n",
       "3             4            8226         3       Mr. Hector Joe         1997.0   \n",
       "4             5           19689         3     Ms. Jennie Debra         1994.0   \n",
       "..          ...             ...       ...                  ...            ...   \n",
       "895         896            6253         3     Ms. Linda Wilcox         1998.0   \n",
       "896         897            6483         3     Mr. Haiden Vance         2006.0   \n",
       "897         898             981         3     Miss Anaiya Love         1990.0   \n",
       "898         899           16418         2  Mr. Robert Williams         1994.0   \n",
       "899         900            3782         3    Ms. Marjorie Hays         2002.0   \n",
       "\n",
       "     Parents or siblings infected  Wife/Husband or children infected  \\\n",
       "0                               0                                  0   \n",
       "1                               0                                  1   \n",
       "2                               0                                  0   \n",
       "3                               0                                  0   \n",
       "4                               0                                  0   \n",
       "..                            ...                                ...   \n",
       "895                             1                                  1   \n",
       "896                             0                                  0   \n",
       "897                             0                                  0   \n",
       "898                             1                                  1   \n",
       "899                             0                                  0   \n",
       "\n",
       "     Medical_Expenses_Family Medical_Tent         City  Deceased  \n",
       "0                        225         None     Santa Fe         1  \n",
       "1                       1663         None  Albuquerque         0  \n",
       "2                        221         None     Santa Fe         1  \n",
       "3                        220         None     Santa Fe         1  \n",
       "4                        222         None     Santa Fe         0  \n",
       "..                       ...          ...          ...       ...  \n",
       "895                      344         None     Santa Fe         0  \n",
       "896                      258         None     Santa Fe         0  \n",
       "897                      214         None         Taos         1  \n",
       "898                      812         None     Santa Fe         0  \n",
       "899                      202            C  Albuquerque         0  \n",
       "\n",
       "[898 rows x 11 columns]"
      ]
     },
     "execution_count": 25,
     "metadata": {},
     "output_type": "execute_result"
    }
   ],
   "source": [
    "Pandemic"
   ]
  },
  {
   "cell_type": "markdown",
   "metadata": {},
   "source": [
    "#### KNN Imputer for Birthday Year"
   ]
  },
  {
   "cell_type": "code",
   "execution_count": 26,
   "metadata": {},
   "outputs": [],
   "source": [
    "imputer = KNNImputer(n_neighbors=3)\n"
   ]
  },
  {
   "cell_type": "code",
   "execution_count": 27,
   "metadata": {},
   "outputs": [
    {
     "data": {
      "text/plain": [
       "KNNImputer(add_indicator=False, copy=True, metric='nan_euclidean',\n",
       "           missing_values=nan, n_neighbors=3, weights='uniform')"
      ]
     },
     "execution_count": 27,
     "metadata": {},
     "output_type": "execute_result"
    }
   ],
   "source": [
    "imputer.fit(Pandemic[['Birthday_year']])"
   ]
  },
  {
   "cell_type": "code",
   "execution_count": 28,
   "metadata": {},
   "outputs": [],
   "source": [
    "Birthday_imputed = imputer.transform(Pandemic[['Birthday_year']])"
   ]
  },
  {
   "cell_type": "code",
   "execution_count": 29,
   "metadata": {},
   "outputs": [],
   "source": [
    "Birthday_imputed = pd.DataFrame(Birthday_imputed, columns = Pandemic[['Birthday_year']].columns, index = Pandemic.index)"
   ]
  },
  {
   "cell_type": "code",
   "execution_count": 30,
   "metadata": {
    "scrolled": true
   },
   "outputs": [
    {
     "data": {
      "text/html": [
       "<div>\n",
       "<style scoped>\n",
       "    .dataframe tbody tr th:only-of-type {\n",
       "        vertical-align: middle;\n",
       "    }\n",
       "\n",
       "    .dataframe tbody tr th {\n",
       "        vertical-align: top;\n",
       "    }\n",
       "\n",
       "    .dataframe thead th {\n",
       "        text-align: right;\n",
       "    }\n",
       "</style>\n",
       "<table border=\"1\" class=\"dataframe\">\n",
       "  <thead>\n",
       "    <tr style=\"text-align: right;\">\n",
       "      <th></th>\n",
       "      <th>Birthday_year</th>\n",
       "    </tr>\n",
       "  </thead>\n",
       "  <tbody>\n",
       "    <tr>\n",
       "      <th>0</th>\n",
       "      <td>1990</td>\n",
       "    </tr>\n",
       "    <tr>\n",
       "      <th>1</th>\n",
       "      <td>1966</td>\n",
       "    </tr>\n",
       "    <tr>\n",
       "      <th>2</th>\n",
       "      <td>1982</td>\n",
       "    </tr>\n",
       "    <tr>\n",
       "      <th>3</th>\n",
       "      <td>1997</td>\n",
       "    </tr>\n",
       "    <tr>\n",
       "      <th>4</th>\n",
       "      <td>1994</td>\n",
       "    </tr>\n",
       "    <tr>\n",
       "      <th>...</th>\n",
       "      <td>...</td>\n",
       "    </tr>\n",
       "    <tr>\n",
       "      <th>895</th>\n",
       "      <td>1998</td>\n",
       "    </tr>\n",
       "    <tr>\n",
       "      <th>896</th>\n",
       "      <td>2006</td>\n",
       "    </tr>\n",
       "    <tr>\n",
       "      <th>897</th>\n",
       "      <td>1990</td>\n",
       "    </tr>\n",
       "    <tr>\n",
       "      <th>898</th>\n",
       "      <td>1994</td>\n",
       "    </tr>\n",
       "    <tr>\n",
       "      <th>899</th>\n",
       "      <td>2002</td>\n",
       "    </tr>\n",
       "  </tbody>\n",
       "</table>\n",
       "<p>898 rows × 1 columns</p>\n",
       "</div>"
      ],
      "text/plain": [
       "     Birthday_year\n",
       "0             1990\n",
       "1             1966\n",
       "2             1982\n",
       "3             1997\n",
       "4             1994\n",
       "..             ...\n",
       "895           1998\n",
       "896           2006\n",
       "897           1990\n",
       "898           1994\n",
       "899           2002\n",
       "\n",
       "[898 rows x 1 columns]"
      ]
     },
     "execution_count": 30,
     "metadata": {},
     "output_type": "execute_result"
    }
   ],
   "source": [
    "Birthday_imputed = Birthday_imputed.astype(int)\n",
    "Birthday_imputed"
   ]
  },
  {
   "cell_type": "code",
   "execution_count": 31,
   "metadata": {},
   "outputs": [
    {
     "data": {
      "text/html": [
       "<div>\n",
       "<style scoped>\n",
       "    .dataframe tbody tr th:only-of-type {\n",
       "        vertical-align: middle;\n",
       "    }\n",
       "\n",
       "    .dataframe tbody tr th {\n",
       "        vertical-align: top;\n",
       "    }\n",
       "\n",
       "    .dataframe thead th {\n",
       "        text-align: right;\n",
       "    }\n",
       "</style>\n",
       "<table border=\"1\" class=\"dataframe\">\n",
       "  <thead>\n",
       "    <tr style=\"text-align: right;\">\n",
       "      <th></th>\n",
       "      <th>Patient_ID</th>\n",
       "      <th>Family_Case_ID</th>\n",
       "      <th>Severity</th>\n",
       "      <th>Name</th>\n",
       "      <th>Birthday_year</th>\n",
       "      <th>Parents or siblings infected</th>\n",
       "      <th>Wife/Husband or children infected</th>\n",
       "      <th>Medical_Expenses_Family</th>\n",
       "      <th>Medical_Tent</th>\n",
       "      <th>City</th>\n",
       "      <th>Deceased</th>\n",
       "    </tr>\n",
       "  </thead>\n",
       "  <tbody>\n",
       "    <tr>\n",
       "      <th>0</th>\n",
       "      <td>1</td>\n",
       "      <td>4696</td>\n",
       "      <td>3</td>\n",
       "      <td>Miss Linda Betty</td>\n",
       "      <td>1990</td>\n",
       "      <td>0</td>\n",
       "      <td>0</td>\n",
       "      <td>225</td>\n",
       "      <td>None</td>\n",
       "      <td>Santa Fe</td>\n",
       "      <td>1</td>\n",
       "    </tr>\n",
       "    <tr>\n",
       "      <th>1</th>\n",
       "      <td>2</td>\n",
       "      <td>21436</td>\n",
       "      <td>1</td>\n",
       "      <td>Ms. Ramona Elvira</td>\n",
       "      <td>1966</td>\n",
       "      <td>0</td>\n",
       "      <td>1</td>\n",
       "      <td>1663</td>\n",
       "      <td>None</td>\n",
       "      <td>Albuquerque</td>\n",
       "      <td>0</td>\n",
       "    </tr>\n",
       "    <tr>\n",
       "      <th>2</th>\n",
       "      <td>3</td>\n",
       "      <td>7273</td>\n",
       "      <td>3</td>\n",
       "      <td>Mr. Mario Vernon</td>\n",
       "      <td>1982</td>\n",
       "      <td>0</td>\n",
       "      <td>0</td>\n",
       "      <td>221</td>\n",
       "      <td>None</td>\n",
       "      <td>Santa Fe</td>\n",
       "      <td>1</td>\n",
       "    </tr>\n",
       "    <tr>\n",
       "      <th>3</th>\n",
       "      <td>4</td>\n",
       "      <td>8226</td>\n",
       "      <td>3</td>\n",
       "      <td>Mr. Hector Joe</td>\n",
       "      <td>1997</td>\n",
       "      <td>0</td>\n",
       "      <td>0</td>\n",
       "      <td>220</td>\n",
       "      <td>None</td>\n",
       "      <td>Santa Fe</td>\n",
       "      <td>1</td>\n",
       "    </tr>\n",
       "    <tr>\n",
       "      <th>4</th>\n",
       "      <td>5</td>\n",
       "      <td>19689</td>\n",
       "      <td>3</td>\n",
       "      <td>Ms. Jennie Debra</td>\n",
       "      <td>1994</td>\n",
       "      <td>0</td>\n",
       "      <td>0</td>\n",
       "      <td>222</td>\n",
       "      <td>None</td>\n",
       "      <td>Santa Fe</td>\n",
       "      <td>0</td>\n",
       "    </tr>\n",
       "    <tr>\n",
       "      <th>...</th>\n",
       "      <td>...</td>\n",
       "      <td>...</td>\n",
       "      <td>...</td>\n",
       "      <td>...</td>\n",
       "      <td>...</td>\n",
       "      <td>...</td>\n",
       "      <td>...</td>\n",
       "      <td>...</td>\n",
       "      <td>...</td>\n",
       "      <td>...</td>\n",
       "      <td>...</td>\n",
       "    </tr>\n",
       "    <tr>\n",
       "      <th>895</th>\n",
       "      <td>896</td>\n",
       "      <td>6253</td>\n",
       "      <td>3</td>\n",
       "      <td>Ms. Linda Wilcox</td>\n",
       "      <td>1998</td>\n",
       "      <td>1</td>\n",
       "      <td>1</td>\n",
       "      <td>344</td>\n",
       "      <td>None</td>\n",
       "      <td>Santa Fe</td>\n",
       "      <td>0</td>\n",
       "    </tr>\n",
       "    <tr>\n",
       "      <th>896</th>\n",
       "      <td>897</td>\n",
       "      <td>6483</td>\n",
       "      <td>3</td>\n",
       "      <td>Mr. Haiden Vance</td>\n",
       "      <td>2006</td>\n",
       "      <td>0</td>\n",
       "      <td>0</td>\n",
       "      <td>258</td>\n",
       "      <td>None</td>\n",
       "      <td>Santa Fe</td>\n",
       "      <td>0</td>\n",
       "    </tr>\n",
       "    <tr>\n",
       "      <th>897</th>\n",
       "      <td>898</td>\n",
       "      <td>981</td>\n",
       "      <td>3</td>\n",
       "      <td>Miss Anaiya Love</td>\n",
       "      <td>1990</td>\n",
       "      <td>0</td>\n",
       "      <td>0</td>\n",
       "      <td>214</td>\n",
       "      <td>None</td>\n",
       "      <td>Taos</td>\n",
       "      <td>1</td>\n",
       "    </tr>\n",
       "    <tr>\n",
       "      <th>898</th>\n",
       "      <td>899</td>\n",
       "      <td>16418</td>\n",
       "      <td>2</td>\n",
       "      <td>Mr. Robert Williams</td>\n",
       "      <td>1994</td>\n",
       "      <td>1</td>\n",
       "      <td>1</td>\n",
       "      <td>812</td>\n",
       "      <td>None</td>\n",
       "      <td>Santa Fe</td>\n",
       "      <td>0</td>\n",
       "    </tr>\n",
       "    <tr>\n",
       "      <th>899</th>\n",
       "      <td>900</td>\n",
       "      <td>3782</td>\n",
       "      <td>3</td>\n",
       "      <td>Ms. Marjorie Hays</td>\n",
       "      <td>2002</td>\n",
       "      <td>0</td>\n",
       "      <td>0</td>\n",
       "      <td>202</td>\n",
       "      <td>C</td>\n",
       "      <td>Albuquerque</td>\n",
       "      <td>0</td>\n",
       "    </tr>\n",
       "  </tbody>\n",
       "</table>\n",
       "<p>898 rows × 11 columns</p>\n",
       "</div>"
      ],
      "text/plain": [
       "     Patient_ID  Family_Case_ID  Severity                 Name  Birthday_year  \\\n",
       "0             1            4696         3     Miss Linda Betty           1990   \n",
       "1             2           21436         1    Ms. Ramona Elvira           1966   \n",
       "2             3            7273         3     Mr. Mario Vernon           1982   \n",
       "3             4            8226         3       Mr. Hector Joe           1997   \n",
       "4             5           19689         3     Ms. Jennie Debra           1994   \n",
       "..          ...             ...       ...                  ...            ...   \n",
       "895         896            6253         3     Ms. Linda Wilcox           1998   \n",
       "896         897            6483         3     Mr. Haiden Vance           2006   \n",
       "897         898             981         3     Miss Anaiya Love           1990   \n",
       "898         899           16418         2  Mr. Robert Williams           1994   \n",
       "899         900            3782         3    Ms. Marjorie Hays           2002   \n",
       "\n",
       "     Parents or siblings infected  Wife/Husband or children infected  \\\n",
       "0                               0                                  0   \n",
       "1                               0                                  1   \n",
       "2                               0                                  0   \n",
       "3                               0                                  0   \n",
       "4                               0                                  0   \n",
       "..                            ...                                ...   \n",
       "895                             1                                  1   \n",
       "896                             0                                  0   \n",
       "897                             0                                  0   \n",
       "898                             1                                  1   \n",
       "899                             0                                  0   \n",
       "\n",
       "     Medical_Expenses_Family Medical_Tent         City  Deceased  \n",
       "0                        225         None     Santa Fe         1  \n",
       "1                       1663         None  Albuquerque         0  \n",
       "2                        221         None     Santa Fe         1  \n",
       "3                        220         None     Santa Fe         1  \n",
       "4                        222         None     Santa Fe         0  \n",
       "..                       ...          ...          ...       ...  \n",
       "895                      344         None     Santa Fe         0  \n",
       "896                      258         None     Santa Fe         0  \n",
       "897                      214         None         Taos         1  \n",
       "898                      812         None     Santa Fe         0  \n",
       "899                      202            C  Albuquerque         0  \n",
       "\n",
       "[898 rows x 11 columns]"
      ]
     },
     "execution_count": 31,
     "metadata": {},
     "output_type": "execute_result"
    }
   ],
   "source": [
    "Pandemic = Pandemic.assign(Birthday_year=Birthday_imputed['Birthday_year'])\n",
    "Pandemic"
   ]
  },
  {
   "cell_type": "markdown",
   "metadata": {},
   "source": [
    "Check missing values in dataset"
   ]
  },
  {
   "cell_type": "code",
   "execution_count": 32,
   "metadata": {},
   "outputs": [
    {
     "name": "stdout",
     "output_type": "stream",
     "text": [
      "Patient_ID                           0\n",
      "Family_Case_ID                       0\n",
      "Severity                             0\n",
      "Name                                 0\n",
      "Birthday_year                        0\n",
      "Parents or siblings infected         0\n",
      "Wife/Husband or children infected    0\n",
      "Medical_Expenses_Family              0\n",
      "Medical_Tent                         0\n",
      "City                                 0\n",
      "Deceased                             0\n",
      "dtype: int64\n"
     ]
    }
   ],
   "source": [
    "print(Pandemic.isnull().sum())\n",
    "\n",
    "#create new variables age and Family infected \n",
    "Pandemic['Age']=2020-Pandemic['Birthday_year']\n",
    "Pandemic.drop(['Birthday_year'],axis=1,inplace=True)\n",
    "\n",
    "#create new variable Family_infected\n",
    "#Pandemic['Family_infected']=Pandemic['Parents or siblings infected']+Pandemic['Wife/Husband or children infected']\n",
    "#Pandemic.drop(['Parents or siblings infected','Wife/Husband or children infected'],axis=1,inplace=True)\n"
   ]
  },
  {
   "cell_type": "code",
   "execution_count": 33,
   "metadata": {},
   "outputs": [],
   "source": [
    "#drop name column\n",
    "Pandemic.drop(['Name',\"Patient_ID\",\"Family_Case_ID\"],axis=1,inplace=True)"
   ]
  },
  {
   "cell_type": "markdown",
   "metadata": {},
   "source": [
    "#### Encoding categorical"
   ]
  },
  {
   "cell_type": "code",
   "execution_count": 34,
   "metadata": {},
   "outputs": [],
   "source": [
    "# Encode categorical variables to dummy variables\n",
    "import category_encoders as ce\n",
    "encode = ['City', 'Medical_Tent']\n",
    "ce_one_hot = ce.OneHotEncoder(cols = encode, use_cat_names=True)\n",
    "encoded = ce_one_hot.fit_transform(Pandemic[encode])\n",
    "\n",
    "complete = pd.concat([Pandemic, encoded], axis=1)\n",
    "complete.drop(encode,axis=1,inplace=True)"
   ]
  },
  {
   "cell_type": "code",
   "execution_count": 35,
   "metadata": {
    "scrolled": true
   },
   "outputs": [
    {
     "data": {
      "image/png": "[encoded data removed]",
      "text/plain": [
       "<Figure size 1440x1440 with 2 Axes>"
      ]
     },
     "metadata": {
      "needs_background": "light"
     },
     "output_type": "display_data"
    }
   ],
   "source": [
    "cor_heatmap(complete.corr('spearman'))"
   ]
  },
  {
   "cell_type": "code",
   "execution_count": 36,
   "metadata": {},
   "outputs": [],
   "source": [
    "# drop high correlated variables where it makes sense\n",
    "complete.drop('City_Albuquerque', axis=1, inplace=True)"
   ]
  },
  {
   "cell_type": "code",
   "execution_count": 37,
   "metadata": {},
   "outputs": [
    {
     "data": {
      "text/plain": [
       "Deceased                             1.000000\n",
       "Severity                             0.330357\n",
       "Medical_Tent_None                    0.297630\n",
       "Medical_Expenses_Family              0.252494\n",
       "Medical_Tent_B                       0.160105\n",
       "City_Santa Fe                        0.144925\n",
       "Medical_Tent_D                       0.139076\n",
       "Medical_Tent_E                       0.139076\n",
       "Medical_Tent_C                       0.113632\n",
       "Parents or siblings infected         0.084364\n",
       "Age                                  0.079661\n",
       "Medical_Tent_F                       0.057609\n",
       "Wife/Husband or children infected    0.031639\n",
       "Medical_Tent_T                       0.026372\n",
       "Medical_Tent_A                       0.022101\n",
       "Medical_Tent_G                       0.015927\n",
       "City_Taos                            0.005907\n",
       "Name: Deceased, dtype: float64"
      ]
     },
     "execution_count": 37,
     "metadata": {},
     "output_type": "execute_result"
    }
   ],
   "source": [
    "abs(complete.corr()['Deceased']).sort_values(ascending=False)"
   ]
  },
  {
   "cell_type": "code",
   "execution_count": 38,
   "metadata": {},
   "outputs": [],
   "source": [
    "#Split into data and target: X contains independent variables (before scaling) and y contains target\n",
    "X = complete.drop(['Deceased'], axis=1)\n",
    "y = complete['Deceased']"
   ]
  },
  {
   "cell_type": "markdown",
   "metadata": {},
   "source": [
    "## Feature engineering"
   ]
  },
  {
   "cell_type": "code",
   "execution_count": 39,
   "metadata": {},
   "outputs": [],
   "source": [
    "X[\"Medical_Expenses_Family_log\"] = X.Medical_Expenses_Family.apply(lambda x: np.log(x+1))"
   ]
  },
  {
   "cell_type": "markdown",
   "metadata": {},
   "source": [
    "#### Bin Age"
   ]
  },
  {
   "cell_type": "code",
   "execution_count": 40,
   "metadata": {},
   "outputs": [],
   "source": [
    "X['Age_label'] = pd.cut(x = X['Age'], bins = [0, 17, 29, 45, 59, 80, 110], labels = [0, 1, 2, 3, 4, 5])\n",
    "#X['Age_label'] = pd.cut(x = X['Age'], bins = [0, 17, 29, 45, 59, 80, 110], labels = [0, 1, 2, 3, 4, 5])"
   ]
  },
  {
   "cell_type": "code",
   "execution_count": 41,
   "metadata": {},
   "outputs": [],
   "source": [
    "X['Age_label'] = X['Age_label'].astype('int')\n",
    "#X['Age_label'] = X['Age_label'].astype('int')"
   ]
  },
  {
   "cell_type": "code",
   "execution_count": 42,
   "metadata": {
    "scrolled": true
   },
   "outputs": [],
   "source": [
    "X_temp = X.copy()"
   ]
  },
  {
   "cell_type": "markdown",
   "metadata": {},
   "source": [
    "# Feature selection"
   ]
  },
  {
   "cell_type": "code",
   "execution_count": 43,
   "metadata": {},
   "outputs": [],
   "source": [
    "scaler = StandardScaler().fit(X_temp)\n",
    "X = pd.DataFrame(scaler.transform(X_temp),columns=X_temp.columns)"
   ]
  },
  {
   "cell_type": "markdown",
   "metadata": {},
   "source": [
    "### RFE"
   ]
  },
  {
   "cell_type": "code",
   "execution_count": 44,
   "metadata": {},
   "outputs": [
    {
     "data": {
      "text/plain": [
       "LogisticRegression(C=1.0, class_weight=None, dual=False, fit_intercept=True,\n",
       "                   intercept_scaling=1, l1_ratio=None, max_iter=100,\n",
       "                   multi_class='auto', n_jobs=None, penalty='l2',\n",
       "                   random_state=None, solver='lbfgs', tol=0.0001, verbose=0,\n",
       "                   warm_start=False)"
      ]
     },
     "execution_count": 44,
     "metadata": {},
     "output_type": "execute_result"
    }
   ],
   "source": [
    "model = LogisticRegression()\n",
    "rfe = RFE(estimator = model)\n",
    "X_rfe = rfe.fit_transform(X = X_temp, y = y)\n",
    "model.fit(X=X_rfe, y = y)"
   ]
  },
  {
   "cell_type": "code",
   "execution_count": 45,
   "metadata": {},
   "outputs": [
    {
     "data": {
      "text/plain": [
       "array([ 1,  6,  5, 10,  9,  1,  3,  1,  1,  8,  1,  1,  1,  2,  7,  1,  4,\n",
       "        1])"
      ]
     },
     "execution_count": 45,
     "metadata": {},
     "output_type": "execute_result"
    }
   ],
   "source": [
    "rfe.ranking_"
   ]
  },
  {
   "cell_type": "code",
   "execution_count": 46,
   "metadata": {},
   "outputs": [
    {
     "data": {
      "text/plain": [
       "Severity                              True\n",
       "Parents or siblings infected         False\n",
       "Wife/Husband or children infected    False\n",
       "Medical_Expenses_Family              False\n",
       "Age                                  False\n",
       "City_Santa Fe                         True\n",
       "City_Taos                            False\n",
       "Medical_Tent_None                     True\n",
       "Medical_Tent_F                        True\n",
       "Medical_Tent_B                       False\n",
       "Medical_Tent_A                        True\n",
       "Medical_Tent_E                        True\n",
       "Medical_Tent_C                        True\n",
       "Medical_Tent_D                       False\n",
       "Medical_Tent_G                       False\n",
       "Medical_Tent_T                        True\n",
       "Medical_Expenses_Family_log          False\n",
       "Age_label                             True\n",
       "dtype: bool"
      ]
     },
     "execution_count": 46,
     "metadata": {},
     "output_type": "execute_result"
    }
   ],
   "source": [
    "selected_features = pd.Series(rfe.support_, index = X_temp.columns)\n",
    "rfe_features = selected_features.index.tolist()\n",
    "selected_features"
   ]
  },
  {
   "cell_type": "markdown",
   "metadata": {},
   "source": [
    "## Lasso Regression"
   ]
  },
  {
   "cell_type": "code",
   "execution_count": 47,
   "metadata": {},
   "outputs": [
    {
     "name": "stdout",
     "output_type": "stream",
     "text": [
      "Best alpha: 0.005642\n"
     ]
    }
   ],
   "source": [
    "reg = LassoCV()\n",
    "reg.fit(X=X, y=y)\n",
    "print(\"Best alpha: %f\" % reg.alpha_)"
   ]
  },
  {
   "cell_type": "code",
   "execution_count": 48,
   "metadata": {},
   "outputs": [
    {
     "data": {
      "text/plain": [
       "Medical_Expenses_Family_log         -0.068226\n",
       "Medical_Tent_E                      -0.038181\n",
       "Medical_Tent_D                      -0.026935\n",
       "Parents or siblings infected        -0.020021\n",
       "Medical_Tent_F                      -0.018631\n",
       "Medical_Tent_B                      -0.014141\n",
       "City_Taos                           -0.012934\n",
       "Medical_Tent_G                      -0.003231\n",
       "Medical_Expenses_Family             -0.000000\n",
       "Medical_Tent_C                       0.000000\n",
       "Medical_Tent_A                       0.002579\n",
       "Medical_Tent_None                    0.005981\n",
       "Medical_Tent_T                       0.010976\n",
       "Age_label                            0.019964\n",
       "City_Santa Fe                        0.040421\n",
       "Wife/Husband or children infected    0.043661\n",
       "Age                                  0.074279\n",
       "Severity                             0.121951\n",
       "dtype: float64"
      ]
     },
     "execution_count": 48,
     "metadata": {},
     "output_type": "execute_result"
    }
   ],
   "source": [
    "coef = pd.Series(reg.coef_, index=X_temp.columns)\n",
    "lasso_features = coef[coef != 0].index.tolist()\n",
    "coef.sort_values()"
   ]
  },
  {
   "cell_type": "code",
   "execution_count": 49,
   "metadata": {},
   "outputs": [
    {
     "data": {
      "image/png": "[encoded data removed]",
      "text/plain": [
       "<Figure size 576x720 with 1 Axes>"
      ]
     },
     "metadata": {
      "needs_background": "light"
     },
     "output_type": "display_data"
    }
   ],
   "source": [
    "coef=coef.sort_values()\n",
    "plt.figure(figsize=(8,10))\n",
    "coef.plot(kind = \"barh\")\n",
    "plt.title(\"Feature importance Lasso Regression\")\n",
    "plt.show()"
   ]
  },
  {
   "cell_type": "markdown",
   "metadata": {},
   "source": [
    "## Ridge Regression"
   ]
  },
  {
   "cell_type": "code",
   "execution_count": 50,
   "metadata": {},
   "outputs": [
    {
     "data": {
      "text/plain": [
       "Severity                             0.151285\n",
       "Parents or siblings infected        -0.033749\n",
       "Wife/Husband or children infected    0.049688\n",
       "Medical_Expenses_Family              0.000002\n",
       "Age                                  0.006595\n",
       "City_Santa Fe                        0.089679\n",
       "City_Taos                           -0.063234\n",
       "Medical_Tent_None                    0.085502\n",
       "Medical_Tent_F                      -0.070829\n",
       "Medical_Tent_B                      -0.009629\n",
       "Medical_Tent_A                       0.080346\n",
       "Medical_Tent_E                      -0.124670\n",
       "Medical_Tent_C                       0.079917\n",
       "Medical_Tent_D                      -0.078029\n",
       "Medical_Tent_G                      -0.014180\n",
       "Medical_Tent_T                       0.051573\n",
       "Medical_Expenses_Family_log         -0.061151\n",
       "Age_label                            0.018763\n",
       "dtype: float64"
      ]
     },
     "execution_count": 50,
     "metadata": {},
     "output_type": "execute_result"
    }
   ],
   "source": [
    "ridge = RidgeCV()\n",
    "ridge.fit(X=X_temp, y=y)\n",
    "coef_ridge = pd.Series(ridge.coef_,index=X_temp.columns)\n",
    "coef_ridge"
   ]
  },
  {
   "cell_type": "code",
   "execution_count": 51,
   "metadata": {},
   "outputs": [
    {
     "data": {
      "image/png": "[encoded data removed]",
      "text/plain": [
       "<Figure size 576x720 with 1 Axes>"
      ]
     },
     "metadata": {
      "needs_background": "light"
     },
     "output_type": "display_data"
    }
   ],
   "source": [
    "coef=coef_ridge.sort_values()\n",
    "plt.figure(figsize=(8,10))\n",
    "coef.plot(kind = \"barh\")\n",
    "plt.title(\"Feature importance Ridge Regression\")\n",
    "plt.show()"
   ]
  },
  {
   "cell_type": "markdown",
   "metadata": {},
   "source": [
    "## Feature Importance Random Forest "
   ]
  },
  {
   "cell_type": "code",
   "execution_count": 52,
   "metadata": {},
   "outputs": [
    {
     "data": {
      "text/plain": [
       "RandomForestClassifier(bootstrap=True, ccp_alpha=0.0, class_weight=None,\n",
       "                       criterion='gini', max_depth=None, max_features='auto',\n",
       "                       max_leaf_nodes=None, max_samples=None,\n",
       "                       min_impurity_decrease=0.0, min_impurity_split=None,\n",
       "                       min_samples_leaf=1, min_samples_split=2,\n",
       "                       min_weight_fraction_leaf=0.0, n_estimators=100,\n",
       "                       n_jobs=None, oob_score=False, random_state=None,\n",
       "                       verbose=0, warm_start=False)"
      ]
     },
     "execution_count": 52,
     "metadata": {},
     "output_type": "execute_result"
    }
   ],
   "source": [
    "clf=RandomForestClassifier()\n",
    "clf.fit(X_temp,y)\n"
   ]
  },
  {
   "cell_type": "code",
   "execution_count": 53,
   "metadata": {
    "scrolled": true
   },
   "outputs": [
    {
     "data": {
      "text/plain": [
       "<Figure size 576x720 with 0 Axes>"
      ]
     },
     "metadata": {},
     "output_type": "display_data"
    },
    {
     "data": {
      "image/png": "[encoded data removed]",
      "text/plain": [
       "<Figure size 432x288 with 1 Axes>"
      ]
     },
     "metadata": {
      "needs_background": "light"
     },
     "output_type": "display_data"
    }
   ],
   "source": [
    "fi=pd.DataFrame(clf.feature_importances_, index=X_temp.columns).sort_values(by=0)\n",
    "plt.figure(figsize=(8,10))\n",
    "fi.plot(kind = \"barh\")\n",
    "plt.title(\"Feature importance Random Forest\")\n",
    "plt.show()"
   ]
  },
  {
   "cell_type": "markdown",
   "metadata": {},
   "source": [
    "### Drop features"
   ]
  },
  {
   "cell_type": "code",
   "execution_count": 54,
   "metadata": {},
   "outputs": [],
   "source": [
    "### INSERT HERE THE SEVERAL DIFFERENT COMBINATIONS OF FEATURES TO DROP. KEEP ALL THE ITERATIONS.\n",
    "\n",
    "todrop = ['Medical_Tent_A', 'Medical_Tent_None', 'Medical_Tent_G', 'Medical_Tent_F', 'Medical_Tent_T',\n",
    "          'Wife/Husband or children infected', \"Age_label\", \"Medical_Expenses_Family_log\"]\n",
    "\n",
    "todrop1 = ['Medical_Tent_A', 'Medical_Tent_None', 'Medical_Tent_G', 'Medical_Tent_F', 'Medical_Tent_T',\n",
    "          'Wife/Husband or children infected', \"Age_label\", \"Medical_Expenses_Family\"]\n",
    "\n",
    "todrop2 = ['Medical_Tent_A', 'Medical_Tent_None', 'Medical_Tent_G', 'Medical_Tent_F', 'Medical_Tent_D',\n",
    "           'Medical_Tent_T','Medical_Tent_B','Medical_Tent_C','City_Taos','City_Santa Fe',\n",
    "           'Parents or siblings infected','Wife/Husband or children infected']\n",
    "\n",
    "todrop3 = ['Medical_Tent_A', 'Medical_Tent_G', 'Medical_Tent_F', 'Medical_Tent_D',\n",
    "           'Medical_Tent_T','Medical_Tent_B','Medical_Tent_C','City_Taos','Age_label',\n",
    "           'Medical_Expenses_Family','Parents or siblings infected']\n"
   ]
  },
  {
   "cell_type": "code",
   "execution_count": 55,
   "metadata": {},
   "outputs": [],
   "source": [
    "#drop variables based on low correlations with target and high mutual correlations\n",
    "\n",
    "X.drop(todrop3,axis=1,inplace=True)"
   ]
  },
  {
   "cell_type": "code",
   "execution_count": 56,
   "metadata": {},
   "outputs": [
    {
     "data": {
      "text/plain": [
       "Index(['Severity', 'Wife/Husband or children infected', 'Age', 'City_Santa Fe',\n",
       "       'Medical_Tent_None', 'Medical_Tent_E', 'Medical_Expenses_Family_log'],\n",
       "      dtype='object')"
      ]
     },
     "execution_count": 56,
     "metadata": {},
     "output_type": "execute_result"
    }
   ],
   "source": [
    "X.columns"
   ]
  },
  {
   "cell_type": "markdown",
   "metadata": {},
   "source": [
    "## Train and Validation Normalized"
   ]
  },
  {
   "cell_type": "code",
   "execution_count": 57,
   "metadata": {},
   "outputs": [],
   "source": [
    "def split_scale(X,y,scale,size_test):\n",
    "    \"\"\" This function scales the input dataset (X and y) and split both into train- and test sets\n",
    "    Input: \n",
    "    X: Unscaled and unlabeled data\n",
    "    y: The labels for X\n",
    "    scale: choose between \"StandardScaler\", \"MinMaxScaler\" or \"RobustScaler\"\n",
    "    size_test: size in percent of the test set \n",
    "    Output: X_train, X_test, y_train, y_test\n",
    "    \"\"\"\n",
    "    X_train,X_test,y_train,y_test = train_test_split(X,y,test_size=size_test,random_state=0)\n",
    "    if scale == \"RobustScaler\":\n",
    "        robust = RobustScaler().fit(X_train)\n",
    "        X_train = robust.transform(X_train)\n",
    "        X_test = robust.transform(X_test)\n",
    "        return X_train, X_test,y_train,y_test\n",
    "    elif scale == \"MinMaxScaler\":\n",
    "        minmax = MinMaxScaler().fit(X_train)\n",
    "        X_train = minmax.transform(X_train)\n",
    "        X_test = minmax.transform(X_test)\n",
    "        return X_train, X_test,y_train,y_test\n",
    "    elif scale == \"StandardScaler\":\n",
    "        scaler = StandardScaler().fit(X_train)\n",
    "        X_train = scaler.transform(X_train)\n",
    "        X_test = scaler.transform(X_test)\n",
    "        return X_train, X_test,y_train,y_test"
   ]
  },
  {
   "cell_type": "code",
   "execution_count": 58,
   "metadata": {},
   "outputs": [],
   "source": [
    "X_train, X_val,y_train,y_val = split_scale(X,y,\"StandardScaler\",0.2)\n",
    "X_train = pd.DataFrame(X_train, columns=X.columns)\n",
    "X_val = pd.DataFrame(X_val, columns=X.columns)"
   ]
  },
  {
   "cell_type": "markdown",
   "metadata": {},
   "source": [
    "## Classifier"
   ]
  },
  {
   "cell_type": "code",
   "execution_count": 59,
   "metadata": {},
   "outputs": [],
   "source": [
    "def model_compare(list_of_models):\n",
    "    train_score=[]\n",
    "    val_score=[]\n",
    "    model_used=[]\n",
    "    for i in list_of_models:\n",
    "        model = i\n",
    "        model.fit(X_train, y_train)\n",
    "        train_score.append(model.score(X_train, y_train))\n",
    "        val_score.append(model.score(X_val, y_val))\n",
    "        model_used.append(str(i))\n",
    "        y_pred = model.predict(X_val)\n",
    "    df = pd.DataFrame([model_used, train_score, val_score], index=[\"model\",\"train_score\",\"val_score\"]).T.sort_values(by=\"val_score\", ascending=False)\n",
    "    return df"
   ]
  },
  {
   "cell_type": "code",
   "execution_count": 60,
   "metadata": {},
   "outputs": [
    {
     "data": {
      "text/html": [
       "<div>\n",
       "<style scoped>\n",
       "    .dataframe tbody tr th:only-of-type {\n",
       "        vertical-align: middle;\n",
       "    }\n",
       "\n",
       "    .dataframe tbody tr th {\n",
       "        vertical-align: top;\n",
       "    }\n",
       "\n",
       "    .dataframe thead th {\n",
       "        text-align: right;\n",
       "    }\n",
       "</style>\n",
       "<table border=\"1\" class=\"dataframe\">\n",
       "  <thead>\n",
       "    <tr style=\"text-align: right;\">\n",
       "      <th></th>\n",
       "      <th>model</th>\n",
       "      <th>train_score</th>\n",
       "      <th>val_score</th>\n",
       "    </tr>\n",
       "  </thead>\n",
       "  <tbody>\n",
       "    <tr>\n",
       "      <th>0</th>\n",
       "      <td>MLPClassifier(activation='relu', alpha=0.0001,...</td>\n",
       "      <td>0.767409</td>\n",
       "      <td>0.733333</td>\n",
       "    </tr>\n",
       "    <tr>\n",
       "      <th>3</th>\n",
       "      <td>KNeighborsClassifier(algorithm='auto', leaf_si...</td>\n",
       "      <td>0.789694</td>\n",
       "      <td>0.711111</td>\n",
       "    </tr>\n",
       "    <tr>\n",
       "      <th>4</th>\n",
       "      <td>GradientBoostingClassifier(ccp_alpha=0.0, crit...</td>\n",
       "      <td>0.817549</td>\n",
       "      <td>0.705556</td>\n",
       "    </tr>\n",
       "    <tr>\n",
       "      <th>2</th>\n",
       "      <td>RandomForestClassifier(bootstrap=True, ccp_alp...</td>\n",
       "      <td>0.949861</td>\n",
       "      <td>0.7</td>\n",
       "    </tr>\n",
       "    <tr>\n",
       "      <th>1</th>\n",
       "      <td>LogisticRegression(C=1.0, class_weight=None, d...</td>\n",
       "      <td>0.727019</td>\n",
       "      <td>0.688889</td>\n",
       "    </tr>\n",
       "    <tr>\n",
       "      <th>6</th>\n",
       "      <td>LogisticRegressionCV(Cs=10, class_weight=None,...</td>\n",
       "      <td>0.727019</td>\n",
       "      <td>0.688889</td>\n",
       "    </tr>\n",
       "    <tr>\n",
       "      <th>7</th>\n",
       "      <td>RidgeClassifier(alpha=1.0, class_weight=None, ...</td>\n",
       "      <td>0.721448</td>\n",
       "      <td>0.688889</td>\n",
       "    </tr>\n",
       "    <tr>\n",
       "      <th>9</th>\n",
       "      <td>LinearSVC(C=1.0, class_weight=None, dual=True,...</td>\n",
       "      <td>0.720056</td>\n",
       "      <td>0.688889</td>\n",
       "    </tr>\n",
       "    <tr>\n",
       "      <th>8</th>\n",
       "      <td>SVC(C=1.0, break_ties=False, cache_size=200, c...</td>\n",
       "      <td>0.752089</td>\n",
       "      <td>0.677778</td>\n",
       "    </tr>\n",
       "    <tr>\n",
       "      <th>5</th>\n",
       "      <td>GaussianNB(priors=None, var_smoothing=1e-09)</td>\n",
       "      <td>0.696379</td>\n",
       "      <td>0.672222</td>\n",
       "    </tr>\n",
       "    <tr>\n",
       "      <th>10</th>\n",
       "      <td>XGBClassifier(base_score=0.5, booster=None, co...</td>\n",
       "      <td>0.935933</td>\n",
       "      <td>0.633333</td>\n",
       "    </tr>\n",
       "  </tbody>\n",
       "</table>\n",
       "</div>"
      ],
      "text/plain": [
       "                                                model train_score val_score\n",
       "0   MLPClassifier(activation='relu', alpha=0.0001,...    0.767409  0.733333\n",
       "3   KNeighborsClassifier(algorithm='auto', leaf_si...    0.789694  0.711111\n",
       "4   GradientBoostingClassifier(ccp_alpha=0.0, crit...    0.817549  0.705556\n",
       "2   RandomForestClassifier(bootstrap=True, ccp_alp...    0.949861       0.7\n",
       "1   LogisticRegression(C=1.0, class_weight=None, d...    0.727019  0.688889\n",
       "6   LogisticRegressionCV(Cs=10, class_weight=None,...    0.727019  0.688889\n",
       "7   RidgeClassifier(alpha=1.0, class_weight=None, ...    0.721448  0.688889\n",
       "9   LinearSVC(C=1.0, class_weight=None, dual=True,...    0.720056  0.688889\n",
       "8   SVC(C=1.0, break_ties=False, cache_size=200, c...    0.752089  0.677778\n",
       "5        GaussianNB(priors=None, var_smoothing=1e-09)    0.696379  0.672222\n",
       "10  XGBClassifier(base_score=0.5, booster=None, co...    0.935933  0.633333"
      ]
     },
     "execution_count": 60,
     "metadata": {},
     "output_type": "execute_result"
    }
   ],
   "source": [
    "model_list = [MLPClassifier(),LogisticRegression(),RandomForestClassifier(),\n",
    "              KNeighborsClassifier(), GradientBoostingClassifier(),GaussianNB(),\n",
    "              LogisticRegressionCV(),RidgeClassifier(),SVC(), LinearSVC(), XGBClassifier()]\n",
    "\n",
    "model_compare(model_list)\n"
   ]
  },
  {
   "cell_type": "markdown",
   "metadata": {},
   "source": [
    "### 1. Multi-Layer Perceptron with default settings = Baseline"
   ]
  },
  {
   "cell_type": "markdown",
   "metadata": {},
   "source": [
    "Default for MLPClassifier\n",
    "parameter_space = {\n",
    "    'hidden_layer_sizes': (100,),\n",
    "    'activation': 'relu',\n",
    "    'solver': 'adam',\n",
    "    'learning_rate_init': 0.001,\n",
    "    'learning_rate': 'constant',\n",
    "    'alpha': 0.0001\n",
    "    'batch_size':200,\n",
    "    'max_iter':200,\n",
    "    'shuffle':True\n",
    "    'random_state':None,\n",
    "    'tol':1e-4.\n",
    "    'momentum':0.9 (between 0 and 1),\n",
    "    'early_stopping':False,\n",
    "    'validation_fraction': 0.1(for early_stopping)\n",
    "}"
   ]
  },
  {
   "cell_type": "code",
   "execution_count": 666,
   "metadata": {},
   "outputs": [],
   "source": [
    "model = MLPClassifier(random_state=150)"
   ]
  },
  {
   "cell_type": "code",
   "execution_count": 667,
   "metadata": {},
   "outputs": [
    {
     "data": {
      "text/html": [
       "<div>\n",
       "<style scoped>\n",
       "    .dataframe tbody tr th:only-of-type {\n",
       "        vertical-align: middle;\n",
       "    }\n",
       "\n",
       "    .dataframe tbody tr th {\n",
       "        vertical-align: top;\n",
       "    }\n",
       "\n",
       "    .dataframe thead th {\n",
       "        text-align: right;\n",
       "    }\n",
       "</style>\n",
       "<table border=\"1\" class=\"dataframe\">\n",
       "  <thead>\n",
       "    <tr style=\"text-align: right;\">\n",
       "      <th></th>\n",
       "      <th>Time</th>\n",
       "      <th>Train</th>\n",
       "      <th>Test</th>\n",
       "      <th>Iterations</th>\n",
       "    </tr>\n",
       "  </thead>\n",
       "  <tbody>\n",
       "    <tr>\n",
       "      <th>Baseline</th>\n",
       "      <td>0.764+/-0.08</td>\n",
       "      <td>0.762+/-0.01</td>\n",
       "      <td>0.743+/-0.05</td>\n",
       "      <td>200.0+/-0.0</td>\n",
       "    </tr>\n",
       "  </tbody>\n",
       "</table>\n",
       "</div>"
      ],
      "text/plain": [
       "                  Time         Train          Test   Iterations\n",
       "Baseline  0.764+/-0.08  0.762+/-0.01  0.743+/-0.05  200.0+/-0.0"
      ]
     },
     "execution_count": 667,
     "metadata": {},
     "output_type": "execute_result"
    }
   ],
   "source": [
    "df = pd.DataFrame(columns = ['Time','Train','Test', 'Iterations'], index = ['Baseline'])\n",
    "show_results(df, model)"
   ]
  },
  {
   "cell_type": "markdown",
   "metadata": {},
   "source": [
    "Models to try out\n",
    " - Bayes\n",
    " - Random Forest\n",
    " - Xgboost\n",
    " - GBD\n",
    " - Support Vector Machine\n",
    " - KNN\n",
    " - tuning MLPClassifier/Optuna, Randomized Search i/o GridSearch\n",
    " \n",
    " "
   ]
  },
  {
   "cell_type": "code",
   "execution_count": 668,
   "metadata": {},
   "outputs": [],
   "source": [
    "#source https://www.kaggle.com/snakayama/xgboost-using-optuna\n",
    "def optxgb(X_train, y_train, X_test, y_test, trial):\n",
    "    #param_list\n",
    "    n_estimators = trial.suggest_int('n_estimators', 0, 1000)\n",
    "    max_depth = trial.suggest_int('max_depth', 1, 40)\n",
    "    min_child_weight = trial.suggest_int('min_child_weight', 1, 20)\n",
    "    learning_rate = trial.suggest_discrete_uniform('learning_rate', 0.001, 0.2, 0.001)\n",
    "    subsample = trial.suggest_discrete_uniform('subsample', 0.5, 0.9, 0.1)\n",
    "    reg_lambda = trial.suggest_discrete_uniform('reg_lambda', 0, 1, 0.001)\n",
    "    reg_alpha = trial.suggest_discrete_uniform('reg_alpha', 0, 1, 0.001)\n",
    "    colsample_bytree = trial.suggest_discrete_uniform('colsample_bytree', 0.5, 0.9, 0.1)\n",
    "\n",
    "    xgboost_tuna = XGBClassifier(\n",
    "        random_state=1, \n",
    "        n_estimators = n_estimators,\n",
    "        max_depth = max_depth,\n",
    "        min_child_weight = min_child_weight,\n",
    "        learning_rate = learning_rate,\n",
    "        subsample = subsample,\n",
    "        reg_lambda = reg_lambda,\n",
    "        reg_alpha = reg_alpha,\n",
    "        colsample_bytree = colsample_bytree,\n",
    "    )\n",
    "    xgboost_tuna.fit(X_train, y_train)\n",
    "    tuna_pred_test = xgboost_tuna.predict(X_val)\n",
    "    \n",
    "    return (metrics.accuracy_score(y_test, tuna_pred_test))\n",
    "\n",
    "#source https://www.kaggle.com/snakayama/xgboost-using-optuna\n",
    "def optmlp(X_train, y_train, X_test, y_test, trial):\n",
    "    #param_list\n",
    "    activation = trial.suggest_categorical('activation', ['relu', 'logistic', 'tanh'])\n",
    "    solver = trial.suggest_categorical('solver', ['adam', 'sgd','lbfgs'])\n",
    "    batch_size = trial.suggest_int('batch_size', 100, 600, 100)\n",
    "    max_iter = trial.suggest_int('max_iter', 100, 1000, 100)\n",
    "    learning_rate = trial.suggest_categorical('learning_rate', ['constant','adaptive'])\n",
    "    learning_rate_init = trial.suggest_discrete_uniform('learning_rate_init', 0.001, 0.1, 0.001)\n",
    "    alpha = trial.suggest_discrete_uniform('alpha', 0.001, 0.2, 0.001)\n",
    "    \n",
    "    n_layers = trial.suggest_int('n_layers', 1, 3)\n",
    "    layers = []\n",
    "    for i in range(n_layers):\n",
    "        layers.append(trial.suggest_int(f'n_units_{i}', 1, 30))\n",
    "    \n",
    "    MLP_model = MLPClassifier(\n",
    "        random_state=1, \n",
    "        alpha = alpha,\n",
    "        activation = activation,\n",
    "        solver=solver,\n",
    "        batch_size = batch_size,\n",
    "        max_iter= max_iter,\n",
    "        learning_rate = learning_rate,\n",
    "        learning_rate_init = learning_rate_init,\n",
    "        hidden_layer_sizes=tuple(layers)\n",
    "    )\n",
    "    MLP_model.fit(X_train, y_train)\n",
    "    tuna_pred_test = MLP_model.predict(X_test)\n",
    "    \n",
    "    return (metrics.accuracy_score(y_test, tuna_pred_test))\n",
    "\n",
    "\n",
    "def opt_gdb(X_train, y_train, X_test, y_test, trial):\n",
    "    #param_list\n",
    "    n_estimators = trial.suggest_int('n_estimators', 1, 1000)\n",
    "    max_depth = trial.suggest_int('max_depth', 1, 40)\n",
    "    learning_rate = trial.suggest_discrete_uniform('learning_rate', 0.001, 0.2, 0.001)\n",
    "    subsample = trial.suggest_discrete_uniform('subsample', 0.5, 0.9, 0.1)\n",
    "    loss=trial.suggest_categorical('loss', ['deviance', 'exponential'])\n",
    "    min_samples_split=trial.suggest_int('min_samples_split', 2, 20)\n",
    "    min_samples_leaf=trial.suggest_int('min_samples_leaf', 1, 20)\n",
    "    min_weight_fraction_leaf=trial.suggest_discrete_uniform('min_weight_fraction_leaf', 0, 0.5, 0.001)\n",
    "    max_features=trial.suggest_int('max_features', 1, len(X_train.columns))\n",
    "    #max_leaf_nodes=trial.suggest_int('max_leaf_nodes', 2, 1000)\n",
    "    \n",
    "    gb_tuna = GradientBoostingClassifier(\n",
    "        random_state=1, \n",
    "        n_estimators = n_estimators,\n",
    "        max_depth = max_depth,\n",
    "        learning_rate = learning_rate,\n",
    "        subsample = subsample,\n",
    "        loss=loss,\n",
    "        min_samples_split=min_samples_split,\n",
    "        min_samples_leaf=min_samples_leaf,\n",
    "        min_weight_fraction_leaf=min_weight_fraction_leaf,\n",
    "        max_features=max_features,\n",
    "        #max_leaf_nodes=max_leaf_nodes,\n",
    "\n",
    "    )\n",
    "    gb_tuna.fit(X_train, y_train)\n",
    "    tuna_pred_test = gb_tuna.predict(X_val)\n",
    "    \n",
    "    return (metrics.accuracy_score(y_test, tuna_pred_test))\n"
   ]
  },
  {
   "cell_type": "code",
   "execution_count": null,
   "metadata": {},
   "outputs": [
    {
     "name": "stderr",
     "output_type": "stream",
     "text": [
      "[I 2020-05-16 10:50:55,078] Finished trial#0 with value: 0.6944444444444444 with parameters: {'activation': 'logistic', 'solver': 'adam', 'batch_size': 600, 'max_iter': 800, 'learning_rate': 'constant', 'learning_rate_init': 0.017, 'alpha': 0.178, 'n_layers': 2, 'n_units_0': 3, 'n_units_1': 8}. Best is trial#0 with value: 0.6944444444444444.\n",
      "[I 2020-05-16 10:50:55,375] Finished trial#1 with value: 0.7222222222222222 with parameters: {'activation': 'tanh', 'solver': 'adam', 'batch_size': 600, 'max_iter': 100, 'learning_rate': 'constant', 'learning_rate_init': 0.093, 'alpha': 0.003, 'n_layers': 1, 'n_units_0': 4}. Best is trial#1 with value: 0.7222222222222222.\n",
      "[I 2020-05-16 10:50:56,803] Finished trial#2 with value: 0.6888888888888889 with parameters: {'activation': 'tanh', 'solver': 'lbfgs', 'batch_size': 200, 'max_iter': 900, 'learning_rate': 'adaptive', 'learning_rate_init': 0.04, 'alpha': 0.058, 'n_layers': 2, 'n_units_0': 21, 'n_units_1': 6}. Best is trial#1 with value: 0.7222222222222222.\n",
      "[I 2020-05-16 10:50:57,100] Finished trial#3 with value: 0.7 with parameters: {'activation': 'relu', 'solver': 'lbfgs', 'batch_size': 600, 'max_iter': 100, 'learning_rate': 'constant', 'learning_rate_init': 0.030000000000000002, 'alpha': 0.067, 'n_layers': 3, 'n_units_0': 10, 'n_units_1': 19, 'n_units_2': 29}. Best is trial#1 with value: 0.7222222222222222.\n",
      "[I 2020-05-16 10:50:57,409] Finished trial#4 with value: 0.7333333333333333 with parameters: {'activation': 'tanh', 'solver': 'lbfgs', 'batch_size': 200, 'max_iter': 100, 'learning_rate': 'constant', 'learning_rate_init': 0.064, 'alpha': 0.014000000000000002, 'n_layers': 2, 'n_units_0': 27, 'n_units_1': 29}. Best is trial#4 with value: 0.7333333333333333.\n",
      "[I 2020-05-16 10:50:58,388] Finished trial#5 with value: 0.75 with parameters: {'activation': 'relu', 'solver': 'sgd', 'batch_size': 500, 'max_iter': 700, 'learning_rate': 'constant', 'learning_rate_init': 0.006, 'alpha': 0.011, 'n_layers': 3, 'n_units_0': 19, 'n_units_1': 13, 'n_units_2': 18}. Best is trial#5 with value: 0.75.\n",
      "[I 2020-05-16 10:50:58,780] Finished trial#6 with value: 0.7 with parameters: {'activation': 'relu', 'solver': 'sgd', 'batch_size': 100, 'max_iter': 100, 'learning_rate': 'constant', 'learning_rate_init': 0.010000000000000002, 'alpha': 0.183, 'n_layers': 1, 'n_units_0': 29}. Best is trial#5 with value: 0.75.\n",
      "[I 2020-05-16 10:50:59,386] Finished trial#7 with value: 0.7444444444444445 with parameters: {'activation': 'relu', 'solver': 'sgd', 'batch_size': 600, 'max_iter': 500, 'learning_rate': 'constant', 'learning_rate_init': 0.060000000000000005, 'alpha': 0.169, 'n_layers': 3, 'n_units_0': 16, 'n_units_1': 23, 'n_units_2': 24}. Best is trial#5 with value: 0.75.\n",
      "[I 2020-05-16 10:51:00,055] Finished trial#8 with value: 0.75 with parameters: {'activation': 'tanh', 'solver': 'sgd', 'batch_size': 100, 'max_iter': 900, 'learning_rate': 'adaptive', 'learning_rate_init': 0.05, 'alpha': 0.185, 'n_layers': 1, 'n_units_0': 14}. Best is trial#5 with value: 0.75.\n",
      "[I 2020-05-16 10:51:00,227] Finished trial#9 with value: 0.6277777777777778 with parameters: {'activation': 'logistic', 'solver': 'lbfgs', 'batch_size': 400, 'max_iter': 400, 'learning_rate': 'constant', 'learning_rate_init': 0.046, 'alpha': 0.139, 'n_layers': 2, 'n_units_0': 2, 'n_units_1': 29}. Best is trial#5 with value: 0.75.\n",
      "[I 2020-05-16 10:51:02,059] Finished trial#10 with value: 0.6888888888888889 with parameters: {'activation': 'relu', 'solver': 'sgd', 'batch_size': 400, 'max_iter': 700, 'learning_rate': 'adaptive', 'learning_rate_init': 0.002, 'alpha': 0.044000000000000004, 'n_layers': 3, 'n_units_0': 22, 'n_units_1': 13, 'n_units_2': 2}. Best is trial#5 with value: 0.75.\n",
      "[I 2020-05-16 10:51:02,806] Finished trial#11 with value: 0.7166666666666667 with parameters: {'activation': 'tanh', 'solver': 'sgd', 'batch_size': 500, 'max_iter': 1000, 'learning_rate': 'adaptive', 'learning_rate_init': 0.08700000000000001, 'alpha': 0.109, 'n_layers': 1, 'n_units_0': 14}. Best is trial#5 with value: 0.75.\n",
      "[I 2020-05-16 10:51:03,765] Finished trial#12 with value: 0.7111111111111111 with parameters: {'activation': 'tanh', 'solver': 'sgd', 'batch_size': 300, 'max_iter': 700, 'learning_rate': 'adaptive', 'learning_rate_init': 0.074, 'alpha': 0.10300000000000001, 'n_layers': 3, 'n_units_0': 10, 'n_units_1': 25, 'n_units_2': 10}. Best is trial#5 with value: 0.75.\n",
      "[I 2020-05-16 10:51:04,441] Finished trial#13 with value: 0.7333333333333333 with parameters: {'activation': 'relu', 'solver': 'sgd', 'batch_size': 500, 'max_iter': 1000, 'learning_rate': 'adaptive', 'learning_rate_init': 0.026000000000000002, 'alpha': 0.14, 'n_layers': 1, 'n_units_0': 19}. Best is trial#5 with value: 0.75.\n",
      "[I 2020-05-16 10:51:05,773] Finished trial#14 with value: 0.6944444444444444 with parameters: {'activation': 'tanh', 'solver': 'sgd', 'batch_size': 100, 'max_iter': 600, 'learning_rate': 'adaptive', 'learning_rate_init': 0.077, 'alpha': 0.028, 'n_layers': 2, 'n_units_0': 25, 'n_units_1': 30}. Best is trial#5 with value: 0.75.\n",
      "[I 2020-05-16 10:51:06,089] Finished trial#15 with value: 0.6277777777777778 with parameters: {'activation': 'logistic', 'solver': 'sgd', 'batch_size': 500, 'max_iter': 300, 'learning_rate': 'adaptive', 'learning_rate_init': 0.034, 'alpha': 0.2, 'n_layers': 3, 'n_units_0': 12, 'n_units_1': 1, 'n_units_2': 12}. Best is trial#5 with value: 0.75.\n",
      "[I 2020-05-16 10:51:06,398] Finished trial#16 with value: 0.7333333333333333 with parameters: {'activation': 'relu', 'solver': 'adam', 'batch_size': 300, 'max_iter': 800, 'learning_rate': 'constant', 'learning_rate_init': 0.056, 'alpha': 0.083, 'n_layers': 1, 'n_units_0': 17}. Best is trial#5 with value: 0.75.\n",
      "[I 2020-05-16 10:51:06,902] Finished trial#17 with value: 0.6888888888888889 with parameters: {'activation': 'tanh', 'solver': 'sgd', 'batch_size': 400, 'max_iter': 900, 'learning_rate': 'adaptive', 'learning_rate_init': 0.007, 'alpha': 0.129, 'n_layers': 2, 'n_units_0': 8, 'n_units_1': 20}. Best is trial#5 with value: 0.75.\n",
      "[I 2020-05-16 10:51:07,537] Finished trial#18 with value: 0.7166666666666667 with parameters: {'activation': 'relu', 'solver': 'sgd', 'batch_size': 200, 'max_iter': 600, 'learning_rate': 'constant', 'learning_rate_init': 0.023, 'alpha': 0.156, 'n_layers': 1, 'n_units_0': 23}. Best is trial#5 with value: 0.75.\n",
      "[I 2020-05-16 10:51:08,757] Finished trial#19 with value: 0.7222222222222222 with parameters: {'activation': 'relu', 'solver': 'sgd', 'batch_size': 500, 'max_iter': 800, 'learning_rate': 'adaptive', 'learning_rate_init': 0.048, 'alpha': 0.196, 'n_layers': 3, 'n_units_0': 18, 'n_units_1': 14, 'n_units_2': 28}. Best is trial#5 with value: 0.75.\n",
      "[I 2020-05-16 10:51:09,086] Finished trial#20 with value: 0.7333333333333333 with parameters: {'activation': 'logistic', 'solver': 'adam', 'batch_size': 300, 'max_iter': 900, 'learning_rate': 'constant', 'learning_rate_init': 0.07300000000000001, 'alpha': 0.117, 'n_layers': 2, 'n_units_0': 6, 'n_units_1': 22}. Best is trial#5 with value: 0.75.\n",
      "[I 2020-05-16 10:51:09,611] Finished trial#21 with value: 0.7333333333333333 with parameters: {'activation': 'relu', 'solver': 'sgd', 'batch_size': 600, 'max_iter': 400, 'learning_rate': 'constant', 'learning_rate_init': 0.059000000000000004, 'alpha': 0.165, 'n_layers': 3, 'n_units_0': 14, 'n_units_1': 10, 'n_units_2': 29}. Best is trial#5 with value: 0.75.\n",
      "[I 2020-05-16 10:51:10,114] Finished trial#22 with value: 0.7333333333333333 with parameters: {'activation': 'relu', 'solver': 'sgd', 'batch_size': 500, 'max_iter': 500, 'learning_rate': 'constant', 'learning_rate_init': 0.063, 'alpha': 0.157, 'n_layers': 3, 'n_units_0': 15, 'n_units_1': 18, 'n_units_2': 4}. Best is trial#5 with value: 0.75.\n",
      "[I 2020-05-16 10:51:10,513] Finished trial#23 with value: 0.7055555555555556 with parameters: {'activation': 'relu', 'solver': 'sgd', 'batch_size': 600, 'max_iter': 500, 'learning_rate': 'constant', 'learning_rate_init': 0.083, 'alpha': 0.181, 'n_layers': 3, 'n_units_0': 20, 'n_units_1': 24, 'n_units_2': 12}. Best is trial#5 with value: 0.75.\n",
      "[I 2020-05-16 10:51:11,285] Finished trial#24 with value: 0.7388888888888889 with parameters: {'activation': 'relu', 'solver': 'sgd', 'batch_size': 400, 'max_iter': 300, 'learning_rate': 'constant', 'learning_rate_init': 0.04, 'alpha': 0.08600000000000001, 'n_layers': 3, 'n_units_0': 16, 'n_units_1': 3, 'n_units_2': 20}. Best is trial#5 with value: 0.75.\n",
      "[I 2020-05-16 10:51:12,071] Finished trial#25 with value: 0.6888888888888889 with parameters: {'activation': 'relu', 'solver': 'sgd', 'batch_size': 500, 'max_iter': 700, 'learning_rate': 'constant', 'learning_rate_init': 0.098, 'alpha': 0.2, 'n_layers': 3, 'n_units_0': 12, 'n_units_1': 16, 'n_units_2': 21}. Best is trial#5 with value: 0.75.\n",
      "[I 2020-05-16 10:51:12,526] Finished trial#26 with value: 0.7222222222222222 with parameters: {'activation': 'tanh', 'solver': 'sgd', 'batch_size': 600, 'max_iter': 600, 'learning_rate': 'constant', 'learning_rate_init': 0.054, 'alpha': 0.17, 'n_layers': 3, 'n_units_0': 24, 'n_units_1': 11, 'n_units_2': 22}. Best is trial#5 with value: 0.75.\n",
      "[I 2020-05-16 10:51:13,466] Finished trial#27 with value: 0.7111111111111111 with parameters: {'activation': 'relu', 'solver': 'sgd', 'batch_size': 100, 'max_iter': 400, 'learning_rate': 'adaptive', 'learning_rate_init': 0.067, 'alpha': 0.147, 'n_layers': 2, 'n_units_0': 18, 'n_units_1': 24}. Best is trial#5 with value: 0.75.\n",
      "[I 2020-05-16 10:51:14,000] Finished trial#28 with value: 0.7388888888888889 with parameters: {'activation': 'tanh', 'solver': 'sgd', 'batch_size': 500, 'max_iter': 700, 'learning_rate': 'constant', 'learning_rate_init': 0.042, 'alpha': 0.123, 'n_layers': 3, 'n_units_0': 12, 'n_units_1': 1, 'n_units_2': 18}. Best is trial#5 with value: 0.75.\n",
      "[I 2020-05-16 10:51:14,539] Finished trial#29 with value: 0.7 with parameters: {'activation': 'logistic', 'solver': 'adam', 'batch_size': 600, 'max_iter': 800, 'learning_rate': 'constant', 'learning_rate_init': 0.018000000000000002, 'alpha': 0.184, 'n_layers': 2, 'n_units_0': 16, 'n_units_1': 3}. Best is trial#5 with value: 0.75.\n",
      "[I 2020-05-16 10:51:15,593] Finished trial#30 with value: 0.7333333333333333 with parameters: {'activation': 'relu', 'solver': 'sgd', 'batch_size': 400, 'max_iter': 500, 'learning_rate': 'adaptive', 'learning_rate_init': 0.013000000000000001, 'alpha': 0.194, 'n_layers': 2, 'n_units_0': 20, 'n_units_1': 4}. Best is trial#5 with value: 0.75.\n",
      "[I 2020-05-16 10:51:16,818] Finished trial#31 with value: 0.6888888888888889 with parameters: {'activation': 'tanh', 'solver': 'sgd', 'batch_size': 500, 'max_iter': 700, 'learning_rate': 'constant', 'learning_rate_init': 0.042, 'alpha': 0.124, 'n_layers': 3, 'n_units_0': 12, 'n_units_1': 27, 'n_units_2': 25}. Best is trial#5 with value: 0.75.\n",
      "[I 2020-05-16 10:51:17,644] Finished trial#32 with value: 0.7 with parameters: {'activation': 'tanh', 'solver': 'sgd', 'batch_size': 600, 'max_iter': 800, 'learning_rate': 'constant', 'learning_rate_init': 0.053000000000000005, 'alpha': 0.089, 'n_layers': 3, 'n_units_0': 13, 'n_units_1': 15, 'n_units_2': 16}. Best is trial#5 with value: 0.75.\n",
      "[I 2020-05-16 10:51:18,206] Finished trial#33 with value: 0.7055555555555556 with parameters: {'activation': 'relu', 'solver': 'sgd', 'batch_size': 400, 'max_iter': 200, 'learning_rate': 'constant', 'learning_rate_init': 0.036000000000000004, 'alpha': 0.035, 'n_layers': 3, 'n_units_0': 16, 'n_units_1': 21, 'n_units_2': 24}. Best is trial#5 with value: 0.75.\n",
      "[I 2020-05-16 10:51:19,095] Finished trial#34 with value: 0.6388888888888888 with parameters: {'activation': 'tanh', 'solver': 'lbfgs', 'batch_size': 500, 'max_iter': 600, 'learning_rate': 'constant', 'learning_rate_init': 0.049, 'alpha': 0.07200000000000001, 'n_layers': 3, 'n_units_0': 10, 'n_units_1': 11, 'n_units_2': 16}. Best is trial#5 with value: 0.75.\n",
      "[I 2020-05-16 10:51:19,402] Finished trial#35 with value: 0.7277777777777777 with parameters: {'activation': 'tanh', 'solver': 'adam', 'batch_size': 600, 'max_iter': 900, 'learning_rate': 'constant', 'learning_rate_init': 0.060000000000000005, 'alpha': 0.165, 'n_layers': 3, 'n_units_0': 7, 'n_units_1': 8, 'n_units_2': 25}. Best is trial#5 with value: 0.75.\n",
      "[I 2020-05-16 10:51:20,580] Finished trial#36 with value: 0.7333333333333333 with parameters: {'activation': 'tanh', 'solver': 'sgd', 'batch_size': 600, 'max_iter': 700, 'learning_rate': 'constant', 'learning_rate_init': 0.031, 'alpha': 0.009000000000000001, 'n_layers': 3, 'n_units_0': 10, 'n_units_1': 17, 'n_units_2': 7}. Best is trial#5 with value: 0.75.\n",
      "[I 2020-05-16 10:51:21,191] Finished trial#37 with value: 0.6777777777777778 with parameters: {'activation': 'tanh', 'solver': 'lbfgs', 'batch_size': 200, 'max_iter': 500, 'learning_rate': 'constant', 'learning_rate_init': 0.044000000000000004, 'alpha': 0.053000000000000005, 'n_layers': 1, 'n_units_0': 14}. Best is trial#5 with value: 0.75.\n",
      "[I 2020-05-16 10:51:22,002] Finished trial#38 with value: 0.7222222222222222 with parameters: {'activation': 'relu', 'solver': 'sgd', 'batch_size': 400, 'max_iter': 300, 'learning_rate': 'constant', 'learning_rate_init': 0.068, 'alpha': 0.085, 'n_layers': 3, 'n_units_0': 21, 'n_units_1': 7, 'n_units_2': 19}. Best is trial#5 with value: 0.75.\n",
      "[I 2020-05-16 10:51:22,494] Finished trial#39 with value: 0.6888888888888889 with parameters: {'activation': 'tanh', 'solver': 'sgd', 'batch_size': 500, 'max_iter': 1000, 'learning_rate': 'constant', 'learning_rate_init': 0.004, 'alpha': 0.17300000000000001, 'n_layers': 2, 'n_units_0': 8, 'n_units_1': 2}. Best is trial#5 with value: 0.75.\n"
     ]
    }
   ],
   "source": [
    "opt = optmlp\n",
    "\n",
    "\n",
    "study = optuna.create_study(direction = 'maximize')\n",
    "study.optimize(functools.partial(opt, X_train, y_train, X_val, y_val), n_trials=100)"
   ]
  },
  {
   "cell_type": "code",
   "execution_count": null,
   "metadata": {},
   "outputs": [],
   "source": [
    "study.best_params"
   ]
  },
  {
   "cell_type": "markdown",
   "metadata": {},
   "source": [
    "## Try GradientBoosting + optuna"
   ]
  },
  {
   "cell_type": "code",
   "execution_count": null,
   "metadata": {},
   "outputs": [],
   "source": [
    "opt = opt_gdb\n",
    "\n",
    "\n",
    "study = optuna.create_study(direction = 'maximize')\n",
    "study.optimize(functools.partial(opt, X_train, y_train, X_val, y_val), n_trials=500)"
   ]
  },
  {
   "cell_type": "code",
   "execution_count": null,
   "metadata": {},
   "outputs": [],
   "source": [
    "study.best_params"
   ]
  },
  {
   "cell_type": "code",
   "execution_count": null,
   "metadata": {},
   "outputs": [],
   "source": [
    "gdb_model=GradientBoostingClassifier(**study.best_params,random_state=1)"
   ]
  },
  {
   "cell_type": "code",
   "execution_count": null,
   "metadata": {},
   "outputs": [],
   "source": [
    "gdb_model.fit(X_train, y_train)"
   ]
  },
  {
   "cell_type": "code",
   "execution_count": null,
   "metadata": {},
   "outputs": [],
   "source": [
    "gdb_model.score(X_train, y_train)"
   ]
  },
  {
   "cell_type": "code",
   "execution_count": null,
   "metadata": {},
   "outputs": [],
   "source": [
    "gdb_model.score(X_val, y_val)"
   ]
  },
  {
   "cell_type": "markdown",
   "metadata": {},
   "source": [
    "## XGB + Optuna"
   ]
  },
  {
   "cell_type": "code",
   "execution_count": null,
   "metadata": {},
   "outputs": [],
   "source": [
    "opt = optxgb\n",
    "\n",
    "\n",
    "study = optuna.create_study(direction = 'maximize')\n",
    "study.optimize(functools.partial(opt, X_train, y_train, X_val, y_val), n_trials=500)"
   ]
  },
  {
   "cell_type": "code",
   "execution_count": null,
   "metadata": {},
   "outputs": [],
   "source": [
    "study.best_params"
   ]
  },
  {
   "cell_type": "code",
   "execution_count": null,
   "metadata": {},
   "outputs": [],
   "source": [
    "xgb_model=XGBClassifier(**study.best_params,random_state=1)"
   ]
  },
  {
   "cell_type": "code",
   "execution_count": null,
   "metadata": {},
   "outputs": [],
   "source": [
    "xgb_model.fit(X_train, y_train)"
   ]
  },
  {
   "cell_type": "code",
   "execution_count": null,
   "metadata": {},
   "outputs": [],
   "source": [
    "xgb_model.score(X_train,y_train)"
   ]
  },
  {
   "cell_type": "code",
   "execution_count": null,
   "metadata": {},
   "outputs": [],
   "source": [
    "xgb_model.score(X_val, y_val)"
   ]
  },
  {
   "cell_type": "code",
   "execution_count": null,
   "metadata": {},
   "outputs": [],
   "source": []
  }
 ],
 "metadata": {
  "kernelspec": {
   "display_name": "Python 3",
   "language": "python",
   "name": "python3"
  },
  "language_info": {
   "codemirror_mode": {
    "name": "ipython",
    "version": 3
   },
   "file_extension": ".py",
   "mimetype": "text/x-python",
   "name": "python",
   "nbconvert_exporter": "python",
   "pygments_lexer": "ipython3",
   "version": "3.7.7"
  }
 },
 "nbformat": 4,
 "nbformat_minor": 4
}
