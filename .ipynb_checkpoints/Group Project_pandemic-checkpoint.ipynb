{
 "cells": [
  {
   "cell_type": "markdown",
   "metadata": {},
   "source": [
    "## Dataset"
   ]
  },
  {
   "cell_type": "markdown",
   "metadata": {},
   "source": [
    "**Data fields:**\n",
    "    \n",
    "- **Patient_ID** - The unique identifier of the patient\n",
    "- **Family_Case_ID** - The family identification\n",
    "- **Severity** - The severity of the disease, where 1 is the lowest and 3 the highest severity\n",
    "- **Name** - The name of the patient\n",
    "- **Birthday_year** - The year of birthday of the patient\n",
    "- **Parents_Siblings_Infected** - The number of parents and/or siblings infected\n",
    "- **Partner_Children_Infected** - The number of partner and/or children infected\n",
    "- **Medical_Expenses_Family** - The medical expenses associated to try to contain the epidemy on the family\n",
    "- **Medical_Tent** - The medical tent where the patient is / was lodged\n",
    "- **City** - The original city of the patient\n",
    "- **Deceased** - Flag if the patient deceased or not with the virus (0 = No, 1 = Yes)"
   ]
  },
  {
   "cell_type": "markdown",
   "metadata": {},
   "source": [
    "## Libraries"
   ]
  },
  {
   "cell_type": "code",
   "execution_count": 1,
   "metadata": {},
   "outputs": [],
   "source": [
    "import warnings\n",
    "warnings.filterwarnings('ignore')\n",
    "import time\n",
    "from sklearn.neural_network import MLPClassifier\n",
    "import pandas as pd\n",
    "from sklearn.model_selection import train_test_split\n",
    "from sklearn.model_selection import KFold\n",
    "from sklearn.feature_selection import RFE, RFECV\n",
    "from sklearn.preprocessing import MinMaxScaler\n",
    "from sklearn.preprocessing import RobustScaler\n",
    "from sklearn.model_selection import RandomizedSearchCV\n",
    "from sklearn.linear_model import LogisticRegression, LogisticRegressionCV,LassoCV,RidgeCV, RidgeClassifier\n",
    "from sklearn.ensemble import RandomForestClassifier\n",
    "from sklearn.ensemble import GradientBoostingClassifier\n",
    "from sklearn.neighbors import KNeighborsClassifier\n",
    "from sklearn.naive_bayes import GaussianNB\n",
    "from sklearn.impute import KNNImputer\n",
    "from sklearn.svm import SVC, LinearSVC\n",
    "import numpy as np\n",
    "import matplotlib.pyplot as plt\n",
    "from matplotlib.pyplot import figure\n",
    "import seaborn as sb\n",
    "import math\n",
    "from xgboost import XGBClassifier\n",
    "from sklearn.preprocessing import RobustScaler, StandardScaler, LabelEncoder, MinMaxScaler, OneHotEncoder\n",
    "from sklearn import metrics\n",
    "import optuna\n",
    "import functools"
   ]
  },
  {
   "cell_type": "markdown",
   "metadata": {},
   "source": [
    "## Functions"
   ]
  },
  {
   "cell_type": "code",
   "execution_count": 2,
   "metadata": {},
   "outputs": [],
   "source": [
    "def avg_score(model):\n",
    "    # apply kfold\n",
    "    kf = KFold(n_splits=5)\n",
    "    # create lists to store the results from the different models \n",
    "    score_train = []\n",
    "    score_test = []\n",
    "    timer = []\n",
    "    n_iter = []\n",
    "    for train_index, val_index in kf.split(X):\n",
    "        # get the indexes of the observations assigned for each partition\n",
    "        X_train, X_val = X.iloc[train_index], X.iloc[val_index]\n",
    "        y_train, y_val = y.iloc[train_index], y.iloc[val_index]\n",
    "        # start counting time\n",
    "        begin = time.perf_counter()\n",
    "        # fit the model to the data\n",
    "        model.fit(X_train, y_train)\n",
    "        # finish counting time\n",
    "        end = time.perf_counter()\n",
    "        # check the mean accuracy for the train\n",
    "        value_train = model.score(X_train, y_train)\n",
    "        # check the mean accuracy for the test\n",
    "        value_test = model.score(X_val,y_val)\n",
    "        # append the accuracies, the time and the number of iterations in the corresponding list\n",
    "        score_train.append(value_train)\n",
    "        score_test.append(value_test)\n",
    "        timer.append(end-begin)\n",
    "        n_iter.append(model.n_iter_)\n",
    "    # calculate the average and the std for each measure (accuracy, time and number of iterations)\n",
    "    avg_time = round(np.mean(timer),3)\n",
    "    avg_train = round(np.mean(score_train),3)\n",
    "    avg_test = round(np.mean(score_test),3)\n",
    "    std_time = round(np.std(timer),2)\n",
    "    std_train = round(np.std(score_train),2)\n",
    "    std_test = round(np.std(score_test),2)\n",
    "    avg_iter = round(np.mean(n_iter),1)\n",
    "    std_iter = round(np.std(n_iter),1)\n",
    "    \n",
    "    return str(avg_time) + '+/-' + str(std_time), str(avg_train) + '+/-' + str(std_train),\\\n",
    "str(avg_test) + '+/-' + str(std_test), str(avg_iter) + '+/-' + str(std_iter)"
   ]
  },
  {
   "cell_type": "code",
   "execution_count": 3,
   "metadata": {},
   "outputs": [],
   "source": [
    "def show_results(df, *args):\n",
    "    \"\"\"\n",
    "    Receive an empty dataframe and the different models and call the function avg_score\n",
    "    \"\"\"\n",
    "    count = 0\n",
    "    # for each model passed as argument\n",
    "    for arg in args:\n",
    "        # obtain the results provided by avg_score\n",
    "        time, avg_train, avg_test, avg_iter = avg_score(arg)\n",
    "        # store the results in the right row\n",
    "        df.iloc[count] = time, avg_train, avg_test, avg_iter\n",
    "        count+=1\n",
    "    return df"
   ]
  },
  {
   "cell_type": "code",
   "execution_count": 4,
   "metadata": {},
   "outputs": [],
   "source": [
    "def cor_heatmap(cor):\n",
    "    plt.figure(figsize=(20,20))\n",
    "    sb.heatmap(data = cor, annot = True, cmap = plt.cm.Reds, fmt='.1')\n",
    "    plt.show()"
   ]
  },
  {
   "cell_type": "code",
   "execution_count": 5,
   "metadata": {},
   "outputs": [],
   "source": [
    "def plt_box(data):\n",
    "    n_col = 2\n",
    "    n_row = 2\n",
    "    fig, ax = plt.subplots(n_row, n_col, figsize=(15, 10))\n",
    "    for var, subplot in zip(data[numerical], ax.flatten()):\n",
    "        sb.boxplot(data[var], ax=subplot)"
   ]
  },
  {
   "cell_type": "code",
   "execution_count": 6,
   "metadata": {},
   "outputs": [],
   "source": [
    "from IPython.display import display_html\n",
    "def display_side_by_side(*args):\n",
    "    html_str=''\n",
    "    for df in args:\n",
    "        html_str+=df.to_html()\n",
    "    display_html(html_str.replace('table','table style=\"display:inline\"'),raw=True)"
   ]
  },
  {
   "cell_type": "markdown",
   "metadata": {},
   "source": [
    " ## Data exploration"
   ]
  },
  {
   "cell_type": "markdown",
   "metadata": {},
   "source": [
    "### Full dataset exploration"
   ]
  },
  {
   "cell_type": "markdown",
   "metadata": {},
   "source": [
    "preprocess as types \n",
    "year as integer \n",
    "patient_id and Family case as text"
   ]
  },
  {
   "cell_type": "code",
   "execution_count": 7,
   "metadata": {},
   "outputs": [
    {
     "data": {
      "text/html": [
       "<div>\n",
       "<style scoped>\n",
       "    .dataframe tbody tr th:only-of-type {\n",
       "        vertical-align: middle;\n",
       "    }\n",
       "\n",
       "    .dataframe tbody tr th {\n",
       "        vertical-align: top;\n",
       "    }\n",
       "\n",
       "    .dataframe thead th {\n",
       "        text-align: right;\n",
       "    }\n",
       "</style>\n",
       "<table border=\"1\" class=\"dataframe\">\n",
       "  <thead>\n",
       "    <tr style=\"text-align: right;\">\n",
       "      <th></th>\n",
       "      <th>Patient_ID</th>\n",
       "      <th>Family_Case_ID</th>\n",
       "      <th>Severity</th>\n",
       "      <th>Name</th>\n",
       "      <th>Birthday_year</th>\n",
       "      <th>Parents or siblings infected</th>\n",
       "      <th>Wife/Husband or children infected</th>\n",
       "      <th>Medical_Expenses_Family</th>\n",
       "      <th>Medical_Tent</th>\n",
       "      <th>City</th>\n",
       "      <th>Deceased</th>\n",
       "    </tr>\n",
       "  </thead>\n",
       "  <tbody>\n",
       "    <tr>\n",
       "      <th>count</th>\n",
       "      <td>900.000000</td>\n",
       "      <td>900.000000</td>\n",
       "      <td>900.000000</td>\n",
       "      <td>900</td>\n",
       "      <td>723.000000</td>\n",
       "      <td>900.000000</td>\n",
       "      <td>900.000000</td>\n",
       "      <td>900.000000</td>\n",
       "      <td>198</td>\n",
       "      <td>898</td>\n",
       "      <td>900.000000</td>\n",
       "    </tr>\n",
       "    <tr>\n",
       "      <th>unique</th>\n",
       "      <td>NaN</td>\n",
       "      <td>NaN</td>\n",
       "      <td>NaN</td>\n",
       "      <td>899</td>\n",
       "      <td>NaN</td>\n",
       "      <td>NaN</td>\n",
       "      <td>NaN</td>\n",
       "      <td>NaN</td>\n",
       "      <td>8</td>\n",
       "      <td>3</td>\n",
       "      <td>NaN</td>\n",
       "    </tr>\n",
       "    <tr>\n",
       "      <th>top</th>\n",
       "      <td>NaN</td>\n",
       "      <td>NaN</td>\n",
       "      <td>NaN</td>\n",
       "      <td>Mr. Samuel Darnell</td>\n",
       "      <td>NaN</td>\n",
       "      <td>NaN</td>\n",
       "      <td>NaN</td>\n",
       "      <td>NaN</td>\n",
       "      <td>C</td>\n",
       "      <td>Santa Fe</td>\n",
       "      <td>NaN</td>\n",
       "    </tr>\n",
       "    <tr>\n",
       "      <th>freq</th>\n",
       "      <td>NaN</td>\n",
       "      <td>NaN</td>\n",
       "      <td>NaN</td>\n",
       "      <td>2</td>\n",
       "      <td>NaN</td>\n",
       "      <td>NaN</td>\n",
       "      <td>NaN</td>\n",
       "      <td>NaN</td>\n",
       "      <td>57</td>\n",
       "      <td>649</td>\n",
       "      <td>NaN</td>\n",
       "    </tr>\n",
       "    <tr>\n",
       "      <th>mean</th>\n",
       "      <td>450.500000</td>\n",
       "      <td>14305.827778</td>\n",
       "      <td>2.313333</td>\n",
       "      <td>NaN</td>\n",
       "      <td>1990.266943</td>\n",
       "      <td>0.380000</td>\n",
       "      <td>0.521111</td>\n",
       "      <td>895.743333</td>\n",
       "      <td>NaN</td>\n",
       "      <td>NaN</td>\n",
       "      <td>0.614444</td>\n",
       "    </tr>\n",
       "    <tr>\n",
       "      <th>std</th>\n",
       "      <td>259.951919</td>\n",
       "      <td>25418.153900</td>\n",
       "      <td>0.834223</td>\n",
       "      <td>NaN</td>\n",
       "      <td>14.523335</td>\n",
       "      <td>0.803247</td>\n",
       "      <td>1.098385</td>\n",
       "      <td>1385.829926</td>\n",
       "      <td>NaN</td>\n",
       "      <td>NaN</td>\n",
       "      <td>0.486997</td>\n",
       "    </tr>\n",
       "    <tr>\n",
       "      <th>min</th>\n",
       "      <td>1.000000</td>\n",
       "      <td>345.000000</td>\n",
       "      <td>1.000000</td>\n",
       "      <td>NaN</td>\n",
       "      <td>1940.000000</td>\n",
       "      <td>0.000000</td>\n",
       "      <td>0.000000</td>\n",
       "      <td>0.000000</td>\n",
       "      <td>NaN</td>\n",
       "      <td>NaN</td>\n",
       "      <td>0.000000</td>\n",
       "    </tr>\n",
       "    <tr>\n",
       "      <th>25%</th>\n",
       "      <td>225.750000</td>\n",
       "      <td>8203.000000</td>\n",
       "      <td>2.000000</td>\n",
       "      <td>NaN</td>\n",
       "      <td>1982.000000</td>\n",
       "      <td>0.000000</td>\n",
       "      <td>0.000000</td>\n",
       "      <td>221.000000</td>\n",
       "      <td>NaN</td>\n",
       "      <td>NaN</td>\n",
       "      <td>0.000000</td>\n",
       "    </tr>\n",
       "    <tr>\n",
       "      <th>50%</th>\n",
       "      <td>450.500000</td>\n",
       "      <td>13593.500000</td>\n",
       "      <td>3.000000</td>\n",
       "      <td>NaN</td>\n",
       "      <td>1992.000000</td>\n",
       "      <td>0.000000</td>\n",
       "      <td>0.000000</td>\n",
       "      <td>405.000000</td>\n",
       "      <td>NaN</td>\n",
       "      <td>NaN</td>\n",
       "      <td>1.000000</td>\n",
       "    </tr>\n",
       "    <tr>\n",
       "      <th>75%</th>\n",
       "      <td>675.250000</td>\n",
       "      <td>18906.500000</td>\n",
       "      <td>3.000000</td>\n",
       "      <td>NaN</td>\n",
       "      <td>1999.500000</td>\n",
       "      <td>0.000000</td>\n",
       "      <td>1.000000</td>\n",
       "      <td>861.250000</td>\n",
       "      <td>NaN</td>\n",
       "      <td>NaN</td>\n",
       "      <td>1.000000</td>\n",
       "    </tr>\n",
       "    <tr>\n",
       "      <th>max</th>\n",
       "      <td>900.000000</td>\n",
       "      <td>742836.000000</td>\n",
       "      <td>3.000000</td>\n",
       "      <td>NaN</td>\n",
       "      <td>2019.000000</td>\n",
       "      <td>6.000000</td>\n",
       "      <td>8.000000</td>\n",
       "      <td>14345.000000</td>\n",
       "      <td>NaN</td>\n",
       "      <td>NaN</td>\n",
       "      <td>1.000000</td>\n",
       "    </tr>\n",
       "  </tbody>\n",
       "</table>\n",
       "</div>"
      ],
      "text/plain": [
       "        Patient_ID  Family_Case_ID    Severity                Name  \\\n",
       "count   900.000000      900.000000  900.000000                 900   \n",
       "unique         NaN             NaN         NaN                 899   \n",
       "top            NaN             NaN         NaN  Mr. Samuel Darnell   \n",
       "freq           NaN             NaN         NaN                   2   \n",
       "mean    450.500000    14305.827778    2.313333                 NaN   \n",
       "std     259.951919    25418.153900    0.834223                 NaN   \n",
       "min       1.000000      345.000000    1.000000                 NaN   \n",
       "25%     225.750000     8203.000000    2.000000                 NaN   \n",
       "50%     450.500000    13593.500000    3.000000                 NaN   \n",
       "75%     675.250000    18906.500000    3.000000                 NaN   \n",
       "max     900.000000   742836.000000    3.000000                 NaN   \n",
       "\n",
       "        Birthday_year  Parents or siblings infected  \\\n",
       "count      723.000000                    900.000000   \n",
       "unique            NaN                           NaN   \n",
       "top               NaN                           NaN   \n",
       "freq              NaN                           NaN   \n",
       "mean      1990.266943                      0.380000   \n",
       "std         14.523335                      0.803247   \n",
       "min       1940.000000                      0.000000   \n",
       "25%       1982.000000                      0.000000   \n",
       "50%       1992.000000                      0.000000   \n",
       "75%       1999.500000                      0.000000   \n",
       "max       2019.000000                      6.000000   \n",
       "\n",
       "        Wife/Husband or children infected  Medical_Expenses_Family  \\\n",
       "count                          900.000000               900.000000   \n",
       "unique                                NaN                      NaN   \n",
       "top                                   NaN                      NaN   \n",
       "freq                                  NaN                      NaN   \n",
       "mean                             0.521111               895.743333   \n",
       "std                              1.098385              1385.829926   \n",
       "min                              0.000000                 0.000000   \n",
       "25%                              0.000000               221.000000   \n",
       "50%                              0.000000               405.000000   \n",
       "75%                              1.000000               861.250000   \n",
       "max                              8.000000             14345.000000   \n",
       "\n",
       "       Medical_Tent      City    Deceased  \n",
       "count           198       898  900.000000  \n",
       "unique            8         3         NaN  \n",
       "top               C  Santa Fe         NaN  \n",
       "freq             57       649         NaN  \n",
       "mean            NaN       NaN    0.614444  \n",
       "std             NaN       NaN    0.486997  \n",
       "min             NaN       NaN    0.000000  \n",
       "25%             NaN       NaN    0.000000  \n",
       "50%             NaN       NaN    1.000000  \n",
       "75%             NaN       NaN    1.000000  \n",
       "max             NaN       NaN    1.000000  "
      ]
     },
     "execution_count": 7,
     "metadata": {},
     "output_type": "execute_result"
    }
   ],
   "source": [
    "Pandemic = pd.read_csv(\"train.csv\")\n",
    "Pandemic.describe(include='all')"
   ]
  },
  {
   "cell_type": "code",
   "execution_count": 8,
   "metadata": {},
   "outputs": [
    {
     "name": "stdout",
     "output_type": "stream",
     "text": [
      "Patient_ID                             0\n",
      "Family_Case_ID                         0\n",
      "Severity                               0\n",
      "Name                                   0\n",
      "Birthday_year                        177\n",
      "Parents or siblings infected           0\n",
      "Wife/Husband or children infected      0\n",
      "Medical_Expenses_Family                0\n",
      "Medical_Tent                         702\n",
      "City                                   2\n",
      "Deceased                               0\n",
      "dtype: int64\n"
     ]
    }
   ],
   "source": [
    "# Check missing values\n",
    "print(Pandemic.isnull().sum())"
   ]
  },
  {
   "cell_type": "markdown",
   "metadata": {},
   "source": [
    "**Initial considerations:**\n",
    "\n",
    "We have 900 patients records\n",
    "* one patient name repeats once but looking at the patients info we conclude these are two different people with same names\n",
    "* Families can be tracked by Family_case_ID\n",
    "* Birthday Year not available for everyone - fill in with KNNFiller? Also easier to work with age so will create a column \"Age\"(as of January 1st, 2020 when epidemic started)\n",
    "* City has two missing values - fill in with KNNImputer?\n",
    "* Medical tent can be unknown? (are there patients without tent or its data collection error?) so we cannot realy extrapolate these values and there are too many patients without Tent (almost 80%)\n",
    "* Medical tent has many categories (8). This can indicate an issue with distribution. Can convert to binary (Tent - Yes-No).\n",
    "* target value (deceased or not) is evenly distributed\n",
    "\n"
   ]
  },
  {
   "cell_type": "code",
   "execution_count": null,
   "metadata": {},
   "outputs": [],
   "source": [
    "# Exploration of categorical variables: cross table of Tents and city and severity of infection\n",
    "table1 = pd.crosstab(index=Pandemic['City'], columns=Pandemic['Severity'])\n",
    "table1"
   ]
  },
  {
   "cell_type": "code",
   "execution_count": null,
   "metadata": {},
   "outputs": [],
   "source": [
    "# Visual exploration of the cross table\n",
    "table1.plot(kind=\"bar\", \n",
    "                 figsize=(6,6),\n",
    "                 stacked=False)"
   ]
  },
  {
   "cell_type": "code",
   "execution_count": null,
   "metadata": {},
   "outputs": [],
   "source": [
    "table1 = pd.crosstab(index=Pandemic['Medical_Tent'], columns=Pandemic['Severity'])\n",
    "table1"
   ]
  },
  {
   "cell_type": "code",
   "execution_count": null,
   "metadata": {},
   "outputs": [],
   "source": [
    "# Visual exploration of the cross table\n",
    "table1.plot(kind=\"bar\", \n",
    "                 figsize=(6,6),\n",
    "                 stacked=True)"
   ]
  },
  {
   "cell_type": "code",
   "execution_count": 9,
   "metadata": {},
   "outputs": [
    {
     "data": {
      "image/png": "[encoded data removed]",
      "text/plain": [
       "<Figure size 1080x1080 with 12 Axes>"
      ]
     },
     "metadata": {
      "needs_background": "light"
     },
     "output_type": "display_data"
    }
   ],
   "source": [
    "# Do histograms on all numeric variables\n",
    "numerical=Pandemic.select_dtypes(include=[np.number]).columns.tolist()\n",
    "Pandemic[numerical].hist(bins=15, figsize=(15, 15), layout=(4, 3), xlabelsize=8, ylabelsize=8);"
   ]
  },
  {
   "cell_type": "markdown",
   "metadata": {},
   "source": [
    "Age has somewhat normal distribution, but Medical expenses need to be transformed. Also Infected family needs to be looked at."
   ]
  },
  {
   "cell_type": "code",
   "execution_count": null,
   "metadata": {},
   "outputs": [],
   "source": [
    "# Boxplots on all numeric variables\n",
    "plt_box(Pandemic[numerical])"
   ]
  },
  {
   "cell_type": "markdown",
   "metadata": {},
   "source": [
    "### Exploration of variables in relation to target"
   ]
  },
  {
   "cell_type": "code",
   "execution_count": null,
   "metadata": {},
   "outputs": [],
   "source": [
    "#average metrics for Deceased and Survivors to get initial insights\n",
    "Pandemic.groupby('Deceased').mean()"
   ]
  },
  {
   "cell_type": "code",
   "execution_count": null,
   "metadata": {},
   "outputs": [],
   "source": [
    "#Exploring categorical features\n",
    "piv1=pd.pivot_table(Pandemic, values='Patient_ID', index=['City'], columns=['Deceased'],aggfunc='count')\n",
    "piv2=pd.pivot_table(Pandemic, values='Patient_ID', index=['Severity'], columns=['Deceased'],aggfunc='count')\n",
    "piv3=pd.pivot_table(Pandemic, values='Patient_ID', index=['Medical_Tent'], columns=['Deceased'],aggfunc='count')\n",
    "\n",
    "display_side_by_side(piv1,piv2,piv3)\n"
   ]
  },
  {
   "cell_type": "code",
   "execution_count": null,
   "metadata": {},
   "outputs": [],
   "source": [
    "piv1.plot(kind=\"bar\", \n",
    "                 figsize=(6,6),\n",
    "                 stacked=True)"
   ]
  },
  {
   "cell_type": "code",
   "execution_count": null,
   "metadata": {},
   "outputs": [],
   "source": [
    "piv2.plot(kind=\"bar\", \n",
    "                 figsize=(6,6),\n",
    "                 stacked=True)"
   ]
  },
  {
   "cell_type": "code",
   "execution_count": null,
   "metadata": {},
   "outputs": [],
   "source": [
    "corr_df = Pandemic.corr('spearman')\n",
    "cor_heatmap(corr_df)"
   ]
  },
  {
   "cell_type": "code",
   "execution_count": null,
   "metadata": {},
   "outputs": [],
   "source": [
    "abs(corr_df['Deceased']).sort_values(ascending=False)"
   ]
  },
  {
   "cell_type": "markdown",
   "metadata": {},
   "source": [
    "**Some conclusions relating to target variable and input features**\n",
    "\n",
    "* Family infected - younger patients die less, lower average in \"Parents or siblings infected\" can be explained by this. Also the two variables for infected in family seem to relay similar info so potentially can be merged into one feature \"Family members infected\" which reflects sum of the two columns\n",
    "* Discard of \"Medical_Tent\" as almost 80% records do not have it or replace nulls with 9th category \"No Tent\"\n",
    "* Create age variable\n",
    "* Santa Fe has worst situation for severity of disease and number of infected, Albuquerque is next in number of infected but still has more people with lighter form of illness than the severe\n",
    "* Survivors have spent more on medical expenses\n",
    "* Severity, Medical expenses and Birthday Year are highly correlated.\n",
    "* Partners/kids and parents/siblings are correlated\n",
    "\n",
    " **Severity, Medical expenses and infected family are most important features for the outcome of the illness**\n"
   ]
  },
  {
   "cell_type": "markdown",
   "metadata": {},
   "source": [
    "## Pre-Processing"
   ]
  },
  {
   "cell_type": "code",
   "execution_count": null,
   "metadata": {
    "scrolled": true
   },
   "outputs": [],
   "source": [
    "print(Pandemic.isnull().sum())"
   ]
  },
  {
   "cell_type": "code",
   "execution_count": null,
   "metadata": {},
   "outputs": [],
   "source": [
    "Pandemic"
   ]
  },
  {
   "cell_type": "code",
   "execution_count": 10,
   "metadata": {},
   "outputs": [],
   "source": [
    "#dropping missing city\n",
    "Pandemic.dropna(subset=['City'],axis=0,inplace=True)"
   ]
  },
  {
   "cell_type": "code",
   "execution_count": 11,
   "metadata": {},
   "outputs": [],
   "source": [
    "#filling the missing Medical tent with \"None\"\n",
    "Pandemic['Medical_Tent'].fillna('None',inplace=True)"
   ]
  },
  {
   "cell_type": "code",
   "execution_count": null,
   "metadata": {},
   "outputs": [],
   "source": [
    "Pandemic"
   ]
  },
  {
   "cell_type": "markdown",
   "metadata": {},
   "source": [
    "#### KNN Imputer for Birthday Year"
   ]
  },
  {
   "cell_type": "code",
   "execution_count": 12,
   "metadata": {},
   "outputs": [],
   "source": [
    "imputer = KNNImputer(n_neighbors=3)\n"
   ]
  },
  {
   "cell_type": "code",
   "execution_count": 13,
   "metadata": {},
   "outputs": [
    {
     "data": {
      "text/plain": [
       "KNNImputer(add_indicator=False, copy=True, metric='nan_euclidean',\n",
       "           missing_values=nan, n_neighbors=3, weights='uniform')"
      ]
     },
     "execution_count": 13,
     "metadata": {},
     "output_type": "execute_result"
    }
   ],
   "source": [
    "imputer.fit(Pandemic[['Birthday_year']])"
   ]
  },
  {
   "cell_type": "code",
   "execution_count": 14,
   "metadata": {},
   "outputs": [],
   "source": [
    "Birthday_imputed = imputer.transform(Pandemic[['Birthday_year']])"
   ]
  },
  {
   "cell_type": "code",
   "execution_count": 15,
   "metadata": {},
   "outputs": [],
   "source": [
    "Birthday_imputed = pd.DataFrame(Birthday_imputed, columns = Pandemic[['Birthday_year']].columns, index = Pandemic.index)"
   ]
  },
  {
   "cell_type": "code",
   "execution_count": 16,
   "metadata": {
    "scrolled": true
   },
   "outputs": [
    {
     "data": {
      "text/html": [
       "<div>\n",
       "<style scoped>\n",
       "    .dataframe tbody tr th:only-of-type {\n",
       "        vertical-align: middle;\n",
       "    }\n",
       "\n",
       "    .dataframe tbody tr th {\n",
       "        vertical-align: top;\n",
       "    }\n",
       "\n",
       "    .dataframe thead th {\n",
       "        text-align: right;\n",
       "    }\n",
       "</style>\n",
       "<table border=\"1\" class=\"dataframe\">\n",
       "  <thead>\n",
       "    <tr style=\"text-align: right;\">\n",
       "      <th></th>\n",
       "      <th>Birthday_year</th>\n",
       "    </tr>\n",
       "  </thead>\n",
       "  <tbody>\n",
       "    <tr>\n",
       "      <th>0</th>\n",
       "      <td>1990</td>\n",
       "    </tr>\n",
       "    <tr>\n",
       "      <th>1</th>\n",
       "      <td>1966</td>\n",
       "    </tr>\n",
       "    <tr>\n",
       "      <th>2</th>\n",
       "      <td>1982</td>\n",
       "    </tr>\n",
       "    <tr>\n",
       "      <th>3</th>\n",
       "      <td>1997</td>\n",
       "    </tr>\n",
       "    <tr>\n",
       "      <th>4</th>\n",
       "      <td>1994</td>\n",
       "    </tr>\n",
       "    <tr>\n",
       "      <th>...</th>\n",
       "      <td>...</td>\n",
       "    </tr>\n",
       "    <tr>\n",
       "      <th>895</th>\n",
       "      <td>1998</td>\n",
       "    </tr>\n",
       "    <tr>\n",
       "      <th>896</th>\n",
       "      <td>2006</td>\n",
       "    </tr>\n",
       "    <tr>\n",
       "      <th>897</th>\n",
       "      <td>1990</td>\n",
       "    </tr>\n",
       "    <tr>\n",
       "      <th>898</th>\n",
       "      <td>1994</td>\n",
       "    </tr>\n",
       "    <tr>\n",
       "      <th>899</th>\n",
       "      <td>2002</td>\n",
       "    </tr>\n",
       "  </tbody>\n",
       "</table>\n",
       "<p>898 rows × 1 columns</p>\n",
       "</div>"
      ],
      "text/plain": [
       "     Birthday_year\n",
       "0             1990\n",
       "1             1966\n",
       "2             1982\n",
       "3             1997\n",
       "4             1994\n",
       "..             ...\n",
       "895           1998\n",
       "896           2006\n",
       "897           1990\n",
       "898           1994\n",
       "899           2002\n",
       "\n",
       "[898 rows x 1 columns]"
      ]
     },
     "execution_count": 16,
     "metadata": {},
     "output_type": "execute_result"
    }
   ],
   "source": [
    "Birthday_imputed = Birthday_imputed.astype(int)\n",
    "Birthday_imputed"
   ]
  },
  {
   "cell_type": "code",
   "execution_count": 17,
   "metadata": {},
   "outputs": [
    {
     "data": {
      "text/html": [
       "<div>\n",
       "<style scoped>\n",
       "    .dataframe tbody tr th:only-of-type {\n",
       "        vertical-align: middle;\n",
       "    }\n",
       "\n",
       "    .dataframe tbody tr th {\n",
       "        vertical-align: top;\n",
       "    }\n",
       "\n",
       "    .dataframe thead th {\n",
       "        text-align: right;\n",
       "    }\n",
       "</style>\n",
       "<table border=\"1\" class=\"dataframe\">\n",
       "  <thead>\n",
       "    <tr style=\"text-align: right;\">\n",
       "      <th></th>\n",
       "      <th>Patient_ID</th>\n",
       "      <th>Family_Case_ID</th>\n",
       "      <th>Severity</th>\n",
       "      <th>Name</th>\n",
       "      <th>Birthday_year</th>\n",
       "      <th>Parents or siblings infected</th>\n",
       "      <th>Wife/Husband or children infected</th>\n",
       "      <th>Medical_Expenses_Family</th>\n",
       "      <th>Medical_Tent</th>\n",
       "      <th>City</th>\n",
       "      <th>Deceased</th>\n",
       "    </tr>\n",
       "  </thead>\n",
       "  <tbody>\n",
       "    <tr>\n",
       "      <th>0</th>\n",
       "      <td>1</td>\n",
       "      <td>4696</td>\n",
       "      <td>3</td>\n",
       "      <td>Miss Linda Betty</td>\n",
       "      <td>1990</td>\n",
       "      <td>0</td>\n",
       "      <td>0</td>\n",
       "      <td>225</td>\n",
       "      <td>None</td>\n",
       "      <td>Santa Fe</td>\n",
       "      <td>1</td>\n",
       "    </tr>\n",
       "    <tr>\n",
       "      <th>1</th>\n",
       "      <td>2</td>\n",
       "      <td>21436</td>\n",
       "      <td>1</td>\n",
       "      <td>Ms. Ramona Elvira</td>\n",
       "      <td>1966</td>\n",
       "      <td>0</td>\n",
       "      <td>1</td>\n",
       "      <td>1663</td>\n",
       "      <td>None</td>\n",
       "      <td>Albuquerque</td>\n",
       "      <td>0</td>\n",
       "    </tr>\n",
       "    <tr>\n",
       "      <th>2</th>\n",
       "      <td>3</td>\n",
       "      <td>7273</td>\n",
       "      <td>3</td>\n",
       "      <td>Mr. Mario Vernon</td>\n",
       "      <td>1982</td>\n",
       "      <td>0</td>\n",
       "      <td>0</td>\n",
       "      <td>221</td>\n",
       "      <td>None</td>\n",
       "      <td>Santa Fe</td>\n",
       "      <td>1</td>\n",
       "    </tr>\n",
       "    <tr>\n",
       "      <th>3</th>\n",
       "      <td>4</td>\n",
       "      <td>8226</td>\n",
       "      <td>3</td>\n",
       "      <td>Mr. Hector Joe</td>\n",
       "      <td>1997</td>\n",
       "      <td>0</td>\n",
       "      <td>0</td>\n",
       "      <td>220</td>\n",
       "      <td>None</td>\n",
       "      <td>Santa Fe</td>\n",
       "      <td>1</td>\n",
       "    </tr>\n",
       "    <tr>\n",
       "      <th>4</th>\n",
       "      <td>5</td>\n",
       "      <td>19689</td>\n",
       "      <td>3</td>\n",
       "      <td>Ms. Jennie Debra</td>\n",
       "      <td>1994</td>\n",
       "      <td>0</td>\n",
       "      <td>0</td>\n",
       "      <td>222</td>\n",
       "      <td>None</td>\n",
       "      <td>Santa Fe</td>\n",
       "      <td>0</td>\n",
       "    </tr>\n",
       "    <tr>\n",
       "      <th>...</th>\n",
       "      <td>...</td>\n",
       "      <td>...</td>\n",
       "      <td>...</td>\n",
       "      <td>...</td>\n",
       "      <td>...</td>\n",
       "      <td>...</td>\n",
       "      <td>...</td>\n",
       "      <td>...</td>\n",
       "      <td>...</td>\n",
       "      <td>...</td>\n",
       "      <td>...</td>\n",
       "    </tr>\n",
       "    <tr>\n",
       "      <th>895</th>\n",
       "      <td>896</td>\n",
       "      <td>6253</td>\n",
       "      <td>3</td>\n",
       "      <td>Ms. Linda Wilcox</td>\n",
       "      <td>1998</td>\n",
       "      <td>1</td>\n",
       "      <td>1</td>\n",
       "      <td>344</td>\n",
       "      <td>None</td>\n",
       "      <td>Santa Fe</td>\n",
       "      <td>0</td>\n",
       "    </tr>\n",
       "    <tr>\n",
       "      <th>896</th>\n",
       "      <td>897</td>\n",
       "      <td>6483</td>\n",
       "      <td>3</td>\n",
       "      <td>Mr. Haiden Vance</td>\n",
       "      <td>2006</td>\n",
       "      <td>0</td>\n",
       "      <td>0</td>\n",
       "      <td>258</td>\n",
       "      <td>None</td>\n",
       "      <td>Santa Fe</td>\n",
       "      <td>0</td>\n",
       "    </tr>\n",
       "    <tr>\n",
       "      <th>897</th>\n",
       "      <td>898</td>\n",
       "      <td>981</td>\n",
       "      <td>3</td>\n",
       "      <td>Miss Anaiya Love</td>\n",
       "      <td>1990</td>\n",
       "      <td>0</td>\n",
       "      <td>0</td>\n",
       "      <td>214</td>\n",
       "      <td>None</td>\n",
       "      <td>Taos</td>\n",
       "      <td>1</td>\n",
       "    </tr>\n",
       "    <tr>\n",
       "      <th>898</th>\n",
       "      <td>899</td>\n",
       "      <td>16418</td>\n",
       "      <td>2</td>\n",
       "      <td>Mr. Robert Williams</td>\n",
       "      <td>1994</td>\n",
       "      <td>1</td>\n",
       "      <td>1</td>\n",
       "      <td>812</td>\n",
       "      <td>None</td>\n",
       "      <td>Santa Fe</td>\n",
       "      <td>0</td>\n",
       "    </tr>\n",
       "    <tr>\n",
       "      <th>899</th>\n",
       "      <td>900</td>\n",
       "      <td>3782</td>\n",
       "      <td>3</td>\n",
       "      <td>Ms. Marjorie Hays</td>\n",
       "      <td>2002</td>\n",
       "      <td>0</td>\n",
       "      <td>0</td>\n",
       "      <td>202</td>\n",
       "      <td>C</td>\n",
       "      <td>Albuquerque</td>\n",
       "      <td>0</td>\n",
       "    </tr>\n",
       "  </tbody>\n",
       "</table>\n",
       "<p>898 rows × 11 columns</p>\n",
       "</div>"
      ],
      "text/plain": [
       "     Patient_ID  Family_Case_ID  Severity                 Name  Birthday_year  \\\n",
       "0             1            4696         3     Miss Linda Betty           1990   \n",
       "1             2           21436         1    Ms. Ramona Elvira           1966   \n",
       "2             3            7273         3     Mr. Mario Vernon           1982   \n",
       "3             4            8226         3       Mr. Hector Joe           1997   \n",
       "4             5           19689         3     Ms. Jennie Debra           1994   \n",
       "..          ...             ...       ...                  ...            ...   \n",
       "895         896            6253         3     Ms. Linda Wilcox           1998   \n",
       "896         897            6483         3     Mr. Haiden Vance           2006   \n",
       "897         898             981         3     Miss Anaiya Love           1990   \n",
       "898         899           16418         2  Mr. Robert Williams           1994   \n",
       "899         900            3782         3    Ms. Marjorie Hays           2002   \n",
       "\n",
       "     Parents or siblings infected  Wife/Husband or children infected  \\\n",
       "0                               0                                  0   \n",
       "1                               0                                  1   \n",
       "2                               0                                  0   \n",
       "3                               0                                  0   \n",
       "4                               0                                  0   \n",
       "..                            ...                                ...   \n",
       "895                             1                                  1   \n",
       "896                             0                                  0   \n",
       "897                             0                                  0   \n",
       "898                             1                                  1   \n",
       "899                             0                                  0   \n",
       "\n",
       "     Medical_Expenses_Family Medical_Tent         City  Deceased  \n",
       "0                        225         None     Santa Fe         1  \n",
       "1                       1663         None  Albuquerque         0  \n",
       "2                        221         None     Santa Fe         1  \n",
       "3                        220         None     Santa Fe         1  \n",
       "4                        222         None     Santa Fe         0  \n",
       "..                       ...          ...          ...       ...  \n",
       "895                      344         None     Santa Fe         0  \n",
       "896                      258         None     Santa Fe         0  \n",
       "897                      214         None         Taos         1  \n",
       "898                      812         None     Santa Fe         0  \n",
       "899                      202            C  Albuquerque         0  \n",
       "\n",
       "[898 rows x 11 columns]"
      ]
     },
     "execution_count": 17,
     "metadata": {},
     "output_type": "execute_result"
    }
   ],
   "source": [
    "Pandemic = Pandemic.assign(Birthday_year=Birthday_imputed['Birthday_year'])\n",
    "Pandemic"
   ]
  },
  {
   "cell_type": "markdown",
   "metadata": {},
   "source": [
    "Check missing values in dataset"
   ]
  },
  {
   "cell_type": "code",
   "execution_count": 18,
   "metadata": {},
   "outputs": [
    {
     "name": "stdout",
     "output_type": "stream",
     "text": [
      "Patient_ID                           0\n",
      "Family_Case_ID                       0\n",
      "Severity                             0\n",
      "Name                                 0\n",
      "Birthday_year                        0\n",
      "Parents or siblings infected         0\n",
      "Wife/Husband or children infected    0\n",
      "Medical_Expenses_Family              0\n",
      "Medical_Tent                         0\n",
      "City                                 0\n",
      "Deceased                             0\n",
      "dtype: int64\n"
     ]
    }
   ],
   "source": [
    "print(Pandemic.isnull().sum())\n",
    "\n",
    "#create new variables age and Family infected \n",
    "Pandemic['Age']=2020-Pandemic['Birthday_year']\n",
    "Pandemic.drop(['Birthday_year'],axis=1,inplace=True)\n",
    "\n",
    "#create new variable Family_infected\n",
    "#Pandemic['Family_infected']=Pandemic['Parents or siblings infected']+Pandemic['Wife/Husband or children infected']\n",
    "#Pandemic.drop(['Parents or siblings infected','Wife/Husband or children infected'],axis=1,inplace=True)\n"
   ]
  },
  {
   "cell_type": "code",
   "execution_count": 19,
   "metadata": {},
   "outputs": [],
   "source": [
    "#drop name column\n",
    "Pandemic.drop(['Name',\"Patient_ID\",\"Family_Case_ID\"],axis=1,inplace=True)"
   ]
  },
  {
   "cell_type": "markdown",
   "metadata": {},
   "source": [
    "#### Encoding categorical"
   ]
  },
  {
   "cell_type": "code",
   "execution_count": 20,
   "metadata": {},
   "outputs": [],
   "source": [
    "# Encode categorical variables to dummy variables\n",
    "import category_encoders as ce\n",
    "encode = ['City', 'Medical_Tent']\n",
    "ce_one_hot = ce.OneHotEncoder(cols = encode, use_cat_names=True)\n",
    "encoded = ce_one_hot.fit_transform(Pandemic[encode])\n",
    "\n",
    "complete = pd.concat([Pandemic, encoded], axis=1)\n",
    "complete.drop(encode,axis=1,inplace=True)"
   ]
  },
  {
   "cell_type": "code",
   "execution_count": 21,
   "metadata": {
    "scrolled": true
   },
   "outputs": [
    {
     "data": {
      "image/png": "[encoded data removed]",
      "text/plain": [
       "<Figure size 1440x1440 with 2 Axes>"
      ]
     },
     "metadata": {
      "needs_background": "light"
     },
     "output_type": "display_data"
    }
   ],
   "source": [
    "cor_heatmap(complete.corr('spearman'))"
   ]
  },
  {
   "cell_type": "code",
   "execution_count": 22,
   "metadata": {},
   "outputs": [],
   "source": [
    "# drop high correlated variables where it makes sense\n",
    "complete.drop('City_Albuquerque', axis=1, inplace=True)"
   ]
  },
  {
   "cell_type": "code",
   "execution_count": 23,
   "metadata": {},
   "outputs": [
    {
     "data": {
      "text/plain": [
       "Deceased                             1.000000\n",
       "Severity                             0.330357\n",
       "Medical_Tent_None                    0.297630\n",
       "Medical_Expenses_Family              0.252494\n",
       "Medical_Tent_B                       0.160105\n",
       "City_Santa Fe                        0.144925\n",
       "Medical_Tent_D                       0.139076\n",
       "Medical_Tent_E                       0.139076\n",
       "Medical_Tent_C                       0.113632\n",
       "Parents or siblings infected         0.084364\n",
       "Age                                  0.079661\n",
       "Medical_Tent_F                       0.057609\n",
       "Wife/Husband or children infected    0.031639\n",
       "Medical_Tent_T                       0.026372\n",
       "Medical_Tent_A                       0.022101\n",
       "Medical_Tent_G                       0.015927\n",
       "City_Taos                            0.005907\n",
       "Name: Deceased, dtype: float64"
      ]
     },
     "execution_count": 23,
     "metadata": {},
     "output_type": "execute_result"
    }
   ],
   "source": [
    "abs(complete.corr()['Deceased']).sort_values(ascending=False)"
   ]
  },
  {
   "cell_type": "code",
   "execution_count": 24,
   "metadata": {},
   "outputs": [],
   "source": [
    "#Split into data and target: X contains independent variables (before scaling) and y contains target\n",
    "X = complete.drop(['Deceased'], axis=1)\n",
    "y = complete['Deceased']"
   ]
  },
  {
   "cell_type": "markdown",
   "metadata": {},
   "source": [
    "## Feature engineering"
   ]
  },
  {
   "cell_type": "code",
   "execution_count": 25,
   "metadata": {},
   "outputs": [],
   "source": [
    "X[\"Medical_Expenses_Family_log\"] = X.Medical_Expenses_Family.apply(lambda x: np.log(x+1))"
   ]
  },
  {
   "cell_type": "markdown",
   "metadata": {},
   "source": [
    "#### Bin Age"
   ]
  },
  {
   "cell_type": "code",
   "execution_count": 26,
   "metadata": {},
   "outputs": [],
   "source": [
    "X['Age_label'] = pd.cut(x = X['Age'], bins = [0, 17, 29, 45, 59, 80, 110], labels = [0, 1, 2, 3, 4, 5])\n",
    "#X['Age_label'] = pd.cut(x = X['Age'], bins = [0, 17, 29, 45, 59, 80, 110], labels = [0, 1, 2, 3, 4, 5])"
   ]
  },
  {
   "cell_type": "code",
   "execution_count": 27,
   "metadata": {},
   "outputs": [],
   "source": [
    "X['Age_label'] = X['Age_label'].astype('int')\n",
    "#X['Age_label'] = X['Age_label'].astype('int')"
   ]
  },
  {
   "cell_type": "code",
   "execution_count": 28,
   "metadata": {
    "scrolled": true
   },
   "outputs": [],
   "source": [
    "X_temp = X.copy()"
   ]
  },
  {
   "cell_type": "markdown",
   "metadata": {},
   "source": [
    "# Feature selection"
   ]
  },
  {
   "cell_type": "code",
   "execution_count": 29,
   "metadata": {},
   "outputs": [],
   "source": [
    "scaler = StandardScaler().fit(X_temp)\n",
    "X = pd.DataFrame(scaler.transform(X_temp),columns=X_temp.columns)"
   ]
  },
  {
   "cell_type": "markdown",
   "metadata": {},
   "source": [
    "### RFE"
   ]
  },
  {
   "cell_type": "code",
   "execution_count": 30,
   "metadata": {},
   "outputs": [
    {
     "data": {
      "text/plain": [
       "LogisticRegression(C=1.0, class_weight=None, dual=False, fit_intercept=True,\n",
       "                   intercept_scaling=1, l1_ratio=None, max_iter=100,\n",
       "                   multi_class='auto', n_jobs=None, penalty='l2',\n",
       "                   random_state=None, solver='lbfgs', tol=0.0001, verbose=0,\n",
       "                   warm_start=False)"
      ]
     },
     "execution_count": 30,
     "metadata": {},
     "output_type": "execute_result"
    }
   ],
   "source": [
    "model = LogisticRegression()\n",
    "rfe = RFE(estimator = model)\n",
    "X_rfe = rfe.fit_transform(X = X_temp, y = y)\n",
    "model.fit(X=X_rfe, y = y)"
   ]
  },
  {
   "cell_type": "code",
   "execution_count": 31,
   "metadata": {},
   "outputs": [
    {
     "data": {
      "text/plain": [
       "array([ 1,  6,  5, 10,  9,  1,  3,  1,  1,  8,  1,  1,  1,  2,  7,  1,  4,\n",
       "        1])"
      ]
     },
     "execution_count": 31,
     "metadata": {},
     "output_type": "execute_result"
    }
   ],
   "source": [
    "rfe.ranking_"
   ]
  },
  {
   "cell_type": "code",
   "execution_count": 32,
   "metadata": {},
   "outputs": [
    {
     "data": {
      "text/plain": [
       "Severity                              True\n",
       "Parents or siblings infected         False\n",
       "Wife/Husband or children infected    False\n",
       "Medical_Expenses_Family              False\n",
       "Age                                  False\n",
       "City_Santa Fe                         True\n",
       "City_Taos                            False\n",
       "Medical_Tent_None                     True\n",
       "Medical_Tent_F                        True\n",
       "Medical_Tent_B                       False\n",
       "Medical_Tent_A                        True\n",
       "Medical_Tent_E                        True\n",
       "Medical_Tent_C                        True\n",
       "Medical_Tent_D                       False\n",
       "Medical_Tent_G                       False\n",
       "Medical_Tent_T                        True\n",
       "Medical_Expenses_Family_log          False\n",
       "Age_label                             True\n",
       "dtype: bool"
      ]
     },
     "execution_count": 32,
     "metadata": {},
     "output_type": "execute_result"
    }
   ],
   "source": [
    "selected_features = pd.Series(rfe.support_, index = X_temp.columns)\n",
    "rfe_features = selected_features.index.tolist()\n",
    "selected_features"
   ]
  },
  {
   "cell_type": "markdown",
   "metadata": {},
   "source": [
    "## Lasso Regression"
   ]
  },
  {
   "cell_type": "code",
   "execution_count": 35,
   "metadata": {},
   "outputs": [
    {
     "name": "stdout",
     "output_type": "stream",
     "text": [
      "Best alpha: 0.005642\n"
     ]
    }
   ],
   "source": [
    "reg = LassoCV()\n",
    "reg.fit(X=X, y=y)\n",
    "print(\"Best alpha: %f\" % reg.alpha_)"
   ]
  },
  {
   "cell_type": "code",
   "execution_count": 36,
   "metadata": {},
   "outputs": [
    {
     "data": {
      "text/plain": [
       "Medical_Expenses_Family_log         -0.068226\n",
       "Medical_Tent_E                      -0.038181\n",
       "Medical_Tent_D                      -0.026935\n",
       "Parents or siblings infected        -0.020021\n",
       "Medical_Tent_F                      -0.018631\n",
       "Medical_Tent_B                      -0.014141\n",
       "City_Taos                           -0.012934\n",
       "Medical_Tent_G                      -0.003231\n",
       "Medical_Expenses_Family             -0.000000\n",
       "Medical_Tent_C                       0.000000\n",
       "Medical_Tent_A                       0.002579\n",
       "Medical_Tent_None                    0.005981\n",
       "Medical_Tent_T                       0.010976\n",
       "Age_label                            0.019964\n",
       "City_Santa Fe                        0.040421\n",
       "Wife/Husband or children infected    0.043661\n",
       "Age                                  0.074279\n",
       "Severity                             0.121951\n",
       "dtype: float64"
      ]
     },
     "execution_count": 36,
     "metadata": {},
     "output_type": "execute_result"
    }
   ],
   "source": [
    "coef = pd.Series(reg.coef_, index=X_temp.columns)\n",
    "lasso_features = coef[coef != 0].index.tolist()\n",
    "coef.sort_values()"
   ]
  },
  {
   "cell_type": "code",
   "execution_count": 37,
   "metadata": {},
   "outputs": [
    {
     "data": {
      "image/png": "[encoded data removed]",
      "text/plain": [
       "<Figure size 576x720 with 1 Axes>"
      ]
     },
     "metadata": {
      "needs_background": "light"
     },
     "output_type": "display_data"
    }
   ],
   "source": [
    "coef=coef.sort_values()\n",
    "plt.figure(figsize=(8,10))\n",
    "coef.plot(kind = \"barh\")\n",
    "plt.title(\"Feature importance Lasso Regression\")\n",
    "plt.show()"
   ]
  },
  {
   "cell_type": "markdown",
   "metadata": {},
   "source": [
    "## Ridge Regression"
   ]
  },
  {
   "cell_type": "code",
   "execution_count": 38,
   "metadata": {},
   "outputs": [
    {
     "data": {
      "text/plain": [
       "Severity                             0.151285\n",
       "Parents or siblings infected        -0.033749\n",
       "Wife/Husband or children infected    0.049688\n",
       "Medical_Expenses_Family              0.000002\n",
       "Age                                  0.006595\n",
       "City_Santa Fe                        0.089679\n",
       "City_Taos                           -0.063234\n",
       "Medical_Tent_None                    0.085502\n",
       "Medical_Tent_F                      -0.070829\n",
       "Medical_Tent_B                      -0.009629\n",
       "Medical_Tent_A                       0.080346\n",
       "Medical_Tent_E                      -0.124670\n",
       "Medical_Tent_C                       0.079917\n",
       "Medical_Tent_D                      -0.078029\n",
       "Medical_Tent_G                      -0.014180\n",
       "Medical_Tent_T                       0.051573\n",
       "Medical_Expenses_Family_log         -0.061151\n",
       "Age_label                            0.018763\n",
       "dtype: float64"
      ]
     },
     "execution_count": 38,
     "metadata": {},
     "output_type": "execute_result"
    }
   ],
   "source": [
    "ridge = RidgeCV()\n",
    "ridge.fit(X=X_temp, y=y)\n",
    "coef_ridge = pd.Series(ridge.coef_,index=X_temp.columns)\n",
    "coef_ridge"
   ]
  },
  {
   "cell_type": "code",
   "execution_count": 39,
   "metadata": {},
   "outputs": [
    {
     "data": {
      "image/png": "[encoded data removed]",
      "text/plain": [
       "<Figure size 576x720 with 1 Axes>"
      ]
     },
     "metadata": {
      "needs_background": "light"
     },
     "output_type": "display_data"
    }
   ],
   "source": [
    "coef=coef_ridge.sort_values()\n",
    "plt.figure(figsize=(8,10))\n",
    "coef.plot(kind = \"barh\")\n",
    "plt.title(\"Feature importance Ridge Regression\")\n",
    "plt.show()"
   ]
  },
  {
   "cell_type": "markdown",
   "metadata": {},
   "source": [
    "## Feature Importance Random Forest "
   ]
  },
  {
   "cell_type": "code",
   "execution_count": 40,
   "metadata": {},
   "outputs": [
    {
     "data": {
      "text/plain": [
       "RandomForestClassifier(bootstrap=True, ccp_alpha=0.0, class_weight=None,\n",
       "                       criterion='gini', max_depth=None, max_features='auto',\n",
       "                       max_leaf_nodes=None, max_samples=None,\n",
       "                       min_impurity_decrease=0.0, min_impurity_split=None,\n",
       "                       min_samples_leaf=1, min_samples_split=2,\n",
       "                       min_weight_fraction_leaf=0.0, n_estimators=100,\n",
       "                       n_jobs=None, oob_score=False, random_state=None,\n",
       "                       verbose=0, warm_start=False)"
      ]
     },
     "execution_count": 40,
     "metadata": {},
     "output_type": "execute_result"
    }
   ],
   "source": [
    "clf=RandomForestClassifier()\n",
    "clf.fit(X_temp,y)\n"
   ]
  },
  {
   "cell_type": "code",
   "execution_count": 41,
   "metadata": {
    "scrolled": true
   },
   "outputs": [
    {
     "data": {
      "text/plain": [
       "<Figure size 576x720 with 0 Axes>"
      ]
     },
     "metadata": {},
     "output_type": "display_data"
    },
    {
     "data": {
      "image/png": "[encoded data removed]",
      "text/plain": [
       "<Figure size 432x288 with 1 Axes>"
      ]
     },
     "metadata": {
      "needs_background": "light"
     },
     "output_type": "display_data"
    }
   ],
   "source": [
    "fi=pd.DataFrame(clf.feature_importances_, index=X_temp.columns).sort_values(by=0)\n",
    "plt.figure(figsize=(8,10))\n",
    "fi.plot(kind = \"barh\")\n",
    "plt.title(\"Feature importance Random Forest\")\n",
    "plt.show()"
   ]
  },
  {
   "cell_type": "markdown",
   "metadata": {},
   "source": [
    "### Drop features"
   ]
  },
  {
   "cell_type": "code",
   "execution_count": null,
   "metadata": {},
   "outputs": [],
   "source": [
    "### INSERT HERE THE SEVERAL DIFFERENT COMBINATIONS OF FEATURES TO DROP. KEEP ALL THE ITERATIONS.\n",
    "\n",
    "todrop = ['Medical_Tent_A', 'Medical_Tent_None', 'Medical_Tent_G', 'Medical_Tent_F', 'Medical_Tent_T',\n",
    "          'Wife/Husband or children infected', \"Age_label\", \"Medical_Expenses_Family_log\"]\n",
    "\n",
    "todrop1 = ['Medical_Tent_A', 'Medical_Tent_None', 'Medical_Tent_G', 'Medical_Tent_F', 'Medical_Tent_T',\n",
    "          'Wife/Husband or children infected', \"Age_label\", \"Medical_Expenses_Family\"]\n"
   ]
  },
  {
   "cell_type": "code",
   "execution_count": null,
   "metadata": {},
   "outputs": [],
   "source": [
    "#drop variables based on low correlations with target and high mutual correlations\n",
    "\n",
    "X.drop(todrop1,axis=1,inplace=True)"
   ]
  },
  {
   "cell_type": "code",
   "execution_count": null,
   "metadata": {},
   "outputs": [],
   "source": [
    "X.columns"
   ]
  },
  {
   "cell_type": "markdown",
   "metadata": {},
   "source": [
    "## Train and Validation Normalized"
   ]
  },
  {
   "cell_type": "code",
   "execution_count": 42,
   "metadata": {},
   "outputs": [],
   "source": [
    "def split_scale(X,y,scale,size_test):\n",
    "    \"\"\" This function scales the input dataset (X and y) and split both into train- and test sets\n",
    "    Input: \n",
    "    X: Unscaled and unlabeled data\n",
    "    y: The labels for X\n",
    "    scale: choose between \"StandardScaler\", \"MinMaxScaler\" or \"RobustScaler\"\n",
    "    size_test: size in percent of the test set \n",
    "    Output: X_train, X_test, y_train, y_test\n",
    "    \"\"\"\n",
    "    X_train,X_test,y_train,y_test = train_test_split(X,y,test_size=size_test,random_state=0)\n",
    "    if scale == \"RobustScaler\":\n",
    "        robust = RobustScaler().fit(X_train)\n",
    "        X_train = robust.transform(X_train)\n",
    "        X_test = robust.transform(X_test)\n",
    "        return X_train, X_test,y_train,y_test\n",
    "    elif scale == \"MinMaxScaler\":\n",
    "        minmax = MinMaxScaler().fit(X_train)\n",
    "        X_train = minmax.transform(X_train)\n",
    "        X_test = minmax.transform(X_test)\n",
    "        return X_train, X_test,y_train,y_test\n",
    "    elif scale == \"StandardScaler\":\n",
    "        scaler = StandardScaler().fit(X_train)\n",
    "        X_train = scaler.transform(X_train)\n",
    "        X_test = scaler.transform(X_test)\n",
    "        return X_train, X_test,y_train,y_test"
   ]
  },
  {
   "cell_type": "code",
   "execution_count": 43,
   "metadata": {},
   "outputs": [],
   "source": [
    "X_train, X_val,y_train,y_val = split_scale(X,y,\"StandardScaler\",0.2)\n",
    "X_train = pd.DataFrame(X_train, columns=X.columns)\n",
    "X_val = pd.DataFrame(X_val, columns=X.columns)"
   ]
  },
  {
   "cell_type": "markdown",
   "metadata": {},
   "source": [
    "## Classifier"
   ]
  },
  {
   "cell_type": "code",
   "execution_count": 44,
   "metadata": {},
   "outputs": [],
   "source": [
    "def model_compare(list_of_models):\n",
    "    train_score=[]\n",
    "    val_score=[]\n",
    "    model_used=[]\n",
    "    for i in list_of_models:\n",
    "        model = i\n",
    "        model.fit(X_train, y_train)\n",
    "        train_score.append(model.score(X_train, y_train))\n",
    "        val_score.append(model.score(X_val, y_val))\n",
    "        model_used.append(str(i))\n",
    "        y_pred = model.predict(X_val)\n",
    "    df = pd.DataFrame([model_used, train_score, val_score], index=[\"model\",\"train_score\",\"val_score\"]).T.sort_values(by=\"val_score\", ascending=False)\n",
    "    return df"
   ]
  },
  {
   "cell_type": "code",
   "execution_count": 45,
   "metadata": {},
   "outputs": [
    {
     "data": {
      "text/html": [
       "<div>\n",
       "<style scoped>\n",
       "    .dataframe tbody tr th:only-of-type {\n",
       "        vertical-align: middle;\n",
       "    }\n",
       "\n",
       "    .dataframe tbody tr th {\n",
       "        vertical-align: top;\n",
       "    }\n",
       "\n",
       "    .dataframe thead th {\n",
       "        text-align: right;\n",
       "    }\n",
       "</style>\n",
       "<table border=\"1\" class=\"dataframe\">\n",
       "  <thead>\n",
       "    <tr style=\"text-align: right;\">\n",
       "      <th></th>\n",
       "      <th>model</th>\n",
       "      <th>train_score</th>\n",
       "      <th>val_score</th>\n",
       "    </tr>\n",
       "  </thead>\n",
       "  <tbody>\n",
       "    <tr>\n",
       "      <th>4</th>\n",
       "      <td>GradientBoostingClassifier(ccp_alpha=0.0, crit...</td>\n",
       "      <td>0.824513</td>\n",
       "      <td>0.694444</td>\n",
       "    </tr>\n",
       "    <tr>\n",
       "      <th>0</th>\n",
       "      <td>MLPClassifier(activation='relu', alpha=0.0001,...</td>\n",
       "      <td>0.806407</td>\n",
       "      <td>0.683333</td>\n",
       "    </tr>\n",
       "    <tr>\n",
       "      <th>2</th>\n",
       "      <td>RandomForestClassifier(bootstrap=True, ccp_alp...</td>\n",
       "      <td>0.954039</td>\n",
       "      <td>0.683333</td>\n",
       "    </tr>\n",
       "    <tr>\n",
       "      <th>7</th>\n",
       "      <td>RidgeClassifier(alpha=1.0, class_weight=None, ...</td>\n",
       "      <td>0.733983</td>\n",
       "      <td>0.672222</td>\n",
       "    </tr>\n",
       "    <tr>\n",
       "      <th>8</th>\n",
       "      <td>SVC(C=1.0, break_ties=False, cache_size=200, c...</td>\n",
       "      <td>0.768802</td>\n",
       "      <td>0.672222</td>\n",
       "    </tr>\n",
       "    <tr>\n",
       "      <th>9</th>\n",
       "      <td>LinearSVC(C=1.0, class_weight=None, dual=True,...</td>\n",
       "      <td>0.735376</td>\n",
       "      <td>0.672222</td>\n",
       "    </tr>\n",
       "    <tr>\n",
       "      <th>1</th>\n",
       "      <td>LogisticRegression(C=1.0, class_weight=None, d...</td>\n",
       "      <td>0.731198</td>\n",
       "      <td>0.661111</td>\n",
       "    </tr>\n",
       "    <tr>\n",
       "      <th>6</th>\n",
       "      <td>LogisticRegressionCV(Cs=10, class_weight=None,...</td>\n",
       "      <td>0.731198</td>\n",
       "      <td>0.655556</td>\n",
       "    </tr>\n",
       "    <tr>\n",
       "      <th>10</th>\n",
       "      <td>XGBClassifier(base_score=0.5, booster=None, co...</td>\n",
       "      <td>0.938719</td>\n",
       "      <td>0.655556</td>\n",
       "    </tr>\n",
       "    <tr>\n",
       "      <th>3</th>\n",
       "      <td>KNeighborsClassifier(algorithm='auto', leaf_si...</td>\n",
       "      <td>0.775766</td>\n",
       "      <td>0.644444</td>\n",
       "    </tr>\n",
       "    <tr>\n",
       "      <th>5</th>\n",
       "      <td>GaussianNB(priors=None, var_smoothing=1e-09)</td>\n",
       "      <td>0.396936</td>\n",
       "      <td>0.377778</td>\n",
       "    </tr>\n",
       "  </tbody>\n",
       "</table>\n",
       "</div>"
      ],
      "text/plain": [
       "                                                model train_score val_score\n",
       "4   GradientBoostingClassifier(ccp_alpha=0.0, crit...    0.824513  0.694444\n",
       "0   MLPClassifier(activation='relu', alpha=0.0001,...    0.806407  0.683333\n",
       "2   RandomForestClassifier(bootstrap=True, ccp_alp...    0.954039  0.683333\n",
       "7   RidgeClassifier(alpha=1.0, class_weight=None, ...    0.733983  0.672222\n",
       "8   SVC(C=1.0, break_ties=False, cache_size=200, c...    0.768802  0.672222\n",
       "9   LinearSVC(C=1.0, class_weight=None, dual=True,...    0.735376  0.672222\n",
       "1   LogisticRegression(C=1.0, class_weight=None, d...    0.731198  0.661111\n",
       "6   LogisticRegressionCV(Cs=10, class_weight=None,...    0.731198  0.655556\n",
       "10  XGBClassifier(base_score=0.5, booster=None, co...    0.938719  0.655556\n",
       "3   KNeighborsClassifier(algorithm='auto', leaf_si...    0.775766  0.644444\n",
       "5        GaussianNB(priors=None, var_smoothing=1e-09)    0.396936  0.377778"
      ]
     },
     "execution_count": 45,
     "metadata": {},
     "output_type": "execute_result"
    }
   ],
   "source": [
    "model_list = [MLPClassifier(),LogisticRegression(),RandomForestClassifier(),\n",
    "              KNeighborsClassifier(), GradientBoostingClassifier(),GaussianNB(),\n",
    "              LogisticRegressionCV(),RidgeClassifier(),SVC(), LinearSVC(), XGBClassifier()]\n",
    "\n",
    "model_compare(model_list)\n"
   ]
  },
  {
   "cell_type": "markdown",
   "metadata": {},
   "source": [
    "### 1. Multi-Layer Perceptron with default settings = Baseline"
   ]
  },
  {
   "cell_type": "markdown",
   "metadata": {},
   "source": [
    "Default for MLPClassifier\n",
    "parameter_space = {\n",
    "    'hidden_layer_sizes': (100,),\n",
    "    'activation': 'relu',\n",
    "    'solver': 'adam',\n",
    "    'learning_rate_init': 0.001,\n",
    "    'learning_rate': 'constant',\n",
    "    'alpha': 0.0001\n",
    "    'batch_size':200,\n",
    "    'max_iter':200,\n",
    "    'shuffle':True\n",
    "    'random_state':None,\n",
    "    'tol':1e-4.\n",
    "    'momentum':0.9 (between 0 and 1),\n",
    "    'early_stopping':False,\n",
    "    'validation_fraction': 0.1(for early_stopping)\n",
    "}"
   ]
  },
  {
   "cell_type": "code",
   "execution_count": null,
   "metadata": {},
   "outputs": [],
   "source": [
    "model = MLPClassifier(random_state=150)"
   ]
  },
  {
   "cell_type": "code",
   "execution_count": null,
   "metadata": {},
   "outputs": [],
   "source": [
    "df = pd.DataFrame(columns = ['Time','Train','Test', 'Iterations'], index = ['Baseline'])\n",
    "show_results(df, model)"
   ]
  },
  {
   "cell_type": "markdown",
   "metadata": {},
   "source": [
    "Models to try out\n",
    " - Bayes\n",
    " - Random Forest\n",
    " - Xgboost\n",
    " - GBD\n",
    " - Support Vector Machine\n",
    " - KNN\n",
    " - tuning MLPClassifier/Optuna, Randomized Search i/o GridSearch\n",
    " \n",
    " "
   ]
  },
  {
   "cell_type": "code",
   "execution_count": 46,
   "metadata": {},
   "outputs": [],
   "source": [
    "#source https://www.kaggle.com/snakayama/xgboost-using-optuna\n",
    "def optxgb(X_train, y_train, X_test, y_test, trial):\n",
    "    #param_list\n",
    "    n_estimators = trial.suggest_int('n_estimators', 0, 1000)\n",
    "    max_depth = trial.suggest_int('max_depth', 1, 40)\n",
    "    min_child_weight = trial.suggest_int('min_child_weight', 1, 20)\n",
    "    learning_rate = trial.suggest_discrete_uniform('learning_rate', 0.001, 0.2, 0.001)\n",
    "    subsample = trial.suggest_discrete_uniform('subsample', 0.5, 0.9, 0.1)\n",
    "    reg_lambda = trial.suggest_discrete_uniform('reg_lambda', 0, 1, 0.001)\n",
    "    reg_alpha = trial.suggest_discrete_uniform('reg_alpha', 0, 1, 0.001)\n",
    "    colsample_bytree = trial.suggest_discrete_uniform('colsample_bytree', 0.5, 0.9, 0.1)\n",
    "\n",
    "    xgboost_tuna = XGBClassifier(\n",
    "        random_state=1, \n",
    "        n_estimators = n_estimators,\n",
    "        max_depth = max_depth,\n",
    "        min_child_weight = min_child_weight,\n",
    "        learning_rate = learning_rate,\n",
    "        subsample = subsample,\n",
    "        reg_lambda = reg_lambda,\n",
    "        reg_alpha = reg_alpha,\n",
    "        colsample_bytree = colsample_bytree,\n",
    "    )\n",
    "    xgboost_tuna.fit(X_train, y_train)\n",
    "    tuna_pred_test = xgboost_tuna.predict(X_val)\n",
    "    \n",
    "    return (metrics.accuracy_score(y_test, tuna_pred_test))\n",
    "\n",
    "#source https://www.kaggle.com/snakayama/xgboost-using-optuna\n",
    "def optmlp(X_train, y_train, X_test, y_test, trial):\n",
    "    #param_list\n",
    "    activation = trial.suggest_categorical('activation', ['relu', 'logistic', 'tanh'])\n",
    "    solver = trial.suggest_categorical('solver', ['adam', 'sgd','lbfgs'])\n",
    "    batch_size = trial.suggest_int('batch_size', 100, 600, 100)\n",
    "    max_iter = trial.suggest_int('max_iter', 100, 1000, 100)\n",
    "    learning_rate = trial.suggest_categorical('learning_rate', ['constant','adaptive'])\n",
    "    learning_rate_init = trial.suggest_discrete_uniform('learning_rate_init', 0.001, 0.1, 0.001)\n",
    "    alpha = trial.suggest_discrete_uniform('alpha', 0.001, 0.2, 0.001)\n",
    "    \n",
    "    n_layers = trial.suggest_int('n_layers', 1, 3)\n",
    "    layers = []\n",
    "    for i in range(n_layers):\n",
    "        layers.append(trial.suggest_int(f'n_units_{i}', 1, 30))\n",
    "    \n",
    "    MLP_model = MLPClassifier(\n",
    "        random_state=1, \n",
    "        alpha = alpha,\n",
    "        activation = activation,\n",
    "        solver=solver,\n",
    "        batch_size = batch_size,\n",
    "        max_iter= max_iter,\n",
    "        learning_rate = learning_rate,\n",
    "        learning_rate_init = learning_rate_init,\n",
    "        hidden_layer_sizes=tuple(layers)\n",
    "    )\n",
    "    MLP_model.fit(X_train, y_train)\n",
    "    tuna_pred_test = MLP_model.predict(X_test)\n",
    "    \n",
    "    return (metrics.accuracy_score(y_test, tuna_pred_test))\n",
    "\n",
    "\n",
    "def opt_gdb(X_train, y_train, X_test, y_test, trial):\n",
    "    #param_list\n",
    "    n_estimators = trial.suggest_int('n_estimators', 1, 1000)\n",
    "    max_depth = trial.suggest_int('max_depth', 1, 40)\n",
    "    learning_rate = trial.suggest_discrete_uniform('learning_rate', 0.001, 0.2, 0.001)\n",
    "    subsample = trial.suggest_discrete_uniform('subsample', 0.5, 0.9, 0.1)\n",
    "    loss=trial.suggest_categorical('loss', ['deviance', 'exponential'])\n",
    "    min_samples_split=trial.suggest_int('min_samples_split', 2, 20)\n",
    "    min_samples_leaf=trial.suggest_int('min_samples_leaf', 1, 20)\n",
    "    min_weight_fraction_leaf=trial.suggest_discrete_uniform('min_weight_fraction_leaf', 0, 0.5, 0.001)\n",
    "    max_features=trial.suggest_int('max_features', 1, len(X_train.columns))\n",
    "    #max_leaf_nodes=trial.suggest_int('max_leaf_nodes', 2, 1000)\n",
    "    \n",
    "    gb_tuna = GradientBoostingClassifier(\n",
    "        random_state=1, \n",
    "        n_estimators = n_estimators,\n",
    "        max_depth = max_depth,\n",
    "        learning_rate = learning_rate,\n",
    "        subsample = subsample,\n",
    "        loss=loss,\n",
    "        min_samples_split=min_samples_split,\n",
    "        min_samples_leaf=min_samples_leaf,\n",
    "        min_weight_fraction_leaf=min_weight_fraction_leaf,\n",
    "        max_features=max_features,\n",
    "        #max_leaf_nodes=max_leaf_nodes,\n",
    "\n",
    "    )\n",
    "    gb_tuna.fit(X_train, y_train)\n",
    "    tuna_pred_test = gb_tuna.predict(X_val)\n",
    "    \n",
    "    return (metrics.accuracy_score(y_test, tuna_pred_test))\n"
   ]
  },
  {
   "cell_type": "code",
   "execution_count": null,
   "metadata": {},
   "outputs": [],
   "source": [
    "opt = optmlp\n",
    "\n",
    "\n",
    "study = optuna.create_study(direction = 'maximize')\n",
    "study.optimize(functools.partial(opt, X_train, y_train, X_val, y_val), n_trials=100)"
   ]
  },
  {
   "cell_type": "code",
   "execution_count": null,
   "metadata": {},
   "outputs": [],
   "source": [
    "study.best_params"
   ]
  },
  {
   "cell_type": "markdown",
   "metadata": {},
   "source": [
    "## Try GradientBoosting + optuna"
   ]
  },
  {
   "cell_type": "code",
   "execution_count": 84,
   "metadata": {},
   "outputs": [
    {
     "name": "stderr",
     "output_type": "stream",
     "text": [
      "[I 2020-05-15 22:07:04,194] Finished trial#0 with value: 0.7 with parameters: {'n_estimators': 42, 'max_depth': 38, 'learning_rate': 0.099, 'subsample': 0.6, 'loss': 'exponential', 'min_samples_split': 10, 'min_samples_leaf': 14, 'min_weight_fraction_leaf': 0.254, 'max_features': 3}. Best is trial#0 with value: 0.7.\n",
      "[I 2020-05-15 22:07:04,355] Finished trial#1 with value: 0.7166666666666667 with parameters: {'n_estimators': 82, 'max_depth': 18, 'learning_rate': 0.10300000000000001, 'subsample': 0.6, 'loss': 'exponential', 'min_samples_split': 20, 'min_samples_leaf': 7, 'min_weight_fraction_leaf': 0.048, 'max_features': 7}. Best is trial#1 with value: 0.7166666666666667.\n",
      "[I 2020-05-15 22:07:04,509] Finished trial#2 with value: 0.6888888888888889 with parameters: {'n_estimators': 175, 'max_depth': 35, 'learning_rate': 0.14, 'subsample': 0.8, 'loss': 'deviance', 'min_samples_split': 15, 'min_samples_leaf': 15, 'min_weight_fraction_leaf': 0.40900000000000003, 'max_features': 1}. Best is trial#1 with value: 0.7166666666666667.\n",
      "[I 2020-05-15 22:07:04,700] Finished trial#3 with value: 0.7055555555555556 with parameters: {'n_estimators': 209, 'max_depth': 14, 'learning_rate': 0.049, 'subsample': 0.5, 'loss': 'deviance', 'min_samples_split': 11, 'min_samples_leaf': 13, 'min_weight_fraction_leaf': 0.43, 'max_features': 5}. Best is trial#1 with value: 0.7166666666666667.\n",
      "[I 2020-05-15 22:07:05,076] Finished trial#4 with value: 0.7055555555555556 with parameters: {'n_estimators': 431, 'max_depth': 21, 'learning_rate': 0.04, 'subsample': 0.9, 'loss': 'exponential', 'min_samples_split': 18, 'min_samples_leaf': 9, 'min_weight_fraction_leaf': 0.458, 'max_features': 6}. Best is trial#1 with value: 0.7166666666666667.\n",
      "[I 2020-05-15 22:07:05,654] Finished trial#5 with value: 0.6944444444444444 with parameters: {'n_estimators': 313, 'max_depth': 20, 'learning_rate': 0.066, 'subsample': 0.8, 'loss': 'exponential', 'min_samples_split': 5, 'min_samples_leaf': 19, 'min_weight_fraction_leaf': 0.061, 'max_features': 17}. Best is trial#1 with value: 0.7166666666666667.\n",
      "[I 2020-05-15 22:07:06,064] Finished trial#6 with value: 0.7055555555555556 with parameters: {'n_estimators': 520, 'max_depth': 1, 'learning_rate': 0.189, 'subsample': 0.6, 'loss': 'deviance', 'min_samples_split': 8, 'min_samples_leaf': 20, 'min_weight_fraction_leaf': 0.38, 'max_features': 10}. Best is trial#1 with value: 0.7166666666666667.\n",
      "[I 2020-05-15 22:07:06,405] Finished trial#7 with value: 0.7055555555555556 with parameters: {'n_estimators': 460, 'max_depth': 40, 'learning_rate': 0.17500000000000002, 'subsample': 0.6, 'loss': 'deviance', 'min_samples_split': 5, 'min_samples_leaf': 3, 'min_weight_fraction_leaf': 0.428, 'max_features': 4}. Best is trial#1 with value: 0.7166666666666667.\n",
      "[I 2020-05-15 22:07:06,875] Finished trial#8 with value: 0.7055555555555556 with parameters: {'n_estimators': 595, 'max_depth': 27, 'learning_rate': 0.149, 'subsample': 0.8, 'loss': 'exponential', 'min_samples_split': 14, 'min_samples_leaf': 1, 'min_weight_fraction_leaf': 0.041, 'max_features': 1}. Best is trial#1 with value: 0.7166666666666667.\n",
      "[I 2020-05-15 22:07:07,561] Finished trial#9 with value: 0.7166666666666667 with parameters: {'n_estimators': 703, 'max_depth': 38, 'learning_rate': 0.015, 'subsample': 0.5, 'loss': 'deviance', 'min_samples_split': 5, 'min_samples_leaf': 8, 'min_weight_fraction_leaf': 0.046, 'max_features': 5}. Best is trial#1 with value: 0.7166666666666667.\n",
      "[I 2020-05-15 22:07:07,662] Finished trial#10 with value: 0.65 with parameters: {'n_estimators': 8, 'max_depth': 7, 'learning_rate': 0.107, 'subsample': 0.7, 'loss': 'exponential', 'min_samples_split': 20, 'min_samples_leaf': 5, 'min_weight_fraction_leaf': 0.161, 'max_features': 10}. Best is trial#1 with value: 0.7166666666666667.\n",
      "[I 2020-05-15 22:07:08,445] Finished trial#11 with value: 0.7222222222222222 with parameters: {'n_estimators': 881, 'max_depth': 28, 'learning_rate': 0.012, 'subsample': 0.5, 'loss': 'deviance', 'min_samples_split': 2, 'min_samples_leaf': 8, 'min_weight_fraction_leaf': 0.129, 'max_features': 8}. Best is trial#11 with value: 0.7222222222222222.\n",
      "[I 2020-05-15 22:07:09,206] Finished trial#12 with value: 0.6722222222222223 with parameters: {'n_estimators': 931, 'max_depth': 28, 'learning_rate': 0.089, 'subsample': 0.5, 'loss': 'deviance', 'min_samples_split': 2, 'min_samples_leaf': 6, 'min_weight_fraction_leaf': 0.153, 'max_features': 13}. Best is trial#11 with value: 0.7222222222222222.\n",
      "[I 2020-05-15 22:07:09,863] Finished trial#13 with value: 0.7 with parameters: {'n_estimators': 918, 'max_depth': 16, 'learning_rate': 0.002, 'subsample': 0.6, 'loss': 'exponential', 'min_samples_split': 2, 'min_samples_leaf': 11, 'min_weight_fraction_leaf': 0.14400000000000002, 'max_features': 8}. Best is trial#11 with value: 0.7222222222222222.\n",
      "[I 2020-05-15 22:07:10,419] Finished trial#14 with value: 0.7 with parameters: {'n_estimators': 811, 'max_depth': 29, 'learning_rate': 0.131, 'subsample': 0.7, 'loss': 'exponential', 'min_samples_split': 20, 'min_samples_leaf': 5, 'min_weight_fraction_leaf': 0.26, 'max_features': 13}. Best is trial#11 with value: 0.7222222222222222.\n",
      "[I 2020-05-15 22:07:10,965] Finished trial#15 with value: 0.6888888888888889 with parameters: {'n_estimators': 705, 'max_depth': 9, 'learning_rate': 0.076, 'subsample': 0.5, 'loss': 'deviance', 'min_samples_split': 16, 'min_samples_leaf': 8, 'min_weight_fraction_leaf': 0.113, 'max_features': 8}. Best is trial#11 with value: 0.7222222222222222.\n",
      "[I 2020-05-15 22:07:12,855] Finished trial#16 with value: 0.6722222222222223 with parameters: {'n_estimators': 994, 'max_depth': 25, 'learning_rate': 0.116, 'subsample': 0.6, 'loss': 'deviance', 'min_samples_split': 12, 'min_samples_leaf': 1, 'min_weight_fraction_leaf': 0.005, 'max_features': 13}. Best is trial#11 with value: 0.7222222222222222.\n",
      "[I 2020-05-15 22:07:13,010] Finished trial#17 with value: 0.7 with parameters: {'n_estimators': 103, 'max_depth': 33, 'learning_rate': 0.030000000000000002, 'subsample': 0.5, 'loss': 'exponential', 'min_samples_split': 7, 'min_samples_leaf': 11, 'min_weight_fraction_leaf': 0.22, 'max_features': 8}. Best is trial#11 with value: 0.7222222222222222.\n",
      "[I 2020-05-15 22:07:13,331] Finished trial#18 with value: 0.7055555555555556 with parameters: {'n_estimators': 354, 'max_depth': 22, 'learning_rate': 0.161, 'subsample': 0.7, 'loss': 'exponential', 'min_samples_split': 17, 'min_samples_leaf': 17, 'min_weight_fraction_leaf': 0.32, 'max_features': 7}. Best is trial#11 with value: 0.7222222222222222.\n",
      "[I 2020-05-15 22:07:13,857] Finished trial#19 with value: 0.6833333333333333 with parameters: {'n_estimators': 734, 'max_depth': 33, 'learning_rate': 0.002, 'subsample': 0.5, 'loss': 'deviance', 'min_samples_split': 4, 'min_samples_leaf': 9, 'min_weight_fraction_leaf': 0.095, 'max_features': 3}. Best is trial#11 with value: 0.7222222222222222.\n",
      "[I 2020-05-15 22:07:14,425] Finished trial#20 with value: 0.7222222222222222 with parameters: {'n_estimators': 832, 'max_depth': 37, 'learning_rate': 0.02, 'subsample': 0.5, 'loss': 'deviance', 'min_samples_split': 3, 'min_samples_leaf': 3, 'min_weight_fraction_leaf': 0.20500000000000002, 'max_features': 11}. Best is trial#11 with value: 0.7222222222222222.\n",
      "[I 2020-05-15 22:07:15,011] Finished trial#21 with value: 0.7166666666666667 with parameters: {'n_estimators': 842, 'max_depth': 16, 'learning_rate': 0.068, 'subsample': 0.6, 'loss': 'deviance', 'min_samples_split': 2, 'min_samples_leaf': 3, 'min_weight_fraction_leaf': 0.203, 'max_features': 11}. Best is trial#11 with value: 0.7222222222222222.\n",
      "[I 2020-05-15 22:07:15,586] Finished trial#22 with value: 0.7222222222222222 with parameters: {'n_estimators': 845, 'max_depth': 12, 'learning_rate': 0.024, 'subsample': 0.5, 'loss': 'deviance', 'min_samples_split': 2, 'min_samples_leaf': 3, 'min_weight_fraction_leaf': 0.20700000000000002, 'max_features': 11}. Best is trial#11 with value: 0.7222222222222222.\n"
     ]
    },
    {
     "name": "stderr",
     "output_type": "stream",
     "text": [
      "[I 2020-05-15 22:07:16,205] Finished trial#23 with value: 0.7333333333333333 with parameters: {'n_estimators': 987, 'max_depth': 9, 'learning_rate': 0.023, 'subsample': 0.5, 'loss': 'deviance', 'min_samples_split': 3, 'min_samples_leaf': 4, 'min_weight_fraction_leaf': 0.291, 'max_features': 15}. Best is trial#23 with value: 0.7333333333333333.\n",
      "[I 2020-05-15 22:07:16,832] Finished trial#24 with value: 0.7111111111111111 with parameters: {'n_estimators': 989, 'max_depth': 7, 'learning_rate': 0.028, 'subsample': 0.5, 'loss': 'deviance', 'min_samples_split': 7, 'min_samples_leaf': 3, 'min_weight_fraction_leaf': 0.312, 'max_features': 17}. Best is trial#23 with value: 0.7333333333333333.\n",
      "[I 2020-05-15 22:07:17,335] Finished trial#25 with value: 0.7166666666666667 with parameters: {'n_estimators': 762, 'max_depth': 2, 'learning_rate': 0.051000000000000004, 'subsample': 0.5, 'loss': 'deviance', 'min_samples_split': 4, 'min_samples_leaf': 1, 'min_weight_fraction_leaf': 0.3, 'max_features': 14}. Best is trial#23 with value: 0.7333333333333333.\n",
      "[I 2020-05-15 22:07:17,739] Finished trial#26 with value: 0.7055555555555556 with parameters: {'n_estimators': 622, 'max_depth': 11, 'learning_rate': 0.006, 'subsample': 0.5, 'loss': 'deviance', 'min_samples_split': 2, 'min_samples_leaf': 5, 'min_weight_fraction_leaf': 0.372, 'max_features': 15}. Best is trial#23 with value: 0.7333333333333333.\n",
      "[I 2020-05-15 22:07:18,424] Finished trial#27 with value: 0.7166666666666667 with parameters: {'n_estimators': 915, 'max_depth': 31, 'learning_rate': 0.014000000000000002, 'subsample': 0.6, 'loss': 'deviance', 'min_samples_split': 4, 'min_samples_leaf': 4, 'min_weight_fraction_leaf': 0.17500000000000002, 'max_features': 15}. Best is trial#23 with value: 0.7333333333333333.\n",
      "[I 2020-05-15 22:07:19,165] Finished trial#28 with value: 0.7333333333333333 with parameters: {'n_estimators': 965, 'max_depth': 5, 'learning_rate': 0.038, 'subsample': 0.5, 'loss': 'deviance', 'min_samples_split': 7, 'min_samples_leaf': 7, 'min_weight_fraction_leaf': 0.28200000000000003, 'max_features': 18}. Best is trial#23 with value: 0.7333333333333333.\n",
      "[I 2020-05-15 22:07:19,864] Finished trial#29 with value: 0.7055555555555556 with parameters: {'n_estimators': 995, 'max_depth': 3, 'learning_rate': 0.045, 'subsample': 0.6, 'loss': 'deviance', 'min_samples_split': 9, 'min_samples_leaf': 6, 'min_weight_fraction_leaf': 0.268, 'max_features': 18}. Best is trial#23 with value: 0.7333333333333333.\n",
      "[I 2020-05-15 22:07:20,482] Finished trial#30 with value: 0.6944444444444444 with parameters: {'n_estimators': 988, 'max_depth': 12, 'learning_rate': 0.034, 'subsample': 0.9, 'loss': 'deviance', 'min_samples_split': 7, 'min_samples_leaf': 2, 'min_weight_fraction_leaf': 0.339, 'max_features': 16}. Best is trial#23 with value: 0.7333333333333333.\n",
      "[I 2020-05-15 22:07:21,060] Finished trial#31 with value: 0.7111111111111111 with parameters: {'n_estimators': 885, 'max_depth': 5, 'learning_rate': 0.017, 'subsample': 0.5, 'loss': 'deviance', 'min_samples_split': 3, 'min_samples_leaf': 7, 'min_weight_fraction_leaf': 0.244, 'max_features': 12}. Best is trial#23 with value: 0.7333333333333333.\n",
      "[I 2020-05-15 22:07:21,676] Finished trial#32 with value: 0.7 with parameters: {'n_estimators': 808, 'max_depth': 10, 'learning_rate': 0.057, 'subsample': 0.5, 'loss': 'deviance', 'min_samples_split': 6, 'min_samples_leaf': 4, 'min_weight_fraction_leaf': 0.195, 'max_features': 18}. Best is trial#23 with value: 0.7333333333333333.\n",
      "[I 2020-05-15 22:07:22,300] Finished trial#33 with value: 0.7333333333333333 with parameters: {'n_estimators': 957, 'max_depth': 6, 'learning_rate': 0.027000000000000003, 'subsample': 0.6, 'loss': 'deviance', 'min_samples_split': 3, 'min_samples_leaf': 2, 'min_weight_fraction_leaf': 0.28300000000000003, 'max_features': 11}. Best is trial#23 with value: 0.7333333333333333.\n",
      "[I 2020-05-15 22:07:22,880] Finished trial#34 with value: 0.7222222222222222 with parameters: {'n_estimators': 949, 'max_depth': 4, 'learning_rate': 0.084, 'subsample': 0.6, 'loss': 'deviance', 'min_samples_split': 9, 'min_samples_leaf': 10, 'min_weight_fraction_leaf': 0.28500000000000003, 'max_features': 9}. Best is trial#23 with value: 0.7333333333333333.\n",
      "[I 2020-05-15 22:07:23,473] Finished trial#35 with value: 0.7166666666666667 with parameters: {'n_estimators': 953, 'max_depth': 4, 'learning_rate': 0.077, 'subsample': 0.7, 'loss': 'deviance', 'min_samples_split': 10, 'min_samples_leaf': 13, 'min_weight_fraction_leaf': 0.28500000000000003, 'max_features': 9}. Best is trial#23 with value: 0.7333333333333333.\n",
      "[I 2020-05-15 22:07:24,055] Finished trial#36 with value: 0.7055555555555556 with parameters: {'n_estimators': 796, 'max_depth': 7, 'learning_rate': 0.041, 'subsample': 0.6, 'loss': 'deviance', 'min_samples_split': 3, 'min_samples_leaf': 2, 'min_weight_fraction_leaf': 0.357, 'max_features': 15}. Best is trial#23 with value: 0.7333333333333333.\n",
      "[I 2020-05-15 22:07:24,760] Finished trial#37 with value: 0.7055555555555556 with parameters: {'n_estimators': 944, 'max_depth': 5, 'learning_rate': 0.08600000000000001, 'subsample': 0.6, 'loss': 'deviance', 'min_samples_split': 12, 'min_samples_leaf': 10, 'min_weight_fraction_leaf': 0.23700000000000002, 'max_features': 16}. Best is trial#23 with value: 0.7333333333333333.\n",
      "[I 2020-05-15 22:07:25,169] Finished trial#38 with value: 0.7222222222222222 with parameters: {'n_estimators': 642, 'max_depth': 1, 'learning_rate': 0.057, 'subsample': 0.5, 'loss': 'deviance', 'min_samples_split': 6, 'min_samples_leaf': 6, 'min_weight_fraction_leaf': 0.404, 'max_features': 11}. Best is trial#23 with value: 0.7333333333333333.\n",
      "[I 2020-05-15 22:07:25,524] Finished trial#39 with value: 0.7055555555555556 with parameters: {'n_estimators': 535, 'max_depth': 1, 'learning_rate': 0.060000000000000005, 'subsample': 0.6, 'loss': 'deviance', 'min_samples_split': 6, 'min_samples_leaf': 6, 'min_weight_fraction_leaf': 0.494, 'max_features': 12}. Best is trial#23 with value: 0.7333333333333333.\n",
      "[I 2020-05-15 22:07:26,071] Finished trial#40 with value: 0.7055555555555556 with parameters: {'n_estimators': 875, 'max_depth': 13, 'learning_rate': 0.025, 'subsample': 0.5, 'loss': 'deviance', 'min_samples_split': 4, 'min_samples_leaf': 2, 'min_weight_fraction_leaf': 0.341, 'max_features': 17}. Best is trial#23 with value: 0.7333333333333333.\n",
      "[I 2020-05-15 22:07:26,502] Finished trial#41 with value: 0.6944444444444444 with parameters: {'n_estimators': 682, 'max_depth': 8, 'learning_rate': 0.037000000000000005, 'subsample': 0.5, 'loss': 'deviance', 'min_samples_split': 6, 'min_samples_leaf': 4, 'min_weight_fraction_leaf': 0.397, 'max_features': 11}. Best is trial#23 with value: 0.7333333333333333.\n",
      "[I 2020-05-15 22:07:27,060] Finished trial#42 with value: 0.7055555555555556 with parameters: {'n_estimators': 871, 'max_depth': 16, 'learning_rate': 0.011, 'subsample': 0.5, 'loss': 'deviance', 'min_samples_split': 3, 'min_samples_leaf': 8, 'min_weight_fraction_leaf': 0.229, 'max_features': 7}. Best is trial#23 with value: 0.7333333333333333.\n",
      "[I 2020-05-15 22:07:27,622] Finished trial#43 with value: 0.7111111111111111 with parameters: {'n_estimators': 762, 'max_depth': 38, 'learning_rate': 0.021, 'subsample': 0.5, 'loss': 'deviance', 'min_samples_split': 3, 'min_samples_leaf': 7, 'min_weight_fraction_leaf': 0.122, 'max_features': 6}. Best is trial#23 with value: 0.7333333333333333.\n",
      "[I 2020-05-15 22:07:27,849] Finished trial#44 with value: 0.7166666666666667 with parameters: {'n_estimators': 265, 'max_depth': 1, 'learning_rate': 0.052000000000000005, 'subsample': 0.6, 'loss': 'deviance', 'min_samples_split': 9, 'min_samples_leaf': 12, 'min_weight_fraction_leaf': 0.28400000000000003, 'max_features': 9}. Best is trial#23 with value: 0.7333333333333333.\n",
      "[I 2020-05-15 22:07:28,239] Finished trial#45 with value: 0.7055555555555556 with parameters: {'n_estimators': 608, 'max_depth': 6, 'learning_rate': 0.042, 'subsample': 0.5, 'loss': 'deviance', 'min_samples_split': 5, 'min_samples_leaf': 5, 'min_weight_fraction_leaf': 0.458, 'max_features': 10}. Best is trial#23 with value: 0.7333333333333333.\n"
     ]
    },
    {
     "name": "stderr",
     "output_type": "stream",
     "text": [
      "[I 2020-05-15 22:07:28,846] Finished trial#46 with value: 0.7111111111111111 with parameters: {'n_estimators': 841, 'max_depth': 14, 'learning_rate': 0.022000000000000002, 'subsample': 0.5, 'loss': 'deviance', 'min_samples_split': 5, 'min_samples_leaf': 3, 'min_weight_fraction_leaf': 0.193, 'max_features': 12}. Best is trial#23 with value: 0.7333333333333333.\n",
      "[I 2020-05-15 22:07:29,582] Finished trial#47 with value: 0.6833333333333333 with parameters: {'n_estimators': 908, 'max_depth': 23, 'learning_rate': 0.001, 'subsample': 0.6, 'loss': 'deviance', 'min_samples_split': 2, 'min_samples_leaf': 9, 'min_weight_fraction_leaf': 0.254, 'max_features': 14}. Best is trial#23 with value: 0.7333333333333333.\n",
      "[I 2020-05-15 22:07:30,153] Finished trial#48 with value: 0.7222222222222222 with parameters: {'n_estimators': 952, 'max_depth': 19, 'learning_rate': 0.11, 'subsample': 0.7, 'loss': 'deviance', 'min_samples_split': 8, 'min_samples_leaf': 10, 'min_weight_fraction_leaf': 0.281, 'max_features': 5}. Best is trial#23 with value: 0.7333333333333333.\n",
      "[I 2020-05-15 22:07:30,642] Finished trial#49 with value: 0.6944444444444444 with parameters: {'n_estimators': 994, 'max_depth': 19, 'learning_rate': 0.11800000000000001, 'subsample': 0.7, 'loss': 'deviance', 'min_samples_split': 11, 'min_samples_leaf': 7, 'min_weight_fraction_leaf': 0.338, 'max_features': 1}. Best is trial#23 with value: 0.7333333333333333.\n",
      "[I 2020-05-15 22:07:31,176] Finished trial#50 with value: 0.7222222222222222 with parameters: {'n_estimators': 961, 'max_depth': 10, 'learning_rate': 0.10400000000000001, 'subsample': 0.8, 'loss': 'deviance', 'min_samples_split': 8, 'min_samples_leaf': 4, 'min_weight_fraction_leaf': 0.269, 'max_features': 3}. Best is trial#23 with value: 0.7333333333333333.\n",
      "[I 2020-05-15 22:07:31,706] Finished trial#51 with value: 0.7222222222222222 with parameters: {'n_estimators': 960, 'max_depth': 9, 'learning_rate': 0.101, 'subsample': 0.8, 'loss': 'deviance', 'min_samples_split': 8, 'min_samples_leaf': 6, 'min_weight_fraction_leaf': 0.268, 'max_features': 3}. Best is trial#23 with value: 0.7333333333333333.\n",
      "[I 2020-05-15 22:07:32,001] Finished trial#52 with value: 0.7166666666666667 with parameters: {'n_estimators': 419, 'max_depth': 9, 'learning_rate': 0.127, 'subsample': 0.8, 'loss': 'deviance', 'min_samples_split': 8, 'min_samples_leaf': 6, 'min_weight_fraction_leaf': 0.311, 'max_features': 5}. Best is trial#23 with value: 0.7333333333333333.\n",
      "[I 2020-05-15 22:07:32,535] Finished trial#53 with value: 0.7388888888888889 with parameters: {'n_estimators': 964, 'max_depth': 10, 'learning_rate': 0.099, 'subsample': 0.8, 'loss': 'deviance', 'min_samples_split': 8, 'min_samples_leaf': 4, 'min_weight_fraction_leaf': 0.272, 'max_features': 2}. Best is trial#53 with value: 0.7388888888888889.\n",
      "[I 2020-05-15 22:07:33,186] Finished trial#54 with value: 0.7222222222222222 with parameters: {'n_estimators': 867, 'max_depth': 12, 'learning_rate': 0.034, 'subsample': 0.9, 'loss': 'deviance', 'min_samples_split': 5, 'min_samples_leaf': 2, 'min_weight_fraction_leaf': 0.20600000000000002, 'max_features': 11}. Best is trial#53 with value: 0.7388888888888889.\n",
      "[I 2020-05-15 22:07:33,870] Finished trial#55 with value: 0.7333333333333333 with parameters: {'n_estimators': 897, 'max_depth': 12, 'learning_rate': 0.034, 'subsample': 0.9, 'loss': 'deviance', 'min_samples_split': 4, 'min_samples_leaf': 2, 'min_weight_fraction_leaf': 0.217, 'max_features': 13}. Best is trial#53 with value: 0.7388888888888889.\n",
      "[I 2020-05-15 22:07:34,695] Finished trial#56 with value: 0.7166666666666667 with parameters: {'n_estimators': 901, 'max_depth': 15, 'learning_rate': 0.030000000000000002, 'subsample': 0.9, 'loss': 'exponential', 'min_samples_split': 4, 'min_samples_leaf': 1, 'min_weight_fraction_leaf': 0.17500000000000002, 'max_features': 14}. Best is trial#53 with value: 0.7388888888888889.\n",
      "[I 2020-05-15 22:07:35,455] Finished trial#57 with value: 0.7055555555555556 with parameters: {'n_estimators': 997, 'max_depth': 12, 'learning_rate': 0.008, 'subsample': 0.8, 'loss': 'deviance', 'min_samples_split': 10, 'min_samples_leaf': 1, 'min_weight_fraction_leaf': 0.244, 'max_features': 13}. Best is trial#53 with value: 0.7388888888888889.\n",
      "[I 2020-05-15 22:07:36,109] Finished trial#58 with value: 0.7 with parameters: {'n_estimators': 926, 'max_depth': 3, 'learning_rate': 0.08600000000000001, 'subsample': 0.9, 'loss': 'deviance', 'min_samples_split': 12, 'min_samples_leaf': 14, 'min_weight_fraction_leaf': 0.3, 'max_features': 16}. Best is trial#53 with value: 0.7388888888888889.\n",
      "[I 2020-05-15 22:07:36,709] Finished trial#59 with value: 0.7 with parameters: {'n_estimators': 785, 'max_depth': 6, 'learning_rate': 0.17300000000000001, 'subsample': 0.8, 'loss': 'deviance', 'min_samples_split': 3, 'min_samples_leaf': 5, 'min_weight_fraction_leaf': 0.222, 'max_features': 12}. Best is trial#53 with value: 0.7388888888888889.\n",
      "[I 2020-05-15 22:07:37,225] Finished trial#60 with value: 0.7 with parameters: {'n_estimators': 830, 'max_depth': 8, 'learning_rate': 0.019000000000000003, 'subsample': 0.9, 'loss': 'deviance', 'min_samples_split': 5, 'min_samples_leaf': 2, 'min_weight_fraction_leaf': 0.326, 'max_features': 10}. Best is trial#53 with value: 0.7388888888888889.\n",
      "[I 2020-05-15 22:07:37,678] Finished trial#61 with value: 0.7111111111111111 with parameters: {'n_estimators': 544, 'max_depth': 11, 'learning_rate': 0.067, 'subsample': 0.5, 'loss': 'deviance', 'min_samples_split': 6, 'min_samples_leaf': 3, 'min_weight_fraction_leaf': 0.17300000000000001, 'max_features': 13}. Best is trial#53 with value: 0.7388888888888889.\n",
      "[I 2020-05-15 22:07:38,342] Finished trial#62 with value: 0.7222222222222222 with parameters: {'n_estimators': 860, 'max_depth': 17, 'learning_rate': 0.033, 'subsample': 0.9, 'loss': 'deviance', 'min_samples_split': 5, 'min_samples_leaf': 2, 'min_weight_fraction_leaf': 0.215, 'max_features': 11}. Best is trial#53 with value: 0.7388888888888889.\n",
      "[I 2020-05-15 22:07:38,950] Finished trial#63 with value: 0.7222222222222222 with parameters: {'n_estimators': 874, 'max_depth': 17, 'learning_rate': 0.034, 'subsample': 0.9, 'loss': 'deviance', 'min_samples_split': 5, 'min_samples_leaf': 2, 'min_weight_fraction_leaf': 0.253, 'max_features': 10}. Best is trial#53 with value: 0.7388888888888889.\n",
      "[I 2020-05-15 22:07:39,571] Finished trial#64 with value: 0.7 with parameters: {'n_estimators': 897, 'max_depth': 21, 'learning_rate': 0.046, 'subsample': 0.9, 'loss': 'deviance', 'min_samples_split': 4, 'min_samples_leaf': 4, 'min_weight_fraction_leaf': 0.251, 'max_features': 10}. Best is trial#53 with value: 0.7388888888888889.\n",
      "[I 2020-05-15 22:07:40,229] Finished trial#65 with value: 0.7111111111111111 with parameters: {'n_estimators': 965, 'max_depth': 10, 'learning_rate': 0.112, 'subsample': 0.7, 'loss': 'deviance', 'min_samples_split': 7, 'min_samples_leaf': 4, 'min_weight_fraction_leaf': 0.277, 'max_features': 4}. Best is trial#53 with value: 0.7388888888888889.\n",
      "[I 2020-05-15 22:07:40,788] Finished trial#66 with value: 0.7166666666666667 with parameters: {'n_estimators': 972, 'max_depth': 13, 'learning_rate': 0.096, 'subsample': 0.8, 'loss': 'exponential', 'min_samples_split': 2, 'min_samples_leaf': 3, 'min_weight_fraction_leaf': 0.306, 'max_features': 2}. Best is trial#53 with value: 0.7388888888888889.\n",
      "[I 2020-05-15 22:07:41,246] Finished trial#67 with value: 0.7055555555555556 with parameters: {'n_estimators': 645, 'max_depth': 3, 'learning_rate': 0.074, 'subsample': 0.6, 'loss': 'deviance', 'min_samples_split': 10, 'min_samples_leaf': 5, 'min_weight_fraction_leaf': 0.364, 'max_features': 9}. Best is trial#53 with value: 0.7388888888888889.\n",
      "[I 2020-05-15 22:07:41,911] Finished trial#68 with value: 0.7222222222222222 with parameters: {'n_estimators': 930, 'max_depth': 5, 'learning_rate': 0.026000000000000002, 'subsample': 0.7, 'loss': 'deviance', 'min_samples_split': 9, 'min_samples_leaf': 9, 'min_weight_fraction_leaf': 0.292, 'max_features': 14}. Best is trial#53 with value: 0.7388888888888889.\n"
     ]
    },
    {
     "name": "stderr",
     "output_type": "stream",
     "text": [
      "[I 2020-05-15 22:07:42,694] Finished trial#69 with value: 0.7055555555555556 with parameters: {'n_estimators': 1000, 'max_depth': 7, 'learning_rate': 0.093, 'subsample': 0.9, 'loss': 'deviance', 'min_samples_split': 9, 'min_samples_leaf': 1, 'min_weight_fraction_leaf': 0.257, 'max_features': 12}. Best is trial#53 with value: 0.7388888888888889.\n",
      "[I 2020-05-15 22:07:43,368] Finished trial#70 with value: 0.7222222222222222 with parameters: {'n_estimators': 923, 'max_depth': 4, 'learning_rate': 0.14200000000000002, 'subsample': 0.7, 'loss': 'deviance', 'min_samples_split': 9, 'min_samples_leaf': 9, 'min_weight_fraction_leaf': 0.293, 'max_features': 14}. Best is trial#53 with value: 0.7388888888888889.\n",
      "[I 2020-05-15 22:07:43,851] Finished trial#71 with value: 0.7222222222222222 with parameters: {'n_estimators': 730, 'max_depth': 1, 'learning_rate': 0.055, 'subsample': 0.5, 'loss': 'deviance', 'min_samples_split': 7, 'min_samples_leaf': 7, 'min_weight_fraction_leaf': 0.434, 'max_features': 11}. Best is trial#53 with value: 0.7388888888888889.\n",
      "[I 2020-05-15 22:07:44,409] Finished trial#72 with value: 0.7111111111111111 with parameters: {'n_estimators': 750, 'max_depth': 8, 'learning_rate': 0.015, 'subsample': 0.5, 'loss': 'deviance', 'min_samples_split': 3, 'min_samples_leaf': 3, 'min_weight_fraction_leaf': 0.228, 'max_features': 12}. Best is trial#53 with value: 0.7388888888888889.\n",
      "[I 2020-05-15 22:07:45,001] Finished trial#73 with value: 0.6944444444444444 with parameters: {'n_estimators': 845, 'max_depth': 14, 'learning_rate': 0.006, 'subsample': 0.8, 'loss': 'deviance', 'min_samples_split': 2, 'min_samples_leaf': 4, 'min_weight_fraction_leaf': 0.187, 'max_features': 2}. Best is trial#53 with value: 0.7388888888888889.\n",
      "[I 2020-05-15 22:07:45,813] Finished trial#74 with value: 0.7 with parameters: {'n_estimators': 819, 'max_depth': 4, 'learning_rate': 0.192, 'subsample': 0.9, 'loss': 'deviance', 'min_samples_split': 4, 'min_samples_leaf': 2, 'min_weight_fraction_leaf': 0.21, 'max_features': 15}. Best is trial#53 with value: 0.7388888888888889.\n",
      "[I 2020-05-15 22:07:46,292] Finished trial#75 with value: 0.7166666666666667 with parameters: {'n_estimators': 722, 'max_depth': 6, 'learning_rate': 0.039, 'subsample': 0.5, 'loss': 'deviance', 'min_samples_split': 7, 'min_samples_leaf': 1, 'min_weight_fraction_leaf': 0.44, 'max_features': 10}. Best is trial#53 with value: 0.7388888888888889.\n",
      "[I 2020-05-15 22:07:47,072] Finished trial#76 with value: 0.7277777777777777 with parameters: {'n_estimators': 973, 'max_depth': 10, 'learning_rate': 0.031, 'subsample': 0.9, 'loss': 'deviance', 'min_samples_split': 6, 'min_samples_leaf': 2, 'min_weight_fraction_leaf': 0.23600000000000002, 'max_features': 13}. Best is trial#53 with value: 0.7388888888888889.\n",
      "[I 2020-05-15 22:07:47,808] Finished trial#77 with value: 0.7333333333333333 with parameters: {'n_estimators': 887, 'max_depth': 11, 'learning_rate': 0.033, 'subsample': 0.9, 'loss': 'deviance', 'min_samples_split': 5, 'min_samples_leaf': 2, 'min_weight_fraction_leaf': 0.148, 'max_features': 8}. Best is trial#53 with value: 0.7388888888888889.\n",
      "[I 2020-05-15 22:07:48,402] Finished trial#78 with value: 0.6944444444444444 with parameters: {'n_estimators': 939, 'max_depth': 11, 'learning_rate': 0.045, 'subsample': 0.9, 'loss': 'deviance', 'min_samples_split': 6, 'min_samples_leaf': 12, 'min_weight_fraction_leaf': 0.328, 'max_features': 8}. Best is trial#53 with value: 0.7388888888888889.\n",
      "[I 2020-05-15 22:07:49,399] Finished trial#79 with value: 0.7 with parameters: {'n_estimators': 889, 'max_depth': 9, 'learning_rate': 0.061, 'subsample': 0.9, 'loss': 'deviance', 'min_samples_split': 3, 'min_samples_leaf': 3, 'min_weight_fraction_leaf': 0.098, 'max_features': 13}. Best is trial#53 with value: 0.7388888888888889.\n",
      "[I 2020-05-15 22:07:50,536] Finished trial#80 with value: 0.7388888888888889 with parameters: {'n_estimators': 979, 'max_depth': 8, 'learning_rate': 0.029, 'subsample': 0.9, 'loss': 'exponential', 'min_samples_split': 4, 'min_samples_leaf': 5, 'min_weight_fraction_leaf': 0.14100000000000001, 'max_features': 18}. Best is trial#53 with value: 0.7388888888888889.\n",
      "[I 2020-05-15 22:07:51,635] Finished trial#81 with value: 0.7 with parameters: {'n_estimators': 1000, 'max_depth': 7, 'learning_rate': 0.051000000000000004, 'subsample': 0.9, 'loss': 'exponential', 'min_samples_split': 7, 'min_samples_leaf': 5, 'min_weight_fraction_leaf': 0.165, 'max_features': 18}. Best is trial#53 with value: 0.7388888888888889.\n",
      "[I 2020-05-15 22:07:52,668] Finished trial#82 with value: 0.7333333333333333 with parameters: {'n_estimators': 981, 'max_depth': 8, 'learning_rate': 0.027000000000000003, 'subsample': 0.9, 'loss': 'exponential', 'min_samples_split': 6, 'min_samples_leaf': 4, 'min_weight_fraction_leaf': 0.139, 'max_features': 17}. Best is trial#53 with value: 0.7388888888888889.\n",
      "[I 2020-05-15 22:07:53,663] Finished trial#83 with value: 0.7222222222222222 with parameters: {'n_estimators': 967, 'max_depth': 10, 'learning_rate': 0.031, 'subsample': 0.9, 'loss': 'exponential', 'min_samples_split': 4, 'min_samples_leaf': 4, 'min_weight_fraction_leaf': 0.129, 'max_features': 16}. Best is trial#53 with value: 0.7388888888888889.\n",
      "[I 2020-05-15 22:07:54,679] Finished trial#84 with value: 0.7333333333333333 with parameters: {'n_estimators': 980, 'max_depth': 8, 'learning_rate': 0.026000000000000002, 'subsample': 0.9, 'loss': 'exponential', 'min_samples_split': 6, 'min_samples_leaf': 5, 'min_weight_fraction_leaf': 0.137, 'max_features': 17}. Best is trial#53 with value: 0.7388888888888889.\n",
      "[I 2020-05-15 22:07:56,073] Finished trial#85 with value: 0.7055555555555556 with parameters: {'n_estimators': 919, 'max_depth': 6, 'learning_rate': 0.025, 'subsample': 0.9, 'loss': 'exponential', 'min_samples_split': 6, 'min_samples_leaf': 5, 'min_weight_fraction_leaf': 0.06, 'max_features': 17}. Best is trial#53 with value: 0.7388888888888889.\n",
      "[I 2020-05-15 22:07:57,172] Finished trial#86 with value: 0.7222222222222222 with parameters: {'n_estimators': 981, 'max_depth': 8, 'learning_rate': 0.038, 'subsample': 0.9, 'loss': 'exponential', 'min_samples_split': 4, 'min_samples_leaf': 4, 'min_weight_fraction_leaf': 0.14200000000000002, 'max_features': 17}. Best is trial#53 with value: 0.7388888888888889.\n",
      "[I 2020-05-15 22:07:58,238] Finished trial#87 with value: 0.75 with parameters: {'n_estimators': 903, 'max_depth': 9, 'learning_rate': 0.015, 'subsample': 0.9, 'loss': 'exponential', 'min_samples_split': 5, 'min_samples_leaf': 5, 'min_weight_fraction_leaf': 0.113, 'max_features': 18}. Best is trial#87 with value: 0.75.\n",
      "[I 2020-05-15 22:07:59,450] Finished trial#88 with value: 0.7388888888888889 with parameters: {'n_estimators': 899, 'max_depth': 13, 'learning_rate': 0.010000000000000002, 'subsample': 0.9, 'loss': 'exponential', 'min_samples_split': 5, 'min_samples_leaf': 5, 'min_weight_fraction_leaf': 0.077, 'max_features': 18}. Best is trial#87 with value: 0.75.\n",
      "[I 2020-05-15 22:08:00,638] Finished trial#89 with value: 0.7388888888888889 with parameters: {'n_estimators': 939, 'max_depth': 9, 'learning_rate': 0.012, 'subsample': 0.9, 'loss': 'exponential', 'min_samples_split': 3, 'min_samples_leaf': 6, 'min_weight_fraction_leaf': 0.08600000000000001, 'max_features': 16}. Best is trial#87 with value: 0.75.\n",
      "[I 2020-05-15 22:08:02,590] Finished trial#90 with value: 0.6888888888888889 with parameters: {'n_estimators': 784, 'max_depth': 13, 'learning_rate': 0.013000000000000001, 'subsample': 0.8, 'loss': 'exponential', 'min_samples_split': 3, 'min_samples_leaf': 6, 'min_weight_fraction_leaf': 0.021, 'max_features': 18}. Best is trial#87 with value: 0.75.\n",
      "[I 2020-05-15 22:08:03,791] Finished trial#91 with value: 0.7388888888888889 with parameters: {'n_estimators': 935, 'max_depth': 8, 'learning_rate': 0.007, 'subsample': 0.9, 'loss': 'exponential', 'min_samples_split': 6, 'min_samples_leaf': 7, 'min_weight_fraction_leaf': 0.082, 'max_features': 17}. Best is trial#87 with value: 0.75.\n"
     ]
    },
    {
     "name": "stderr",
     "output_type": "stream",
     "text": [
      "[I 2020-05-15 22:08:04,952] Finished trial#92 with value: 0.7277777777777777 with parameters: {'n_estimators': 939, 'max_depth': 5, 'learning_rate': 0.005, 'subsample': 0.9, 'loss': 'exponential', 'min_samples_split': 5, 'min_samples_leaf': 8, 'min_weight_fraction_leaf': 0.085, 'max_features': 18}. Best is trial#87 with value: 0.75.\n",
      "[I 2020-05-15 22:08:06,002] Finished trial#93 with value: 0.7444444444444445 with parameters: {'n_estimators': 912, 'max_depth': 8, 'learning_rate': 0.010000000000000002, 'subsample': 0.9, 'loss': 'exponential', 'min_samples_split': 6, 'min_samples_leaf': 7, 'min_weight_fraction_leaf': 0.105, 'max_features': 17}. Best is trial#87 with value: 0.75.\n",
      "[I 2020-05-15 22:08:07,208] Finished trial#94 with value: 0.6944444444444444 with parameters: {'n_estimators': 905, 'max_depth': 9, 'learning_rate': 0.001, 'subsample': 0.9, 'loss': 'exponential', 'min_samples_split': 4, 'min_samples_leaf': 7, 'min_weight_fraction_leaf': 0.08, 'max_features': 16}. Best is trial#87 with value: 0.75.\n",
      "[I 2020-05-15 22:08:08,185] Finished trial#95 with value: 0.7444444444444445 with parameters: {'n_estimators': 852, 'max_depth': 11, 'learning_rate': 0.017, 'subsample': 0.9, 'loss': 'exponential', 'min_samples_split': 5, 'min_samples_leaf': 6, 'min_weight_fraction_leaf': 0.109, 'max_features': 16}. Best is trial#87 with value: 0.75.\n",
      "[I 2020-05-15 22:08:09,236] Finished trial#96 with value: 0.7444444444444445 with parameters: {'n_estimators': 936, 'max_depth': 7, 'learning_rate': 0.009000000000000001, 'subsample': 0.9, 'loss': 'exponential', 'min_samples_split': 5, 'min_samples_leaf': 6, 'min_weight_fraction_leaf': 0.109, 'max_features': 17}. Best is trial#87 with value: 0.75.\n",
      "[I 2020-05-15 22:08:10,229] Finished trial#97 with value: 0.7388888888888889 with parameters: {'n_estimators': 867, 'max_depth': 11, 'learning_rate': 0.009000000000000001, 'subsample': 0.9, 'loss': 'exponential', 'min_samples_split': 5, 'min_samples_leaf': 6, 'min_weight_fraction_leaf': 0.106, 'max_features': 16}. Best is trial#87 with value: 0.75.\n",
      "[I 2020-05-15 22:08:11,412] Finished trial#98 with value: 0.7388888888888889 with parameters: {'n_estimators': 806, 'max_depth': 14, 'learning_rate': 0.011, 'subsample': 0.9, 'loss': 'exponential', 'min_samples_split': 5, 'min_samples_leaf': 8, 'min_weight_fraction_leaf': 0.109, 'max_features': 16}. Best is trial#87 with value: 0.75.\n",
      "[I 2020-05-15 22:08:12,617] Finished trial#99 with value: 0.7444444444444445 with parameters: {'n_estimators': 855, 'max_depth': 14, 'learning_rate': 0.011, 'subsample': 0.9, 'loss': 'exponential', 'min_samples_split': 5, 'min_samples_leaf': 8, 'min_weight_fraction_leaf': 0.106, 'max_features': 16}. Best is trial#87 with value: 0.75.\n",
      "[I 2020-05-15 22:08:13,916] Finished trial#100 with value: 0.7333333333333333 with parameters: {'n_estimators': 804, 'max_depth': 14, 'learning_rate': 0.018000000000000002, 'subsample': 0.9, 'loss': 'exponential', 'min_samples_split': 5, 'min_samples_leaf': 8, 'min_weight_fraction_leaf': 0.067, 'max_features': 17}. Best is trial#87 with value: 0.75.\n",
      "[I 2020-05-15 22:08:15,018] Finished trial#101 with value: 0.7444444444444445 with parameters: {'n_estimators': 849, 'max_depth': 15, 'learning_rate': 0.009000000000000001, 'subsample': 0.9, 'loss': 'exponential', 'min_samples_split': 5, 'min_samples_leaf': 6, 'min_weight_fraction_leaf': 0.105, 'max_features': 16}. Best is trial#87 with value: 0.75.\n",
      "[I 2020-05-15 22:08:16,035] Finished trial#102 with value: 0.7388888888888889 with parameters: {'n_estimators': 855, 'max_depth': 15, 'learning_rate': 0.010000000000000002, 'subsample': 0.9, 'loss': 'exponential', 'min_samples_split': 4, 'min_samples_leaf': 6, 'min_weight_fraction_leaf': 0.11, 'max_features': 15}. Best is trial#87 with value: 0.75.\n",
      "[I 2020-05-15 22:08:17,625] Finished trial#103 with value: 0.7222222222222222 with parameters: {'n_estimators': 854, 'max_depth': 15, 'learning_rate': 0.001, 'subsample': 0.9, 'loss': 'exponential', 'min_samples_split': 4, 'min_samples_leaf': 6, 'min_weight_fraction_leaf': 0.04, 'max_features': 18}. Best is trial#87 with value: 0.75.\n",
      "[I 2020-05-15 22:08:18,630] Finished trial#104 with value: 0.7277777777777777 with parameters: {'n_estimators': 823, 'max_depth': 13, 'learning_rate': 0.005, 'subsample': 0.9, 'loss': 'exponential', 'min_samples_split': 5, 'min_samples_leaf': 7, 'min_weight_fraction_leaf': 0.10300000000000001, 'max_features': 16}. Best is trial#87 with value: 0.75.\n",
      "[I 2020-05-15 22:08:19,531] Finished trial#105 with value: 0.75 with parameters: {'n_estimators': 775, 'max_depth': 15, 'learning_rate': 0.016, 'subsample': 0.9, 'loss': 'exponential', 'min_samples_split': 4, 'min_samples_leaf': 8, 'min_weight_fraction_leaf': 0.106, 'max_features': 15}. Best is trial#87 with value: 0.75.\n",
      "[I 2020-05-15 22:08:20,533] Finished trial#106 with value: 0.7388888888888889 with parameters: {'n_estimators': 766, 'max_depth': 17, 'learning_rate': 0.017, 'subsample': 0.9, 'loss': 'exponential', 'min_samples_split': 6, 'min_samples_leaf': 7, 'min_weight_fraction_leaf': 0.09, 'max_features': 15}. Best is trial#87 with value: 0.75.\n",
      "[I 2020-05-15 22:08:21,439] Finished trial#107 with value: 0.75 with parameters: {'n_estimators': 789, 'max_depth': 16, 'learning_rate': 0.021, 'subsample': 0.9, 'loss': 'exponential', 'min_samples_split': 5, 'min_samples_leaf': 6, 'min_weight_fraction_leaf': 0.11800000000000001, 'max_features': 15}. Best is trial#87 with value: 0.75.\n",
      "[I 2020-05-15 22:08:22,207] Finished trial#108 with value: 0.75 with parameters: {'n_estimators': 686, 'max_depth': 17, 'learning_rate': 0.021, 'subsample': 0.9, 'loss': 'exponential', 'min_samples_split': 5, 'min_samples_leaf': 8, 'min_weight_fraction_leaf': 0.113, 'max_features': 15}. Best is trial#87 with value: 0.75.\n",
      "[I 2020-05-15 22:08:23,175] Finished trial#109 with value: 0.7555555555555555 with parameters: {'n_estimators': 779, 'max_depth': 18, 'learning_rate': 0.022000000000000002, 'subsample': 0.9, 'loss': 'exponential', 'min_samples_split': 4, 'min_samples_leaf': 8, 'min_weight_fraction_leaf': 0.122, 'max_features': 15}. Best is trial#109 with value: 0.7555555555555555.\n",
      "[I 2020-05-15 22:08:24,176] Finished trial#110 with value: 0.75 with parameters: {'n_estimators': 787, 'max_depth': 18, 'learning_rate': 0.021, 'subsample': 0.9, 'loss': 'exponential', 'min_samples_split': 5, 'min_samples_leaf': 8, 'min_weight_fraction_leaf': 0.11800000000000001, 'max_features': 15}. Best is trial#109 with value: 0.7555555555555555.\n",
      "[I 2020-05-15 22:08:24,994] Finished trial#111 with value: 0.75 with parameters: {'n_estimators': 696, 'max_depth': 19, 'learning_rate': 0.021, 'subsample': 0.9, 'loss': 'exponential', 'min_samples_split': 5, 'min_samples_leaf': 8, 'min_weight_fraction_leaf': 0.11900000000000001, 'max_features': 15}. Best is trial#109 with value: 0.7555555555555555.\n",
      "[I 2020-05-15 22:08:25,880] Finished trial#112 with value: 0.75 with parameters: {'n_estimators': 785, 'max_depth': 18, 'learning_rate': 0.021, 'subsample': 0.9, 'loss': 'exponential', 'min_samples_split': 14, 'min_samples_leaf': 10, 'min_weight_fraction_leaf': 0.11900000000000001, 'max_features': 15}. Best is trial#109 with value: 0.7555555555555555.\n",
      "[I 2020-05-15 22:08:26,749] Finished trial#113 with value: 0.75 with parameters: {'n_estimators': 695, 'max_depth': 19, 'learning_rate': 0.021, 'subsample': 0.9, 'loss': 'exponential', 'min_samples_split': 13, 'min_samples_leaf': 8, 'min_weight_fraction_leaf': 0.11800000000000001, 'max_features': 15}. Best is trial#109 with value: 0.7555555555555555.\n",
      "[I 2020-05-15 22:08:27,557] Finished trial#114 with value: 0.75 with parameters: {'n_estimators': 679, 'max_depth': 19, 'learning_rate': 0.021, 'subsample': 0.9, 'loss': 'exponential', 'min_samples_split': 14, 'min_samples_leaf': 10, 'min_weight_fraction_leaf': 0.12, 'max_features': 15}. Best is trial#109 with value: 0.7555555555555555.\n"
     ]
    },
    {
     "name": "stderr",
     "output_type": "stream",
     "text": [
      "[I 2020-05-15 22:08:28,435] Finished trial#115 with value: 0.75 with parameters: {'n_estimators': 712, 'max_depth': 19, 'learning_rate': 0.022000000000000002, 'subsample': 0.9, 'loss': 'exponential', 'min_samples_split': 13, 'min_samples_leaf': 10, 'min_weight_fraction_leaf': 0.11900000000000001, 'max_features': 15}. Best is trial#109 with value: 0.7555555555555555.\n",
      "[I 2020-05-15 22:08:29,245] Finished trial#116 with value: 0.7333333333333333 with parameters: {'n_estimators': 679, 'max_depth': 19, 'learning_rate': 0.023, 'subsample': 0.9, 'loss': 'exponential', 'min_samples_split': 14, 'min_samples_leaf': 11, 'min_weight_fraction_leaf': 0.124, 'max_features': 15}. Best is trial#109 with value: 0.7555555555555555.\n",
      "[I 2020-05-15 22:08:29,987] Finished trial#117 with value: 0.7222222222222222 with parameters: {'n_estimators': 702, 'max_depth': 20, 'learning_rate': 0.022000000000000002, 'subsample': 0.9, 'loss': 'exponential', 'min_samples_split': 14, 'min_samples_leaf': 9, 'min_weight_fraction_leaf': 0.156, 'max_features': 14}. Best is trial#109 with value: 0.7555555555555555.\n",
      "[I 2020-05-15 22:08:30,759] Finished trial#118 with value: 0.7444444444444445 with parameters: {'n_estimators': 661, 'max_depth': 22, 'learning_rate': 0.021, 'subsample': 0.9, 'loss': 'exponential', 'min_samples_split': 15, 'min_samples_leaf': 10, 'min_weight_fraction_leaf': 0.11800000000000001, 'max_features': 14}. Best is trial#109 with value: 0.7555555555555555.\n",
      "[I 2020-05-15 22:08:31,557] Finished trial#119 with value: 0.7277777777777777 with parameters: {'n_estimators': 707, 'max_depth': 18, 'learning_rate': 0.015, 'subsample': 0.9, 'loss': 'exponential', 'min_samples_split': 13, 'min_samples_leaf': 11, 'min_weight_fraction_leaf': 0.121, 'max_features': 15}. Best is trial#109 with value: 0.7555555555555555.\n",
      "[I 2020-05-15 22:08:32,208] Finished trial#120 with value: 0.7388888888888889 with parameters: {'n_estimators': 566, 'max_depth': 18, 'learning_rate': 0.02, 'subsample': 0.9, 'loss': 'exponential', 'min_samples_split': 13, 'min_samples_leaf': 9, 'min_weight_fraction_leaf': 0.132, 'max_features': 15}. Best is trial#109 with value: 0.7555555555555555.\n",
      "[I 2020-05-15 22:08:33,247] Finished trial#121 with value: 0.7333333333333333 with parameters: {'n_estimators': 744, 'max_depth': 20, 'learning_rate': 0.015, 'subsample': 0.9, 'loss': 'exponential', 'min_samples_split': 13, 'min_samples_leaf': 8, 'min_weight_fraction_leaf': 0.07, 'max_features': 15}. Best is trial#109 with value: 0.7555555555555555.\n",
      "[I 2020-05-15 22:08:34,332] Finished trial#122 with value: 0.7333333333333333 with parameters: {'n_estimators': 777, 'max_depth': 24, 'learning_rate': 0.018000000000000002, 'subsample': 0.9, 'loss': 'exponential', 'min_samples_split': 15, 'min_samples_leaf': 10, 'min_weight_fraction_leaf': 0.096, 'max_features': 15}. Best is trial#109 with value: 0.7555555555555555.\n",
      "[I 2020-05-15 22:08:35,066] Finished trial#123 with value: 0.7333333333333333 with parameters: {'n_estimators': 721, 'max_depth': 16, 'learning_rate': 0.023, 'subsample': 0.9, 'loss': 'exponential', 'min_samples_split': 16, 'min_samples_leaf': 9, 'min_weight_fraction_leaf': 0.152, 'max_features': 14}. Best is trial#109 with value: 0.7555555555555555.\n",
      "[I 2020-05-15 22:08:35,795] Finished trial#124 with value: 0.75 with parameters: {'n_estimators': 647, 'max_depth': 22, 'learning_rate': 0.02, 'subsample': 0.9, 'loss': 'exponential', 'min_samples_split': 16, 'min_samples_leaf': 10, 'min_weight_fraction_leaf': 0.12, 'max_features': 14}. Best is trial#109 with value: 0.7555555555555555.\n",
      "[I 2020-05-15 22:08:36,491] Finished trial#125 with value: 0.7444444444444445 with parameters: {'n_estimators': 621, 'max_depth': 21, 'learning_rate': 0.027000000000000003, 'subsample': 0.9, 'loss': 'exponential', 'min_samples_split': 16, 'min_samples_leaf': 11, 'min_weight_fraction_leaf': 0.13, 'max_features': 14}. Best is trial#109 with value: 0.7555555555555555.\n",
      "[I 2020-05-15 22:08:37,288] Finished trial#126 with value: 0.75 with parameters: {'n_estimators': 684, 'max_depth': 19, 'learning_rate': 0.02, 'subsample': 0.9, 'loss': 'exponential', 'min_samples_split': 12, 'min_samples_leaf': 10, 'min_weight_fraction_leaf': 0.11900000000000001, 'max_features': 15}. Best is trial#109 with value: 0.7555555555555555.\n",
      "[I 2020-05-15 22:08:37,986] Finished trial#127 with value: 0.7388888888888889 with parameters: {'n_estimators': 678, 'max_depth': 19, 'learning_rate': 0.029, 'subsample': 0.9, 'loss': 'exponential', 'min_samples_split': 12, 'min_samples_leaf': 12, 'min_weight_fraction_leaf': 0.162, 'max_features': 15}. Best is trial#109 with value: 0.7555555555555555.\n",
      "[I 2020-05-15 22:08:38,757] Finished trial#128 with value: 0.75 with parameters: {'n_estimators': 649, 'max_depth': 22, 'learning_rate': 0.036000000000000004, 'subsample': 0.9, 'loss': 'exponential', 'min_samples_split': 19, 'min_samples_leaf': 10, 'min_weight_fraction_leaf': 0.12, 'max_features': 14}. Best is trial#109 with value: 0.7555555555555555.\n",
      "[I 2020-05-15 22:08:39,557] Finished trial#129 with value: 0.7277777777777777 with parameters: {'n_estimators': 582, 'max_depth': 22, 'learning_rate': 0.036000000000000004, 'subsample': 0.9, 'loss': 'exponential', 'min_samples_split': 18, 'min_samples_leaf': 10, 'min_weight_fraction_leaf': 0.127, 'max_features': 14}. Best is trial#109 with value: 0.7555555555555555.\n",
      "[I 2020-05-15 22:08:40,376] Finished trial#130 with value: 0.7222222222222222 with parameters: {'n_estimators': 636, 'max_depth': 25, 'learning_rate': 0.015, 'subsample': 0.9, 'loss': 'exponential', 'min_samples_split': 12, 'min_samples_leaf': 10, 'min_weight_fraction_leaf': 0.149, 'max_features': 14}. Best is trial#109 with value: 0.7555555555555555.\n",
      "[I 2020-05-15 22:08:41,276] Finished trial#131 with value: 0.7555555555555555 with parameters: {'n_estimators': 702, 'max_depth': 18, 'learning_rate': 0.02, 'subsample': 0.9, 'loss': 'exponential', 'min_samples_split': 18, 'min_samples_leaf': 9, 'min_weight_fraction_leaf': 0.11800000000000001, 'max_features': 15}. Best is trial#109 with value: 0.7555555555555555.\n",
      "[I 2020-05-15 22:08:42,167] Finished trial#132 with value: 0.7388888888888889 with parameters: {'n_estimators': 696, 'max_depth': 18, 'learning_rate': 0.024, 'subsample': 0.9, 'loss': 'exponential', 'min_samples_split': 19, 'min_samples_leaf': 9, 'min_weight_fraction_leaf': 0.117, 'max_features': 15}. Best is trial#109 with value: 0.7555555555555555.\n",
      "[I 2020-05-15 22:08:43,339] Finished trial#133 with value: 0.6888888888888889 with parameters: {'n_estimators': 664, 'max_depth': 17, 'learning_rate': 0.042, 'subsample': 0.9, 'loss': 'exponential', 'min_samples_split': 19, 'min_samples_leaf': 8, 'min_weight_fraction_leaf': 0.053, 'max_features': 15}. Best is trial#109 with value: 0.7555555555555555.\n",
      "[I 2020-05-15 22:08:44,411] Finished trial#134 with value: 0.7222222222222222 with parameters: {'n_estimators': 749, 'max_depth': 20, 'learning_rate': 0.030000000000000002, 'subsample': 0.9, 'loss': 'exponential', 'min_samples_split': 19, 'min_samples_leaf': 9, 'min_weight_fraction_leaf': 0.092, 'max_features': 14}. Best is trial#109 with value: 0.7555555555555555.\n",
      "[I 2020-05-15 22:08:45,207] Finished trial#135 with value: 0.7277777777777777 with parameters: {'n_estimators': 658, 'max_depth': 21, 'learning_rate': 0.019000000000000003, 'subsample': 0.9, 'loss': 'exponential', 'min_samples_split': 18, 'min_samples_leaf': 10, 'min_weight_fraction_leaf': 0.136, 'max_features': 14}. Best is trial#109 with value: 0.7555555555555555.\n",
      "[I 2020-05-15 22:08:46,053] Finished trial#136 with value: 0.7444444444444445 with parameters: {'n_estimators': 604, 'max_depth': 23, 'learning_rate': 0.026000000000000002, 'subsample': 0.9, 'loss': 'exponential', 'min_samples_split': 17, 'min_samples_leaf': 11, 'min_weight_fraction_leaf': 0.093, 'max_features': 15}. Best is trial#109 with value: 0.7555555555555555.\n"
     ]
    },
    {
     "name": "stderr",
     "output_type": "stream",
     "text": [
      "[I 2020-05-15 22:08:46,861] Finished trial#137 with value: 0.7388888888888889 with parameters: {'n_estimators': 718, 'max_depth': 19, 'learning_rate': 0.015, 'subsample': 0.9, 'loss': 'exponential', 'min_samples_split': 13, 'min_samples_leaf': 10, 'min_weight_fraction_leaf': 0.122, 'max_features': 13}. Best is trial#109 with value: 0.7555555555555555.\n",
      "[I 2020-05-15 22:08:47,664] Finished trial#138 with value: 0.7333333333333333 with parameters: {'n_estimators': 739, 'max_depth': 18, 'learning_rate': 0.02, 'subsample': 0.9, 'loss': 'exponential', 'min_samples_split': 14, 'min_samples_leaf': 9, 'min_weight_fraction_leaf': 0.14400000000000002, 'max_features': 15}. Best is trial#109 with value: 0.7555555555555555.\n",
      "[I 2020-05-15 22:08:48,319] Finished trial#139 with value: 0.7444444444444445 with parameters: {'n_estimators': 497, 'max_depth': 22, 'learning_rate': 0.021, 'subsample': 0.9, 'loss': 'exponential', 'min_samples_split': 15, 'min_samples_leaf': 10, 'min_weight_fraction_leaf': 0.115, 'max_features': 16}. Best is trial#109 with value: 0.7555555555555555.\n",
      "[I 2020-05-15 22:08:49,552] Finished trial#140 with value: 0.7222222222222222 with parameters: {'n_estimators': 760, 'max_depth': 17, 'learning_rate': 0.004, 'subsample': 0.9, 'loss': 'exponential', 'min_samples_split': 20, 'min_samples_leaf': 8, 'min_weight_fraction_leaf': 0.074, 'max_features': 13}. Best is trial#109 with value: 0.7555555555555555.\n",
      "[I 2020-05-15 22:08:50,640] Finished trial#141 with value: 0.7277777777777777 with parameters: {'n_estimators': 691, 'max_depth': 20, 'learning_rate': 0.024, 'subsample': 0.9, 'loss': 'exponential', 'min_samples_split': 17, 'min_samples_leaf': 11, 'min_weight_fraction_leaf': 0.13, 'max_features': 15}. Best is trial#109 with value: 0.7555555555555555.\n",
      "[I 2020-05-15 22:08:51,767] Finished trial#142 with value: 0.7166666666666667 with parameters: {'n_estimators': 785, 'max_depth': 19, 'learning_rate': 0.031, 'subsample': 0.9, 'loss': 'exponential', 'min_samples_split': 14, 'min_samples_leaf': 9, 'min_weight_fraction_leaf': 0.122, 'max_features': 14}. Best is trial#109 with value: 0.7555555555555555.\n",
      "[I 2020-05-15 22:08:52,715] Finished trial#143 with value: 0.7388888888888889 with parameters: {'n_estimators': 627, 'max_depth': 16, 'learning_rate': 0.015, 'subsample': 0.9, 'loss': 'exponential', 'min_samples_split': 11, 'min_samples_leaf': 8, 'min_weight_fraction_leaf': 0.096, 'max_features': 15}. Best is trial#109 with value: 0.7555555555555555.\n",
      "[I 2020-05-15 22:08:53,538] Finished trial#144 with value: 0.7222222222222222 with parameters: {'n_estimators': 728, 'max_depth': 18, 'learning_rate': 0.028, 'subsample': 0.9, 'loss': 'exponential', 'min_samples_split': 13, 'min_samples_leaf': 9, 'min_weight_fraction_leaf': 0.17, 'max_features': 16}. Best is trial#109 with value: 0.7555555555555555.\n",
      "[I 2020-05-15 22:08:54,354] Finished trial#145 with value: 0.75 with parameters: {'n_estimators': 684, 'max_depth': 16, 'learning_rate': 0.035, 'subsample': 0.9, 'loss': 'exponential', 'min_samples_split': 12, 'min_samples_leaf': 10, 'min_weight_fraction_leaf': 0.117, 'max_features': 15}. Best is trial#109 with value: 0.7555555555555555.\n",
      "[I 2020-05-15 22:08:55,280] Finished trial#146 with value: 0.7333333333333333 with parameters: {'n_estimators': 679, 'max_depth': 23, 'learning_rate': 0.037000000000000005, 'subsample': 0.9, 'loss': 'exponential', 'min_samples_split': 12, 'min_samples_leaf': 12, 'min_weight_fraction_leaf': 0.136, 'max_features': 14}. Best is trial#109 with value: 0.7555555555555555.\n",
      "[I 2020-05-15 22:08:56,053] Finished trial#147 with value: 0.7222222222222222 with parameters: {'n_estimators': 647, 'max_depth': 21, 'learning_rate': 0.042, 'subsample': 0.9, 'loss': 'exponential', 'min_samples_split': 12, 'min_samples_leaf': 10, 'min_weight_fraction_leaf': 0.183, 'max_features': 15}. Best is trial#109 with value: 0.7555555555555555.\n",
      "[I 2020-05-15 22:08:56,855] Finished trial#148 with value: 0.7222222222222222 with parameters: {'n_estimators': 705, 'max_depth': 19, 'learning_rate': 0.018000000000000002, 'subsample': 0.9, 'loss': 'exponential', 'min_samples_split': 18, 'min_samples_leaf': 8, 'min_weight_fraction_leaf': 0.154, 'max_features': 14}. Best is trial#109 with value: 0.7555555555555555.\n",
      "[I 2020-05-15 22:08:57,778] Finished trial#149 with value: 0.7388888888888889 with parameters: {'n_estimators': 766, 'max_depth': 16, 'learning_rate': 0.034, 'subsample': 0.9, 'loss': 'exponential', 'min_samples_split': 13, 'min_samples_leaf': 11, 'min_weight_fraction_leaf': 0.112, 'max_features': 16}. Best is trial#109 with value: 0.7555555555555555.\n",
      "[I 2020-05-15 22:08:58,697] Finished trial#150 with value: 0.7388888888888889 with parameters: {'n_estimators': 659, 'max_depth': 17, 'learning_rate': 0.013000000000000001, 'subsample': 0.9, 'loss': 'exponential', 'min_samples_split': 15, 'min_samples_leaf': 9, 'min_weight_fraction_leaf': 0.096, 'max_features': 15}. Best is trial#109 with value: 0.7555555555555555.\n",
      "[I 2020-05-15 22:08:59,525] Finished trial#151 with value: 0.7444444444444445 with parameters: {'n_estimators': 683, 'max_depth': 18, 'learning_rate': 0.024, 'subsample': 0.9, 'loss': 'exponential', 'min_samples_split': 13, 'min_samples_leaf': 10, 'min_weight_fraction_leaf': 0.11900000000000001, 'max_features': 15}. Best is trial#109 with value: 0.7555555555555555.\n",
      "[I 2020-05-15 22:09:00,421] Finished trial#152 with value: 0.7388888888888889 with parameters: {'n_estimators': 732, 'max_depth': 20, 'learning_rate': 0.021, 'subsample': 0.9, 'loss': 'exponential', 'min_samples_split': 11, 'min_samples_leaf': 9, 'min_weight_fraction_leaf': 0.131, 'max_features': 15}. Best is trial#109 with value: 0.7555555555555555.\n",
      "[I 2020-05-15 22:09:01,452] Finished trial#153 with value: 0.7444444444444445 with parameters: {'n_estimators': 713, 'max_depth': 17, 'learning_rate': 0.028, 'subsample': 0.9, 'loss': 'exponential', 'min_samples_split': 14, 'min_samples_leaf': 10, 'min_weight_fraction_leaf': 0.115, 'max_features': 16}. Best is trial#109 with value: 0.7555555555555555.\n",
      "[I 2020-05-15 22:09:02,337] Finished trial#154 with value: 0.7333333333333333 with parameters: {'n_estimators': 792, 'max_depth': 19, 'learning_rate': 0.018000000000000002, 'subsample': 0.9, 'loss': 'exponential', 'min_samples_split': 12, 'min_samples_leaf': 8, 'min_weight_fraction_leaf': 0.14400000000000002, 'max_features': 15}. Best is trial#109 with value: 0.7555555555555555.\n",
      "[I 2020-05-15 22:09:03,242] Finished trial#155 with value: 0.7333333333333333 with parameters: {'n_estimators': 663, 'max_depth': 18, 'learning_rate': 0.013000000000000001, 'subsample': 0.9, 'loss': 'exponential', 'min_samples_split': 14, 'min_samples_leaf': 11, 'min_weight_fraction_leaf': 0.1, 'max_features': 14}. Best is trial#109 with value: 0.7555555555555555.\n",
      "[I 2020-05-15 22:09:04,124] Finished trial#156 with value: 0.7388888888888889 with parameters: {'n_estimators': 613, 'max_depth': 16, 'learning_rate': 0.025, 'subsample': 0.9, 'loss': 'exponential', 'min_samples_split': 13, 'min_samples_leaf': 17, 'min_weight_fraction_leaf': 0.085, 'max_features': 16}. Best is trial#109 with value: 0.7555555555555555.\n",
      "[I 2020-05-15 22:09:04,929] Finished trial#157 with value: 0.7333333333333333 with parameters: {'n_estimators': 692, 'max_depth': 17, 'learning_rate': 0.032, 'subsample': 0.9, 'loss': 'exponential', 'min_samples_split': 12, 'min_samples_leaf': 9, 'min_weight_fraction_leaf': 0.126, 'max_features': 13}. Best is trial#109 with value: 0.7555555555555555.\n",
      "[I 2020-05-15 22:09:05,661] Finished trial#158 with value: 0.75 with parameters: {'n_estimators': 590, 'max_depth': 20, 'learning_rate': 0.021, 'subsample': 0.9, 'loss': 'exponential', 'min_samples_split': 20, 'min_samples_leaf': 10, 'min_weight_fraction_leaf': 0.114, 'max_features': 14}. Best is trial#109 with value: 0.7555555555555555.\n"
     ]
    },
    {
     "name": "stderr",
     "output_type": "stream",
     "text": [
      "[I 2020-05-15 22:09:06,796] Finished trial#159 with value: 0.7444444444444445 with parameters: {'n_estimators': 746, 'max_depth': 20, 'learning_rate': 0.006, 'subsample': 0.9, 'loss': 'exponential', 'min_samples_split': 20, 'min_samples_leaf': 7, 'min_weight_fraction_leaf': 0.099, 'max_features': 15}. Best is trial#109 with value: 0.7555555555555555.\n",
      "[I 2020-05-15 22:09:07,474] Finished trial#160 with value: 0.7277777777777777 with parameters: {'n_estimators': 564, 'max_depth': 21, 'learning_rate': 0.019000000000000003, 'subsample': 0.9, 'loss': 'exponential', 'min_samples_split': 19, 'min_samples_leaf': 8, 'min_weight_fraction_leaf': 0.136, 'max_features': 14}. Best is trial#109 with value: 0.7555555555555555.\n",
      "[I 2020-05-15 22:09:08,267] Finished trial#161 with value: 0.7444444444444445 with parameters: {'n_estimators': 638, 'max_depth': 22, 'learning_rate': 0.022000000000000002, 'subsample': 0.9, 'loss': 'exponential', 'min_samples_split': 16, 'min_samples_leaf': 10, 'min_weight_fraction_leaf': 0.116, 'max_features': 15}. Best is trial#109 with value: 0.7555555555555555.\n",
      "[I 2020-05-15 22:09:09,013] Finished trial#162 with value: 0.7333333333333333 with parameters: {'n_estimators': 588, 'max_depth': 19, 'learning_rate': 0.014000000000000002, 'subsample': 0.9, 'loss': 'exponential', 'min_samples_split': 19, 'min_samples_leaf': 9, 'min_weight_fraction_leaf': 0.11, 'max_features': 14}. Best is trial#109 with value: 0.7555555555555555.\n",
      "[I 2020-05-15 22:09:09,864] Finished trial#163 with value: 0.7444444444444445 with parameters: {'n_estimators': 706, 'max_depth': 15, 'learning_rate': 0.026000000000000002, 'subsample': 0.9, 'loss': 'exponential', 'min_samples_split': 20, 'min_samples_leaf': 10, 'min_weight_fraction_leaf': 0.124, 'max_features': 15}. Best is trial#109 with value: 0.7555555555555555.\n",
      "[I 2020-05-15 22:09:10,654] Finished trial#164 with value: 0.7388888888888889 with parameters: {'n_estimators': 677, 'max_depth': 18, 'learning_rate': 0.022000000000000002, 'subsample': 0.9, 'loss': 'exponential', 'min_samples_split': 4, 'min_samples_leaf': 11, 'min_weight_fraction_leaf': 0.14400000000000002, 'max_features': 14}. Best is trial#109 with value: 0.7555555555555555.\n",
      "[I 2020-05-15 22:09:11,775] Finished trial#165 with value: 0.75 with parameters: {'n_estimators': 643, 'max_depth': 20, 'learning_rate': 0.017, 'subsample': 0.9, 'loss': 'exponential', 'min_samples_split': 11, 'min_samples_leaf': 10, 'min_weight_fraction_leaf': 0.101, 'max_features': 16}. Best is trial#109 with value: 0.7555555555555555.\n",
      "[I 2020-05-15 22:09:12,794] Finished trial#166 with value: 0.7388888888888889 with parameters: {'n_estimators': 641, 'max_depth': 21, 'learning_rate': 0.030000000000000002, 'subsample': 0.9, 'loss': 'exponential', 'min_samples_split': 11, 'min_samples_leaf': 10, 'min_weight_fraction_leaf': 0.088, 'max_features': 16}. Best is trial#109 with value: 0.7555555555555555.\n",
      "[I 2020-05-15 22:09:13,887] Finished trial#167 with value: 0.6611111111111111 with parameters: {'n_estimators': 815, 'max_depth': 23, 'learning_rate': 0.001, 'subsample': 0.9, 'loss': 'exponential', 'min_samples_split': 11, 'min_samples_leaf': 8, 'min_weight_fraction_leaf': 0.1, 'max_features': 16}. Best is trial#109 with value: 0.7555555555555555.\n",
      "[I 2020-05-15 22:09:14,889] Finished trial#168 with value: 0.7388888888888889 with parameters: {'n_estimators': 772, 'max_depth': 26, 'learning_rate': 0.016, 'subsample': 0.9, 'loss': 'exponential', 'min_samples_split': 20, 'min_samples_leaf': 9, 'min_weight_fraction_leaf': 0.108, 'max_features': 14}. Best is trial#109 with value: 0.7555555555555555.\n",
      "[I 2020-05-15 22:09:15,694] Finished trial#169 with value: 0.7222222222222222 with parameters: {'n_estimators': 615, 'max_depth': 20, 'learning_rate': 0.012, 'subsample': 0.9, 'loss': 'exponential', 'min_samples_split': 12, 'min_samples_leaf': 10, 'min_weight_fraction_leaf': 0.129, 'max_features': 15}. Best is trial#109 with value: 0.7555555555555555.\n",
      "[I 2020-05-15 22:09:16,844] Finished trial#170 with value: 0.7277777777777777 with parameters: {'n_estimators': 723, 'max_depth': 18, 'learning_rate': 0.036000000000000004, 'subsample': 0.9, 'loss': 'exponential', 'min_samples_split': 13, 'min_samples_leaf': 11, 'min_weight_fraction_leaf': 0.157, 'max_features': 15}. Best is trial#109 with value: 0.7555555555555555.\n",
      "[I 2020-05-15 22:09:18,044] Finished trial#171 with value: 0.7555555555555555 with parameters: {'n_estimators': 667, 'max_depth': 19, 'learning_rate': 0.018000000000000002, 'subsample': 0.9, 'loss': 'exponential', 'min_samples_split': 14, 'min_samples_leaf': 10, 'min_weight_fraction_leaf': 0.116, 'max_features': 15}. Best is trial#109 with value: 0.7555555555555555.\n",
      "[I 2020-05-15 22:09:19,068] Finished trial#172 with value: 0.75 with parameters: {'n_estimators': 665, 'max_depth': 19, 'learning_rate': 0.017, 'subsample': 0.9, 'loss': 'exponential', 'min_samples_split': 14, 'min_samples_leaf': 9, 'min_weight_fraction_leaf': 0.11800000000000001, 'max_features': 16}. Best is trial#109 with value: 0.7555555555555555.\n",
      "[I 2020-05-15 22:09:20,031] Finished trial#173 with value: 0.7166666666666667 with parameters: {'n_estimators': 670, 'max_depth': 16, 'learning_rate': 0.008, 'subsample': 0.9, 'loss': 'exponential', 'min_samples_split': 14, 'min_samples_leaf': 9, 'min_weight_fraction_leaf': 0.122, 'max_features': 15}. Best is trial#109 with value: 0.7555555555555555.\n",
      "[I 2020-05-15 22:09:20,971] Finished trial#174 with value: 0.7444444444444445 with parameters: {'n_estimators': 699, 'max_depth': 19, 'learning_rate': 0.025, 'subsample': 0.9, 'loss': 'exponential', 'min_samples_split': 14, 'min_samples_leaf': 10, 'min_weight_fraction_leaf': 0.139, 'max_features': 15}. Best is trial#109 with value: 0.7555555555555555.\n",
      "[I 2020-05-15 22:09:21,857] Finished trial#175 with value: 0.75 with parameters: {'n_estimators': 634, 'max_depth': 20, 'learning_rate': 0.017, 'subsample': 0.9, 'loss': 'exponential', 'min_samples_split': 15, 'min_samples_leaf': 11, 'min_weight_fraction_leaf': 0.10200000000000001, 'max_features': 16}. Best is trial#109 with value: 0.7555555555555555.\n",
      "[I 2020-05-15 22:09:23,044] Finished trial#176 with value: 0.7333333333333333 with parameters: {'n_estimators': 651, 'max_depth': 22, 'learning_rate': 0.02, 'subsample': 0.9, 'loss': 'exponential', 'min_samples_split': 10, 'min_samples_leaf': 9, 'min_weight_fraction_leaf': 0.078, 'max_features': 16}. Best is trial#109 with value: 0.7555555555555555.\n",
      "[I 2020-05-15 22:09:24,016] Finished trial#177 with value: 0.7388888888888889 with parameters: {'n_estimators': 748, 'max_depth': 17, 'learning_rate': 0.012, 'subsample': 0.9, 'loss': 'exponential', 'min_samples_split': 15, 'min_samples_leaf': 7, 'min_weight_fraction_leaf': 0.11900000000000001, 'max_features': 15}. Best is trial#109 with value: 0.7555555555555555.\n",
      "[I 2020-05-15 22:09:24,872] Finished trial#178 with value: 0.75 with parameters: {'n_estimators': 588, 'max_depth': 18, 'learning_rate': 0.017, 'subsample': 0.9, 'loss': 'exponential', 'min_samples_split': 16, 'min_samples_leaf': 8, 'min_weight_fraction_leaf': 0.109, 'max_features': 14}. Best is trial#109 with value: 0.7555555555555555.\n",
      "[I 2020-05-15 22:09:25,751] Finished trial#179 with value: 0.7333333333333333 with parameters: {'n_estimators': 717, 'max_depth': 18, 'learning_rate': 0.028, 'subsample': 0.9, 'loss': 'exponential', 'min_samples_split': 17, 'min_samples_leaf': 8, 'min_weight_fraction_leaf': 0.132, 'max_features': 14}. Best is trial#109 with value: 0.7555555555555555.\n",
      "[I 2020-05-15 22:09:26,480] Finished trial#180 with value: 0.7277777777777777 with parameters: {'n_estimators': 512, 'max_depth': 19, 'learning_rate': 0.023, 'subsample': 0.9, 'loss': 'exponential', 'min_samples_split': 17, 'min_samples_leaf': 9, 'min_weight_fraction_leaf': 0.089, 'max_features': 13}. Best is trial#109 with value: 0.7555555555555555.\n"
     ]
    },
    {
     "name": "stderr",
     "output_type": "stream",
     "text": [
      "[I 2020-05-15 22:09:27,375] Finished trial#181 with value: 0.7388888888888889 with parameters: {'n_estimators': 631, 'max_depth': 21, 'learning_rate': 0.016, 'subsample': 0.9, 'loss': 'exponential', 'min_samples_split': 15, 'min_samples_leaf': 11, 'min_weight_fraction_leaf': 0.1, 'max_features': 16}. Best is trial#109 with value: 0.7555555555555555.\n",
      "[I 2020-05-15 22:09:28,423] Finished trial#182 with value: 0.7333333333333333 with parameters: {'n_estimators': 690, 'max_depth': 19, 'learning_rate': 0.017, 'subsample': 0.9, 'loss': 'exponential', 'min_samples_split': 14, 'min_samples_leaf': 8, 'min_weight_fraction_leaf': 0.127, 'max_features': 15}. Best is trial#109 with value: 0.7555555555555555.\n",
      "[I 2020-05-15 22:09:29,276] Finished trial#183 with value: 0.7388888888888889 with parameters: {'n_estimators': 666, 'max_depth': 16, 'learning_rate': 0.021, 'subsample': 0.9, 'loss': 'exponential', 'min_samples_split': 15, 'min_samples_leaf': 10, 'min_weight_fraction_leaf': 0.115, 'max_features': 15}. Best is trial#109 with value: 0.7555555555555555.\n",
      "[I 2020-05-15 22:09:30,310] Finished trial#184 with value: 0.7444444444444445 with parameters: {'n_estimators': 795, 'max_depth': 17, 'learning_rate': 0.009000000000000001, 'subsample': 0.9, 'loss': 'exponential', 'min_samples_split': 15, 'min_samples_leaf': 12, 'min_weight_fraction_leaf': 0.107, 'max_features': 15}. Best is trial#109 with value: 0.7555555555555555.\n",
      "[I 2020-05-15 22:09:31,105] Finished trial#185 with value: 0.75 with parameters: {'n_estimators': 597, 'max_depth': 24, 'learning_rate': 0.027000000000000003, 'subsample': 0.9, 'loss': 'exponential', 'min_samples_split': 18, 'min_samples_leaf': 10, 'min_weight_fraction_leaf': 0.112, 'max_features': 14}. Best is trial#109 with value: 0.7555555555555555.\n",
      "[I 2020-05-15 22:09:31,892] Finished trial#186 with value: 0.7388888888888889 with parameters: {'n_estimators': 602, 'max_depth': 24, 'learning_rate': 0.031, 'subsample': 0.9, 'loss': 'exponential', 'min_samples_split': 19, 'min_samples_leaf': 10, 'min_weight_fraction_leaf': 0.146, 'max_features': 14}. Best is trial#109 with value: 0.7555555555555555.\n",
      "[I 2020-05-15 22:09:32,715] Finished trial#187 with value: 0.7388888888888889 with parameters: {'n_estimators': 552, 'max_depth': 24, 'learning_rate': 0.025, 'subsample': 0.9, 'loss': 'exponential', 'min_samples_split': 10, 'min_samples_leaf': 10, 'min_weight_fraction_leaf': 0.091, 'max_features': 14}. Best is trial#109 with value: 0.7555555555555555.\n",
      "[I 2020-05-15 22:09:33,843] Finished trial#188 with value: 0.7388888888888889 with parameters: {'n_estimators': 672, 'max_depth': 19, 'learning_rate': 0.028, 'subsample': 0.9, 'loss': 'exponential', 'min_samples_split': 13, 'min_samples_leaf': 9, 'min_weight_fraction_leaf': 0.116, 'max_features': 14}. Best is trial#109 with value: 0.7555555555555555.\n",
      "[I 2020-05-15 22:09:34,639] Finished trial#189 with value: 0.7277777777777777 with parameters: {'n_estimators': 595, 'max_depth': 20, 'learning_rate': 0.013000000000000001, 'subsample': 0.9, 'loss': 'exponential', 'min_samples_split': 16, 'min_samples_leaf': 11, 'min_weight_fraction_leaf': 0.134, 'max_features': 13}. Best is trial#109 with value: 0.7555555555555555.\n",
      "[I 2020-05-15 22:09:35,599] Finished trial#190 with value: 0.7277777777777777 with parameters: {'n_estimators': 628, 'max_depth': 15, 'learning_rate': 0.033, 'subsample': 0.9, 'loss': 'exponential', 'min_samples_split': 18, 'min_samples_leaf': 7, 'min_weight_fraction_leaf': 0.10200000000000001, 'max_features': 16}. Best is trial#109 with value: 0.7555555555555555.\n",
      "[I 2020-05-15 22:09:36,619] Finished trial#191 with value: 0.7444444444444445 with parameters: {'n_estimators': 647, 'max_depth': 20, 'learning_rate': 0.019000000000000003, 'subsample': 0.9, 'loss': 'exponential', 'min_samples_split': 18, 'min_samples_leaf': 11, 'min_weight_fraction_leaf': 0.10200000000000001, 'max_features': 16}. Best is trial#109 with value: 0.7555555555555555.\n",
      "[I 2020-05-15 22:09:37,462] Finished trial#192 with value: 0.7388888888888889 with parameters: {'n_estimators': 597, 'max_depth': 18, 'learning_rate': 0.021, 'subsample': 0.9, 'loss': 'exponential', 'min_samples_split': 4, 'min_samples_leaf': 8, 'min_weight_fraction_leaf': 0.11, 'max_features': 14}. Best is trial#109 with value: 0.7555555555555555.\n",
      "[I 2020-05-15 22:09:38,417] Finished trial#193 with value: 0.7388888888888889 with parameters: {'n_estimators': 692, 'max_depth': 21, 'learning_rate': 0.019000000000000003, 'subsample': 0.9, 'loss': 'exponential', 'min_samples_split': 16, 'min_samples_leaf': 10, 'min_weight_fraction_leaf': 0.128, 'max_features': 15}. Best is trial#109 with value: 0.7555555555555555.\n",
      "[I 2020-05-15 22:09:39,746] Finished trial#194 with value: 0.7333333333333333 with parameters: {'n_estimators': 765, 'max_depth': 17, 'learning_rate': 0.025, 'subsample': 0.9, 'loss': 'exponential', 'min_samples_split': 14, 'min_samples_leaf': 8, 'min_weight_fraction_leaf': 0.083, 'max_features': 16}. Best is trial#109 with value: 0.7555555555555555.\n",
      "[I 2020-05-15 22:09:40,794] Finished trial#195 with value: 0.7444444444444445 with parameters: {'n_estimators': 739, 'max_depth': 20, 'learning_rate': 0.021, 'subsample': 0.9, 'loss': 'exponential', 'min_samples_split': 14, 'min_samples_leaf': 9, 'min_weight_fraction_leaf': 0.11900000000000001, 'max_features': 16}. Best is trial#109 with value: 0.7555555555555555.\n",
      "[I 2020-05-15 22:09:41,814] Finished trial#196 with value: 0.7333333333333333 with parameters: {'n_estimators': 653, 'max_depth': 18, 'learning_rate': 0.016, 'subsample': 0.9, 'loss': 'exponential', 'min_samples_split': 13, 'min_samples_leaf': 11, 'min_weight_fraction_leaf': 0.093, 'max_features': 17}. Best is trial#109 with value: 0.7555555555555555.\n",
      "[I 2020-05-15 22:09:42,730] Finished trial#197 with value: 0.7166666666666667 with parameters: {'n_estimators': 681, 'max_depth': 20, 'learning_rate': 0.013000000000000001, 'subsample': 0.9, 'loss': 'exponential', 'min_samples_split': 14, 'min_samples_leaf': 10, 'min_weight_fraction_leaf': 0.12, 'max_features': 15}. Best is trial#109 with value: 0.7555555555555555.\n",
      "[I 2020-05-15 22:09:43,742] Finished trial#198 with value: 0.7277777777777777 with parameters: {'n_estimators': 570, 'max_depth': 22, 'learning_rate': 0.015, 'subsample': 0.9, 'loss': 'exponential', 'min_samples_split': 15, 'min_samples_leaf': 7, 'min_weight_fraction_leaf': 0.065, 'max_features': 14}. Best is trial#109 with value: 0.7555555555555555.\n",
      "[I 2020-05-15 22:09:44,785] Finished trial#199 with value: 0.7166666666666667 with parameters: {'n_estimators': 585, 'max_depth': 19, 'learning_rate': 0.006, 'subsample': 0.9, 'loss': 'exponential', 'min_samples_split': 16, 'min_samples_leaf': 9, 'min_weight_fraction_leaf': 0.106, 'max_features': 16}. Best is trial#109 with value: 0.7555555555555555.\n",
      "[I 2020-05-15 22:09:45,703] Finished trial#200 with value: 0.7444444444444445 with parameters: {'n_estimators': 614, 'max_depth': 21, 'learning_rate': 0.026000000000000002, 'subsample': 0.9, 'loss': 'exponential', 'min_samples_split': 18, 'min_samples_leaf': 10, 'min_weight_fraction_leaf': 0.101, 'max_features': 15}. Best is trial#109 with value: 0.7555555555555555.\n",
      "[I 2020-05-15 22:09:46,610] Finished trial#201 with value: 0.7277777777777777 with parameters: {'n_estimators': 701, 'max_depth': 19, 'learning_rate': 0.019000000000000003, 'subsample': 0.9, 'loss': 'exponential', 'min_samples_split': 13, 'min_samples_leaf': 11, 'min_weight_fraction_leaf': 0.126, 'max_features': 15}. Best is trial#109 with value: 0.7555555555555555.\n",
      "[I 2020-05-15 22:09:47,482] Finished trial#202 with value: 0.7388888888888889 with parameters: {'n_estimators': 668, 'max_depth': 20, 'learning_rate': 0.023, 'subsample': 0.9, 'loss': 'exponential', 'min_samples_split': 12, 'min_samples_leaf': 10, 'min_weight_fraction_leaf': 0.137, 'max_features': 15}. Best is trial#109 with value: 0.7555555555555555.\n"
     ]
    },
    {
     "name": "stderr",
     "output_type": "stream",
     "text": [
      "[I 2020-05-15 22:09:48,327] Finished trial#203 with value: 0.7388888888888889 with parameters: {'n_estimators': 629, 'max_depth': 23, 'learning_rate': 0.017, 'subsample': 0.9, 'loss': 'exponential', 'min_samples_split': 14, 'min_samples_leaf': 10, 'min_weight_fraction_leaf': 0.11, 'max_features': 14}. Best is trial#109 with value: 0.7555555555555555.\n",
      "[I 2020-05-15 22:09:49,337] Finished trial#204 with value: 0.7555555555555555 with parameters: {'n_estimators': 660, 'max_depth': 18, 'learning_rate': 0.031, 'subsample': 0.9, 'loss': 'exponential', 'min_samples_split': 19, 'min_samples_leaf': 10, 'min_weight_fraction_leaf': 0.12, 'max_features': 15}. Best is trial#109 with value: 0.7555555555555555.\n",
      "[I 2020-05-15 22:09:50,474] Finished trial#205 with value: 0.75 with parameters: {'n_estimators': 723, 'max_depth': 17, 'learning_rate': 0.030000000000000002, 'subsample': 0.9, 'loss': 'exponential', 'min_samples_split': 19, 'min_samples_leaf': 10, 'min_weight_fraction_leaf': 0.117, 'max_features': 15}. Best is trial#109 with value: 0.7555555555555555.\n",
      "[I 2020-05-15 22:09:51,439] Finished trial#206 with value: 0.7166666666666667 with parameters: {'n_estimators': 715, 'max_depth': 17, 'learning_rate': 0.034, 'subsample': 0.9, 'loss': 'exponential', 'min_samples_split': 19, 'min_samples_leaf': 10, 'min_weight_fraction_leaf': 0.128, 'max_features': 15}. Best is trial#109 with value: 0.7555555555555555.\n",
      "[I 2020-05-15 22:09:52,244] Finished trial#207 with value: 0.7444444444444445 with parameters: {'n_estimators': 641, 'max_depth': 19, 'learning_rate': 0.039, 'subsample': 0.9, 'loss': 'exponential', 'min_samples_split': 20, 'min_samples_leaf': 11, 'min_weight_fraction_leaf': 0.14100000000000001, 'max_features': 14}. Best is trial#109 with value: 0.7555555555555555.\n",
      "[I 2020-05-15 22:09:53,029] Finished trial#208 with value: 0.75 with parameters: {'n_estimators': 533, 'max_depth': 16, 'learning_rate': 0.028, 'subsample': 0.9, 'loss': 'exponential', 'min_samples_split': 19, 'min_samples_leaf': 8, 'min_weight_fraction_leaf': 0.11, 'max_features': 16}. Best is trial#109 with value: 0.7555555555555555.\n",
      "[I 2020-05-15 22:09:53,927] Finished trial#209 with value: 0.7555555555555555 with parameters: {'n_estimators': 686, 'max_depth': 16, 'learning_rate': 0.023, 'subsample': 0.9, 'loss': 'exponential', 'min_samples_split': 20, 'min_samples_leaf': 9, 'min_weight_fraction_leaf': 0.123, 'max_features': 15}. Best is trial#109 with value: 0.7555555555555555.\n",
      "[I 2020-05-15 22:09:55,296] Finished trial#210 with value: 0.7222222222222222 with parameters: {'n_estimators': 798, 'max_depth': 16, 'learning_rate': 0.030000000000000002, 'subsample': 0.9, 'loss': 'exponential', 'min_samples_split': 20, 'min_samples_leaf': 9, 'min_weight_fraction_leaf': 0.097, 'max_features': 17}. Best is trial#109 with value: 0.7555555555555555.\n",
      "[I 2020-05-15 22:09:56,309] Finished trial#211 with value: 0.7388888888888889 with parameters: {'n_estimators': 655, 'max_depth': 18, 'learning_rate': 0.011, 'subsample': 0.9, 'loss': 'exponential', 'min_samples_split': 20, 'min_samples_leaf': 9, 'min_weight_fraction_leaf': 0.111, 'max_features': 14}. Best is trial#109 with value: 0.7555555555555555.\n",
      "[I 2020-05-15 22:09:57,510] Finished trial#212 with value: 0.7333333333333333 with parameters: {'n_estimators': 825, 'max_depth': 18, 'learning_rate': 0.016, 'subsample': 0.9, 'loss': 'exponential', 'min_samples_split': 11, 'min_samples_leaf': 9, 'min_weight_fraction_leaf': 0.124, 'max_features': 15}. Best is trial#109 with value: 0.7555555555555555.\n",
      "[I 2020-05-15 22:09:58,331] Finished trial#213 with value: 0.7444444444444445 with parameters: {'n_estimators': 426, 'max_depth': 15, 'learning_rate': 0.029, 'subsample': 0.9, 'loss': 'exponential', 'min_samples_split': 19, 'min_samples_leaf': 8, 'min_weight_fraction_leaf': 0.10400000000000001, 'max_features': 16}. Best is trial#109 with value: 0.7555555555555555.\n",
      "[I 2020-05-15 22:09:59,269] Finished trial#214 with value: 0.7333333333333333 with parameters: {'n_estimators': 675, 'max_depth': 20, 'learning_rate': 0.022000000000000002, 'subsample': 0.9, 'loss': 'exponential', 'min_samples_split': 15, 'min_samples_leaf': 9, 'min_weight_fraction_leaf': 0.135, 'max_features': 15}. Best is trial#109 with value: 0.7555555555555555.\n",
      "[I 2020-05-15 22:10:00,473] Finished trial#215 with value: 0.75 with parameters: {'n_estimators': 731, 'max_depth': 17, 'learning_rate': 0.025, 'subsample': 0.9, 'loss': 'exponential', 'min_samples_split': 18, 'min_samples_leaf': 8, 'min_weight_fraction_leaf': 0.11800000000000001, 'max_features': 15}. Best is trial#109 with value: 0.7555555555555555.\n",
      "[I 2020-05-15 22:10:01,689] Finished trial#216 with value: 0.7388888888888889 with parameters: {'n_estimators': 701, 'max_depth': 18, 'learning_rate': 0.019000000000000003, 'subsample': 0.9, 'loss': 'exponential', 'min_samples_split': 14, 'min_samples_leaf': 9, 'min_weight_fraction_leaf': 0.096, 'max_features': 16}. Best is trial#109 with value: 0.7555555555555555.\n",
      "[I 2020-05-15 22:10:02,756] Finished trial#217 with value: 0.7444444444444445 with parameters: {'n_estimators': 606, 'max_depth': 17, 'learning_rate': 0.034, 'subsample': 0.9, 'loss': 'exponential', 'min_samples_split': 19, 'min_samples_leaf': 10, 'min_weight_fraction_leaf': 0.114, 'max_features': 16}. Best is trial#109 with value: 0.7555555555555555.\n",
      "[I 2020-05-15 22:10:03,771] Finished trial#218 with value: 0.7333333333333333 with parameters: {'n_estimators': 688, 'max_depth': 16, 'learning_rate': 0.022000000000000002, 'subsample': 0.9, 'loss': 'exponential', 'min_samples_split': 5, 'min_samples_leaf': 10, 'min_weight_fraction_leaf': 0.132, 'max_features': 15}. Best is trial#109 with value: 0.7555555555555555.\n",
      "[I 2020-05-15 22:10:04,657] Finished trial#219 with value: 0.7333333333333333 with parameters: {'n_estimators': 649, 'max_depth': 19, 'learning_rate': 0.025, 'subsample': 0.9, 'loss': 'exponential', 'min_samples_split': 17, 'min_samples_leaf': 8, 'min_weight_fraction_leaf': 0.15, 'max_features': 14}. Best is trial#109 with value: 0.7555555555555555.\n",
      "[I 2020-05-15 22:10:05,854] Finished trial#220 with value: 0.7333333333333333 with parameters: {'n_estimators': 760, 'max_depth': 15, 'learning_rate': 0.026000000000000002, 'subsample': 0.9, 'loss': 'exponential', 'min_samples_split': 18, 'min_samples_leaf': 11, 'min_weight_fraction_leaf': 0.122, 'max_features': 15}. Best is trial#109 with value: 0.7555555555555555.\n",
      "[I 2020-05-15 22:10:06,859] Finished trial#221 with value: 0.7388888888888889 with parameters: {'n_estimators': 624, 'max_depth': 18, 'learning_rate': 0.031, 'subsample': 0.9, 'loss': 'exponential', 'min_samples_split': 19, 'min_samples_leaf': 10, 'min_weight_fraction_leaf': 0.111, 'max_features': 16}. Best is trial#109 with value: 0.7555555555555555.\n",
      "[I 2020-05-15 22:10:07,741] Finished trial#222 with value: 0.7611111111111111 with parameters: {'n_estimators': 679, 'max_depth': 19, 'learning_rate': 0.018000000000000002, 'subsample': 0.9, 'loss': 'exponential', 'min_samples_split': 13, 'min_samples_leaf': 8, 'min_weight_fraction_leaf': 0.123, 'max_features': 15}. Best is trial#222 with value: 0.7611111111111111.\n",
      "[I 2020-05-15 22:10:08,700] Finished trial#223 with value: 0.7388888888888889 with parameters: {'n_estimators': 663, 'max_depth': 18, 'learning_rate': 0.018000000000000002, 'subsample': 0.9, 'loss': 'exponential', 'min_samples_split': 13, 'min_samples_leaf': 9, 'min_weight_fraction_leaf': 0.10200000000000001, 'max_features': 15}. Best is trial#222 with value: 0.7611111111111111.\n",
      "[I 2020-05-15 22:10:09,609] Finished trial#224 with value: 0.7388888888888889 with parameters: {'n_estimators': 684, 'max_depth': 21, 'learning_rate': 0.022000000000000002, 'subsample': 0.9, 'loss': 'exponential', 'min_samples_split': 12, 'min_samples_leaf': 9, 'min_weight_fraction_leaf': 0.125, 'max_features': 15}. Best is trial#222 with value: 0.7611111111111111.\n"
     ]
    },
    {
     "name": "stderr",
     "output_type": "stream",
     "text": [
      "[I 2020-05-15 22:10:10,547] Finished trial#225 with value: 0.7166666666666667 with parameters: {'n_estimators': 704, 'max_depth': 19, 'learning_rate': 0.013000000000000001, 'subsample': 0.9, 'loss': 'exponential', 'min_samples_split': 13, 'min_samples_leaf': 10, 'min_weight_fraction_leaf': 0.137, 'max_features': 15}. Best is trial#222 with value: 0.7611111111111111.\n",
      "[I 2020-05-15 22:10:11,652] Finished trial#226 with value: 0.7333333333333333 with parameters: {'n_estimators': 673, 'max_depth': 19, 'learning_rate': 0.014000000000000002, 'subsample': 0.9, 'loss': 'exponential', 'min_samples_split': 14, 'min_samples_leaf': 8, 'min_weight_fraction_leaf': 0.121, 'max_features': 15}. Best is trial#222 with value: 0.7611111111111111.\n",
      "[I 2020-05-15 22:10:13,809] Finished trial#227 with value: 0.6888888888888889 with parameters: {'n_estimators': 638, 'max_depth': 25, 'learning_rate': 0.017, 'subsample': 0.9, 'loss': 'exponential', 'min_samples_split': 13, 'min_samples_leaf': 10, 'min_weight_fraction_leaf': 0.001, 'max_features': 14}. Best is trial#222 with value: 0.7611111111111111.\n",
      "[I 2020-05-15 22:10:14,821] Finished trial#228 with value: 0.7333333333333333 with parameters: {'n_estimators': 724, 'max_depth': 16, 'learning_rate': 0.028, 'subsample': 0.9, 'loss': 'exponential', 'min_samples_split': 19, 'min_samples_leaf': 7, 'min_weight_fraction_leaf': 0.116, 'max_features': 15}. Best is trial#222 with value: 0.7611111111111111.\n",
      "[I 2020-05-15 22:10:15,906] Finished trial#229 with value: 0.7333333333333333 with parameters: {'n_estimators': 691, 'max_depth': 20, 'learning_rate': 0.009000000000000001, 'subsample': 0.9, 'loss': 'exponential', 'min_samples_split': 12, 'min_samples_leaf': 11, 'min_weight_fraction_leaf': 0.091, 'max_features': 15}. Best is trial#222 with value: 0.7611111111111111.\n",
      "[I 2020-05-15 22:10:16,965] Finished trial#230 with value: 0.7333333333333333 with parameters: {'n_estimators': 657, 'max_depth': 21, 'learning_rate': 0.02, 'subsample': 0.9, 'loss': 'exponential', 'min_samples_split': 13, 'min_samples_leaf': 12, 'min_weight_fraction_leaf': 0.13, 'max_features': 16}. Best is trial#222 with value: 0.7611111111111111.\n",
      "[I 2020-05-15 22:10:17,919] Finished trial#231 with value: 0.7444444444444445 with parameters: {'n_estimators': 650, 'max_depth': 18, 'learning_rate': 0.016, 'subsample': 0.9, 'loss': 'exponential', 'min_samples_split': 5, 'min_samples_leaf': 8, 'min_weight_fraction_leaf': 0.105, 'max_features': 15}. Best is trial#222 with value: 0.7611111111111111.\n",
      "[I 2020-05-15 22:10:18,840] Finished trial#232 with value: 0.75 with parameters: {'n_estimators': 680, 'max_depth': 19, 'learning_rate': 0.022000000000000002, 'subsample': 0.9, 'loss': 'exponential', 'min_samples_split': 4, 'min_samples_leaf': 10, 'min_weight_fraction_leaf': 0.11900000000000001, 'max_features': 15}. Best is trial#222 with value: 0.7611111111111111.\n",
      "[I 2020-05-15 22:10:19,809] Finished trial#233 with value: 0.7444444444444445 with parameters: {'n_estimators': 674, 'max_depth': 19, 'learning_rate': 0.017, 'subsample': 0.9, 'loss': 'exponential', 'min_samples_split': 14, 'min_samples_leaf': 9, 'min_weight_fraction_leaf': 0.11, 'max_features': 15}. Best is trial#222 with value: 0.7611111111111111.\n",
      "[I 2020-05-15 22:10:20,689] Finished trial#234 with value: 0.7555555555555555 with parameters: {'n_estimators': 561, 'max_depth': 17, 'learning_rate': 0.027000000000000003, 'subsample': 0.9, 'loss': 'exponential', 'min_samples_split': 18, 'min_samples_leaf': 8, 'min_weight_fraction_leaf': 0.113, 'max_features': 16}. Best is trial#222 with value: 0.7611111111111111.\n",
      "[I 2020-05-15 22:10:21,778] Finished trial#235 with value: 0.7444444444444445 with parameters: {'n_estimators': 543, 'max_depth': 17, 'learning_rate': 0.038, 'subsample': 0.9, 'loss': 'exponential', 'min_samples_split': 4, 'min_samples_leaf': 8, 'min_weight_fraction_leaf': 0.108, 'max_features': 16}. Best is trial#222 with value: 0.7611111111111111.\n",
      "[I 2020-05-15 22:10:23,104] Finished trial#236 with value: 0.7388888888888889 with parameters: {'n_estimators': 563, 'max_depth': 17, 'learning_rate': 0.026000000000000002, 'subsample': 0.9, 'loss': 'exponential', 'min_samples_split': 18, 'min_samples_leaf': 7, 'min_weight_fraction_leaf': 0.084, 'max_features': 16}. Best is trial#222 with value: 0.7611111111111111.\n",
      "[I 2020-05-15 22:10:24,261] Finished trial#237 with value: 0.7333333333333333 with parameters: {'n_estimators': 625, 'max_depth': 20, 'learning_rate': 0.031, 'subsample': 0.9, 'loss': 'exponential', 'min_samples_split': 17, 'min_samples_leaf': 10, 'min_weight_fraction_leaf': 0.127, 'max_features': 14}. Best is trial#222 with value: 0.7611111111111111.\n",
      "[I 2020-05-15 22:10:25,788] Finished trial#238 with value: 0.7333333333333333 with parameters: {'n_estimators': 584, 'max_depth': 18, 'learning_rate': 0.013000000000000001, 'subsample': 0.9, 'loss': 'exponential', 'min_samples_split': 5, 'min_samples_leaf': 8, 'min_weight_fraction_leaf': 0.095, 'max_features': 16}. Best is trial#222 with value: 0.7611111111111111.\n",
      "[I 2020-05-15 22:10:26,732] Finished trial#239 with value: 0.7277777777777777 with parameters: {'n_estimators': 494, 'max_depth': 16, 'learning_rate': 0.046, 'subsample': 0.9, 'loss': 'exponential', 'min_samples_split': 18, 'min_samples_leaf': 8, 'min_weight_fraction_leaf': 0.114, 'max_features': 15}. Best is trial#222 with value: 0.7611111111111111.\n",
      "[I 2020-05-15 22:10:27,727] Finished trial#240 with value: 0.7388888888888889 with parameters: {'n_estimators': 532, 'max_depth': 14, 'learning_rate': 0.027000000000000003, 'subsample': 0.9, 'loss': 'exponential', 'min_samples_split': 18, 'min_samples_leaf': 7, 'min_weight_fraction_leaf': 0.139, 'max_features': 15}. Best is trial#222 with value: 0.7611111111111111.\n",
      "[I 2020-05-15 22:10:28,785] Finished trial#241 with value: 0.7388888888888889 with parameters: {'n_estimators': 733, 'max_depth': 18, 'learning_rate': 0.024, 'subsample': 0.9, 'loss': 'exponential', 'min_samples_split': 4, 'min_samples_leaf': 8, 'min_weight_fraction_leaf': 0.121, 'max_features': 15}. Best is trial#222 with value: 0.7611111111111111.\n",
      "[I 2020-05-15 22:10:29,926] Finished trial#242 with value: 0.7277777777777777 with parameters: {'n_estimators': 771, 'max_depth': 19, 'learning_rate': 0.02, 'subsample': 0.9, 'loss': 'exponential', 'min_samples_split': 15, 'min_samples_leaf': 9, 'min_weight_fraction_leaf': 0.10200000000000001, 'max_features': 16}. Best is trial#222 with value: 0.7611111111111111.\n",
      "[I 2020-05-15 22:10:30,797] Finished trial#243 with value: 0.7444444444444445 with parameters: {'n_estimators': 560, 'max_depth': 28, 'learning_rate': 0.028, 'subsample': 0.9, 'loss': 'exponential', 'min_samples_split': 20, 'min_samples_leaf': 8, 'min_weight_fraction_leaf': 0.106, 'max_features': 17}. Best is trial#222 with value: 0.7611111111111111.\n",
      "[I 2020-05-15 22:10:31,575] Finished trial#244 with value: 0.7388888888888889 with parameters: {'n_estimators': 522, 'max_depth': 17, 'learning_rate': 0.033, 'subsample': 0.9, 'loss': 'exponential', 'min_samples_split': 19, 'min_samples_leaf': 10, 'min_weight_fraction_leaf': 0.115, 'max_features': 16}. Best is trial#222 with value: 0.7611111111111111.\n",
      "[I 2020-05-15 22:10:32,712] Finished trial#245 with value: 0.7388888888888889 with parameters: {'n_estimators': 633, 'max_depth': 17, 'learning_rate': 0.024, 'subsample': 0.9, 'loss': 'exponential', 'min_samples_split': 18, 'min_samples_leaf': 8, 'min_weight_fraction_leaf': 0.111, 'max_features': 16}. Best is trial#222 with value: 0.7611111111111111.\n",
      "[I 2020-05-15 22:10:33,594] Finished trial#246 with value: 0.7388888888888889 with parameters: {'n_estimators': 478, 'max_depth': 16, 'learning_rate': 0.025, 'subsample': 0.9, 'loss': 'exponential', 'min_samples_split': 18, 'min_samples_leaf': 9, 'min_weight_fraction_leaf': 0.108, 'max_features': 17}. Best is trial#222 with value: 0.7611111111111111.\n"
     ]
    },
    {
     "name": "stderr",
     "output_type": "stream",
     "text": [
      "[I 2020-05-15 22:10:34,416] Finished trial#247 with value: 0.7333333333333333 with parameters: {'n_estimators': 594, 'max_depth': 16, 'learning_rate': 0.029, 'subsample': 0.9, 'loss': 'exponential', 'min_samples_split': 19, 'min_samples_leaf': 7, 'min_weight_fraction_leaf': 0.128, 'max_features': 14}. Best is trial#222 with value: 0.7611111111111111.\n",
      "[I 2020-05-15 22:10:35,398] Finished trial#248 with value: 0.7444444444444445 with parameters: {'n_estimators': 574, 'max_depth': 17, 'learning_rate': 0.031, 'subsample': 0.9, 'loss': 'exponential', 'min_samples_split': 20, 'min_samples_leaf': 8, 'min_weight_fraction_leaf': 0.116, 'max_features': 14}. Best is trial#222 with value: 0.7611111111111111.\n",
      "[I 2020-05-15 22:10:36,467] Finished trial#249 with value: 0.7333333333333333 with parameters: {'n_estimators': 700, 'max_depth': 20, 'learning_rate': 0.019000000000000003, 'subsample': 0.9, 'loss': 'exponential', 'min_samples_split': 12, 'min_samples_leaf': 11, 'min_weight_fraction_leaf': 0.13, 'max_features': 15}. Best is trial#222 with value: 0.7611111111111111.\n",
      "[I 2020-05-15 22:10:37,662] Finished trial#250 with value: 0.7444444444444445 with parameters: {'n_estimators': 795, 'max_depth': 15, 'learning_rate': 0.022000000000000002, 'subsample': 0.9, 'loss': 'exponential', 'min_samples_split': 19, 'min_samples_leaf': 8, 'min_weight_fraction_leaf': 0.123, 'max_features': 15}. Best is trial#222 with value: 0.7611111111111111.\n",
      "[I 2020-05-15 22:10:38,686] Finished trial#251 with value: 0.7222222222222222 with parameters: {'n_estimators': 607, 'max_depth': 22, 'learning_rate': 0.036000000000000004, 'subsample': 0.9, 'loss': 'exponential', 'min_samples_split': 20, 'min_samples_leaf': 10, 'min_weight_fraction_leaf': 0.10200000000000001, 'max_features': 13}. Best is trial#222 with value: 0.7611111111111111.\n",
      "[I 2020-05-15 22:10:39,683] Finished trial#252 with value: 0.7444444444444445 with parameters: {'n_estimators': 718, 'max_depth': 17, 'learning_rate': 0.024, 'subsample': 0.9, 'loss': 'exponential', 'min_samples_split': 4, 'min_samples_leaf': 9, 'min_weight_fraction_leaf': 0.11800000000000001, 'max_features': 14}. Best is trial#222 with value: 0.7611111111111111.\n",
      "[I 2020-05-15 22:10:40,564] Finished trial#253 with value: 0.7222222222222222 with parameters: {'n_estimators': 661, 'max_depth': 20, 'learning_rate': 0.011, 'subsample': 0.9, 'loss': 'exponential', 'min_samples_split': 13, 'min_samples_leaf': 10, 'min_weight_fraction_leaf': 0.14, 'max_features': 15}. Best is trial#222 with value: 0.7611111111111111.\n",
      "[I 2020-05-15 22:10:41,688] Finished trial#254 with value: 0.7277777777777777 with parameters: {'n_estimators': 747, 'max_depth': 18, 'learning_rate': 0.016, 'subsample': 0.9, 'loss': 'exponential', 'min_samples_split': 17, 'min_samples_leaf': 7, 'min_weight_fraction_leaf': 0.13, 'max_features': 15}. Best is trial#222 with value: 0.7611111111111111.\n",
      "[I 2020-05-15 22:10:43,002] Finished trial#255 with value: 0.7388888888888889 with parameters: {'n_estimators': 732, 'max_depth': 16, 'learning_rate': 0.027000000000000003, 'subsample': 0.9, 'loss': 'exponential', 'min_samples_split': 5, 'min_samples_leaf': 8, 'min_weight_fraction_leaf': 0.08700000000000001, 'max_features': 16}. Best is trial#222 with value: 0.7611111111111111.\n",
      "[I 2020-05-15 22:10:43,404] Finished trial#256 with value: 0.7055555555555556 with parameters: {'n_estimators': 60, 'max_depth': 16, 'learning_rate': 0.042, 'subsample': 0.9, 'loss': 'exponential', 'min_samples_split': 19, 'min_samples_leaf': 9, 'min_weight_fraction_leaf': 0.099, 'max_features': 16}. Best is trial#222 with value: 0.7611111111111111.\n",
      "[I 2020-05-15 22:10:44,797] Finished trial#257 with value: 0.7555555555555555 with parameters: {'n_estimators': 784, 'max_depth': 18, 'learning_rate': 0.022000000000000002, 'subsample': 0.9, 'loss': 'exponential', 'min_samples_split': 3, 'min_samples_leaf': 8, 'min_weight_fraction_leaf': 0.121, 'max_features': 15}. Best is trial#222 with value: 0.7611111111111111.\n",
      "[I 2020-05-15 22:10:45,822] Finished trial#258 with value: 0.7388888888888889 with parameters: {'n_estimators': 819, 'max_depth': 19, 'learning_rate': 0.019000000000000003, 'subsample': 0.9, 'loss': 'exponential', 'min_samples_split': 3, 'min_samples_leaf': 9, 'min_weight_fraction_leaf': 0.149, 'max_features': 15}. Best is trial#222 with value: 0.7611111111111111.\n",
      "[I 2020-05-15 22:10:46,931] Finished trial#259 with value: 0.7388888888888889 with parameters: {'n_estimators': 717, 'max_depth': 17, 'learning_rate': 0.023, 'subsample': 0.9, 'loss': 'exponential', 'min_samples_split': 2, 'min_samples_leaf': 8, 'min_weight_fraction_leaf': 0.111, 'max_features': 15}. Best is trial#222 with value: 0.7611111111111111.\n",
      "[I 2020-05-15 22:10:47,997] Finished trial#260 with value: 0.7333333333333333 with parameters: {'n_estimators': 694, 'max_depth': 18, 'learning_rate': 0.02, 'subsample': 0.9, 'loss': 'exponential', 'min_samples_split': 3, 'min_samples_leaf': 9, 'min_weight_fraction_leaf': 0.124, 'max_features': 15}. Best is trial#222 with value: 0.7611111111111111.\n",
      "[I 2020-05-15 22:10:49,060] Finished trial#261 with value: 0.7388888888888889 with parameters: {'n_estimators': 679, 'max_depth': 18, 'learning_rate': 0.034, 'subsample': 0.9, 'loss': 'exponential', 'min_samples_split': 11, 'min_samples_leaf': 10, 'min_weight_fraction_leaf': 0.136, 'max_features': 15}. Best is trial#222 with value: 0.7611111111111111.\n",
      "[I 2020-05-15 22:10:50,150] Finished trial#262 with value: 0.7444444444444445 with parameters: {'n_estimators': 769, 'max_depth': 19, 'learning_rate': 0.022000000000000002, 'subsample': 0.9, 'loss': 'exponential', 'min_samples_split': 4, 'min_samples_leaf': 8, 'min_weight_fraction_leaf': 0.12, 'max_features': 16}. Best is trial#222 with value: 0.7611111111111111.\n",
      "[I 2020-05-15 22:10:51,578] Finished trial#263 with value: 0.7222222222222222 with parameters: {'n_estimators': 788, 'max_depth': 18, 'learning_rate': 0.014000000000000002, 'subsample': 0.9, 'loss': 'exponential', 'min_samples_split': 14, 'min_samples_leaf': 11, 'min_weight_fraction_leaf': 0.132, 'max_features': 14}. Best is trial#222 with value: 0.7611111111111111.\n",
      "[I 2020-05-15 22:10:52,809] Finished trial#264 with value: 0.7333333333333333 with parameters: {'n_estimators': 740, 'max_depth': 17, 'learning_rate': 0.026000000000000002, 'subsample': 0.9, 'loss': 'exponential', 'min_samples_split': 18, 'min_samples_leaf': 7, 'min_weight_fraction_leaf': 0.114, 'max_features': 15}. Best is trial#222 with value: 0.7611111111111111.\n",
      "[I 2020-05-15 22:10:54,206] Finished trial#265 with value: 0.7444444444444445 with parameters: {'n_estimators': 809, 'max_depth': 17, 'learning_rate': 0.030000000000000002, 'subsample': 0.9, 'loss': 'exponential', 'min_samples_split': 5, 'min_samples_leaf': 8, 'min_weight_fraction_leaf': 0.122, 'max_features': 15}. Best is trial#222 with value: 0.7611111111111111.\n",
      "[I 2020-05-15 22:10:55,402] Finished trial#266 with value: 0.7444444444444445 with parameters: {'n_estimators': 656, 'max_depth': 15, 'learning_rate': 0.017, 'subsample': 0.9, 'loss': 'exponential', 'min_samples_split': 16, 'min_samples_leaf': 9, 'min_weight_fraction_leaf': 0.10200000000000001, 'max_features': 16}. Best is trial#222 with value: 0.7611111111111111.\n",
      "[I 2020-05-15 22:10:56,305] Finished trial#267 with value: 0.7166666666666667 with parameters: {'n_estimators': 645, 'max_depth': 21, 'learning_rate': 0.011, 'subsample': 0.9, 'loss': 'exponential', 'min_samples_split': 17, 'min_samples_leaf': 10, 'min_weight_fraction_leaf': 0.14200000000000002, 'max_features': 14}. Best is trial#222 with value: 0.7611111111111111.\n",
      "[I 2020-05-15 22:10:57,239] Finished trial#268 with value: 0.7444444444444445 with parameters: {'n_estimators': 553, 'max_depth': 15, 'learning_rate': 0.016, 'subsample': 0.9, 'loss': 'exponential', 'min_samples_split': 18, 'min_samples_leaf': 7, 'min_weight_fraction_leaf': 0.088, 'max_features': 17}. Best is trial#222 with value: 0.7611111111111111.\n"
     ]
    },
    {
     "name": "stderr",
     "output_type": "stream",
     "text": [
      "[I 2020-05-15 22:10:57,989] Finished trial#269 with value: 0.75 with parameters: {'n_estimators': 535, 'max_depth': 26, 'learning_rate': 0.028, 'subsample': 0.9, 'loss': 'exponential', 'min_samples_split': 19, 'min_samples_leaf': 10, 'min_weight_fraction_leaf': 0.116, 'max_features': 14}. Best is trial#222 with value: 0.7611111111111111.\n",
      "[I 2020-05-15 22:10:59,128] Finished trial#270 with value: 0.7444444444444445 with parameters: {'n_estimators': 755, 'max_depth': 31, 'learning_rate': 0.028, 'subsample': 0.9, 'loss': 'exponential', 'min_samples_split': 19, 'min_samples_leaf': 8, 'min_weight_fraction_leaf': 0.125, 'max_features': 15}. Best is trial#222 with value: 0.7611111111111111.\n",
      "[I 2020-05-15 22:11:00,511] Finished trial#271 with value: 0.7222222222222222 with parameters: {'n_estimators': 778, 'max_depth': 17, 'learning_rate': 0.022000000000000002, 'subsample': 0.9, 'loss': 'exponential', 'min_samples_split': 3, 'min_samples_leaf': 7, 'min_weight_fraction_leaf': 0.095, 'max_features': 15}. Best is trial#222 with value: 0.7611111111111111.\n",
      "[I 2020-05-15 22:11:01,539] Finished trial#272 with value: 0.7388888888888889 with parameters: {'n_estimators': 713, 'max_depth': 18, 'learning_rate': 0.024, 'subsample': 0.9, 'loss': 'exponential', 'min_samples_split': 6, 'min_samples_leaf': 8, 'min_weight_fraction_leaf': 0.111, 'max_features': 15}. Best is trial#222 with value: 0.7611111111111111.\n",
      "[I 2020-05-15 22:11:02,411] Finished trial#273 with value: 0.7277777777777777 with parameters: {'n_estimators': 541, 'max_depth': 27, 'learning_rate': 0.032, 'subsample': 0.9, 'loss': 'exponential', 'min_samples_split': 20, 'min_samples_leaf': 11, 'min_weight_fraction_leaf': 0.1, 'max_features': 16}. Best is trial#222 with value: 0.7611111111111111.\n",
      "[I 2020-05-15 22:11:03,540] Finished trial#274 with value: 0.75 with parameters: {'n_estimators': 735, 'max_depth': 18, 'learning_rate': 0.023, 'subsample': 0.9, 'loss': 'exponential', 'min_samples_split': 4, 'min_samples_leaf': 8, 'min_weight_fraction_leaf': 0.109, 'max_features': 15}. Best is trial#222 with value: 0.7611111111111111.\n",
      "[I 2020-05-15 22:11:04,678] Finished trial#275 with value: 0.7333333333333333 with parameters: {'n_estimators': 703, 'max_depth': 19, 'learning_rate': 0.019000000000000003, 'subsample': 0.9, 'loss': 'exponential', 'min_samples_split': 15, 'min_samples_leaf': 11, 'min_weight_fraction_leaf': 0.133, 'max_features': 16}. Best is trial#222 with value: 0.7611111111111111.\n",
      "[I 2020-05-15 22:11:06,030] Finished trial#276 with value: 0.7333333333333333 with parameters: {'n_estimators': 715, 'max_depth': 20, 'learning_rate': 0.009000000000000001, 'subsample': 0.9, 'loss': 'exponential', 'min_samples_split': 14, 'min_samples_leaf': 9, 'min_weight_fraction_leaf': 0.081, 'max_features': 17}. Best is trial#222 with value: 0.7611111111111111.\n",
      "[I 2020-05-15 22:11:07,025] Finished trial#277 with value: 0.7666666666666667 with parameters: {'n_estimators': 775, 'max_depth': 18, 'learning_rate': 0.021, 'subsample': 0.9, 'loss': 'exponential', 'min_samples_split': 4, 'min_samples_leaf': 8, 'min_weight_fraction_leaf': 0.123, 'max_features': 15}. Best is trial#277 with value: 0.7666666666666667.\n",
      "[I 2020-05-15 22:11:08,105] Finished trial#278 with value: 0.7388888888888889 with parameters: {'n_estimators': 834, 'max_depth': 19, 'learning_rate': 0.013000000000000001, 'subsample': 0.9, 'loss': 'exponential', 'min_samples_split': 3, 'min_samples_leaf': 8, 'min_weight_fraction_leaf': 0.111, 'max_features': 15}. Best is trial#277 with value: 0.7666666666666667.\n",
      "[I 2020-05-15 22:11:09,062] Finished trial#279 with value: 0.7333333333333333 with parameters: {'n_estimators': 623, 'max_depth': 22, 'learning_rate': 0.016, 'subsample': 0.9, 'loss': 'exponential', 'min_samples_split': 20, 'min_samples_leaf': 10, 'min_weight_fraction_leaf': 0.094, 'max_features': 16}. Best is trial#277 with value: 0.7666666666666667.\n",
      "[I 2020-05-15 22:11:10,113] Finished trial#280 with value: 0.7277777777777777 with parameters: {'n_estimators': 778, 'max_depth': 14, 'learning_rate': 0.026000000000000002, 'subsample': 0.9, 'loss': 'exponential', 'min_samples_split': 3, 'min_samples_leaf': 9, 'min_weight_fraction_leaf': 0.146, 'max_features': 15}. Best is trial#277 with value: 0.7666666666666667.\n",
      "[I 2020-05-15 22:11:11,153] Finished trial#281 with value: 0.7333333333333333 with parameters: {'n_estimators': 682, 'max_depth': 20, 'learning_rate': 0.021, 'subsample': 0.9, 'loss': 'exponential', 'min_samples_split': 12, 'min_samples_leaf': 10, 'min_weight_fraction_leaf': 0.161, 'max_features': 15}. Best is trial#277 with value: 0.7666666666666667.\n",
      "[I 2020-05-15 22:11:12,134] Finished trial#282 with value: 0.7333333333333333 with parameters: {'n_estimators': 578, 'max_depth': 19, 'learning_rate': 0.037000000000000005, 'subsample': 0.9, 'loss': 'exponential', 'min_samples_split': 18, 'min_samples_leaf': 5, 'min_weight_fraction_leaf': 0.127, 'max_features': 13}. Best is trial#277 with value: 0.7666666666666667.\n",
      "[I 2020-05-15 22:11:13,112] Finished trial#283 with value: 0.7333333333333333 with parameters: {'n_estimators': 674, 'max_depth': 24, 'learning_rate': 0.031, 'subsample': 0.9, 'loss': 'exponential', 'min_samples_split': 4, 'min_samples_leaf': 8, 'min_weight_fraction_leaf': 0.132, 'max_features': 14}. Best is trial#277 with value: 0.7666666666666667.\n",
      "[I 2020-05-15 22:11:13,480] Finished trial#284 with value: 0.7111111111111111 with parameters: {'n_estimators': 135, 'max_depth': 16, 'learning_rate': 0.04, 'subsample': 0.9, 'loss': 'exponential', 'min_samples_split': 18, 'min_samples_leaf': 9, 'min_weight_fraction_leaf': 0.12, 'max_features': 14}. Best is trial#277 with value: 0.7666666666666667.\n",
      "[I 2020-05-15 22:11:14,861] Finished trial#285 with value: 0.7444444444444445 with parameters: {'n_estimators': 811, 'max_depth': 18, 'learning_rate': 0.007, 'subsample': 0.9, 'loss': 'exponential', 'min_samples_split': 4, 'min_samples_leaf': 7, 'min_weight_fraction_leaf': 0.106, 'max_features': 16}. Best is trial#277 with value: 0.7666666666666667.\n",
      "[I 2020-05-15 22:11:15,793] Finished trial#286 with value: 0.7555555555555555 with parameters: {'n_estimators': 612, 'max_depth': 19, 'learning_rate': 0.026000000000000002, 'subsample': 0.9, 'loss': 'exponential', 'min_samples_split': 16, 'min_samples_leaf': 10, 'min_weight_fraction_leaf': 0.139, 'max_features': 14}. Best is trial#277 with value: 0.7666666666666667.\n",
      "[I 2020-05-15 22:11:17,027] Finished trial#287 with value: 0.7277777777777777 with parameters: {'n_estimators': 788, 'max_depth': 16, 'learning_rate': 0.026000000000000002, 'subsample': 0.9, 'loss': 'exponential', 'min_samples_split': 17, 'min_samples_leaf': 9, 'min_weight_fraction_leaf': 0.10200000000000001, 'max_features': 16}. Best is trial#277 with value: 0.7666666666666667.\n",
      "[I 2020-05-15 22:11:17,944] Finished trial#288 with value: 0.7388888888888889 with parameters: {'n_estimators': 666, 'max_depth': 19, 'learning_rate': 0.023, 'subsample': 0.9, 'loss': 'exponential', 'min_samples_split': 16, 'min_samples_leaf': 10, 'min_weight_fraction_leaf': 0.14400000000000002, 'max_features': 14}. Best is trial#277 with value: 0.7666666666666667.\n",
      "[I 2020-05-15 22:11:18,865] Finished trial#289 with value: 0.7277777777777777 with parameters: {'n_estimators': 693, 'max_depth': 21, 'learning_rate': 0.02, 'subsample': 0.9, 'loss': 'exponential', 'min_samples_split': 10, 'min_samples_leaf': 10, 'min_weight_fraction_leaf': 0.138, 'max_features': 15}. Best is trial#277 with value: 0.7666666666666667.\n",
      "[I 2020-05-15 22:11:19,918] Finished trial#290 with value: 0.7611111111111111 with parameters: {'n_estimators': 748, 'max_depth': 18, 'learning_rate': 0.019000000000000003, 'subsample': 0.9, 'loss': 'exponential', 'min_samples_split': 4, 'min_samples_leaf': 8, 'min_weight_fraction_leaf': 0.125, 'max_features': 15}. Best is trial#277 with value: 0.7666666666666667.\n"
     ]
    },
    {
     "name": "stderr",
     "output_type": "stream",
     "text": [
      "[I 2020-05-15 22:11:20,977] Finished trial#291 with value: 0.7277777777777777 with parameters: {'n_estimators': 751, 'max_depth': 19, 'learning_rate': 0.02, 'subsample': 0.9, 'loss': 'exponential', 'min_samples_split': 5, 'min_samples_leaf': 9, 'min_weight_fraction_leaf': 0.151, 'max_features': 15}. Best is trial#277 with value: 0.7666666666666667.\n",
      "[I 2020-05-15 22:11:21,996] Finished trial#292 with value: 0.7388888888888889 with parameters: {'n_estimators': 696, 'max_depth': 18, 'learning_rate': 0.024, 'subsample': 0.9, 'loss': 'exponential', 'min_samples_split': 13, 'min_samples_leaf': 10, 'min_weight_fraction_leaf': 0.125, 'max_features': 15}. Best is trial#277 with value: 0.7666666666666667.\n",
      "[I 2020-05-15 22:11:22,978] Finished trial#293 with value: 0.7166666666666667 with parameters: {'n_estimators': 766, 'max_depth': 18, 'learning_rate': 0.014000000000000002, 'subsample': 0.9, 'loss': 'exponential', 'min_samples_split': 4, 'min_samples_leaf': 8, 'min_weight_fraction_leaf': 0.134, 'max_features': 15}. Best is trial#277 with value: 0.7666666666666667.\n",
      "[I 2020-05-15 22:11:23,957] Finished trial#294 with value: 0.7333333333333333 with parameters: {'n_estimators': 603, 'max_depth': 30, 'learning_rate': 0.016, 'subsample': 0.9, 'loss': 'exponential', 'min_samples_split': 4, 'min_samples_leaf': 7, 'min_weight_fraction_leaf': 0.073, 'max_features': 14}. Best is trial#277 with value: 0.7666666666666667.\n",
      "[I 2020-05-15 22:11:24,870] Finished trial#295 with value: 0.7333333333333333 with parameters: {'n_estimators': 726, 'max_depth': 20, 'learning_rate': 0.027000000000000003, 'subsample': 0.9, 'loss': 'exponential', 'min_samples_split': 19, 'min_samples_leaf': 10, 'min_weight_fraction_leaf': 0.124, 'max_features': 13}. Best is trial#277 with value: 0.7666666666666667.\n",
      "[I 2020-05-15 22:11:25,964] Finished trial#296 with value: 0.75 with parameters: {'n_estimators': 757, 'max_depth': 19, 'learning_rate': 0.018000000000000002, 'subsample': 0.9, 'loss': 'exponential', 'min_samples_split': 5, 'min_samples_leaf': 6, 'min_weight_fraction_leaf': 0.11900000000000001, 'max_features': 15}. Best is trial#277 with value: 0.7666666666666667.\n",
      "[I 2020-05-15 22:11:27,058] Finished trial#297 with value: 0.7388888888888889 with parameters: {'n_estimators': 748, 'max_depth': 17, 'learning_rate': 0.022000000000000002, 'subsample': 0.9, 'loss': 'exponential', 'min_samples_split': 4, 'min_samples_leaf': 7, 'min_weight_fraction_leaf': 0.132, 'max_features': 15}. Best is trial#277 with value: 0.7666666666666667.\n",
      "[I 2020-05-15 22:11:27,959] Finished trial#298 with value: 0.7555555555555555 with parameters: {'n_estimators': 527, 'max_depth': 20, 'learning_rate': 0.035, 'subsample': 0.9, 'loss': 'exponential', 'min_samples_split': 19, 'min_samples_leaf': 10, 'min_weight_fraction_leaf': 0.11900000000000001, 'max_features': 14}. Best is trial#277 with value: 0.7666666666666667.\n",
      "[I 2020-05-15 22:11:29,144] Finished trial#299 with value: 0.7444444444444445 with parameters: {'n_estimators': 584, 'max_depth': 20, 'learning_rate': 0.031, 'subsample': 0.9, 'loss': 'exponential', 'min_samples_split': 19, 'min_samples_leaf': 12, 'min_weight_fraction_leaf': 0.11, 'max_features': 14}. Best is trial#277 with value: 0.7666666666666667.\n",
      "[I 2020-05-15 22:11:30,381] Finished trial#300 with value: 0.6944444444444444 with parameters: {'n_estimators': 552, 'max_depth': 20, 'learning_rate': 0.177, 'subsample': 0.9, 'loss': 'exponential', 'min_samples_split': 2, 'min_samples_leaf': 11, 'min_weight_fraction_leaf': 0.098, 'max_features': 17}. Best is trial#277 with value: 0.7666666666666667.\n",
      "[I 2020-05-15 22:11:32,255] Finished trial#301 with value: 0.7388888888888889 with parameters: {'n_estimators': 801, 'max_depth': 17, 'learning_rate': 0.017, 'subsample': 0.9, 'loss': 'exponential', 'min_samples_split': 15, 'min_samples_leaf': 9, 'min_weight_fraction_leaf': 0.105, 'max_features': 16}. Best is trial#277 with value: 0.7666666666666667.\n",
      "[I 2020-05-15 22:11:33,290] Finished trial#302 with value: 0.7444444444444445 with parameters: {'n_estimators': 594, 'max_depth': 22, 'learning_rate': 0.038, 'subsample': 0.9, 'loss': 'exponential', 'min_samples_split': 17, 'min_samples_leaf': 10, 'min_weight_fraction_leaf': 0.14100000000000001, 'max_features': 13}. Best is trial#277 with value: 0.7666666666666667.\n",
      "[I 2020-05-15 22:11:34,287] Finished trial#303 with value: 0.7222222222222222 with parameters: {'n_estimators': 616, 'max_depth': 21, 'learning_rate': 0.012, 'subsample': 0.9, 'loss': 'exponential', 'min_samples_split': 16, 'min_samples_leaf': 11, 'min_weight_fraction_leaf': 0.126, 'max_features': 14}. Best is trial#277 with value: 0.7666666666666667.\n",
      "[I 2020-05-15 22:11:34,939] Finished trial#304 with value: 0.6 with parameters: {'n_estimators': 499, 'max_depth': 16, 'learning_rate': 0.037000000000000005, 'subsample': 0.9, 'loss': 'exponential', 'min_samples_split': 19, 'min_samples_leaf': 8, 'min_weight_fraction_leaf': 0.497, 'max_features': 14}. Best is trial#277 with value: 0.7666666666666667.\n",
      "[I 2020-05-15 22:11:36,032] Finished trial#305 with value: 0.7333333333333333 with parameters: {'n_estimators': 508, 'max_depth': 18, 'learning_rate': 0.029, 'subsample': 0.9, 'loss': 'exponential', 'min_samples_split': 3, 'min_samples_leaf': 9, 'min_weight_fraction_leaf': 0.091, 'max_features': 17}. Best is trial#277 with value: 0.7666666666666667.\n",
      "[I 2020-05-15 22:11:36,965] Finished trial#306 with value: 0.7555555555555555 with parameters: {'n_estimators': 634, 'max_depth': 18, 'learning_rate': 0.034, 'subsample': 0.9, 'loss': 'exponential', 'min_samples_split': 16, 'min_samples_leaf': 11, 'min_weight_fraction_leaf': 0.12, 'max_features': 14}. Best is trial#277 with value: 0.7666666666666667.\n",
      "[I 2020-05-15 22:11:37,954] Finished trial#307 with value: 0.7333333333333333 with parameters: {'n_estimators': 635, 'max_depth': 15, 'learning_rate': 0.035, 'subsample': 0.9, 'loss': 'exponential', 'min_samples_split': 16, 'min_samples_leaf': 11, 'min_weight_fraction_leaf': 0.11, 'max_features': 14}. Best is trial#277 with value: 0.7666666666666667.\n",
      "[I 2020-05-15 22:11:39,022] Finished trial#308 with value: 0.7333333333333333 with parameters: {'n_estimators': 791, 'max_depth': 17, 'learning_rate': 0.026000000000000002, 'subsample': 0.9, 'loss': 'exponential', 'min_samples_split': 4, 'min_samples_leaf': 8, 'min_weight_fraction_leaf': 0.11800000000000001, 'max_features': 15}. Best is trial#277 with value: 0.7666666666666667.\n",
      "[I 2020-05-15 22:11:39,754] Finished trial#309 with value: 0.7388888888888889 with parameters: {'n_estimators': 520, 'max_depth': 18, 'learning_rate': 0.031, 'subsample': 0.9, 'loss': 'exponential', 'min_samples_split': 5, 'min_samples_leaf': 8, 'min_weight_fraction_leaf': 0.134, 'max_features': 15}. Best is trial#277 with value: 0.7666666666666667.\n",
      "[I 2020-05-15 22:11:40,554] Finished trial#310 with value: 0.7333333333333333 with parameters: {'n_estimators': 615, 'max_depth': 19, 'learning_rate': 0.026000000000000002, 'subsample': 0.9, 'loss': 'exponential', 'min_samples_split': 16, 'min_samples_leaf': 8, 'min_weight_fraction_leaf': 0.127, 'max_features': 14}. Best is trial#277 with value: 0.7666666666666667.\n",
      "[I 2020-05-15 22:11:41,467] Finished trial#311 with value: 0.7277777777777777 with parameters: {'n_estimators': 737, 'max_depth': 27, 'learning_rate': 0.046, 'subsample': 0.9, 'loss': 'exponential', 'min_samples_split': 18, 'min_samples_leaf': 9, 'min_weight_fraction_leaf': 0.149, 'max_features': 13}. Best is trial#277 with value: 0.7666666666666667.\n",
      "[I 2020-05-15 22:11:42,357] Finished trial#312 with value: 0.6944444444444444 with parameters: {'n_estimators': 710, 'max_depth': 18, 'learning_rate': 0.131, 'subsample': 0.9, 'loss': 'exponential', 'min_samples_split': 16, 'min_samples_leaf': 7, 'min_weight_fraction_leaf': 0.136, 'max_features': 14}. Best is trial#277 with value: 0.7666666666666667.\n"
     ]
    },
    {
     "name": "stderr",
     "output_type": "stream",
     "text": [
      "[I 2020-05-15 22:11:43,307] Finished trial#313 with value: 0.75 with parameters: {'n_estimators': 574, 'max_depth': 19, 'learning_rate': 0.033, 'subsample': 0.9, 'loss': 'exponential', 'min_samples_split': 17, 'min_samples_leaf': 11, 'min_weight_fraction_leaf': 0.117, 'max_features': 16}. Best is trial#277 with value: 0.7666666666666667.\n",
      "[I 2020-05-15 22:11:44,296] Finished trial#314 with value: 0.75 with parameters: {'n_estimators': 719, 'max_depth': 19, 'learning_rate': 0.029, 'subsample': 0.9, 'loss': 'exponential', 'min_samples_split': 15, 'min_samples_leaf': 8, 'min_weight_fraction_leaf': 0.114, 'max_features': 16}. Best is trial#277 with value: 0.7666666666666667.\n",
      "[I 2020-05-15 22:11:45,111] Finished trial#315 with value: 0.7277777777777777 with parameters: {'n_estimators': 470, 'max_depth': 18, 'learning_rate': 0.023, 'subsample': 0.9, 'loss': 'exponential', 'min_samples_split': 3, 'min_samples_leaf': 8, 'min_weight_fraction_leaf': 0.122, 'max_features': 18}. Best is trial#277 with value: 0.7666666666666667.\n",
      "[I 2020-05-15 22:11:46,127] Finished trial#316 with value: 0.7388888888888889 with parameters: {'n_estimators': 733, 'max_depth': 33, 'learning_rate': 0.034, 'subsample': 0.9, 'loss': 'exponential', 'min_samples_split': 19, 'min_samples_leaf': 8, 'min_weight_fraction_leaf': 0.113, 'max_features': 15}. Best is trial#277 with value: 0.7666666666666667.\n",
      "[I 2020-05-15 22:11:46,941] Finished trial#317 with value: 0.7333333333333333 with parameters: {'n_estimators': 658, 'max_depth': 19, 'learning_rate': 0.043000000000000003, 'subsample': 0.9, 'loss': 'exponential', 'min_samples_split': 19, 'min_samples_leaf': 11, 'min_weight_fraction_leaf': 0.128, 'max_features': 6}. Best is trial#277 with value: 0.7666666666666667.\n",
      "[I 2020-05-15 22:11:47,732] Finished trial#318 with value: 0.7166666666666667 with parameters: {'n_estimators': 546, 'max_depth': 18, 'learning_rate': 0.024, 'subsample': 0.9, 'loss': 'exponential', 'min_samples_split': 20, 'min_samples_leaf': 10, 'min_weight_fraction_leaf': 0.158, 'max_features': 14}. Best is trial#277 with value: 0.7666666666666667.\n",
      "[I 2020-05-15 22:11:48,653] Finished trial#319 with value: 0.7388888888888889 with parameters: {'n_estimators': 528, 'max_depth': 18, 'learning_rate': 0.039, 'subsample': 0.9, 'loss': 'exponential', 'min_samples_split': 14, 'min_samples_leaf': 9, 'min_weight_fraction_leaf': 0.109, 'max_features': 14}. Best is trial#277 with value: 0.7666666666666667.\n",
      "[I 2020-05-15 22:11:49,608] Finished trial#320 with value: 0.7333333333333333 with parameters: {'n_estimators': 633, 'max_depth': 21, 'learning_rate': 0.011, 'subsample': 0.9, 'loss': 'exponential', 'min_samples_split': 16, 'min_samples_leaf': 12, 'min_weight_fraction_leaf': 0.094, 'max_features': 13}. Best is trial#277 with value: 0.7666666666666667.\n",
      "[I 2020-05-15 22:11:50,831] Finished trial#321 with value: 0.6888888888888889 with parameters: {'n_estimators': 505, 'max_depth': 17, 'learning_rate': 0.028, 'subsample': 0.9, 'loss': 'exponential', 'min_samples_split': 16, 'min_samples_leaf': 12, 'min_weight_fraction_leaf': 0.034, 'max_features': 14}. Best is trial#277 with value: 0.7666666666666667.\n",
      "[I 2020-05-15 22:11:51,851] Finished trial#322 with value: 0.7388888888888889 with parameters: {'n_estimators': 653, 'max_depth': 20, 'learning_rate': 0.036000000000000004, 'subsample': 0.9, 'loss': 'exponential', 'min_samples_split': 11, 'min_samples_leaf': 10, 'min_weight_fraction_leaf': 0.14400000000000002, 'max_features': 15}. Best is trial#277 with value: 0.7666666666666667.\n",
      "[I 2020-05-15 22:11:52,891] Finished trial#323 with value: 0.7111111111111111 with parameters: {'n_estimators': 612, 'max_depth': 17, 'learning_rate': 0.030000000000000002, 'subsample': 0.9, 'loss': 'exponential', 'min_samples_split': 18, 'min_samples_leaf': 9, 'min_weight_fraction_leaf': 0.095, 'max_features': 16}. Best is trial#277 with value: 0.7666666666666667.\n",
      "[I 2020-05-15 22:11:54,085] Finished trial#324 with value: 0.7388888888888889 with parameters: {'n_estimators': 757, 'max_depth': 19, 'learning_rate': 0.019000000000000003, 'subsample': 0.9, 'loss': 'exponential', 'min_samples_split': 20, 'min_samples_leaf': 10, 'min_weight_fraction_leaf': 0.122, 'max_features': 14}. Best is trial#277 with value: 0.7666666666666667.\n",
      "[I 2020-05-15 22:11:55,036] Finished trial#325 with value: 0.7333333333333333 with parameters: {'n_estimators': 705, 'max_depth': 17, 'learning_rate': 0.021, 'subsample': 0.9, 'loss': 'exponential', 'min_samples_split': 4, 'min_samples_leaf': 7, 'min_weight_fraction_leaf': 0.135, 'max_features': 15}. Best is trial#277 with value: 0.7666666666666667.\n",
      "[I 2020-05-15 22:11:56,155] Finished trial#326 with value: 0.7444444444444445 with parameters: {'n_estimators': 732, 'max_depth': 16, 'learning_rate': 0.014000000000000002, 'subsample': 0.9, 'loss': 'exponential', 'min_samples_split': 4, 'min_samples_leaf': 5, 'min_weight_fraction_leaf': 0.107, 'max_features': 15}. Best is trial#277 with value: 0.7666666666666667.\n",
      "[I 2020-05-15 22:11:57,147] Finished trial#327 with value: 0.7277777777777777 with parameters: {'n_estimators': 615, 'max_depth': 22, 'learning_rate': 0.035, 'subsample': 0.9, 'loss': 'exponential', 'min_samples_split': 17, 'min_samples_leaf': 11, 'min_weight_fraction_leaf': 0.10300000000000001, 'max_features': 13}. Best is trial#277 with value: 0.7666666666666667.\n",
      "[I 2020-05-15 22:11:58,279] Finished trial#328 with value: 0.75 with parameters: {'n_estimators': 770, 'max_depth': 15, 'learning_rate': 0.02, 'subsample': 0.9, 'loss': 'exponential', 'min_samples_split': 12, 'min_samples_leaf': 6, 'min_weight_fraction_leaf': 0.124, 'max_features': 15}. Best is trial#277 with value: 0.7666666666666667.\n",
      "[I 2020-05-15 22:11:59,301] Finished trial#329 with value: 0.7388888888888889 with parameters: {'n_estimators': 638, 'max_depth': 24, 'learning_rate': 0.009000000000000001, 'subsample': 0.9, 'loss': 'exponential', 'min_samples_split': 18, 'min_samples_leaf': 9, 'min_weight_fraction_leaf': 0.114, 'max_features': 14}. Best is trial#277 with value: 0.7666666666666667.\n",
      "[I 2020-05-15 22:11:59,888] Finished trial#330 with value: 0.7444444444444445 with parameters: {'n_estimators': 314, 'max_depth': 16, 'learning_rate': 0.015, 'subsample': 0.9, 'loss': 'exponential', 'min_samples_split': 19, 'min_samples_leaf': 20, 'min_weight_fraction_leaf': 0.085, 'max_features': 12}. Best is trial#277 with value: 0.7666666666666667.\n",
      "[I 2020-05-15 22:12:00,885] Finished trial#331 with value: 0.7111111111111111 with parameters: {'n_estimators': 572, 'max_depth': 20, 'learning_rate': 0.004, 'subsample': 0.9, 'loss': 'exponential', 'min_samples_split': 11, 'min_samples_leaf': 10, 'min_weight_fraction_leaf': 0.101, 'max_features': 16}. Best is trial#277 with value: 0.7666666666666667.\n",
      "[I 2020-05-15 22:12:01,816] Finished trial#332 with value: 0.7555555555555555 with parameters: {'n_estimators': 667, 'max_depth': 20, 'learning_rate': 0.018000000000000002, 'subsample': 0.9, 'loss': 'exponential', 'min_samples_split': 5, 'min_samples_leaf': 6, 'min_weight_fraction_leaf': 0.117, 'max_features': 14}. Best is trial#277 with value: 0.7666666666666667.\n",
      "[I 2020-05-15 22:12:02,789] Finished trial#333 with value: 0.75 with parameters: {'n_estimators': 682, 'max_depth': 17, 'learning_rate': 0.025, 'subsample': 0.9, 'loss': 'exponential', 'min_samples_split': 17, 'min_samples_leaf': 10, 'min_weight_fraction_leaf': 0.14200000000000002, 'max_features': 14}. Best is trial#277 with value: 0.7666666666666667.\n",
      "[I 2020-05-15 22:12:03,683] Finished trial#334 with value: 0.7222222222222222 with parameters: {'n_estimators': 667, 'max_depth': 23, 'learning_rate': 0.031, 'subsample': 0.8, 'loss': 'exponential', 'min_samples_split': 18, 'min_samples_leaf': 6, 'min_weight_fraction_leaf': 0.127, 'max_features': 14}. Best is trial#277 with value: 0.7666666666666667.\n"
     ]
    },
    {
     "name": "stderr",
     "output_type": "stream",
     "text": [
      "[I 2020-05-15 22:12:04,739] Finished trial#335 with value: 0.75 with parameters: {'n_estimators': 648, 'max_depth': 21, 'learning_rate': 0.017, 'subsample': 0.9, 'loss': 'exponential', 'min_samples_split': 15, 'min_samples_leaf': 11, 'min_weight_fraction_leaf': 0.108, 'max_features': 16}. Best is trial#277 with value: 0.7666666666666667.\n",
      "[I 2020-05-15 22:12:05,620] Finished trial#336 with value: 0.7611111111111111 with parameters: {'n_estimators': 579, 'max_depth': 19, 'learning_rate': 0.032, 'subsample': 0.9, 'loss': 'exponential', 'min_samples_split': 15, 'min_samples_leaf': 12, 'min_weight_fraction_leaf': 0.112, 'max_features': 17}. Best is trial#277 with value: 0.7666666666666667.\n",
      "[I 2020-05-15 22:12:06,620] Finished trial#337 with value: 0.7333333333333333 with parameters: {'n_estimators': 641, 'max_depth': 14, 'learning_rate': 0.017, 'subsample': 0.9, 'loss': 'exponential', 'min_samples_split': 15, 'min_samples_leaf': 12, 'min_weight_fraction_leaf': 0.09, 'max_features': 17}. Best is trial#277 with value: 0.7666666666666667.\n",
      "[I 2020-05-15 22:12:07,453] Finished trial#338 with value: 0.7555555555555555 with parameters: {'n_estimators': 535, 'max_depth': 26, 'learning_rate': 0.042, 'subsample': 0.9, 'loss': 'exponential', 'min_samples_split': 19, 'min_samples_leaf': 8, 'min_weight_fraction_leaf': 0.113, 'max_features': 18}. Best is trial#277 with value: 0.7666666666666667.\n",
      "[I 2020-05-15 22:12:08,378] Finished trial#339 with value: 0.7277777777777777 with parameters: {'n_estimators': 530, 'max_depth': 26, 'learning_rate': 0.025, 'subsample': 0.9, 'loss': 'exponential', 'min_samples_split': 4, 'min_samples_leaf': 5, 'min_weight_fraction_leaf': 0.113, 'max_features': 18}. Best is trial#277 with value: 0.7666666666666667.\n",
      "[I 2020-05-15 22:12:09,502] Finished trial#340 with value: 0.7222222222222222 with parameters: {'n_estimators': 757, 'max_depth': 16, 'learning_rate': 0.041, 'subsample': 0.9, 'loss': 'exponential', 'min_samples_split': 6, 'min_samples_leaf': 6, 'min_weight_fraction_leaf': 0.125, 'max_features': 18}. Best is trial#277 with value: 0.7666666666666667.\n",
      "[I 2020-05-15 22:12:10,370] Finished trial#341 with value: 0.7333333333333333 with parameters: {'n_estimators': 551, 'max_depth': 24, 'learning_rate': 0.034, 'subsample': 0.9, 'loss': 'exponential', 'min_samples_split': 19, 'min_samples_leaf': 10, 'min_weight_fraction_leaf': 0.101, 'max_features': 13}. Best is trial#277 with value: 0.7666666666666667.\n",
      "[I 2020-05-15 22:12:11,262] Finished trial#342 with value: 0.7222222222222222 with parameters: {'n_estimators': 564, 'max_depth': 20, 'learning_rate': 0.013000000000000001, 'subsample': 0.9, 'loss': 'exponential', 'min_samples_split': 14, 'min_samples_leaf': 13, 'min_weight_fraction_leaf': 0.132, 'max_features': 17}. Best is trial#277 with value: 0.7666666666666667.\n",
      "[I 2020-05-15 22:12:12,114] Finished trial#343 with value: 0.75 with parameters: {'n_estimators': 522, 'max_depth': 17, 'learning_rate': 0.030000000000000002, 'subsample': 0.9, 'loss': 'exponential', 'min_samples_split': 5, 'min_samples_leaf': 7, 'min_weight_fraction_leaf': 0.11, 'max_features': 18}. Best is trial#277 with value: 0.7666666666666667.\n",
      "[I 2020-05-15 22:12:13,193] Finished trial#344 with value: 0.7111111111111111 with parameters: {'n_estimators': 814, 'max_depth': 18, 'learning_rate': 0.043000000000000003, 'subsample': 0.9, 'loss': 'exponential', 'min_samples_split': 6, 'min_samples_leaf': 9, 'min_weight_fraction_leaf': 0.138, 'max_features': 15}. Best is trial#277 with value: 0.7666666666666667.\n",
      "[I 2020-05-15 22:12:14,313] Finished trial#345 with value: 0.7444444444444445 with parameters: {'n_estimators': 771, 'max_depth': 17, 'learning_rate': 0.029, 'subsample': 0.9, 'loss': 'exponential', 'min_samples_split': 5, 'min_samples_leaf': 6, 'min_weight_fraction_leaf': 0.12, 'max_features': 18}. Best is trial#277 with value: 0.7666666666666667.\n",
      "[I 2020-05-15 22:12:15,404] Finished trial#346 with value: 0.7222222222222222 with parameters: {'n_estimators': 599, 'max_depth': 40, 'learning_rate': 0.008, 'subsample': 0.9, 'loss': 'exponential', 'min_samples_split': 15, 'min_samples_leaf': 12, 'min_weight_fraction_leaf': 0.09, 'max_features': 17}. Best is trial#277 with value: 0.7666666666666667.\n",
      "[I 2020-05-15 22:12:16,301] Finished trial#347 with value: 0.7555555555555555 with parameters: {'n_estimators': 538, 'max_depth': 28, 'learning_rate': 0.033, 'subsample': 0.9, 'loss': 'exponential', 'min_samples_split': 19, 'min_samples_leaf': 11, 'min_weight_fraction_leaf': 0.117, 'max_features': 17}. Best is trial#277 with value: 0.7666666666666667.\n",
      "[I 2020-05-15 22:12:17,108] Finished trial#348 with value: 0.75 with parameters: {'n_estimators': 485, 'max_depth': 20, 'learning_rate': 0.04, 'subsample': 0.9, 'loss': 'exponential', 'min_samples_split': 10, 'min_samples_leaf': 11, 'min_weight_fraction_leaf': 0.131, 'max_features': 18}. Best is trial#277 with value: 0.7666666666666667.\n",
      "[I 2020-05-15 22:12:18,135] Finished trial#349 with value: 0.7055555555555556 with parameters: {'n_estimators': 576, 'max_depth': 29, 'learning_rate': 0.05, 'subsample': 0.9, 'loss': 'exponential', 'min_samples_split': 16, 'min_samples_leaf': 12, 'min_weight_fraction_leaf': 0.076, 'max_features': 18}. Best is trial#277 with value: 0.7666666666666667.\n",
      "[I 2020-05-15 22:12:19,045] Finished trial#350 with value: 0.7555555555555555 with parameters: {'n_estimators': 563, 'max_depth': 19, 'learning_rate': 0.033, 'subsample': 0.9, 'loss': 'exponential', 'min_samples_split': 5, 'min_samples_leaf': 4, 'min_weight_fraction_leaf': 0.11800000000000001, 'max_features': 17}. Best is trial#277 with value: 0.7666666666666667.\n",
      "[I 2020-05-15 22:12:19,993] Finished trial#351 with value: 0.7277777777777777 with parameters: {'n_estimators': 689, 'max_depth': 28, 'learning_rate': 0.07100000000000001, 'subsample': 0.9, 'loss': 'exponential', 'min_samples_split': 13, 'min_samples_leaf': 4, 'min_weight_fraction_leaf': 0.154, 'max_features': 17}. Best is trial#277 with value: 0.7666666666666667.\n",
      "[I 2020-05-15 22:12:20,906] Finished trial#352 with value: 0.7555555555555555 with parameters: {'n_estimators': 537, 'max_depth': 27, 'learning_rate': 0.034, 'subsample': 0.9, 'loss': 'exponential', 'min_samples_split': 4, 'min_samples_leaf': 3, 'min_weight_fraction_leaf': 0.117, 'max_features': 18}. Best is trial#277 with value: 0.7666666666666667.\n",
      "[I 2020-05-15 22:12:21,687] Finished trial#353 with value: 0.7444444444444445 with parameters: {'n_estimators': 447, 'max_depth': 27, 'learning_rate': 0.036000000000000004, 'subsample': 0.9, 'loss': 'exponential', 'min_samples_split': 4, 'min_samples_leaf': 13, 'min_weight_fraction_leaf': 0.10400000000000001, 'max_features': 18}. Best is trial#277 with value: 0.7666666666666667.\n",
      "[I 2020-05-15 22:12:22,516] Finished trial#354 with value: 0.7555555555555555 with parameters: {'n_estimators': 538, 'max_depth': 26, 'learning_rate': 0.039, 'subsample': 0.9, 'loss': 'exponential', 'min_samples_split': 5, 'min_samples_leaf': 7, 'min_weight_fraction_leaf': 0.12, 'max_features': 17}. Best is trial#277 with value: 0.7666666666666667.\n",
      "[I 2020-05-15 22:12:23,276] Finished trial#355 with value: 0.7555555555555555 with parameters: {'n_estimators': 514, 'max_depth': 29, 'learning_rate': 0.038, 'subsample': 0.9, 'loss': 'exponential', 'min_samples_split': 5, 'min_samples_leaf': 3, 'min_weight_fraction_leaf': 0.139, 'max_features': 17}. Best is trial#277 with value: 0.7666666666666667.\n",
      "[I 2020-05-15 22:12:24,039] Finished trial#356 with value: 0.7055555555555556 with parameters: {'n_estimators': 511, 'max_depth': 29, 'learning_rate': 0.082, 'subsample': 0.9, 'loss': 'exponential', 'min_samples_split': 6, 'min_samples_leaf': 7, 'min_weight_fraction_leaf': 0.165, 'max_features': 17}. Best is trial#277 with value: 0.7666666666666667.\n",
      "[I 2020-05-15 22:12:24,829] Finished trial#357 with value: 0.7388888888888889 with parameters: {'n_estimators': 556, 'max_depth': 29, 'learning_rate': 0.044000000000000004, 'subsample': 0.9, 'loss': 'exponential', 'min_samples_split': 20, 'min_samples_leaf': 4, 'min_weight_fraction_leaf': 0.148, 'max_features': 17}. Best is trial#277 with value: 0.7666666666666667.\n"
     ]
    },
    {
     "name": "stderr",
     "output_type": "stream",
     "text": [
      "[I 2020-05-15 22:12:25,781] Finished trial#358 with value: 0.7555555555555555 with parameters: {'n_estimators': 536, 'max_depth': 28, 'learning_rate': 0.038, 'subsample': 0.9, 'loss': 'exponential', 'min_samples_split': 3, 'min_samples_leaf': 3, 'min_weight_fraction_leaf': 0.14200000000000002, 'max_features': 17}. Best is trial#277 with value: 0.7666666666666667.\n",
      "[I 2020-05-15 22:12:26,570] Finished trial#359 with value: 0.7388888888888889 with parameters: {'n_estimators': 538, 'max_depth': 28, 'learning_rate': 0.04, 'subsample': 0.9, 'loss': 'exponential', 'min_samples_split': 2, 'min_samples_leaf': 3, 'min_weight_fraction_leaf': 0.14300000000000002, 'max_features': 17}. Best is trial#277 with value: 0.7666666666666667.\n",
      "[I 2020-05-15 22:12:27,300] Finished trial#360 with value: 0.7333333333333333 with parameters: {'n_estimators': 513, 'max_depth': 30, 'learning_rate': 0.045, 'subsample': 0.9, 'loss': 'exponential', 'min_samples_split': 3, 'min_samples_leaf': 4, 'min_weight_fraction_leaf': 0.15, 'max_features': 17}. Best is trial#277 with value: 0.7666666666666667.\n",
      "[I 2020-05-15 22:12:27,997] Finished trial#361 with value: 0.7277777777777777 with parameters: {'n_estimators': 491, 'max_depth': 26, 'learning_rate': 0.038, 'subsample': 0.9, 'loss': 'exponential', 'min_samples_split': 5, 'min_samples_leaf': 3, 'min_weight_fraction_leaf': 0.17300000000000001, 'max_features': 17}. Best is trial#277 with value: 0.7666666666666667.\n",
      "[I 2020-05-15 22:12:28,772] Finished trial#362 with value: 0.7388888888888889 with parameters: {'n_estimators': 540, 'max_depth': 27, 'learning_rate': 0.049, 'subsample': 0.9, 'loss': 'exponential', 'min_samples_split': 3, 'min_samples_leaf': 3, 'min_weight_fraction_leaf': 0.137, 'max_features': 18}. Best is trial#277 with value: 0.7666666666666667.\n",
      "[I 2020-05-15 22:12:29,664] Finished trial#363 with value: 0.7166666666666667 with parameters: {'n_estimators': 554, 'max_depth': 25, 'learning_rate': 0.055, 'subsample': 0.9, 'loss': 'exponential', 'min_samples_split': 2, 'min_samples_leaf': 3, 'min_weight_fraction_leaf': 0.132, 'max_features': 18}. Best is trial#277 with value: 0.7666666666666667.\n",
      "[I 2020-05-15 22:12:30,467] Finished trial#364 with value: 0.75 with parameters: {'n_estimators': 525, 'max_depth': 30, 'learning_rate': 0.039, 'subsample': 0.9, 'loss': 'exponential', 'min_samples_split': 3, 'min_samples_leaf': 2, 'min_weight_fraction_leaf': 0.14300000000000002, 'max_features': 17}. Best is trial#277 with value: 0.7666666666666667.\n",
      "[I 2020-05-15 22:12:31,292] Finished trial#365 with value: 0.7277777777777777 with parameters: {'n_estimators': 526, 'max_depth': 28, 'learning_rate': 0.048, 'subsample': 0.9, 'loss': 'exponential', 'min_samples_split': 3, 'min_samples_leaf': 2, 'min_weight_fraction_leaf': 0.153, 'max_features': 17}. Best is trial#277 with value: 0.7666666666666667.\n",
      "[I 2020-05-15 22:12:32,087] Finished trial#366 with value: 0.75 with parameters: {'n_estimators': 502, 'max_depth': 27, 'learning_rate': 0.035, 'subsample': 0.9, 'loss': 'exponential', 'min_samples_split': 4, 'min_samples_leaf': 3, 'min_weight_fraction_leaf': 0.13, 'max_features': 17}. Best is trial#277 with value: 0.7666666666666667.\n",
      "[I 2020-05-15 22:12:32,796] Finished trial#367 with value: 0.7222222222222222 with parameters: {'n_estimators': 492, 'max_depth': 35, 'learning_rate': 0.042, 'subsample': 0.8, 'loss': 'exponential', 'min_samples_split': 5, 'min_samples_leaf': 3, 'min_weight_fraction_leaf': 0.132, 'max_features': 18}. Best is trial#277 with value: 0.7666666666666667.\n",
      "[I 2020-05-15 22:12:33,756] Finished trial#368 with value: 0.7555555555555555 with parameters: {'n_estimators': 564, 'max_depth': 26, 'learning_rate': 0.039, 'subsample': 0.9, 'loss': 'exponential', 'min_samples_split': 15, 'min_samples_leaf': 4, 'min_weight_fraction_leaf': 0.124, 'max_features': 17}. Best is trial#277 with value: 0.7666666666666667.\n",
      "[I 2020-05-15 22:12:34,654] Finished trial#369 with value: 0.75 with parameters: {'n_estimators': 453, 'max_depth': 26, 'learning_rate': 0.039, 'subsample': 0.9, 'loss': 'exponential', 'min_samples_split': 5, 'min_samples_leaf': 3, 'min_weight_fraction_leaf': 0.14100000000000001, 'max_features': 17}. Best is trial#277 with value: 0.7666666666666667.\n",
      "[I 2020-05-15 22:12:35,602] Finished trial#370 with value: 0.7277777777777777 with parameters: {'n_estimators': 564, 'max_depth': 27, 'learning_rate': 0.044000000000000004, 'subsample': 0.9, 'loss': 'exponential', 'min_samples_split': 3, 'min_samples_leaf': 4, 'min_weight_fraction_leaf': 0.161, 'max_features': 17}. Best is trial#277 with value: 0.7666666666666667.\n",
      "[I 2020-05-15 22:12:36,636] Finished trial#371 with value: 0.7333333333333333 with parameters: {'n_estimators': 544, 'max_depth': 26, 'learning_rate': 0.035, 'subsample': 0.9, 'loss': 'exponential', 'min_samples_split': 5, 'min_samples_leaf': 4, 'min_weight_fraction_leaf': 0.126, 'max_features': 18}. Best is trial#277 with value: 0.7666666666666667.\n",
      "[I 2020-05-15 22:12:37,742] Finished trial#372 with value: 0.7277777777777777 with parameters: {'n_estimators': 558, 'max_depth': 28, 'learning_rate': 0.04, 'subsample': 0.9, 'loss': 'exponential', 'min_samples_split': 6, 'min_samples_leaf': 1, 'min_weight_fraction_leaf': 0.123, 'max_features': 17}. Best is trial#277 with value: 0.7666666666666667.\n",
      "[I 2020-05-15 22:12:38,588] Finished trial#373 with value: 0.75 with parameters: {'n_estimators': 569, 'max_depth': 31, 'learning_rate': 0.034, 'subsample': 0.9, 'loss': 'exponential', 'min_samples_split': 4, 'min_samples_leaf': 3, 'min_weight_fraction_leaf': 0.14, 'max_features': 17}. Best is trial#277 with value: 0.7666666666666667.\n",
      "[I 2020-05-15 22:12:39,486] Finished trial#374 with value: 0.7555555555555555 with parameters: {'n_estimators': 583, 'max_depth': 29, 'learning_rate': 0.037000000000000005, 'subsample': 0.9, 'loss': 'exponential', 'min_samples_split': 3, 'min_samples_leaf': 2, 'min_weight_fraction_leaf': 0.117, 'max_features': 17}. Best is trial#277 with value: 0.7666666666666667.\n",
      "[I 2020-05-15 22:12:40,469] Finished trial#375 with value: 0.7333333333333333 with parameters: {'n_estimators': 535, 'max_depth': 29, 'learning_rate': 0.038, 'subsample': 0.9, 'loss': 'exponential', 'min_samples_split': 3, 'min_samples_leaf': 2, 'min_weight_fraction_leaf': 0.128, 'max_features': 17}. Best is trial#277 with value: 0.7666666666666667.\n",
      "[I 2020-05-15 22:12:41,458] Finished trial#376 with value: 0.7444444444444445 with parameters: {'n_estimators': 514, 'max_depth': 28, 'learning_rate': 0.047, 'subsample': 0.9, 'loss': 'exponential', 'min_samples_split': 3, 'min_samples_leaf': 2, 'min_weight_fraction_leaf': 0.12, 'max_features': 17}. Best is trial#277 with value: 0.7666666666666667.\n",
      "[I 2020-05-15 22:12:42,497] Finished trial#377 with value: 0.75 with parameters: {'n_estimators': 541, 'max_depth': 30, 'learning_rate': 0.033, 'subsample': 0.9, 'loss': 'exponential', 'min_samples_split': 2, 'min_samples_leaf': 1, 'min_weight_fraction_leaf': 0.136, 'max_features': 18}. Best is trial#277 with value: 0.7666666666666667.\n",
      "[I 2020-05-15 22:12:43,530] Finished trial#378 with value: 0.7277777777777777 with parameters: {'n_estimators': 587, 'max_depth': 29, 'learning_rate': 0.042, 'subsample': 0.9, 'loss': 'exponential', 'min_samples_split': 20, 'min_samples_leaf': 13, 'min_weight_fraction_leaf': 0.114, 'max_features': 18}. Best is trial#277 with value: 0.7666666666666667.\n",
      "[I 2020-05-15 22:12:44,443] Finished trial#379 with value: 0.7333333333333333 with parameters: {'n_estimators': 571, 'max_depth': 25, 'learning_rate': 0.036000000000000004, 'subsample': 0.9, 'loss': 'exponential', 'min_samples_split': 3, 'min_samples_leaf': 3, 'min_weight_fraction_leaf': 0.154, 'max_features': 17}. Best is trial#277 with value: 0.7666666666666667.\n",
      "[I 2020-05-15 22:12:45,385] Finished trial#380 with value: 0.7388888888888889 with parameters: {'n_estimators': 553, 'max_depth': 28, 'learning_rate': 0.052000000000000005, 'subsample': 0.9, 'loss': 'exponential', 'min_samples_split': 4, 'min_samples_leaf': 4, 'min_weight_fraction_leaf': 0.127, 'max_features': 17}. Best is trial#277 with value: 0.7666666666666667.\n"
     ]
    },
    {
     "name": "stderr",
     "output_type": "stream",
     "text": [
      "[I 2020-05-15 22:12:46,327] Finished trial#381 with value: 0.75 with parameters: {'n_estimators': 581, 'max_depth': 31, 'learning_rate': 0.034, 'subsample': 0.9, 'loss': 'exponential', 'min_samples_split': 20, 'min_samples_leaf': 2, 'min_weight_fraction_leaf': 0.115, 'max_features': 18}. Best is trial#277 with value: 0.7666666666666667.\n",
      "[I 2020-05-15 22:12:47,185] Finished trial#382 with value: 0.7555555555555555 with parameters: {'n_estimators': 527, 'max_depth': 27, 'learning_rate': 0.04, 'subsample': 0.9, 'loss': 'exponential', 'min_samples_split': 3, 'min_samples_leaf': 4, 'min_weight_fraction_leaf': 0.139, 'max_features': 17}. Best is trial#277 with value: 0.7666666666666667.\n",
      "[I 2020-05-15 22:12:47,899] Finished trial#383 with value: 0.75 with parameters: {'n_estimators': 471, 'max_depth': 27, 'learning_rate': 0.041, 'subsample': 0.9, 'loss': 'exponential', 'min_samples_split': 2, 'min_samples_leaf': 4, 'min_weight_fraction_leaf': 0.14300000000000002, 'max_features': 17}. Best is trial#277 with value: 0.7666666666666667.\n",
      "[I 2020-05-15 22:12:48,642] Finished trial#384 with value: 0.7222222222222222 with parameters: {'n_estimators': 527, 'max_depth': 26, 'learning_rate': 0.045, 'subsample': 0.9, 'loss': 'exponential', 'min_samples_split': 3, 'min_samples_leaf': 4, 'min_weight_fraction_leaf': 0.153, 'max_features': 17}. Best is trial#277 with value: 0.7666666666666667.\n",
      "[I 2020-05-15 22:12:49,268] Finished trial#385 with value: 0.5944444444444444 with parameters: {'n_estimators': 507, 'max_depth': 29, 'learning_rate': 0.04, 'subsample': 0.9, 'loss': 'exponential', 'min_samples_split': 3, 'min_samples_leaf': 3, 'min_weight_fraction_leaf': 0.481, 'max_features': 17}. Best is trial#277 with value: 0.7666666666666667.\n",
      "[I 2020-05-15 22:12:50,053] Finished trial#386 with value: 0.7277777777777777 with parameters: {'n_estimators': 544, 'max_depth': 27, 'learning_rate': 0.032, 'subsample': 0.9, 'loss': 'exponential', 'min_samples_split': 3, 'min_samples_leaf': 3, 'min_weight_fraction_leaf': 0.18, 'max_features': 18}. Best is trial#277 with value: 0.7666666666666667.\n",
      "[I 2020-05-15 22:12:50,861] Finished trial#387 with value: 0.7277777777777777 with parameters: {'n_estimators': 517, 'max_depth': 28, 'learning_rate': 0.061, 'subsample': 0.9, 'loss': 'exponential', 'min_samples_split': 4, 'min_samples_leaf': 2, 'min_weight_fraction_leaf': 0.199, 'max_features': 17}. Best is trial#277 with value: 0.7666666666666667.\n",
      "[I 2020-05-15 22:12:51,692] Finished trial#388 with value: 0.75 with parameters: {'n_estimators': 546, 'max_depth': 26, 'learning_rate': 0.037000000000000005, 'subsample': 0.9, 'loss': 'exponential', 'min_samples_split': 2, 'min_samples_leaf': 4, 'min_weight_fraction_leaf': 0.137, 'max_features': 17}. Best is trial#277 with value: 0.7666666666666667.\n",
      "[I 2020-05-15 22:12:52,594] Finished trial#389 with value: 0.7222222222222222 with parameters: {'n_estimators': 563, 'max_depth': 29, 'learning_rate': 0.044000000000000004, 'subsample': 0.9, 'loss': 'exponential', 'min_samples_split': 4, 'min_samples_leaf': 3, 'min_weight_fraction_leaf': 0.131, 'max_features': 17}. Best is trial#277 with value: 0.7666666666666667.\n",
      "[I 2020-05-15 22:12:53,329] Finished trial#390 with value: 0.7444444444444445 with parameters: {'n_estimators': 479, 'max_depth': 27, 'learning_rate': 0.037000000000000005, 'subsample': 0.9, 'loss': 'exponential', 'min_samples_split': 3, 'min_samples_leaf': 5, 'min_weight_fraction_leaf': 0.147, 'max_features': 18}. Best is trial#277 with value: 0.7666666666666667.\n",
      "[I 2020-05-15 22:12:54,060] Finished trial#391 with value: 0.7222222222222222 with parameters: {'n_estimators': 528, 'max_depth': 28, 'learning_rate': 0.032, 'subsample': 0.9, 'loss': 'exponential', 'min_samples_split': 3, 'min_samples_leaf': 4, 'min_weight_fraction_leaf': 0.166, 'max_features': 17}. Best is trial#277 with value: 0.7666666666666667.\n",
      "[I 2020-05-15 22:12:54,873] Finished trial#392 with value: 0.7277777777777777 with parameters: {'n_estimators': 587, 'max_depth': 27, 'learning_rate': 0.038, 'subsample': 0.7, 'loss': 'exponential', 'min_samples_split': 4, 'min_samples_leaf': 2, 'min_weight_fraction_leaf': 0.129, 'max_features': 18}. Best is trial#277 with value: 0.7666666666666667.\n",
      "[I 2020-05-15 22:12:55,785] Finished trial#393 with value: 0.7444444444444445 with parameters: {'n_estimators': 564, 'max_depth': 30, 'learning_rate': 0.047, 'subsample': 0.9, 'loss': 'exponential', 'min_samples_split': 3, 'min_samples_leaf': 3, 'min_weight_fraction_leaf': 0.124, 'max_features': 17}. Best is trial#277 with value: 0.7666666666666667.\n",
      "[I 2020-05-15 22:12:56,645] Finished trial#394 with value: 0.75 with parameters: {'n_estimators': 521, 'max_depth': 25, 'learning_rate': 0.032, 'subsample': 0.9, 'loss': 'exponential', 'min_samples_split': 15, 'min_samples_leaf': 5, 'min_weight_fraction_leaf': 0.114, 'max_features': 18}. Best is trial#277 with value: 0.7666666666666667.\n",
      "[I 2020-05-15 22:12:57,585] Finished trial#395 with value: 0.7388888888888889 with parameters: {'n_estimators': 596, 'max_depth': 28, 'learning_rate': 0.041, 'subsample': 0.9, 'loss': 'exponential', 'min_samples_split': 5, 'min_samples_leaf': 1, 'min_weight_fraction_leaf': 0.139, 'max_features': 17}. Best is trial#277 with value: 0.7666666666666667.\n",
      "[I 2020-05-15 22:12:58,416] Finished trial#396 with value: 0.7555555555555555 with parameters: {'n_estimators': 492, 'max_depth': 26, 'learning_rate': 0.034, 'subsample': 0.9, 'loss': 'exponential', 'min_samples_split': 4, 'min_samples_leaf': 3, 'min_weight_fraction_leaf': 0.12, 'max_features': 17}. Best is trial#277 with value: 0.7666666666666667.\n",
      "[I 2020-05-15 22:12:59,263] Finished trial#397 with value: 0.7388888888888889 with parameters: {'n_estimators': 505, 'max_depth': 26, 'learning_rate': 0.035, 'subsample': 0.9, 'loss': 'exponential', 'min_samples_split': 4, 'min_samples_leaf': 3, 'min_weight_fraction_leaf': 0.101, 'max_features': 17}. Best is trial#277 with value: 0.7666666666666667.\n",
      "[I 2020-05-15 22:13:00,085] Finished trial#398 with value: 0.7444444444444445 with parameters: {'n_estimators': 488, 'max_depth': 29, 'learning_rate': 0.032, 'subsample': 0.9, 'loss': 'exponential', 'min_samples_split': 4, 'min_samples_leaf': 3, 'min_weight_fraction_leaf': 0.108, 'max_features': 18}. Best is trial#277 with value: 0.7666666666666667.\n",
      "[I 2020-05-15 22:13:00,884] Finished trial#399 with value: 0.7444444444444445 with parameters: {'n_estimators': 497, 'max_depth': 25, 'learning_rate': 0.041, 'subsample': 0.9, 'loss': 'exponential', 'min_samples_split': 4, 'min_samples_leaf': 4, 'min_weight_fraction_leaf': 0.121, 'max_features': 17}. Best is trial#277 with value: 0.7666666666666667.\n",
      "[I 2020-05-15 22:13:01,783] Finished trial#400 with value: 0.6777777777777778 with parameters: {'n_estimators': 535, 'max_depth': 26, 'learning_rate': 0.158, 'subsample': 0.9, 'loss': 'exponential', 'min_samples_split': 2, 'min_samples_leaf': 4, 'min_weight_fraction_leaf': 0.135, 'max_features': 17}. Best is trial#277 with value: 0.7666666666666667.\n",
      "[I 2020-05-15 22:13:02,645] Finished trial#401 with value: 0.75 with parameters: {'n_estimators': 470, 'max_depth': 32, 'learning_rate': 0.031, 'subsample': 0.9, 'loss': 'exponential', 'min_samples_split': 19, 'min_samples_leaf': 2, 'min_weight_fraction_leaf': 0.11900000000000001, 'max_features': 16}. Best is trial#277 with value: 0.7666666666666667.\n",
      "[I 2020-05-15 22:13:03,638] Finished trial#402 with value: 0.7388888888888889 with parameters: {'n_estimators': 569, 'max_depth': 25, 'learning_rate': 0.035, 'subsample': 0.9, 'loss': 'exponential', 'min_samples_split': 5, 'min_samples_leaf': 2, 'min_weight_fraction_leaf': 0.106, 'max_features': 16}. Best is trial#277 with value: 0.7666666666666667.\n",
      "[I 2020-05-15 22:13:04,439] Finished trial#403 with value: 0.7333333333333333 with parameters: {'n_estimators': 551, 'max_depth': 27, 'learning_rate': 0.037000000000000005, 'subsample': 0.9, 'loss': 'exponential', 'min_samples_split': 4, 'min_samples_leaf': 3, 'min_weight_fraction_leaf': 0.149, 'max_features': 17}. Best is trial#277 with value: 0.7666666666666667.\n"
     ]
    },
    {
     "name": "stderr",
     "output_type": "stream",
     "text": [
      "[I 2020-05-15 22:13:05,247] Finished trial#404 with value: 0.7388888888888889 with parameters: {'n_estimators': 518, 'max_depth': 28, 'learning_rate': 0.044000000000000004, 'subsample': 0.9, 'loss': 'exponential', 'min_samples_split': 3, 'min_samples_leaf': 5, 'min_weight_fraction_leaf': 0.13, 'max_features': 18}. Best is trial#277 with value: 0.7666666666666667.\n",
      "[I 2020-05-15 22:13:06,133] Finished trial#405 with value: 0.7444444444444445 with parameters: {'n_estimators': 604, 'max_depth': 30, 'learning_rate': 0.029, 'subsample': 0.9, 'loss': 'exponential', 'min_samples_split': 5, 'min_samples_leaf': 3, 'min_weight_fraction_leaf': 0.117, 'max_features': 16}. Best is trial#277 with value: 0.7666666666666667.\n",
      "[I 2020-05-15 22:13:07,055] Finished trial#406 with value: 0.7333333333333333 with parameters: {'n_estimators': 581, 'max_depth': 29, 'learning_rate': 0.041, 'subsample': 0.9, 'loss': 'exponential', 'min_samples_split': 19, 'min_samples_leaf': 7, 'min_weight_fraction_leaf': 0.139, 'max_features': 18}. Best is trial#277 with value: 0.7666666666666667.\n",
      "[I 2020-05-15 22:13:08,014] Finished trial#407 with value: 0.7277777777777777 with parameters: {'n_estimators': 555, 'max_depth': 27, 'learning_rate': 0.031, 'subsample': 0.9, 'loss': 'exponential', 'min_samples_split': 4, 'min_samples_leaf': 4, 'min_weight_fraction_leaf': 0.098, 'max_features': 16}. Best is trial#277 with value: 0.7666666666666667.\n",
      "[I 2020-05-15 22:13:08,898] Finished trial#408 with value: 0.7166666666666667 with parameters: {'n_estimators': 539, 'max_depth': 29, 'learning_rate': 0.048, 'subsample': 0.9, 'loss': 'exponential', 'min_samples_split': 7, 'min_samples_leaf': 7, 'min_weight_fraction_leaf': 0.128, 'max_features': 17}. Best is trial#277 with value: 0.7666666666666667.\n",
      "[I 2020-05-15 22:13:09,629] Finished trial#409 with value: 0.7277777777777777 with parameters: {'n_estimators': 505, 'max_depth': 27, 'learning_rate': 0.037000000000000005, 'subsample': 0.9, 'loss': 'exponential', 'min_samples_split': 3, 'min_samples_leaf': 4, 'min_weight_fraction_leaf': 0.158, 'max_features': 17}. Best is trial#277 with value: 0.7666666666666667.\n",
      "[I 2020-05-15 22:13:10,385] Finished trial#410 with value: 0.7388888888888889 with parameters: {'n_estimators': 455, 'max_depth': 19, 'learning_rate': 0.029, 'subsample': 0.9, 'loss': 'exponential', 'min_samples_split': 5, 'min_samples_leaf': 3, 'min_weight_fraction_leaf': 0.111, 'max_features': 16}. Best is trial#277 with value: 0.7666666666666667.\n",
      "[W 2020-05-15 22:13:10,581] Setting status of trial#411 as TrialState.FAIL because of the following error: ValueError('n_estimators must be greater than 0 but was 0')\n",
      "Traceback (most recent call last):\n",
      "  File \"C:\\ProgramData\\Anaconda3\\lib\\site-packages\\optuna\\study.py\", line 677, in _run_trial\n",
      "    result = func(trial)\n",
      "  File \"<ipython-input-83-c40c0797e30c>\", line 28, in opt_gdb\n",
      "    gb_tuna.fit(X_train, y_train)\n",
      "  File \"C:\\ProgramData\\Anaconda3\\lib\\site-packages\\sklearn\\ensemble\\_gb.py\", line 1478, in fit\n",
      "    self._check_params()\n",
      "  File \"C:\\ProgramData\\Anaconda3\\lib\\site-packages\\sklearn\\ensemble\\_gb.py\", line 1261, in _check_params\n",
      "    \"was %r\" % self.n_estimators)\n",
      "ValueError: n_estimators must be greater than 0 but was 0\n"
     ]
    },
    {
     "ename": "ValueError",
     "evalue": "n_estimators must be greater than 0 but was 0",
     "output_type": "error",
     "traceback": [
      "\u001b[1;31m---------------------------------------------------------------------------\u001b[0m",
      "\u001b[1;31mValueError\u001b[0m                                Traceback (most recent call last)",
      "\u001b[1;32m<ipython-input-84-3c8ef36f0586>\u001b[0m in \u001b[0;36m<module>\u001b[1;34m\u001b[0m\n\u001b[0;32m      3\u001b[0m \u001b[1;33m\u001b[0m\u001b[0m\n\u001b[0;32m      4\u001b[0m \u001b[0mstudy\u001b[0m \u001b[1;33m=\u001b[0m \u001b[0moptuna\u001b[0m\u001b[1;33m.\u001b[0m\u001b[0mcreate_study\u001b[0m\u001b[1;33m(\u001b[0m\u001b[0mdirection\u001b[0m \u001b[1;33m=\u001b[0m \u001b[1;34m'maximize'\u001b[0m\u001b[1;33m)\u001b[0m\u001b[1;33m\u001b[0m\u001b[1;33m\u001b[0m\u001b[0m\n\u001b[1;32m----> 5\u001b[1;33m \u001b[0mstudy\u001b[0m\u001b[1;33m.\u001b[0m\u001b[0moptimize\u001b[0m\u001b[1;33m(\u001b[0m\u001b[0mfunctools\u001b[0m\u001b[1;33m.\u001b[0m\u001b[0mpartial\u001b[0m\u001b[1;33m(\u001b[0m\u001b[0mopt\u001b[0m\u001b[1;33m,\u001b[0m \u001b[0mX_train\u001b[0m\u001b[1;33m,\u001b[0m \u001b[0my_train\u001b[0m\u001b[1;33m,\u001b[0m \u001b[0mX_val\u001b[0m\u001b[1;33m,\u001b[0m \u001b[0my_val\u001b[0m\u001b[1;33m)\u001b[0m\u001b[1;33m,\u001b[0m \u001b[0mn_trials\u001b[0m\u001b[1;33m=\u001b[0m\u001b[1;36m500\u001b[0m\u001b[1;33m)\u001b[0m\u001b[1;33m\u001b[0m\u001b[1;33m\u001b[0m\u001b[0m\n\u001b[0m",
      "\u001b[1;32mC:\\ProgramData\\Anaconda3\\lib\\site-packages\\optuna\\study.py\u001b[0m in \u001b[0;36moptimize\u001b[1;34m(self, func, n_trials, timeout, n_jobs, catch, callbacks, gc_after_trial, show_progress_bar)\u001b[0m\n\u001b[0;32m    329\u001b[0m             \u001b[1;32mif\u001b[0m \u001b[0mn_jobs\u001b[0m \u001b[1;33m==\u001b[0m \u001b[1;36m1\u001b[0m\u001b[1;33m:\u001b[0m\u001b[1;33m\u001b[0m\u001b[1;33m\u001b[0m\u001b[0m\n\u001b[0;32m    330\u001b[0m                 self._optimize_sequential(\n\u001b[1;32m--> 331\u001b[1;33m                     \u001b[0mfunc\u001b[0m\u001b[1;33m,\u001b[0m \u001b[0mn_trials\u001b[0m\u001b[1;33m,\u001b[0m \u001b[0mtimeout\u001b[0m\u001b[1;33m,\u001b[0m \u001b[0mcatch\u001b[0m\u001b[1;33m,\u001b[0m \u001b[0mcallbacks\u001b[0m\u001b[1;33m,\u001b[0m \u001b[0mgc_after_trial\u001b[0m\u001b[1;33m,\u001b[0m \u001b[1;32mNone\u001b[0m\u001b[1;33m\u001b[0m\u001b[1;33m\u001b[0m\u001b[0m\n\u001b[0m\u001b[0;32m    332\u001b[0m                 )\n\u001b[0;32m    333\u001b[0m             \u001b[1;32melse\u001b[0m\u001b[1;33m:\u001b[0m\u001b[1;33m\u001b[0m\u001b[1;33m\u001b[0m\u001b[0m\n",
      "\u001b[1;32mC:\\ProgramData\\Anaconda3\\lib\\site-packages\\optuna\\study.py\u001b[0m in \u001b[0;36m_optimize_sequential\u001b[1;34m(self, func, n_trials, timeout, catch, callbacks, gc_after_trial, time_start)\u001b[0m\n\u001b[0;32m    624\u001b[0m                     \u001b[1;32mbreak\u001b[0m\u001b[1;33m\u001b[0m\u001b[1;33m\u001b[0m\u001b[0m\n\u001b[0;32m    625\u001b[0m \u001b[1;33m\u001b[0m\u001b[0m\n\u001b[1;32m--> 626\u001b[1;33m             \u001b[0mself\u001b[0m\u001b[1;33m.\u001b[0m\u001b[0m_run_trial_and_callbacks\u001b[0m\u001b[1;33m(\u001b[0m\u001b[0mfunc\u001b[0m\u001b[1;33m,\u001b[0m \u001b[0mcatch\u001b[0m\u001b[1;33m,\u001b[0m \u001b[0mcallbacks\u001b[0m\u001b[1;33m,\u001b[0m \u001b[0mgc_after_trial\u001b[0m\u001b[1;33m)\u001b[0m\u001b[1;33m\u001b[0m\u001b[1;33m\u001b[0m\u001b[0m\n\u001b[0m\u001b[0;32m    627\u001b[0m \u001b[1;33m\u001b[0m\u001b[0m\n\u001b[0;32m    628\u001b[0m             \u001b[0mself\u001b[0m\u001b[1;33m.\u001b[0m\u001b[0m_progress_bar\u001b[0m\u001b[1;33m.\u001b[0m\u001b[0mupdate\u001b[0m\u001b[1;33m(\u001b[0m\u001b[1;33m(\u001b[0m\u001b[0mdatetime\u001b[0m\u001b[1;33m.\u001b[0m\u001b[0mdatetime\u001b[0m\u001b[1;33m.\u001b[0m\u001b[0mnow\u001b[0m\u001b[1;33m(\u001b[0m\u001b[1;33m)\u001b[0m \u001b[1;33m-\u001b[0m \u001b[0mtime_start\u001b[0m\u001b[1;33m)\u001b[0m\u001b[1;33m.\u001b[0m\u001b[0mtotal_seconds\u001b[0m\u001b[1;33m(\u001b[0m\u001b[1;33m)\u001b[0m\u001b[1;33m)\u001b[0m\u001b[1;33m\u001b[0m\u001b[1;33m\u001b[0m\u001b[0m\n",
      "\u001b[1;32mC:\\ProgramData\\Anaconda3\\lib\\site-packages\\optuna\\study.py\u001b[0m in \u001b[0;36m_run_trial_and_callbacks\u001b[1;34m(self, func, catch, callbacks, gc_after_trial)\u001b[0m\n\u001b[0;32m    654\u001b[0m         \u001b[1;31m# type: (...) -> None\u001b[0m\u001b[1;33m\u001b[0m\u001b[1;33m\u001b[0m\u001b[1;33m\u001b[0m\u001b[0m\n\u001b[0;32m    655\u001b[0m \u001b[1;33m\u001b[0m\u001b[0m\n\u001b[1;32m--> 656\u001b[1;33m         \u001b[0mtrial\u001b[0m \u001b[1;33m=\u001b[0m \u001b[0mself\u001b[0m\u001b[1;33m.\u001b[0m\u001b[0m_run_trial\u001b[0m\u001b[1;33m(\u001b[0m\u001b[0mfunc\u001b[0m\u001b[1;33m,\u001b[0m \u001b[0mcatch\u001b[0m\u001b[1;33m,\u001b[0m \u001b[0mgc_after_trial\u001b[0m\u001b[1;33m)\u001b[0m\u001b[1;33m\u001b[0m\u001b[1;33m\u001b[0m\u001b[0m\n\u001b[0m\u001b[0;32m    657\u001b[0m         \u001b[1;32mif\u001b[0m \u001b[0mcallbacks\u001b[0m \u001b[1;32mis\u001b[0m \u001b[1;32mnot\u001b[0m \u001b[1;32mNone\u001b[0m\u001b[1;33m:\u001b[0m\u001b[1;33m\u001b[0m\u001b[1;33m\u001b[0m\u001b[0m\n\u001b[0;32m    658\u001b[0m             \u001b[0mfrozen_trial\u001b[0m \u001b[1;33m=\u001b[0m \u001b[0mself\u001b[0m\u001b[1;33m.\u001b[0m\u001b[0m_storage\u001b[0m\u001b[1;33m.\u001b[0m\u001b[0mget_trial\u001b[0m\u001b[1;33m(\u001b[0m\u001b[0mtrial\u001b[0m\u001b[1;33m.\u001b[0m\u001b[0m_trial_id\u001b[0m\u001b[1;33m)\u001b[0m\u001b[1;33m\u001b[0m\u001b[1;33m\u001b[0m\u001b[0m\n",
      "\u001b[1;32mC:\\ProgramData\\Anaconda3\\lib\\site-packages\\optuna\\study.py\u001b[0m in \u001b[0;36m_run_trial\u001b[1;34m(self, func, catch, gc_after_trial)\u001b[0m\n\u001b[0;32m    675\u001b[0m \u001b[1;33m\u001b[0m\u001b[0m\n\u001b[0;32m    676\u001b[0m         \u001b[1;32mtry\u001b[0m\u001b[1;33m:\u001b[0m\u001b[1;33m\u001b[0m\u001b[1;33m\u001b[0m\u001b[0m\n\u001b[1;32m--> 677\u001b[1;33m             \u001b[0mresult\u001b[0m \u001b[1;33m=\u001b[0m \u001b[0mfunc\u001b[0m\u001b[1;33m(\u001b[0m\u001b[0mtrial\u001b[0m\u001b[1;33m)\u001b[0m\u001b[1;33m\u001b[0m\u001b[1;33m\u001b[0m\u001b[0m\n\u001b[0m\u001b[0;32m    678\u001b[0m         \u001b[1;32mexcept\u001b[0m \u001b[0mexceptions\u001b[0m\u001b[1;33m.\u001b[0m\u001b[0mTrialPruned\u001b[0m \u001b[1;32mas\u001b[0m \u001b[0me\u001b[0m\u001b[1;33m:\u001b[0m\u001b[1;33m\u001b[0m\u001b[1;33m\u001b[0m\u001b[0m\n\u001b[0;32m    679\u001b[0m             message = \"Setting status of trial#{} as {}. {}\".format(\n",
      "\u001b[1;32m<ipython-input-83-c40c0797e30c>\u001b[0m in \u001b[0;36mopt_gdb\u001b[1;34m(X_train, y_train, X_test, y_test, trial)\u001b[0m\n\u001b[0;32m     26\u001b[0m \u001b[1;33m\u001b[0m\u001b[0m\n\u001b[0;32m     27\u001b[0m     )\n\u001b[1;32m---> 28\u001b[1;33m     \u001b[0mgb_tuna\u001b[0m\u001b[1;33m.\u001b[0m\u001b[0mfit\u001b[0m\u001b[1;33m(\u001b[0m\u001b[0mX_train\u001b[0m\u001b[1;33m,\u001b[0m \u001b[0my_train\u001b[0m\u001b[1;33m)\u001b[0m\u001b[1;33m\u001b[0m\u001b[1;33m\u001b[0m\u001b[0m\n\u001b[0m\u001b[0;32m     29\u001b[0m     \u001b[0mtuna_pred_test\u001b[0m \u001b[1;33m=\u001b[0m \u001b[0mgb_tuna\u001b[0m\u001b[1;33m.\u001b[0m\u001b[0mpredict\u001b[0m\u001b[1;33m(\u001b[0m\u001b[0mX_val\u001b[0m\u001b[1;33m)\u001b[0m\u001b[1;33m\u001b[0m\u001b[1;33m\u001b[0m\u001b[0m\n\u001b[0;32m     30\u001b[0m \u001b[1;33m\u001b[0m\u001b[0m\n",
      "\u001b[1;32mC:\\ProgramData\\Anaconda3\\lib\\site-packages\\sklearn\\ensemble\\_gb.py\u001b[0m in \u001b[0;36mfit\u001b[1;34m(self, X, y, sample_weight, monitor)\u001b[0m\n\u001b[0;32m   1476\u001b[0m             \u001b[0mX_val\u001b[0m \u001b[1;33m=\u001b[0m \u001b[0my_val\u001b[0m \u001b[1;33m=\u001b[0m \u001b[0msample_weight_val\u001b[0m \u001b[1;33m=\u001b[0m \u001b[1;32mNone\u001b[0m\u001b[1;33m\u001b[0m\u001b[1;33m\u001b[0m\u001b[0m\n\u001b[0;32m   1477\u001b[0m \u001b[1;33m\u001b[0m\u001b[0m\n\u001b[1;32m-> 1478\u001b[1;33m         \u001b[0mself\u001b[0m\u001b[1;33m.\u001b[0m\u001b[0m_check_params\u001b[0m\u001b[1;33m(\u001b[0m\u001b[1;33m)\u001b[0m\u001b[1;33m\u001b[0m\u001b[1;33m\u001b[0m\u001b[0m\n\u001b[0m\u001b[0;32m   1479\u001b[0m \u001b[1;33m\u001b[0m\u001b[0m\n\u001b[0;32m   1480\u001b[0m         \u001b[1;32mif\u001b[0m \u001b[1;32mnot\u001b[0m \u001b[0mself\u001b[0m\u001b[1;33m.\u001b[0m\u001b[0m_is_initialized\u001b[0m\u001b[1;33m(\u001b[0m\u001b[1;33m)\u001b[0m\u001b[1;33m:\u001b[0m\u001b[1;33m\u001b[0m\u001b[1;33m\u001b[0m\u001b[0m\n",
      "\u001b[1;32mC:\\ProgramData\\Anaconda3\\lib\\site-packages\\sklearn\\ensemble\\_gb.py\u001b[0m in \u001b[0;36m_check_params\u001b[1;34m(self)\u001b[0m\n\u001b[0;32m   1259\u001b[0m         \u001b[1;32mif\u001b[0m \u001b[0mself\u001b[0m\u001b[1;33m.\u001b[0m\u001b[0mn_estimators\u001b[0m \u001b[1;33m<=\u001b[0m \u001b[1;36m0\u001b[0m\u001b[1;33m:\u001b[0m\u001b[1;33m\u001b[0m\u001b[1;33m\u001b[0m\u001b[0m\n\u001b[0;32m   1260\u001b[0m             raise ValueError(\"n_estimators must be greater than 0 but \"\n\u001b[1;32m-> 1261\u001b[1;33m                              \"was %r\" % self.n_estimators)\n\u001b[0m\u001b[0;32m   1262\u001b[0m \u001b[1;33m\u001b[0m\u001b[0m\n\u001b[0;32m   1263\u001b[0m         \u001b[1;32mif\u001b[0m \u001b[0mself\u001b[0m\u001b[1;33m.\u001b[0m\u001b[0mlearning_rate\u001b[0m \u001b[1;33m<=\u001b[0m \u001b[1;36m0.0\u001b[0m\u001b[1;33m:\u001b[0m\u001b[1;33m\u001b[0m\u001b[1;33m\u001b[0m\u001b[0m\n",
      "\u001b[1;31mValueError\u001b[0m: n_estimators must be greater than 0 but was 0"
     ]
    }
   ],
   "source": [
    "opt = opt_gdb\n",
    "\n",
    "\n",
    "study = optuna.create_study(direction = 'maximize')\n",
    "study.optimize(functools.partial(opt, X_train, y_train, X_val, y_val), n_trials=500)"
   ]
  },
  {
   "cell_type": "code",
   "execution_count": 85,
   "metadata": {},
   "outputs": [
    {
     "data": {
      "text/plain": [
       "{'n_estimators': 775,\n",
       " 'max_depth': 18,\n",
       " 'learning_rate': 0.021,\n",
       " 'subsample': 0.9,\n",
       " 'loss': 'exponential',\n",
       " 'min_samples_split': 4,\n",
       " 'min_samples_leaf': 8,\n",
       " 'min_weight_fraction_leaf': 0.123,\n",
       " 'max_features': 15}"
      ]
     },
     "execution_count": 85,
     "metadata": {},
     "output_type": "execute_result"
    }
   ],
   "source": [
    "study.best_params"
   ]
  },
  {
   "cell_type": "code",
   "execution_count": 86,
   "metadata": {},
   "outputs": [],
   "source": [
    "gdb_model=GradientBoostingClassifier(**study.best_params,random_state=1)"
   ]
  },
  {
   "cell_type": "code",
   "execution_count": 87,
   "metadata": {},
   "outputs": [
    {
     "data": {
      "text/plain": [
       "GradientBoostingClassifier(ccp_alpha=0.0, criterion='friedman_mse', init=None,\n",
       "                           learning_rate=0.021, loss='exponential',\n",
       "                           max_depth=18, max_features=15, max_leaf_nodes=None,\n",
       "                           min_impurity_decrease=0.0, min_impurity_split=None,\n",
       "                           min_samples_leaf=8, min_samples_split=4,\n",
       "                           min_weight_fraction_leaf=0.123, n_estimators=775,\n",
       "                           n_iter_no_change=None, presort='deprecated',\n",
       "                           random_state=1, subsample=0.9, tol=0.0001,\n",
       "                           validation_fraction=0.1, verbose=0,\n",
       "                           warm_start=False)"
      ]
     },
     "execution_count": 87,
     "metadata": {},
     "output_type": "execute_result"
    }
   ],
   "source": [
    "gdb_model.fit(X_train, y_train)"
   ]
  },
  {
   "cell_type": "code",
   "execution_count": 88,
   "metadata": {},
   "outputs": [
    {
     "data": {
      "text/plain": [
       "0.775766016713092"
      ]
     },
     "execution_count": 88,
     "metadata": {},
     "output_type": "execute_result"
    }
   ],
   "source": [
    "gdb_model.score(X_train, y_train)"
   ]
  },
  {
   "cell_type": "code",
   "execution_count": 89,
   "metadata": {},
   "outputs": [
    {
     "data": {
      "text/plain": [
       "0.7666666666666667"
      ]
     },
     "execution_count": 89,
     "metadata": {},
     "output_type": "execute_result"
    }
   ],
   "source": [
    "gdb_model.score(X_val, y_val)"
   ]
  },
  {
   "cell_type": "markdown",
   "metadata": {},
   "source": [
    "## XGB + Optuna"
   ]
  },
  {
   "cell_type": "code",
   "execution_count": 98,
   "metadata": {},
   "outputs": [
    {
     "name": "stderr",
     "output_type": "stream",
     "text": [
      "[I 2020-05-15 22:23:31,673] Finished trial#0 with value: 0.6777777777777778 with parameters: {'n_estimators': 781, 'max_depth': 34, 'min_child_weight': 3, 'learning_rate': 0.079, 'subsample': 0.8, 'reg_lambda': 0.657, 'reg_alpha': 0.802, 'colsample_bytree': 0.6}. Best is trial#0 with value: 0.6777777777777778.\n",
      "[I 2020-05-15 22:23:32,065] Finished trial#1 with value: 0.7166666666666667 with parameters: {'n_estimators': 192, 'max_depth': 30, 'min_child_weight': 1, 'learning_rate': 0.002, 'subsample': 0.8, 'reg_lambda': 0.297, 'reg_alpha': 0.331, 'colsample_bytree': 0.7}. Best is trial#1 with value: 0.7166666666666667.\n",
      "[I 2020-05-15 22:23:32,299] Finished trial#2 with value: 0.7277777777777777 with parameters: {'n_estimators': 180, 'max_depth': 9, 'min_child_weight': 20, 'learning_rate': 0.155, 'subsample': 0.9, 'reg_lambda': 0.629, 'reg_alpha': 0.508, 'colsample_bytree': 0.8}. Best is trial#2 with value: 0.7277777777777777.\n",
      "[I 2020-05-15 22:23:32,513] Finished trial#3 with value: 0.7055555555555556 with parameters: {'n_estimators': 45, 'max_depth': 7, 'min_child_weight': 14, 'learning_rate': 0.07300000000000001, 'subsample': 0.5, 'reg_lambda': 0.8190000000000001, 'reg_alpha': 0.259, 'colsample_bytree': 0.6}. Best is trial#2 with value: 0.7277777777777777.\n",
      "[I 2020-05-15 22:23:33,028] Finished trial#4 with value: 0.6944444444444444 with parameters: {'n_estimators': 679, 'max_depth': 21, 'min_child_weight': 10, 'learning_rate': 0.17600000000000002, 'subsample': 0.7, 'reg_lambda': 0.076, 'reg_alpha': 0.362, 'colsample_bytree': 0.5}. Best is trial#2 with value: 0.7277777777777777.\n",
      "[I 2020-05-15 22:23:33,647] Finished trial#5 with value: 0.7111111111111111 with parameters: {'n_estimators': 813, 'max_depth': 36, 'min_child_weight': 20, 'learning_rate': 0.055, 'subsample': 0.7, 'reg_lambda': 0.8190000000000001, 'reg_alpha': 0.632, 'colsample_bytree': 0.5}. Best is trial#2 with value: 0.7277777777777777.\n",
      "[I 2020-05-15 22:23:34,037] Finished trial#6 with value: 0.7166666666666667 with parameters: {'n_estimators': 428, 'max_depth': 34, 'min_child_weight': 11, 'learning_rate': 0.17, 'subsample': 0.6, 'reg_lambda': 0.806, 'reg_alpha': 0.577, 'colsample_bytree': 0.8}. Best is trial#2 with value: 0.7277777777777777.\n",
      "[I 2020-05-15 22:23:34,607] Finished trial#7 with value: 0.6833333333333333 with parameters: {'n_estimators': 588, 'max_depth': 24, 'min_child_weight': 3, 'learning_rate': 0.078, 'subsample': 0.7, 'reg_lambda': 0.216, 'reg_alpha': 0.78, 'colsample_bytree': 0.6}. Best is trial#2 with value: 0.7277777777777777.\n",
      "[I 2020-05-15 22:23:34,796] Finished trial#8 with value: 0.7333333333333333 with parameters: {'n_estimators': 166, 'max_depth': 40, 'min_child_weight': 11, 'learning_rate': 0.056, 'subsample': 0.7, 'reg_lambda': 0.47800000000000004, 'reg_alpha': 0.551, 'colsample_bytree': 0.6}. Best is trial#8 with value: 0.7333333333333333.\n",
      "[I 2020-05-15 22:23:35,494] Finished trial#9 with value: 0.6722222222222223 with parameters: {'n_estimators': 862, 'max_depth': 17, 'min_child_weight': 8, 'learning_rate': 0.197, 'subsample': 0.7, 'reg_lambda': 0.243, 'reg_alpha': 0.679, 'colsample_bytree': 0.8}. Best is trial#8 with value: 0.7333333333333333.\n",
      "[I 2020-05-15 22:23:35,813] Finished trial#10 with value: 0.6944444444444444 with parameters: {'n_estimators': 394, 'max_depth': 40, 'min_child_weight': 16, 'learning_rate': 0.011, 'subsample': 0.5, 'reg_lambda': 0.40700000000000003, 'reg_alpha': 0.009000000000000001, 'colsample_bytree': 0.9}. Best is trial#8 with value: 0.7333333333333333.\n",
      "[I 2020-05-15 22:23:36,002] Finished trial#11 with value: 0.7055555555555556 with parameters: {'n_estimators': 168, 'max_depth': 1, 'min_child_weight': 19, 'learning_rate': 0.14, 'subsample': 0.9, 'reg_lambda': 0.522, 'reg_alpha': 0.9550000000000001, 'colsample_bytree': 0.8}. Best is trial#8 with value: 0.7333333333333333.\n",
      "[I 2020-05-15 22:23:36,139] Finished trial#12 with value: 0.7111111111111111 with parameters: {'n_estimators': 14, 'max_depth': 11, 'min_child_weight': 7, 'learning_rate': 0.126, 'subsample': 0.9, 'reg_lambda': 0.585, 'reg_alpha': 0.442, 'colsample_bytree': 0.7}. Best is trial#8 with value: 0.7333333333333333.\n",
      "[I 2020-05-15 22:23:36,443] Finished trial#13 with value: 0.6833333333333333 with parameters: {'n_estimators': 263, 'max_depth': 1, 'min_child_weight': 16, 'learning_rate': 0.035, 'subsample': 0.8, 'reg_lambda': 0.672, 'reg_alpha': 0.186, 'colsample_bytree': 0.9}. Best is trial#8 with value: 0.7333333333333333.\n",
      "[I 2020-05-15 22:23:36,752] Finished trial#14 with value: 0.7277777777777777 with parameters: {'n_estimators': 328, 'max_depth': 12, 'min_child_weight': 13, 'learning_rate': 0.125, 'subsample': 0.6, 'reg_lambda': 0.45, 'reg_alpha': 0.503, 'colsample_bytree': 0.7}. Best is trial#8 with value: 0.7333333333333333.\n",
      "[I 2020-05-15 22:23:36,924] Finished trial#15 with value: 0.7277777777777777 with parameters: {'n_estimators': 85, 'max_depth': 6, 'min_child_weight': 18, 'learning_rate': 0.10200000000000001, 'subsample': 0.6, 'reg_lambda': 0.38, 'reg_alpha': 0.126, 'colsample_bytree': 0.8}. Best is trial#8 with value: 0.7333333333333333.\n",
      "[I 2020-05-15 22:23:37,143] Finished trial#16 with value: 0.7111111111111111 with parameters: {'n_estimators': 159, 'max_depth': 26, 'min_child_weight': 8, 'learning_rate': 0.030000000000000002, 'subsample': 0.8, 'reg_lambda': 0.983, 'reg_alpha': 0.49, 'colsample_bytree': 0.6}. Best is trial#8 with value: 0.7333333333333333.\n",
      "[I 2020-05-15 22:23:37,581] Finished trial#17 with value: 0.6888888888888889 with parameters: {'n_estimators': 531, 'max_depth': 16, 'min_child_weight': 5, 'learning_rate': 0.157, 'subsample': 0.9, 'reg_lambda': 0.674, 'reg_alpha': 0.751, 'colsample_bytree': 0.5}. Best is trial#8 with value: 0.7333333333333333.\n",
      "[I 2020-05-15 22:23:37,907] Finished trial#18 with value: 0.7166666666666667 with parameters: {'n_estimators': 281, 'max_depth': 40, 'min_child_weight': 12, 'learning_rate': 0.10500000000000001, 'subsample': 0.6, 'reg_lambda': 0.996, 'reg_alpha': 0.9380000000000001, 'colsample_bytree': 0.9}. Best is trial#8 with value: 0.7333333333333333.\n",
      "[I 2020-05-15 22:23:38,233] Finished trial#19 with value: 0.7277777777777777 with parameters: {'n_estimators': 368, 'max_depth': 14, 'min_child_weight': 13, 'learning_rate': 0.125, 'subsample': 0.6, 'reg_lambda': 0.007, 'reg_alpha': 0.395, 'colsample_bytree': 0.7}. Best is trial#8 with value: 0.7333333333333333.\n",
      "[I 2020-05-15 22:23:38,395] Finished trial#20 with value: 0.6944444444444444 with parameters: {'n_estimators': 62, 'max_depth': 5, 'min_child_weight': 18, 'learning_rate': 0.096, 'subsample': 0.5, 'reg_lambda': 0.355, 'reg_alpha': 0.06, 'colsample_bytree': 0.8}. Best is trial#8 with value: 0.7333333333333333.\n",
      "[I 2020-05-15 22:23:38,578] Finished trial#21 with value: 0.7111111111111111 with parameters: {'n_estimators': 105, 'max_depth': 6, 'min_child_weight': 17, 'learning_rate': 0.047, 'subsample': 0.6, 'reg_lambda': 0.5690000000000001, 'reg_alpha': 0.125, 'colsample_bytree': 0.8}. Best is trial#8 with value: 0.7333333333333333.\n",
      "[I 2020-05-15 22:23:38,909] Finished trial#22 with value: 0.7388888888888889 with parameters: {'n_estimators': 406, 'max_depth': 12, 'min_child_weight': 14, 'learning_rate': 0.14400000000000002, 'subsample': 0.7, 'reg_lambda': 0.03, 'reg_alpha': 0.385, 'colsample_bytree': 0.7}. Best is trial#22 with value: 0.7388888888888889.\n",
      "[I 2020-05-15 22:23:39,250] Finished trial#23 with value: 0.7388888888888889 with parameters: {'n_estimators': 463, 'max_depth': 9, 'min_child_weight': 15, 'learning_rate': 0.192, 'subsample': 0.7, 'reg_lambda': 0.733, 'reg_alpha': 0.562, 'colsample_bytree': 0.6}. Best is trial#22 with value: 0.7388888888888889.\n",
      "[I 2020-05-15 22:23:39,603] Finished trial#24 with value: 0.7166666666666667 with parameters: {'n_estimators': 487, 'max_depth': 19, 'min_child_weight': 15, 'learning_rate': 0.189, 'subsample': 0.7, 'reg_lambda': 0.11900000000000001, 'reg_alpha': 0.5740000000000001, 'colsample_bytree': 0.6}. Best is trial#22 with value: 0.7388888888888889.\n"
     ]
    },
    {
     "name": "stderr",
     "output_type": "stream",
     "text": [
      "[I 2020-05-15 22:23:40,118] Finished trial#25 with value: 0.7055555555555556 with parameters: {'n_estimators': 686, 'max_depth': 13, 'min_child_weight': 10, 'learning_rate': 0.181, 'subsample': 0.8, 'reg_lambda': 0.915, 'reg_alpha': 0.29, 'colsample_bytree': 0.6}. Best is trial#22 with value: 0.7388888888888889.\n",
      "[I 2020-05-15 22:23:40,461] Finished trial#26 with value: 0.7055555555555556 with parameters: {'n_estimators': 482, 'max_depth': 3, 'min_child_weight': 14, 'learning_rate': 0.199, 'subsample': 0.7, 'reg_lambda': 0.745, 'reg_alpha': 0.68, 'colsample_bytree': 0.7}. Best is trial#22 with value: 0.7388888888888889.\n",
      "[I 2020-05-15 22:23:40,874] Finished trial#27 with value: 0.7 with parameters: {'n_estimators': 620, 'max_depth': 9, 'min_child_weight': 11, 'learning_rate': 0.151, 'subsample': 0.7, 'reg_lambda': 0.918, 'reg_alpha': 0.443, 'colsample_bytree': 0.5}. Best is trial#22 with value: 0.7388888888888889.\n",
      "[I 2020-05-15 22:23:41,227] Finished trial#28 with value: 0.7333333333333333 with parameters: {'n_estimators': 282, 'max_depth': 16, 'min_child_weight': 9, 'learning_rate': 0.062, 'subsample': 0.8, 'reg_lambda': 0.495, 'reg_alpha': 0.867, 'colsample_bytree': 0.6}. Best is trial#22 with value: 0.7388888888888889.\n",
      "[I 2020-05-15 22:23:41,892] Finished trial#29 with value: 0.7 with parameters: {'n_estimators': 989, 'max_depth': 20, 'min_child_weight': 9, 'learning_rate': 0.089, 'subsample': 0.8, 'reg_lambda': 0.148, 'reg_alpha': 0.233, 'colsample_bytree': 0.6}. Best is trial#22 with value: 0.7388888888888889.\n",
      "[I 2020-05-15 22:23:42,187] Finished trial#30 with value: 0.75 with parameters: {'n_estimators': 271, 'max_depth': 16, 'min_child_weight': 15, 'learning_rate': 0.113, 'subsample': 0.8, 'reg_lambda': 0.71, 'reg_alpha': 0.833, 'colsample_bytree': 0.7}. Best is trial#30 with value: 0.75.\n",
      "[I 2020-05-15 22:23:42,475] Finished trial#31 with value: 0.7333333333333333 with parameters: {'n_estimators': 269, 'max_depth': 15, 'min_child_weight': 14, 'learning_rate': 0.113, 'subsample': 0.8, 'reg_lambda': 0.73, 'reg_alpha': 0.881, 'colsample_bytree': 0.7}. Best is trial#30 with value: 0.75.\n",
      "[I 2020-05-15 22:23:42,832] Finished trial#32 with value: 0.7555555555555555 with parameters: {'n_estimators': 444, 'max_depth': 10, 'min_child_weight': 15, 'learning_rate': 0.114, 'subsample': 0.8, 'reg_lambda': 0.741, 'reg_alpha': 0.864, 'colsample_bytree': 0.7}. Best is trial#32 with value: 0.7555555555555555.\n",
      "[I 2020-05-15 22:23:43,205] Finished trial#33 with value: 0.75 with parameters: {'n_estimators': 438, 'max_depth': 10, 'min_child_weight': 16, 'learning_rate': 0.137, 'subsample': 0.8, 'reg_lambda': 0.746, 'reg_alpha': 0.861, 'colsample_bytree': 0.7}. Best is trial#32 with value: 0.7555555555555555.\n",
      "[I 2020-05-15 22:23:43,619] Finished trial#34 with value: 0.75 with parameters: {'n_estimators': 543, 'max_depth': 9, 'min_child_weight': 17, 'learning_rate': 0.11800000000000001, 'subsample': 0.8, 'reg_lambda': 0.748, 'reg_alpha': 0.992, 'colsample_bytree': 0.7}. Best is trial#32 with value: 0.7555555555555555.\n",
      "[I 2020-05-15 22:23:44,047] Finished trial#35 with value: 0.7333333333333333 with parameters: {'n_estimators': 567, 'max_depth': 9, 'min_child_weight': 17, 'learning_rate': 0.135, 'subsample': 0.8, 'reg_lambda': 0.896, 'reg_alpha': 0.998, 'colsample_bytree': 0.7}. Best is trial#32 with value: 0.7555555555555555.\n",
      "[I 2020-05-15 22:23:44,351] Finished trial#36 with value: 0.75 with parameters: {'n_estimators': 343, 'max_depth': 4, 'min_child_weight': 19, 'learning_rate': 0.112, 'subsample': 0.9, 'reg_lambda': 0.855, 'reg_alpha': 0.852, 'colsample_bytree': 0.7}. Best is trial#32 with value: 0.7555555555555555.\n",
      "[I 2020-05-15 22:23:44,801] Finished trial#37 with value: 0.7333333333333333 with parameters: {'n_estimators': 690, 'max_depth': 3, 'min_child_weight': 20, 'learning_rate': 0.08700000000000001, 'subsample': 0.9, 'reg_lambda': 0.846, 'reg_alpha': 0.992, 'colsample_bytree': 0.7}. Best is trial#32 with value: 0.7555555555555555.\n",
      "[I 2020-05-15 22:23:45,167] Finished trial#38 with value: 0.75 with parameters: {'n_estimators': 359, 'max_depth': 4, 'min_child_weight': 19, 'learning_rate': 0.114, 'subsample': 0.9, 'reg_lambda': 0.616, 'reg_alpha': 0.905, 'colsample_bytree': 0.7}. Best is trial#32 with value: 0.7555555555555555.\n",
      "[I 2020-05-15 22:23:45,489] Finished trial#39 with value: 0.7388888888888889 with parameters: {'n_estimators': 343, 'max_depth': 3, 'min_child_weight': 19, 'learning_rate': 0.116, 'subsample': 0.9, 'reg_lambda': 0.624, 'reg_alpha': 0.927, 'colsample_bytree': 0.8}. Best is trial#32 with value: 0.7555555555555555.\n",
      "[I 2020-05-15 22:23:45,838] Finished trial#40 with value: 0.7444444444444445 with parameters: {'n_estimators': 434, 'max_depth': 8, 'min_child_weight': 17, 'learning_rate': 0.167, 'subsample': 0.8, 'reg_lambda': 0.779, 'reg_alpha': 0.801, 'colsample_bytree': 0.7}. Best is trial#32 with value: 0.7555555555555555.\n",
      "[I 2020-05-15 22:23:46,220] Finished trial#41 with value: 0.7333333333333333 with parameters: {'n_estimators': 530, 'max_depth': 11, 'min_child_weight': 16, 'learning_rate': 0.131, 'subsample': 0.8, 'reg_lambda': 0.676, 'reg_alpha': 0.734, 'colsample_bytree': 0.7}. Best is trial#32 with value: 0.7555555555555555.\n",
      "[I 2020-05-15 22:23:46,704] Finished trial#42 with value: 0.7444444444444445 with parameters: {'n_estimators': 613, 'max_depth': 18, 'min_child_weight': 18, 'learning_rate': 0.117, 'subsample': 0.8, 'reg_lambda': 0.603, 'reg_alpha': 0.837, 'colsample_bytree': 0.7}. Best is trial#32 with value: 0.7555555555555555.\n",
      "[I 2020-05-15 22:23:47,074] Finished trial#43 with value: 0.7611111111111111 with parameters: {'n_estimators': 444, 'max_depth': 22, 'min_child_weight': 15, 'learning_rate': 0.094, 'subsample': 0.9, 'reg_lambda': 0.858, 'reg_alpha': 0.8270000000000001, 'colsample_bytree': 0.7}. Best is trial#43 with value: 0.7611111111111111.\n",
      "[I 2020-05-15 22:23:47,414] Finished trial#44 with value: 0.7388888888888889 with parameters: {'n_estimators': 311, 'max_depth': 22, 'min_child_weight': 15, 'learning_rate': 0.07200000000000001, 'subsample': 0.9, 'reg_lambda': 0.841, 'reg_alpha': 0.843, 'colsample_bytree': 0.8}. Best is trial#43 with value: 0.7611111111111111.\n",
      "[I 2020-05-15 22:23:47,693] Finished trial#45 with value: 0.7333333333333333 with parameters: {'n_estimators': 220, 'max_depth': 30, 'min_child_weight': 19, 'learning_rate': 0.09, 'subsample': 0.9, 'reg_lambda': 0.793, 'reg_alpha': 0.912, 'colsample_bytree': 0.7}. Best is trial#43 with value: 0.7611111111111111.\n",
      "[I 2020-05-15 22:23:47,949] Finished trial#46 with value: 0.7333333333333333 with parameters: {'n_estimators': 218, 'max_depth': 24, 'min_child_weight': 20, 'learning_rate': 0.107, 'subsample': 0.9, 'reg_lambda': 0.901, 'reg_alpha': 0.728, 'colsample_bytree': 0.8}. Best is trial#43 with value: 0.7611111111111111.\n",
      "[I 2020-05-15 22:23:48,340] Finished trial#47 with value: 0.7166666666666667 with parameters: {'n_estimators': 424, 'max_depth': 28, 'min_child_weight': 12, 'learning_rate': 0.098, 'subsample': 0.9, 'reg_lambda': 0.9500000000000001, 'reg_alpha': 0.808, 'colsample_bytree': 0.7}. Best is trial#43 with value: 0.7611111111111111.\n",
      "[I 2020-05-15 22:23:48,679] Finished trial#48 with value: 0.7166666666666667 with parameters: {'n_estimators': 383, 'max_depth': 22, 'min_child_weight': 13, 'learning_rate': 0.147, 'subsample': 0.8, 'reg_lambda': 0.864, 'reg_alpha': 0.6960000000000001, 'colsample_bytree': 0.7}. Best is trial#43 with value: 0.7611111111111111.\n",
      "[I 2020-05-15 22:23:49,077] Finished trial#49 with value: 0.7444444444444445 with parameters: {'n_estimators': 458, 'max_depth': 14, 'min_child_weight': 16, 'learning_rate': 0.077, 'subsample': 0.9, 'reg_lambda': 0.539, 'reg_alpha': 0.632, 'colsample_bytree': 0.8}. Best is trial#43 with value: 0.7611111111111111.\n",
      "[I 2020-05-15 22:23:49,385] Finished trial#50 with value: 0.7166666666666667 with parameters: {'n_estimators': 532, 'max_depth': 1, 'min_child_weight': 17, 'learning_rate': 0.161, 'subsample': 0.8, 'reg_lambda': 0.771, 'reg_alpha': 0.988, 'colsample_bytree': 0.7}. Best is trial#43 with value: 0.7611111111111111.\n"
     ]
    },
    {
     "name": "stderr",
     "output_type": "stream",
     "text": [
      "[I 2020-05-15 22:23:49,716] Finished trial#51 with value: 0.7555555555555555 with parameters: {'n_estimators': 371, 'max_depth': 5, 'min_child_weight': 19, 'learning_rate': 0.123, 'subsample': 0.9, 'reg_lambda': 0.652, 'reg_alpha': 0.898, 'colsample_bytree': 0.7}. Best is trial#43 with value: 0.7611111111111111.\n",
      "[I 2020-05-15 22:23:50,043] Finished trial#52 with value: 0.7333333333333333 with parameters: {'n_estimators': 320, 'max_depth': 5, 'min_child_weight': 19, 'learning_rate': 0.109, 'subsample': 0.9, 'reg_lambda': 0.6960000000000001, 'reg_alpha': 0.895, 'colsample_bytree': 0.7}. Best is trial#43 with value: 0.7611111111111111.\n",
      "[I 2020-05-15 22:23:50,365] Finished trial#53 with value: 0.75 with parameters: {'n_estimators': 350, 'max_depth': 7, 'min_child_weight': 20, 'learning_rate': 0.122, 'subsample': 0.9, 'reg_lambda': 0.636, 'reg_alpha': 0.963, 'colsample_bytree': 0.7}. Best is trial#43 with value: 0.7611111111111111.\n",
      "[I 2020-05-15 22:23:50,758] Finished trial#54 with value: 0.7444444444444445 with parameters: {'n_estimators': 388, 'max_depth': 7, 'min_child_weight': 20, 'learning_rate': 0.127, 'subsample': 0.9, 'reg_lambda': 0.648, 'reg_alpha': 0.96, 'colsample_bytree': 0.7}. Best is trial#43 with value: 0.7611111111111111.\n",
      "[I 2020-05-15 22:23:51,135] Finished trial#55 with value: 0.7277777777777777 with parameters: {'n_estimators': 508, 'max_depth': 3, 'min_child_weight': 18, 'learning_rate': 0.096, 'subsample': 0.9, 'reg_lambda': 0.8250000000000001, 'reg_alpha': 0.774, 'colsample_bytree': 0.6}. Best is trial#43 with value: 0.7611111111111111.\n",
      "[I 2020-05-15 22:23:51,560] Finished trial#56 with value: 0.7277777777777777 with parameters: {'n_estimators': 360, 'max_depth': 7, 'min_child_weight': 12, 'learning_rate': 0.123, 'subsample': 0.9, 'reg_lambda': 0.547, 'reg_alpha': 0.9560000000000001, 'colsample_bytree': 0.7}. Best is trial#43 with value: 0.7611111111111111.\n",
      "[I 2020-05-15 22:23:51,965] Finished trial#57 with value: 0.75 with parameters: {'n_estimators': 439, 'max_depth': 10, 'min_child_weight': 15, 'learning_rate': 0.138, 'subsample': 0.8, 'reg_lambda': 0.7020000000000001, 'reg_alpha': 0.794, 'colsample_bytree': 0.7}. Best is trial#43 with value: 0.7611111111111111.\n",
      "[I 2020-05-15 22:23:52,521] Finished trial#58 with value: 0.7111111111111111 with parameters: {'n_estimators': 580, 'max_depth': 11, 'min_child_weight': 16, 'learning_rate': 0.139, 'subsample': 0.8, 'reg_lambda': 0.765, 'reg_alpha': 0.777, 'colsample_bytree': 0.8}. Best is trial#43 with value: 0.7611111111111111.\n",
      "[I 2020-05-15 22:23:52,945] Finished trial#59 with value: 0.7555555555555555 with parameters: {'n_estimators': 461, 'max_depth': 17, 'min_child_weight': 15, 'learning_rate': 0.134, 'subsample': 0.8, 'reg_lambda': 0.6930000000000001, 'reg_alpha': 0.8140000000000001, 'colsample_bytree': 0.6}. Best is trial#43 with value: 0.7611111111111111.\n",
      "[I 2020-05-15 22:23:53,311] Finished trial#60 with value: 0.7333333333333333 with parameters: {'n_estimators': 405, 'max_depth': 25, 'min_child_weight': 13, 'learning_rate': 0.131, 'subsample': 0.9, 'reg_lambda': 0.586, 'reg_alpha': 0.906, 'colsample_bytree': 0.6}. Best is trial#43 with value: 0.7611111111111111.\n",
      "[I 2020-05-15 22:23:53,576] Finished trial#61 with value: 0.7166666666666667 with parameters: {'n_estimators': 243, 'max_depth': 17, 'min_child_weight': 15, 'learning_rate': 0.122, 'subsample': 0.8, 'reg_lambda': 0.6910000000000001, 'reg_alpha': 0.8180000000000001, 'colsample_bytree': 0.5}. Best is trial#43 with value: 0.7611111111111111.\n",
      "[I 2020-05-15 22:23:54,044] Finished trial#62 with value: 0.7444444444444445 with parameters: {'n_estimators': 646, 'max_depth': 13, 'min_child_weight': 15, 'learning_rate': 0.10300000000000001, 'subsample': 0.8, 'reg_lambda': 0.711, 'reg_alpha': 0.641, 'colsample_bytree': 0.6}. Best is trial#43 with value: 0.7611111111111111.\n",
      "[I 2020-05-15 22:23:54,397] Finished trial#63 with value: 0.7444444444444445 with parameters: {'n_estimators': 442, 'max_depth': 10, 'min_child_weight': 14, 'learning_rate': 0.14, 'subsample': 0.7, 'reg_lambda': 0.651, 'reg_alpha': 0.875, 'colsample_bytree': 0.6}. Best is trial#43 with value: 0.7611111111111111.\n",
      "[I 2020-05-15 22:23:54,797] Finished trial#64 with value: 0.7333333333333333 with parameters: {'n_estimators': 489, 'max_depth': 20, 'min_child_weight': 15, 'learning_rate': 0.153, 'subsample': 0.8, 'reg_lambda': 0.799, 'reg_alpha': 0.76, 'colsample_bytree': 0.7}. Best is trial#43 with value: 0.7611111111111111.\n",
      "[I 2020-05-15 22:23:55,221] Finished trial#65 with value: 0.7388888888888889 with parameters: {'n_estimators': 556, 'max_depth': 6, 'min_child_weight': 18, 'learning_rate': 0.085, 'subsample': 0.8, 'reg_lambda': 0.866, 'reg_alpha': 0.856, 'colsample_bytree': 0.7}. Best is trial#43 with value: 0.7611111111111111.\n",
      "[I 2020-05-15 22:23:55,544] Finished trial#66 with value: 0.7388888888888889 with parameters: {'n_estimators': 298, 'max_depth': 15, 'min_child_weight': 13, 'learning_rate': 0.146, 'subsample': 0.8, 'reg_lambda': 0.638, 'reg_alpha': 0.812, 'colsample_bytree': 0.8}. Best is trial#43 with value: 0.7611111111111111.\n",
      "[I 2020-05-15 22:23:55,757] Finished trial#67 with value: 0.7222222222222222 with parameters: {'n_estimators': 144, 'max_depth': 18, 'min_child_weight': 17, 'learning_rate': 0.108, 'subsample': 0.7, 'reg_lambda': 0.9570000000000001, 'reg_alpha': 0.716, 'colsample_bytree': 0.7}. Best is trial#43 with value: 0.7611111111111111.\n",
      "[I 2020-05-15 22:23:56,215] Finished trial#68 with value: 0.7388888888888889 with parameters: {'n_estimators': 512, 'max_depth': 8, 'min_child_weight': 16, 'learning_rate': 0.132, 'subsample': 0.9, 'reg_lambda': 0.748, 'reg_alpha': 0.9430000000000001, 'colsample_bytree': 0.5}. Best is trial#43 with value: 0.7611111111111111.\n",
      "[I 2020-05-15 22:23:56,594] Finished trial#69 with value: 0.7388888888888889 with parameters: {'n_estimators': 468, 'max_depth': 4, 'min_child_weight': 18, 'learning_rate': 0.1, 'subsample': 0.9, 'reg_lambda': 0.805, 'reg_alpha': 0.863, 'colsample_bytree': 0.6}. Best is trial#43 with value: 0.7611111111111111.\n",
      "[I 2020-05-15 22:23:56,949] Finished trial#70 with value: 0.7055555555555556 with parameters: {'n_estimators': 407, 'max_depth': 22, 'min_child_weight': 17, 'learning_rate': 0.11800000000000001, 'subsample': 0.7, 'reg_lambda': 0.585, 'reg_alpha': 0.903, 'colsample_bytree': 0.7}. Best is trial#43 with value: 0.7611111111111111.\n",
      "[I 2020-05-15 22:23:57,326] Finished trial#71 with value: 0.7111111111111111 with parameters: {'n_estimators': 425, 'max_depth': 10, 'min_child_weight': 16, 'learning_rate': 0.137, 'subsample': 0.8, 'reg_lambda': 0.727, 'reg_alpha': 0.796, 'colsample_bytree': 0.7}. Best is trial#43 with value: 0.7611111111111111.\n",
      "[I 2020-05-15 22:23:57,763] Finished trial#72 with value: 0.75 with parameters: {'n_estimators': 462, 'max_depth': 12, 'min_child_weight': 16, 'learning_rate': 0.128, 'subsample': 0.8, 'reg_lambda': 0.8280000000000001, 'reg_alpha': 0.842, 'colsample_bytree': 0.7}. Best is trial#43 with value: 0.7611111111111111.\n",
      "[I 2020-05-15 22:23:58,054] Finished trial#73 with value: 0.7555555555555555 with parameters: {'n_estimators': 349, 'max_depth': 2, 'min_child_weight': 20, 'learning_rate': 0.11, 'subsample': 0.9, 'reg_lambda': 0.435, 'reg_alpha': 0.936, 'colsample_bytree': 0.7}. Best is trial#43 with value: 0.7611111111111111.\n",
      "[I 2020-05-15 22:23:58,366] Finished trial#74 with value: 0.7166666666666667 with parameters: {'n_estimators': 359, 'max_depth': 1, 'min_child_weight': 20, 'learning_rate': 0.122, 'subsample': 0.9, 'reg_lambda': 0.419, 'reg_alpha': 0.969, 'colsample_bytree': 0.7}. Best is trial#43 with value: 0.7611111111111111.\n",
      "[I 2020-05-15 22:23:58,666] Finished trial#75 with value: 0.7555555555555555 with parameters: {'n_estimators': 376, 'max_depth': 2, 'min_child_weight': 19, 'learning_rate': 0.094, 'subsample': 0.9, 'reg_lambda': 0.484, 'reg_alpha': 0.928, 'colsample_bytree': 0.7}. Best is trial#43 with value: 0.7611111111111111.\n"
     ]
    },
    {
     "name": "stderr",
     "output_type": "stream",
     "text": [
      "[I 2020-05-15 22:23:58,949] Finished trial#76 with value: 0.7444444444444445 with parameters: {'n_estimators': 325, 'max_depth': 2, 'min_child_weight': 19, 'learning_rate': 0.093, 'subsample': 0.9, 'reg_lambda': 0.34900000000000003, 'reg_alpha': 0.928, 'colsample_bytree': 0.7}. Best is trial#43 with value: 0.7611111111111111.\n",
      "[I 2020-05-15 22:23:59,394] Finished trial#77 with value: 0.7111111111111111 with parameters: {'n_estimators': 556, 'max_depth': 5, 'min_child_weight': 18, 'learning_rate': 0.069, 'subsample': 0.9, 'reg_lambda': 0.47100000000000003, 'reg_alpha': 0.985, 'colsample_bytree': 0.6}. Best is trial#43 with value: 0.7611111111111111.\n",
      "[I 2020-05-15 22:23:59,699] Finished trial#78 with value: 0.7555555555555555 with parameters: {'n_estimators': 369, 'max_depth': 2, 'min_child_weight': 20, 'learning_rate': 0.10400000000000001, 'subsample': 0.9, 'reg_lambda': 0.432, 'reg_alpha': 0.89, 'colsample_bytree': 0.7}. Best is trial#43 with value: 0.7611111111111111.\n",
      "[I 2020-05-15 22:24:00,013] Finished trial#79 with value: 0.7611111111111111 with parameters: {'n_estimators': 387, 'max_depth': 2, 'min_child_weight': 14, 'learning_rate': 0.084, 'subsample': 0.9, 'reg_lambda': 0.325, 'reg_alpha': 0.881, 'colsample_bytree': 0.7}. Best is trial#43 with value: 0.7611111111111111.\n",
      "[I 2020-05-15 22:24:00,450] Finished trial#80 with value: 0.7444444444444445 with parameters: {'n_estimators': 381, 'max_depth': 2, 'min_child_weight': 14, 'learning_rate': 0.081, 'subsample': 0.9, 'reg_lambda': 0.339, 'reg_alpha': 0.89, 'colsample_bytree': 0.7}. Best is trial#43 with value: 0.7611111111111111.\n",
      "[I 2020-05-15 22:24:00,777] Finished trial#81 with value: 0.75 with parameters: {'n_estimators': 340, 'max_depth': 2, 'min_child_weight': 20, 'learning_rate': 0.10300000000000001, 'subsample': 0.9, 'reg_lambda': 0.252, 'reg_alpha': 0.9380000000000001, 'colsample_bytree': 0.7}. Best is trial#43 with value: 0.7611111111111111.\n",
      "[I 2020-05-15 22:24:01,152] Finished trial#82 with value: 0.75 with parameters: {'n_estimators': 402, 'max_depth': 2, 'min_child_weight': 20, 'learning_rate': 0.083, 'subsample': 0.9, 'reg_lambda': 0.279, 'reg_alpha': 0.933, 'colsample_bytree': 0.7}. Best is trial#43 with value: 0.7611111111111111.\n",
      "[I 2020-05-15 22:24:01,440] Finished trial#83 with value: 0.7 with parameters: {'n_estimators': 297, 'max_depth': 1, 'min_child_weight': 19, 'learning_rate': 0.082, 'subsample': 0.9, 'reg_lambda': 0.40800000000000003, 'reg_alpha': 0.883, 'colsample_bytree': 0.7}. Best is trial#43 with value: 0.7611111111111111.\n",
      "[I 2020-05-15 22:24:01,816] Finished trial#84 with value: 0.7555555555555555 with parameters: {'n_estimators': 379, 'max_depth': 4, 'min_child_weight': 19, 'learning_rate': 0.11, 'subsample': 0.9, 'reg_lambda': 0.448, 'reg_alpha': 0.8220000000000001, 'colsample_bytree': 0.7}. Best is trial#43 with value: 0.7611111111111111.\n",
      "[I 2020-05-15 22:24:02,188] Finished trial#85 with value: 0.7388888888888889 with parameters: {'n_estimators': 375, 'max_depth': 3, 'min_child_weight': 19, 'learning_rate': 0.092, 'subsample': 0.9, 'reg_lambda': 0.438, 'reg_alpha': 0.8290000000000001, 'colsample_bytree': 0.7}. Best is trial#43 with value: 0.7611111111111111.\n",
      "[I 2020-05-15 22:24:02,636] Finished trial#86 with value: 0.6777777777777778 with parameters: {'n_estimators': 415, 'max_depth': 5, 'min_child_weight': 2, 'learning_rate': 0.095, 'subsample': 0.9, 'reg_lambda': 0.375, 'reg_alpha': 0.741, 'colsample_bytree': 0.8}. Best is trial#43 with value: 0.7611111111111111.\n",
      "[I 2020-05-15 22:24:02,957] Finished trial#87 with value: 0.7611111111111111 with parameters: {'n_estimators': 254, 'max_depth': 4, 'min_child_weight': 14, 'learning_rate': 0.109, 'subsample': 0.9, 'reg_lambda': 0.502, 'reg_alpha': 0.87, 'colsample_bytree': 0.7}. Best is trial#43 with value: 0.7611111111111111.\n",
      "[I 2020-05-15 22:24:03,258] Finished trial#88 with value: 0.7388888888888889 with parameters: {'n_estimators': 232, 'max_depth': 6, 'min_child_weight': 11, 'learning_rate': 0.077, 'subsample': 0.9, 'reg_lambda': 0.509, 'reg_alpha': 0.875, 'colsample_bytree': 0.6}. Best is trial#43 with value: 0.7611111111111111.\n",
      "[I 2020-05-15 22:24:03,558] Finished trial#89 with value: 0.7166666666666667 with parameters: {'n_estimators': 248, 'max_depth': 4, 'min_child_weight': 12, 'learning_rate': 0.101, 'subsample': 0.9, 'reg_lambda': 0.47200000000000003, 'reg_alpha': 0.8290000000000001, 'colsample_bytree': 0.7}. Best is trial#43 with value: 0.7611111111111111.\n",
      "[I 2020-05-15 22:24:03,850] Finished trial#90 with value: 0.7277777777777777 with parameters: {'n_estimators': 194, 'max_depth': 4, 'min_child_weight': 14, 'learning_rate': 0.106, 'subsample': 0.9, 'reg_lambda': 0.323, 'reg_alpha': 0.76, 'colsample_bytree': 0.7}. Best is trial#43 with value: 0.7611111111111111.\n",
      "[I 2020-05-15 22:24:04,110] Finished trial#91 with value: 0.7055555555555556 with parameters: {'n_estimators': 297, 'max_depth': 1, 'min_child_weight': 13, 'learning_rate': 0.11, 'subsample': 0.9, 'reg_lambda': 0.452, 'reg_alpha': 0.917, 'colsample_bytree': 0.7}. Best is trial#43 with value: 0.7611111111111111.\n",
      "[I 2020-05-15 22:24:04,535] Finished trial#92 with value: 0.7555555555555555 with parameters: {'n_estimators': 455, 'max_depth': 5, 'min_child_weight': 14, 'learning_rate': 0.08800000000000001, 'subsample': 0.9, 'reg_lambda': 0.49, 'reg_alpha': 0.858, 'colsample_bytree': 0.7}. Best is trial#43 with value: 0.7611111111111111.\n",
      "[I 2020-05-15 22:24:04,929] Finished trial#93 with value: 0.75 with parameters: {'n_estimators': 386, 'max_depth': 5, 'min_child_weight': 14, 'learning_rate': 0.08800000000000001, 'subsample': 0.9, 'reg_lambda': 0.391, 'reg_alpha': 0.856, 'colsample_bytree': 0.7}. Best is trial#43 with value: 0.7611111111111111.\n",
      "[I 2020-05-15 22:24:05,317] Finished trial#94 with value: 0.7111111111111111 with parameters: {'n_estimators': 333, 'max_depth': 6, 'min_child_weight': 6, 'learning_rate': 0.065, 'subsample': 0.9, 'reg_lambda': 0.495, 'reg_alpha': 0.894, 'colsample_bytree': 0.7}. Best is trial#43 with value: 0.7611111111111111.\n",
      "[I 2020-05-15 22:24:05,742] Finished trial#95 with value: 0.7388888888888889 with parameters: {'n_estimators': 507, 'max_depth': 23, 'min_child_weight': 18, 'learning_rate': 0.115, 'subsample': 0.9, 'reg_lambda': 0.547, 'reg_alpha': 0.789, 'colsample_bytree': 0.7}. Best is trial#43 with value: 0.7611111111111111.\n",
      "[I 2020-05-15 22:24:06,177] Finished trial#96 with value: 0.7333333333333333 with parameters: {'n_estimators': 453, 'max_depth': 7, 'min_child_weight': 14, 'learning_rate': 0.052000000000000005, 'subsample': 0.9, 'reg_lambda': 0.525, 'reg_alpha': 0.8190000000000001, 'colsample_bytree': 0.7}. Best is trial#43 with value: 0.7611111111111111.\n",
      "[I 2020-05-15 22:24:06,525] Finished trial#97 with value: 0.7444444444444445 with parameters: {'n_estimators': 481, 'max_depth': 2, 'min_child_weight': 20, 'learning_rate': 0.098, 'subsample': 0.9, 'reg_lambda': 0.161, 'reg_alpha': 0.964, 'colsample_bytree': 0.7}. Best is trial#43 with value: 0.7611111111111111.\n",
      "[I 2020-05-15 22:24:07,029] Finished trial#98 with value: 0.7333333333333333 with parameters: {'n_estimators': 480, 'max_depth': 8, 'min_child_weight': 13, 'learning_rate': 0.11900000000000001, 'subsample': 0.9, 'reg_lambda': 0.375, 'reg_alpha': 0.917, 'colsample_bytree': 0.7}. Best is trial#43 with value: 0.7611111111111111.\n",
      "[I 2020-05-15 22:24:07,325] Finished trial#99 with value: 0.7444444444444445 with parameters: {'n_estimators': 275, 'max_depth': 3, 'min_child_weight': 17, 'learning_rate': 0.112, 'subsample': 0.9, 'reg_lambda': 0.44, 'reg_alpha': 0.88, 'colsample_bytree': 0.8}. Best is trial#43 with value: 0.7611111111111111.\n",
      "[I 2020-05-15 22:24:07,745] Finished trial#100 with value: 0.7222222222222222 with parameters: {'n_estimators': 420, 'max_depth': 28, 'min_child_weight': 12, 'learning_rate': 0.09, 'subsample': 0.9, 'reg_lambda': 0.5720000000000001, 'reg_alpha': 0.845, 'colsample_bytree': 0.7}. Best is trial#43 with value: 0.7611111111111111.\n"
     ]
    },
    {
     "name": "stderr",
     "output_type": "stream",
     "text": [
      "[I 2020-05-15 22:24:08,172] Finished trial#101 with value: 0.7555555555555555 with parameters: {'n_estimators': 445, 'max_depth': 21, 'min_child_weight': 15, 'learning_rate': 0.10500000000000001, 'subsample': 0.9, 'reg_lambda': 0.421, 'reg_alpha': 0.9420000000000001, 'colsample_bytree': 0.7}. Best is trial#43 with value: 0.7611111111111111.\n",
      "[I 2020-05-15 22:24:08,589] Finished trial#102 with value: 0.7388888888888889 with parameters: {'n_estimators': 370, 'max_depth': 23, 'min_child_weight': 15, 'learning_rate': 0.10500000000000001, 'subsample': 0.9, 'reg_lambda': 0.302, 'reg_alpha': 0.977, 'colsample_bytree': 0.7}. Best is trial#43 with value: 0.7611111111111111.\n",
      "[I 2020-05-15 22:24:09,003] Finished trial#103 with value: 0.7333333333333333 with parameters: {'n_estimators': 400, 'max_depth': 19, 'min_child_weight': 14, 'learning_rate': 0.099, 'subsample': 0.9, 'reg_lambda': 0.43, 'reg_alpha': 0.9480000000000001, 'colsample_bytree': 0.7}. Best is trial#43 with value: 0.7611111111111111.\n",
      "[I 2020-05-15 22:24:09,400] Finished trial#104 with value: 0.7388888888888889 with parameters: {'n_estimators': 316, 'max_depth': 4, 'min_child_weight': 18, 'learning_rate': 0.094, 'subsample': 0.9, 'reg_lambda': 0.496, 'reg_alpha': 0.921, 'colsample_bytree': 0.7}. Best is trial#43 with value: 0.7611111111111111.\n",
      "[I 2020-05-15 22:24:09,850] Finished trial#105 with value: 0.7388888888888889 with parameters: {'n_estimators': 437, 'max_depth': 19, 'min_child_weight': 15, 'learning_rate': 0.111, 'subsample': 0.9, 'reg_lambda': 0.454, 'reg_alpha': 0.898, 'colsample_bytree': 0.7}. Best is trial#43 with value: 0.7611111111111111.\n",
      "[I 2020-05-15 22:24:10,183] Finished trial#106 with value: 0.75 with parameters: {'n_estimators': 348, 'max_depth': 3, 'min_child_weight': 19, 'learning_rate': 0.11900000000000001, 'subsample': 0.9, 'reg_lambda': 0.48, 'reg_alpha': 0.862, 'colsample_bytree': 0.7}. Best is trial#43 with value: 0.7611111111111111.\n",
      "[I 2020-05-15 22:24:10,609] Finished trial#107 with value: 0.7444444444444445 with parameters: {'n_estimators': 451, 'max_depth': 21, 'min_child_weight': 15, 'learning_rate': 0.076, 'subsample': 0.9, 'reg_lambda': 0.403, 'reg_alpha': 1.0, 'colsample_bytree': 0.7}. Best is trial#43 with value: 0.7611111111111111.\n",
      "[I 2020-05-15 22:24:11,070] Finished trial#108 with value: 0.7277777777777777 with parameters: {'n_estimators': 517, 'max_depth': 37, 'min_child_weight': 16, 'learning_rate': 0.127, 'subsample': 0.9, 'reg_lambda': 0.524, 'reg_alpha': 0.837, 'colsample_bytree': 0.7}. Best is trial#43 with value: 0.7611111111111111.\n",
      "[I 2020-05-15 22:24:11,460] Finished trial#109 with value: 0.7388888888888889 with parameters: {'n_estimators': 366, 'max_depth': 26, 'min_child_weight': 13, 'learning_rate': 0.085, 'subsample': 0.9, 'reg_lambda': 0.392, 'reg_alpha': 0.9460000000000001, 'colsample_bytree': 0.7}. Best is trial#43 with value: 0.7611111111111111.\n",
      "[I 2020-05-15 22:24:11,774] Finished trial#110 with value: 0.7 with parameters: {'n_estimators': 395, 'max_depth': 1, 'min_child_weight': 9, 'learning_rate': 0.07300000000000001, 'subsample': 0.9, 'reg_lambda': 0.605, 'reg_alpha': 0.768, 'colsample_bytree': 0.7}. Best is trial#43 with value: 0.7611111111111111.\n",
      "[I 2020-05-15 22:24:12,285] Finished trial#111 with value: 0.7333333333333333 with parameters: {'n_estimators': 468, 'max_depth': 21, 'min_child_weight': 14, 'learning_rate': 0.106, 'subsample': 0.9, 'reg_lambda': 0.46900000000000003, 'reg_alpha': 0.872, 'colsample_bytree': 0.7}. Best is trial#43 with value: 0.7611111111111111.\n",
      "[I 2020-05-15 22:24:12,758] Finished trial#112 with value: 0.7388888888888889 with parameters: {'n_estimators': 418, 'max_depth': 5, 'min_child_weight': 15, 'learning_rate': 0.10200000000000001, 'subsample': 0.9, 'reg_lambda': 0.421, 'reg_alpha': 0.809, 'colsample_bytree': 0.7}. Best is trial#43 with value: 0.7611111111111111.\n",
      "[I 2020-05-15 22:24:13,118] Finished trial#113 with value: 0.75 with parameters: {'n_estimators': 496, 'max_depth': 2, 'min_child_weight': 14, 'learning_rate': 0.108, 'subsample': 0.9, 'reg_lambda': 0.554, 'reg_alpha': 0.894, 'colsample_bytree': 0.7}. Best is trial#43 with value: 0.7611111111111111.\n",
      "[I 2020-05-15 22:24:13,540] Finished trial#114 with value: 0.7444444444444445 with parameters: {'n_estimators': 437, 'max_depth': 24, 'min_child_weight': 17, 'learning_rate': 0.115, 'subsample': 0.9, 'reg_lambda': 0.359, 'reg_alpha': 0.91, 'colsample_bytree': 0.7}. Best is trial#43 with value: 0.7611111111111111.\n",
      "[I 2020-05-15 22:24:13,919] Finished trial#115 with value: 0.7555555555555555 with parameters: {'n_estimators': 329, 'max_depth': 4, 'min_child_weight': 15, 'learning_rate': 0.133, 'subsample': 0.9, 'reg_lambda': 0.664, 'reg_alpha': 0.851, 'colsample_bytree': 0.7}. Best is trial#43 with value: 0.7611111111111111.\n",
      "[I 2020-05-15 22:24:14,243] Finished trial#116 with value: 0.75 with parameters: {'n_estimators': 306, 'max_depth': 6, 'min_child_weight': 19, 'learning_rate': 0.14300000000000002, 'subsample': 0.9, 'reg_lambda': 0.619, 'reg_alpha': 0.855, 'colsample_bytree': 0.6}. Best is trial#43 with value: 0.7611111111111111.\n",
      "[I 2020-05-15 22:24:14,635] Finished trial#117 with value: 0.7333333333333333 with parameters: {'n_estimators': 333, 'max_depth': 4, 'min_child_weight': 16, 'learning_rate': 0.096, 'subsample': 0.9, 'reg_lambda': 0.513, 'reg_alpha': 0.93, 'colsample_bytree': 0.7}. Best is trial#43 with value: 0.7611111111111111.\n",
      "[I 2020-05-15 22:24:14,966] Finished trial#118 with value: 0.7277777777777777 with parameters: {'n_estimators': 257, 'max_depth': 20, 'min_child_weight': 15, 'learning_rate': 0.131, 'subsample': 0.9, 'reg_lambda': 0.307, 'reg_alpha': 0.876, 'colsample_bytree': 0.8}. Best is trial#43 with value: 0.7611111111111111.\n",
      "[I 2020-05-15 22:24:15,263] Finished trial#119 with value: 0.7333333333333333 with parameters: {'n_estimators': 280, 'max_depth': 3, 'min_child_weight': 16, 'learning_rate': 0.08800000000000001, 'subsample': 0.9, 'reg_lambda': 0.668, 'reg_alpha': 0.786, 'colsample_bytree': 0.5}. Best is trial#43 with value: 0.7611111111111111.\n",
      "[I 2020-05-15 22:24:15,636] Finished trial#120 with value: 0.7555555555555555 with parameters: {'n_estimators': 354, 'max_depth': 8, 'min_child_weight': 15, 'learning_rate': 0.122, 'subsample': 0.9, 'reg_lambda': 0.215, 'reg_alpha': 0.8230000000000001, 'colsample_bytree': 0.7}. Best is trial#43 with value: 0.7611111111111111.\n",
      "[I 2020-05-15 22:24:16,028] Finished trial#121 with value: 0.7444444444444445 with parameters: {'n_estimators': 350, 'max_depth': 5, 'min_child_weight': 15, 'learning_rate': 0.133, 'subsample': 0.9, 'reg_lambda': 0.195, 'reg_alpha': 0.8220000000000001, 'colsample_bytree': 0.7}. Best is trial#43 with value: 0.7611111111111111.\n",
      "[I 2020-05-15 22:24:16,471] Finished trial#122 with value: 0.7388888888888889 with parameters: {'n_estimators': 391, 'max_depth': 8, 'min_child_weight': 14, 'learning_rate': 0.10300000000000001, 'subsample': 0.9, 'reg_lambda': 0.458, 'reg_alpha': 0.841, 'colsample_bytree': 0.7}. Best is trial#43 with value: 0.7611111111111111.\n",
      "[I 2020-05-15 22:24:16,873] Finished trial#123 with value: 0.7388888888888889 with parameters: {'n_estimators': 422, 'max_depth': 7, 'min_child_weight': 20, 'learning_rate': 0.125, 'subsample': 0.9, 'reg_lambda': 0.42, 'reg_alpha': 0.812, 'colsample_bytree': 0.7}. Best is trial#43 with value: 0.7611111111111111.\n",
      "[I 2020-05-15 22:24:17,204] Finished trial#124 with value: 0.7444444444444445 with parameters: {'n_estimators': 372, 'max_depth': 2, 'min_child_weight': 10, 'learning_rate': 0.121, 'subsample': 0.9, 'reg_lambda': 0.254, 'reg_alpha': 0.887, 'colsample_bytree': 0.7}. Best is trial#43 with value: 0.7611111111111111.\n",
      "[I 2020-05-15 22:24:17,672] Finished trial#125 with value: 0.7388888888888889 with parameters: {'n_estimators': 450, 'max_depth': 9, 'min_child_weight': 17, 'learning_rate': 0.113, 'subsample': 0.9, 'reg_lambda': 0.272, 'reg_alpha': 0.9540000000000001, 'colsample_bytree': 0.7}. Best is trial#43 with value: 0.7611111111111111.\n"
     ]
    },
    {
     "name": "stderr",
     "output_type": "stream",
     "text": [
      "[I 2020-05-15 22:24:17,993] Finished trial#126 with value: 0.7388888888888889 with parameters: {'n_estimators': 203, 'max_depth': 6, 'min_child_weight': 14, 'learning_rate': 0.129, 'subsample': 0.9, 'reg_lambda': 0.101, 'reg_alpha': 0.797, 'colsample_bytree': 0.7}. Best is trial#43 with value: 0.7611111111111111.\n",
      "[I 2020-05-15 22:24:18,332] Finished trial#127 with value: 0.7222222222222222 with parameters: {'n_estimators': 329, 'max_depth': 4, 'min_child_weight': 13, 'learning_rate': 0.117, 'subsample': 0.5, 'reg_lambda': 0.6900000000000001, 'reg_alpha': 0.855, 'colsample_bytree': 0.7}. Best is trial#43 with value: 0.7611111111111111.\n",
      "[I 2020-05-15 22:24:18,633] Finished trial#128 with value: 0.7111111111111111 with parameters: {'n_estimators': 356, 'max_depth': 1, 'min_child_weight': 16, 'learning_rate': 0.109, 'subsample': 0.9, 'reg_lambda': 0.329, 'reg_alpha': 0.907, 'colsample_bytree': 0.7}. Best is trial#43 with value: 0.7611111111111111.\n",
      "[I 2020-05-15 22:24:19,016] Finished trial#129 with value: 0.7388888888888889 with parameters: {'n_estimators': 382, 'max_depth': 3, 'min_child_weight': 19, 'learning_rate': 0.091, 'subsample': 0.9, 'reg_lambda': 0.051000000000000004, 'reg_alpha': 0.979, 'colsample_bytree': 0.7}. Best is trial#43 with value: 0.7611111111111111.\n",
      "[I 2020-05-15 22:24:19,452] Finished trial#130 with value: 0.7166666666666667 with parameters: {'n_estimators': 474, 'max_depth': 7, 'min_child_weight': 15, 'learning_rate': 0.124, 'subsample': 0.6, 'reg_lambda': 0.209, 'reg_alpha': 0.746, 'colsample_bytree': 0.7}. Best is trial#43 with value: 0.7611111111111111.\n",
      "[I 2020-05-15 22:24:19,916] Finished trial#131 with value: 0.7611111111111111 with parameters: {'n_estimators': 402, 'max_depth': 5, 'min_child_weight': 15, 'learning_rate': 0.099, 'subsample': 0.9, 'reg_lambda': 0.491, 'reg_alpha': 0.8320000000000001, 'colsample_bytree': 0.9}. Best is trial#43 with value: 0.7611111111111111.\n",
      "[I 2020-05-15 22:24:20,361] Finished trial#132 with value: 0.75 with parameters: {'n_estimators': 410, 'max_depth': 5, 'min_child_weight': 14, 'learning_rate': 0.1, 'subsample': 0.9, 'reg_lambda': 0.485, 'reg_alpha': 0.873, 'colsample_bytree': 0.7}. Best is trial#43 with value: 0.7611111111111111.\n",
      "[I 2020-05-15 22:24:20,614] Finished trial#133 with value: 0.7388888888888889 with parameters: {'n_estimators': 130, 'max_depth': 22, 'min_child_weight': 20, 'learning_rate': 0.096, 'subsample': 0.9, 'reg_lambda': 0.516, 'reg_alpha': 0.8310000000000001, 'colsample_bytree': 0.7}. Best is trial#43 with value: 0.7611111111111111.\n",
      "[I 2020-05-15 22:24:20,964] Finished trial#134 with value: 0.7611111111111111 with parameters: {'n_estimators': 400, 'max_depth': 2, 'min_child_weight': 13, 'learning_rate': 0.081, 'subsample': 0.9, 'reg_lambda': 0.447, 'reg_alpha': 0.927, 'colsample_bytree': 0.9}. Best is trial#43 with value: 0.7611111111111111.\n",
      "[I 2020-05-15 22:24:21,308] Finished trial#135 with value: 0.7 with parameters: {'n_estimators': 399, 'max_depth': 1, 'min_child_weight': 15, 'learning_rate': 0.081, 'subsample': 0.9, 'reg_lambda': 0.363, 'reg_alpha': 0.717, 'colsample_bytree': 0.9}. Best is trial#43 with value: 0.7611111111111111.\n",
      "[I 2020-05-15 22:24:21,655] Finished trial#136 with value: 0.7388888888888889 with parameters: {'n_estimators': 309, 'max_depth': 3, 'min_child_weight': 16, 'learning_rate': 0.112, 'subsample': 0.9, 'reg_lambda': 0.405, 'reg_alpha': 0.804, 'colsample_bytree': 0.9}. Best is trial#43 with value: 0.7611111111111111.\n",
      "[I 2020-05-15 22:24:22,010] Finished trial#137 with value: 0.75 with parameters: {'n_estimators': 425, 'max_depth': 2, 'min_child_weight': 12, 'learning_rate': 0.08600000000000001, 'subsample': 0.9, 'reg_lambda': 0.442, 'reg_alpha': 0.934, 'colsample_bytree': 0.9}. Best is trial#43 with value: 0.7611111111111111.\n",
      "[I 2020-05-15 22:24:22,402] Finished trial#138 with value: 0.7333333333333333 with parameters: {'n_estimators': 369, 'max_depth': 4, 'min_child_weight': 13, 'learning_rate': 0.092, 'subsample': 0.9, 'reg_lambda': 0.496, 'reg_alpha': 0.852, 'colsample_bytree': 0.9}. Best is trial#43 with value: 0.7611111111111111.\n",
      "[I 2020-05-15 22:24:22,831] Finished trial#139 with value: 0.7277777777777777 with parameters: {'n_estimators': 386, 'max_depth': 5, 'min_child_weight': 14, 'learning_rate': 0.149, 'subsample': 0.9, 'reg_lambda': 0.531, 'reg_alpha': 0.772, 'colsample_bytree': 0.7}. Best is trial#43 with value: 0.7611111111111111.\n",
      "[I 2020-05-15 22:24:23,245] Finished trial#140 with value: 0.7277777777777777 with parameters: {'n_estimators': 335, 'max_depth': 3, 'min_child_weight': 13, 'learning_rate': 0.069, 'subsample': 0.9, 'reg_lambda': 0.461, 'reg_alpha': 0.522, 'colsample_bytree': 0.9}. Best is trial#43 with value: 0.7611111111111111.\n",
      "[I 2020-05-15 22:24:23,672] Finished trial#141 with value: 0.7611111111111111 with parameters: {'n_estimators': 458, 'max_depth': 2, 'min_child_weight': 14, 'learning_rate': 0.10400000000000001, 'subsample': 0.9, 'reg_lambda': 0.437, 'reg_alpha': 0.905, 'colsample_bytree': 0.9}. Best is trial#43 with value: 0.7611111111111111.\n",
      "[I 2020-05-15 22:24:24,238] Finished trial#142 with value: 0.7444444444444445 with parameters: {'n_estimators': 453, 'max_depth': 4, 'min_child_weight': 15, 'learning_rate': 0.079, 'subsample': 0.9, 'reg_lambda': 0.488, 'reg_alpha': 0.922, 'colsample_bytree': 0.9}. Best is trial#43 with value: 0.7611111111111111.\n",
      "[I 2020-05-15 22:24:24,934] Finished trial#143 with value: 0.75 with parameters: {'n_estimators': 489, 'max_depth': 6, 'min_child_weight': 14, 'learning_rate': 0.098, 'subsample': 0.9, 'reg_lambda': 0.452, 'reg_alpha': 0.888, 'colsample_bytree': 0.9}. Best is trial#43 with value: 0.7611111111111111.\n",
      "[I 2020-05-15 22:24:25,276] Finished trial#144 with value: 0.7666666666666667 with parameters: {'n_estimators': 290, 'max_depth': 2, 'min_child_weight': 15, 'learning_rate': 0.135, 'subsample': 0.9, 'reg_lambda': 0.723, 'reg_alpha': 0.8290000000000001, 'colsample_bytree': 0.9}. Best is trial#144 with value: 0.7666666666666667.\n",
      "[I 2020-05-15 22:24:25,630] Finished trial#145 with value: 0.7388888888888889 with parameters: {'n_estimators': 353, 'max_depth': 2, 'min_child_weight': 19, 'learning_rate': 0.14200000000000002, 'subsample': 0.9, 'reg_lambda': 0.722, 'reg_alpha': 0.902, 'colsample_bytree': 0.9}. Best is trial#144 with value: 0.7666666666666667.\n",
      "[I 2020-05-15 22:24:26,075] Finished trial#146 with value: 0.7388888888888889 with parameters: {'n_estimators': 434, 'max_depth': 17, 'min_child_weight': 16, 'learning_rate': 0.106, 'subsample': 0.9, 'reg_lambda': 0.879, 'reg_alpha': 0.87, 'colsample_bytree': 0.9}. Best is trial#144 with value: 0.7666666666666667.\n",
      "[I 2020-05-15 22:24:26,434] Finished trial#147 with value: 0.75 with parameters: {'n_estimators': 301, 'max_depth': 4, 'min_child_weight': 13, 'learning_rate': 0.11800000000000001, 'subsample': 0.9, 'reg_lambda': 0.757, 'reg_alpha': 0.836, 'colsample_bytree': 0.9}. Best is trial#144 with value: 0.7666666666666667.\n",
      "[I 2020-05-15 22:24:26,999] Finished trial#148 with value: 0.7333333333333333 with parameters: {'n_estimators': 930, 'max_depth': 1, 'min_child_weight': 14, 'learning_rate': 0.094, 'subsample': 0.9, 'reg_lambda': 0.774, 'reg_alpha': 0.913, 'colsample_bytree': 0.9}. Best is trial#144 with value: 0.7666666666666667.\n",
      "[I 2020-05-15 22:24:27,304] Finished trial#149 with value: 0.7444444444444445 with parameters: {'n_estimators': 280, 'max_depth': 2, 'min_child_weight': 15, 'learning_rate': 0.085, 'subsample': 0.9, 'reg_lambda': 0.383, 'reg_alpha': 0.86, 'colsample_bytree': 0.9}. Best is trial#144 with value: 0.7666666666666667.\n",
      "[I 2020-05-15 22:24:27,857] Finished trial#150 with value: 0.75 with parameters: {'n_estimators': 517, 'max_depth': 23, 'min_child_weight': 14, 'learning_rate': 0.10400000000000001, 'subsample': 0.9, 'reg_lambda': 0.6880000000000001, 'reg_alpha': 0.843, 'colsample_bytree': 0.9}. Best is trial#144 with value: 0.7666666666666667.\n"
     ]
    },
    {
     "name": "stderr",
     "output_type": "stream",
     "text": [
      "[I 2020-05-15 22:24:28,334] Finished trial#151 with value: 0.7611111111111111 with parameters: {'n_estimators': 405, 'max_depth': 3, 'min_child_weight': 13, 'learning_rate': 0.137, 'subsample': 0.9, 'reg_lambda': 0.664, 'reg_alpha': 0.887, 'colsample_bytree': 0.9}. Best is trial#144 with value: 0.7666666666666667.\n",
      "[I 2020-05-15 22:24:28,793] Finished trial#152 with value: 0.7611111111111111 with parameters: {'n_estimators': 411, 'max_depth': 3, 'min_child_weight': 15, 'learning_rate': 0.139, 'subsample': 0.9, 'reg_lambda': 0.66, 'reg_alpha': 0.888, 'colsample_bytree': 0.9}. Best is trial#144 with value: 0.7666666666666667.\n",
      "[I 2020-05-15 22:24:29,127] Finished trial#153 with value: 0.7222222222222222 with parameters: {'n_estimators': 425, 'max_depth': 1, 'min_child_weight': 13, 'learning_rate': 0.147, 'subsample': 0.9, 'reg_lambda': 0.41100000000000003, 'reg_alpha': 0.968, 'colsample_bytree': 0.9}. Best is trial#144 with value: 0.7666666666666667.\n",
      "[I 2020-05-15 22:24:29,550] Finished trial#154 with value: 0.7222222222222222 with parameters: {'n_estimators': 460, 'max_depth': 3, 'min_child_weight': 12, 'learning_rate': 0.137, 'subsample': 0.9, 'reg_lambda': 0.654, 'reg_alpha': 0.881, 'colsample_bytree': 0.9}. Best is trial#144 with value: 0.7666666666666667.\n",
      "[I 2020-05-15 22:24:30,030] Finished trial#155 with value: 0.7388888888888889 with parameters: {'n_estimators': 404, 'max_depth': 5, 'min_child_weight': 14, 'learning_rate': 0.136, 'subsample': 0.9, 'reg_lambda': 0.63, 'reg_alpha': 0.89, 'colsample_bytree': 0.9}. Best is trial#144 with value: 0.7666666666666667.\n",
      "[I 2020-05-15 22:24:30,430] Finished trial#156 with value: 0.75 with parameters: {'n_estimators': 408, 'max_depth': 3, 'min_child_weight': 11, 'learning_rate': 0.154, 'subsample': 0.9, 'reg_lambda': 0.711, 'reg_alpha': 0.9440000000000001, 'colsample_bytree': 0.9}. Best is trial#144 with value: 0.7666666666666667.\n",
      "[I 2020-05-15 22:24:30,823] Finished trial#157 with value: 0.7388888888888889 with parameters: {'n_estimators': 384, 'max_depth': 2, 'min_child_weight': 20, 'learning_rate': 0.14, 'subsample': 0.9, 'reg_lambda': 0.5760000000000001, 'reg_alpha': 0.906, 'colsample_bytree': 0.9}. Best is trial#144 with value: 0.7666666666666667.\n",
      "[I 2020-05-15 22:24:31,310] Finished trial#158 with value: 0.7555555555555555 with parameters: {'n_estimators': 466, 'max_depth': 8, 'min_child_weight': 15, 'learning_rate': 0.125, 'subsample': 0.9, 'reg_lambda': 0.734, 'reg_alpha': 1.0, 'colsample_bytree': 0.9}. Best is trial#144 with value: 0.7666666666666667.\n",
      "[I 2020-05-15 22:24:31,662] Finished trial#159 with value: 0.6944444444444444 with parameters: {'n_estimators': 497, 'max_depth': 1, 'min_child_weight': 12, 'learning_rate': 0.09, 'subsample': 0.9, 'reg_lambda': 0.599, 'reg_alpha': 0.928, 'colsample_bytree': 0.9}. Best is trial#144 with value: 0.7666666666666667.\n",
      "[I 2020-05-15 22:24:32,075] Finished trial#160 with value: 0.7166666666666667 with parameters: {'n_estimators': 481, 'max_depth': 2, 'min_child_weight': 15, 'learning_rate': 0.127, 'subsample': 0.7, 'reg_lambda': 0.747, 'reg_alpha': 0.987, 'colsample_bytree': 0.9}. Best is trial#144 with value: 0.7666666666666667.\n",
      "[I 2020-05-15 22:24:32,457] Finished trial#161 with value: 0.75 with parameters: {'n_estimators': 318, 'max_depth': 4, 'min_child_weight': 15, 'learning_rate': 0.121, 'subsample': 0.9, 'reg_lambda': 0.662, 'reg_alpha': 0.865, 'colsample_bytree': 0.9}. Best is trial#144 with value: 0.7666666666666667.\n",
      "[I 2020-05-15 22:24:32,871] Finished trial#162 with value: 0.7555555555555555 with parameters: {'n_estimators': 439, 'max_depth': 3, 'min_child_weight': 15, 'learning_rate': 0.109, 'subsample': 0.9, 'reg_lambda': 0.431, 'reg_alpha': 0.806, 'colsample_bytree': 0.9}. Best is trial#144 with value: 0.7666666666666667.\n",
      "[I 2020-05-15 22:24:33,249] Finished trial#163 with value: 0.7555555555555555 with parameters: {'n_estimators': 435, 'max_depth': 2, 'min_child_weight': 14, 'learning_rate': 0.1, 'subsample': 0.9, 'reg_lambda': 0.431, 'reg_alpha': 0.9430000000000001, 'colsample_bytree': 0.9}. Best is trial#144 with value: 0.7666666666666667.\n",
      "[I 2020-05-15 22:24:33,643] Finished trial#164 with value: 0.7444444444444445 with parameters: {'n_estimators': 415, 'max_depth': 3, 'min_child_weight': 13, 'learning_rate': 0.11, 'subsample': 0.9, 'reg_lambda': 0.48, 'reg_alpha': 0.791, 'colsample_bytree': 0.9}. Best is trial#144 with value: 0.7666666666666667.\n",
      "[I 2020-05-15 22:24:34,132] Finished trial#165 with value: 0.7444444444444445 with parameters: {'n_estimators': 445, 'max_depth': 4, 'min_child_weight': 14, 'learning_rate': 0.133, 'subsample': 0.9, 'reg_lambda': 0.675, 'reg_alpha': 0.8260000000000001, 'colsample_bytree': 0.9}. Best is trial#144 with value: 0.7666666666666667.\n",
      "[I 2020-05-15 22:24:34,516] Finished trial#166 with value: 0.7444444444444445 with parameters: {'n_estimators': 347, 'max_depth': 20, 'min_child_weight': 16, 'learning_rate': 0.132, 'subsample': 0.9, 'reg_lambda': 0.56, 'reg_alpha': 0.8300000000000001, 'colsample_bytree': 0.7}. Best is trial#144 with value: 0.7666666666666667.\n",
      "[I 2020-05-15 22:24:34,924] Finished trial#167 with value: 0.7444444444444445 with parameters: {'n_estimators': 259, 'max_depth': 6, 'min_child_weight': 15, 'learning_rate': 0.161, 'subsample': 0.9, 'reg_lambda': 0.646, 'reg_alpha': 0.343, 'colsample_bytree': 0.9}. Best is trial#144 with value: 0.7666666666666667.\n",
      "[I 2020-05-15 22:24:35,455] Finished trial#168 with value: 0.7611111111111111 with parameters: {'n_estimators': 389, 'max_depth': 5, 'min_child_weight': 16, 'learning_rate': 0.14300000000000002, 'subsample': 0.9, 'reg_lambda': 0.727, 'reg_alpha': 0.8230000000000001, 'colsample_bytree': 0.9}. Best is trial#144 with value: 0.7666666666666667.\n",
      "[I 2020-05-15 22:24:35,921] Finished trial#169 with value: 0.7444444444444445 with parameters: {'n_estimators': 370, 'max_depth': 32, 'min_child_weight': 16, 'learning_rate': 0.14400000000000002, 'subsample': 0.9, 'reg_lambda': 0.71, 'reg_alpha': 0.897, 'colsample_bytree': 0.9}. Best is trial#144 with value: 0.7666666666666667.\n",
      "[I 2020-05-15 22:24:36,486] Finished trial#170 with value: 0.7555555555555555 with parameters: {'n_estimators': 468, 'max_depth': 5, 'min_child_weight': 14, 'learning_rate': 0.114, 'subsample': 0.9, 'reg_lambda': 0.799, 'reg_alpha': 1.0, 'colsample_bytree': 0.9}. Best is trial#144 with value: 0.7666666666666667.\n",
      "[I 2020-05-15 22:24:37,040] Finished trial#171 with value: 0.75 with parameters: {'n_estimators': 465, 'max_depth': 6, 'min_child_weight': 14, 'learning_rate': 0.114, 'subsample': 0.9, 'reg_lambda': 0.808, 'reg_alpha': 0.9550000000000001, 'colsample_bytree': 0.9}. Best is trial#144 with value: 0.7666666666666667.\n",
      "[I 2020-05-15 22:24:37,541] Finished trial#172 with value: 0.7444444444444445 with parameters: {'n_estimators': 397, 'max_depth': 21, 'min_child_weight': 15, 'learning_rate': 0.135, 'subsample': 0.9, 'reg_lambda': 0.683, 'reg_alpha': 0.8150000000000001, 'colsample_bytree': 0.9}. Best is trial#144 with value: 0.7666666666666667.\n",
      "[I 2020-05-15 22:24:38,016] Finished trial#173 with value: 0.7555555555555555 with parameters: {'n_estimators': 416, 'max_depth': 5, 'min_child_weight': 16, 'learning_rate': 0.14, 'subsample': 0.9, 'reg_lambda': 0.6980000000000001, 'reg_alpha': 0.847, 'colsample_bytree': 0.7}. Best is trial#144 with value: 0.7666666666666667.\n",
      "[I 2020-05-15 22:24:38,405] Finished trial#174 with value: 0.7388888888888889 with parameters: {'n_estimators': 369, 'max_depth': 4, 'min_child_weight': 16, 'learning_rate': 0.14500000000000002, 'subsample': 0.9, 'reg_lambda': 0.666, 'reg_alpha': 0.854, 'colsample_bytree': 0.7}. Best is trial#144 with value: 0.7666666666666667.\n",
      "[I 2020-05-15 22:24:38,906] Finished trial#175 with value: 0.7444444444444445 with parameters: {'n_estimators': 413, 'max_depth': 5, 'min_child_weight': 15, 'learning_rate': 0.139, 'subsample': 0.9, 'reg_lambda': 0.848, 'reg_alpha': 0.924, 'colsample_bytree': 0.9}. Best is trial#144 with value: 0.7666666666666667.\n"
     ]
    },
    {
     "name": "stderr",
     "output_type": "stream",
     "text": [
      "[I 2020-05-15 22:24:39,292] Finished trial#176 with value: 0.7277777777777777 with parameters: {'n_estimators': 422, 'max_depth': 1, 'min_child_weight': 16, 'learning_rate': 0.157, 'subsample': 0.9, 'reg_lambda': 0.7020000000000001, 'reg_alpha': 0.878, 'colsample_bytree': 0.9}. Best is trial#144 with value: 0.7666666666666667.\n",
      "[I 2020-05-15 22:24:39,685] Finished trial#177 with value: 0.7333333333333333 with parameters: {'n_estimators': 386, 'max_depth': 3, 'min_child_weight': 18, 'learning_rate': 0.101, 'subsample': 0.9, 'reg_lambda': 0.503, 'reg_alpha': 0.877, 'colsample_bytree': 0.7}. Best is trial#144 with value: 0.7666666666666667.\n",
      "[I 2020-05-15 22:24:40,058] Finished trial#178 with value: 0.7444444444444445 with parameters: {'n_estimators': 344, 'max_depth': 13, 'min_child_weight': 15, 'learning_rate': 0.15, 'subsample': 0.9, 'reg_lambda': 0.9420000000000001, 'reg_alpha': 0.78, 'colsample_bytree': 0.5}. Best is trial#144 with value: 0.7666666666666667.\n",
      "[I 2020-05-15 22:24:40,484] Finished trial#179 with value: 0.75 with parameters: {'n_estimators': 442, 'max_depth': 3, 'min_child_weight': 14, 'learning_rate': 0.10400000000000001, 'subsample': 0.9, 'reg_lambda': 0.437, 'reg_alpha': 0.797, 'colsample_bytree': 0.9}. Best is trial#144 with value: 0.7666666666666667.\n",
      "[I 2020-05-15 22:24:41,028] Finished trial#180 with value: 0.7222222222222222 with parameters: {'n_estimators': 446, 'max_depth': 8, 'min_child_weight': 15, 'learning_rate': 0.001, 'subsample': 0.9, 'reg_lambda': 0.723, 'reg_alpha': 0.444, 'colsample_bytree': 0.9}. Best is trial#144 with value: 0.7666666666666667.\n",
      "[I 2020-05-15 22:24:41,490] Finished trial#181 with value: 0.7555555555555555 with parameters: {'n_estimators': 397, 'max_depth': 7, 'min_child_weight': 16, 'learning_rate': 0.121, 'subsample': 0.9, 'reg_lambda': 0.739, 'reg_alpha': 0.8190000000000001, 'colsample_bytree': 0.9}. Best is trial#144 with value: 0.7666666666666667.\n",
      "[I 2020-05-15 22:24:41,871] Finished trial#182 with value: 0.75 with parameters: {'n_estimators': 380, 'max_depth': 2, 'min_child_weight': 19, 'learning_rate': 0.096, 'subsample': 0.9, 'reg_lambda': 0.458, 'reg_alpha': 0.909, 'colsample_bytree': 0.9}. Best is trial#144 with value: 0.7666666666666667.\n",
      "[I 2020-05-15 22:24:42,332] Finished trial#183 with value: 0.7222222222222222 with parameters: {'n_estimators': 467, 'max_depth': 5, 'min_child_weight': 15, 'learning_rate': 0.14100000000000001, 'subsample': 0.9, 'reg_lambda': 0.734, 'reg_alpha': 0.853, 'colsample_bytree': 0.7}. Best is trial#144 with value: 0.7666666666666667.\n",
      "[I 2020-05-15 22:24:42,720] Finished trial#184 with value: 0.7111111111111111 with parameters: {'n_estimators': 538, 'max_depth': 1, 'min_child_weight': 13, 'learning_rate': 0.089, 'subsample': 0.9, 'reg_lambda': 0.46900000000000003, 'reg_alpha': 0.925, 'colsample_bytree': 0.9}. Best is trial#144 with value: 0.7666666666666667.\n",
      "[I 2020-05-15 22:24:43,239] Finished trial#185 with value: 0.75 with parameters: {'n_estimators': 486, 'max_depth': 9, 'min_child_weight': 14, 'learning_rate': 0.116, 'subsample': 0.9, 'reg_lambda': 0.792, 'reg_alpha': 0.833, 'colsample_bytree': 0.9}. Best is trial#144 with value: 0.7666666666666667.\n",
      "[I 2020-05-15 22:24:43,539] Finished trial#186 with value: 0.7388888888888889 with parameters: {'n_estimators': 232, 'max_depth': 2, 'min_child_weight': 14, 'learning_rate': 0.083, 'subsample': 0.9, 'reg_lambda': 0.396, 'reg_alpha': 0.869, 'colsample_bytree': 0.7}. Best is trial#144 with value: 0.7666666666666667.\n",
      "[I 2020-05-15 22:24:44,017] Finished trial#187 with value: 0.7444444444444445 with parameters: {'n_estimators': 437, 'max_depth': 11, 'min_child_weight': 15, 'learning_rate': 0.126, 'subsample': 0.9, 'reg_lambda': 0.762, 'reg_alpha': 0.759, 'colsample_bytree': 0.9}. Best is trial#144 with value: 0.7666666666666667.\n",
      "[I 2020-05-15 22:24:44,406] Finished trial#188 with value: 0.7388888888888889 with parameters: {'n_estimators': 328, 'max_depth': 4, 'min_child_weight': 15, 'learning_rate': 0.129, 'subsample': 0.9, 'reg_lambda': 0.625, 'reg_alpha': 0.804, 'colsample_bytree': 0.9}. Best is trial#144 with value: 0.7666666666666667.\n",
      "[I 2020-05-15 22:24:44,932] Finished trial#189 with value: 0.7333333333333333 with parameters: {'n_estimators': 403, 'max_depth': 5, 'min_child_weight': 13, 'learning_rate': 0.1, 'subsample': 0.9, 'reg_lambda': 0.788, 'reg_alpha': 0.965, 'colsample_bytree': 0.9}. Best is trial#144 with value: 0.7666666666666667.\n",
      "[I 2020-05-15 22:24:45,366] Finished trial#190 with value: 0.7444444444444445 with parameters: {'n_estimators': 360, 'max_depth': 7, 'min_child_weight': 15, 'learning_rate': 0.114, 'subsample': 0.9, 'reg_lambda': 0.8280000000000001, 'reg_alpha': 0.894, 'colsample_bytree': 0.9}. Best is trial#144 with value: 0.7666666666666667.\n",
      "[I 2020-05-15 22:24:45,748] Finished trial#191 with value: 0.7444444444444445 with parameters: {'n_estimators': 360, 'max_depth': 3, 'min_child_weight': 15, 'learning_rate': 0.108, 'subsample': 0.9, 'reg_lambda': 0.43, 'reg_alpha': 0.9420000000000001, 'colsample_bytree': 0.9}. Best is trial#144 with value: 0.7666666666666667.\n",
      "[I 2020-05-15 22:24:46,278] Finished trial#192 with value: 0.7611111111111111 with parameters: {'n_estimators': 461, 'max_depth': 4, 'min_child_weight': 14, 'learning_rate': 0.101, 'subsample': 0.9, 'reg_lambda': 0.417, 'reg_alpha': 0.971, 'colsample_bytree': 0.9}. Best is trial#144 with value: 0.7666666666666667.\n",
      "[I 2020-05-15 22:24:46,678] Finished trial#193 with value: 0.7444444444444445 with parameters: {'n_estimators': 427, 'max_depth': 3, 'min_child_weight': 20, 'learning_rate': 0.106, 'subsample': 0.9, 'reg_lambda': 0.448, 'reg_alpha': 0.901, 'colsample_bytree': 0.7}. Best is trial#144 with value: 0.7666666666666667.\n",
      "[I 2020-05-15 22:24:47,222] Finished trial#194 with value: 0.7444444444444445 with parameters: {'n_estimators': 460, 'max_depth': 10, 'min_child_weight': 14, 'learning_rate': 0.134, 'subsample': 0.9, 'reg_lambda': 0.68, 'reg_alpha': 0.848, 'colsample_bytree': 0.9}. Best is trial#144 with value: 0.7666666666666667.\n",
      "[I 2020-05-15 22:24:47,570] Finished trial#195 with value: 0.7555555555555555 with parameters: {'n_estimators': 286, 'max_depth': 2, 'min_child_weight': 14, 'learning_rate': 0.122, 'subsample': 0.9, 'reg_lambda': 0.368, 'reg_alpha': 0.997, 'colsample_bytree': 0.9}. Best is trial#144 with value: 0.7666666666666667.\n",
      "[I 2020-05-15 22:24:48,160] Finished trial#196 with value: 0.7333333333333333 with parameters: {'n_estimators': 486, 'max_depth': 6, 'min_child_weight': 15, 'learning_rate': 0.132, 'subsample': 0.9, 'reg_lambda': 0.7030000000000001, 'reg_alpha': 0.873, 'colsample_bytree': 0.7}. Best is trial#144 with value: 0.7666666666666667.\n",
      "[I 2020-05-15 22:24:48,598] Finished trial#197 with value: 0.7166666666666667 with parameters: {'n_estimators': 437, 'max_depth': 1, 'min_child_weight': 14, 'learning_rate': 0.111, 'subsample': 0.6, 'reg_lambda': 0.405, 'reg_alpha': 0.9560000000000001, 'colsample_bytree': 0.9}. Best is trial#144 with value: 0.7666666666666667.\n",
      "[I 2020-05-15 22:24:49,056] Finished trial#198 with value: 0.7444444444444445 with parameters: {'n_estimators': 258, 'max_depth': 8, 'min_child_weight': 16, 'learning_rate': 0.126, 'subsample': 0.9, 'reg_lambda': 0.651, 'reg_alpha': 0.98, 'colsample_bytree': 0.9}. Best is trial#144 with value: 0.7666666666666667.\n",
      "[I 2020-05-15 22:24:49,606] Finished trial#199 with value: 0.7555555555555555 with parameters: {'n_estimators': 470, 'max_depth': 4, 'min_child_weight': 14, 'learning_rate': 0.098, 'subsample': 0.9, 'reg_lambda': 0.88, 'reg_alpha': 0.989, 'colsample_bytree': 0.9}. Best is trial#144 with value: 0.7666666666666667.\n",
      "[I 2020-05-15 22:24:50,225] Finished trial#200 with value: 0.7555555555555555 with parameters: {'n_estimators': 509, 'max_depth': 4, 'min_child_weight': 13, 'learning_rate': 0.095, 'subsample': 0.8, 'reg_lambda': 0.923, 'reg_alpha': 0.912, 'colsample_bytree': 0.7}. Best is trial#144 with value: 0.7666666666666667.\n"
     ]
    },
    {
     "name": "stderr",
     "output_type": "stream",
     "text": [
      "[I 2020-05-15 22:24:50,837] Finished trial#201 with value: 0.7611111111111111 with parameters: {'n_estimators': 416, 'max_depth': 5, 'min_child_weight': 14, 'learning_rate': 0.092, 'subsample': 0.9, 'reg_lambda': 0.434, 'reg_alpha': 0.932, 'colsample_bytree': 0.9}. Best is trial#144 with value: 0.7666666666666667.\n",
      "[I 2020-05-15 22:24:51,644] Finished trial#202 with value: 0.7333333333333333 with parameters: {'n_estimators': 508, 'max_depth': 5, 'min_child_weight': 13, 'learning_rate': 0.092, 'subsample': 0.9, 'reg_lambda': 0.916, 'reg_alpha': 0.925, 'colsample_bytree': 0.9}. Best is trial#144 with value: 0.7666666666666667.\n",
      "[I 2020-05-15 22:24:52,228] Finished trial#203 with value: 0.75 with parameters: {'n_estimators': 452, 'max_depth': 3, 'min_child_weight': 15, 'learning_rate': 0.075, 'subsample': 0.9, 'reg_lambda': 0.427, 'reg_alpha': 0.8170000000000001, 'colsample_bytree': 0.9}. Best is trial#144 with value: 0.7666666666666667.\n",
      "[I 2020-05-15 22:24:52,711] Finished trial#204 with value: 0.75 with parameters: {'n_estimators': 387, 'max_depth': 2, 'min_child_weight': 14, 'learning_rate': 0.08600000000000001, 'subsample': 0.9, 'reg_lambda': 0.47400000000000003, 'reg_alpha': 0.837, 'colsample_bytree': 0.7}. Best is trial#144 with value: 0.7666666666666667.\n",
      "[I 2020-05-15 22:24:53,409] Finished trial#205 with value: 0.7444444444444445 with parameters: {'n_estimators': 426, 'max_depth': 6, 'min_child_weight': 14, 'learning_rate': 0.14100000000000001, 'subsample': 0.9, 'reg_lambda': 0.726, 'reg_alpha': 0.961, 'colsample_bytree': 0.9}. Best is trial#144 with value: 0.7666666666666667.\n",
      "[I 2020-05-15 22:24:53,978] Finished trial#206 with value: 0.75 with parameters: {'n_estimators': 472, 'max_depth': 3, 'min_child_weight': 14, 'learning_rate': 0.10200000000000001, 'subsample': 0.9, 'reg_lambda': 0.76, 'reg_alpha': 0.9390000000000001, 'colsample_bytree': 0.9}. Best is trial#144 with value: 0.7666666666666667.\n",
      "[I 2020-05-15 22:24:54,551] Finished trial#207 with value: 0.75 with parameters: {'n_estimators': 412, 'max_depth': 5, 'min_child_weight': 17, 'learning_rate': 0.108, 'subsample': 0.9, 'reg_lambda': 0.41100000000000003, 'reg_alpha': 0.888, 'colsample_bytree': 0.9}. Best is trial#144 with value: 0.7666666666666667.\n",
      "[I 2020-05-15 22:24:55,134] Finished trial#208 with value: 0.7277777777777777 with parameters: {'n_estimators': 407, 'max_depth': 22, 'min_child_weight': 13, 'learning_rate': 0.1, 'subsample': 0.9, 'reg_lambda': 0.446, 'reg_alpha': 0.862, 'colsample_bytree': 0.9}. Best is trial#144 with value: 0.7666666666666667.\n",
      "[I 2020-05-15 22:24:55,735] Finished trial#209 with value: 0.7555555555555555 with parameters: {'n_estimators': 397, 'max_depth': 7, 'min_child_weight': 16, 'learning_rate': 0.137, 'subsample': 0.9, 'reg_lambda': 0.151, 'reg_alpha': 0.838, 'colsample_bytree': 0.9}. Best is trial#144 with value: 0.7666666666666667.\n",
      "[I 2020-05-15 22:24:56,333] Finished trial#210 with value: 0.7611111111111111 with parameters: {'n_estimators': 433, 'max_depth': 5, 'min_child_weight': 14, 'learning_rate': 0.10300000000000001, 'subsample': 0.9, 'reg_lambda': 0.382, 'reg_alpha': 0.874, 'colsample_bytree': 0.9}. Best is trial#144 with value: 0.7666666666666667.\n",
      "[I 2020-05-15 22:24:56,951] Finished trial#211 with value: 0.7333333333333333 with parameters: {'n_estimators': 521, 'max_depth': 4, 'min_child_weight': 13, 'learning_rate': 0.097, 'subsample': 0.9, 'reg_lambda': 0.866, 'reg_alpha': 0.981, 'colsample_bytree': 0.9}. Best is trial#144 with value: 0.7666666666666667.\n",
      "[I 2020-05-15 22:24:57,559] Finished trial#212 with value: 0.7388888888888889 with parameters: {'n_estimators': 440, 'max_depth': 4, 'min_child_weight': 15, 'learning_rate': 0.146, 'subsample': 0.9, 'reg_lambda': 0.986, 'reg_alpha': 0.847, 'colsample_bytree': 0.9}. Best is trial#144 with value: 0.7666666666666667.\n",
      "[I 2020-05-15 22:24:58,230] Finished trial#213 with value: 0.7611111111111111 with parameters: {'n_estimators': 424, 'max_depth': 6, 'min_child_weight': 14, 'learning_rate': 0.10300000000000001, 'subsample': 0.9, 'reg_lambda': 0.74, 'reg_alpha': 0.894, 'colsample_bytree': 0.9}. Best is trial#144 with value: 0.7666666666666667.\n",
      "[I 2020-05-15 22:24:58,813] Finished trial#214 with value: 0.7444444444444445 with parameters: {'n_estimators': 390, 'max_depth': 7, 'min_child_weight': 14, 'learning_rate': 0.091, 'subsample': 0.9, 'reg_lambda': 0.148, 'reg_alpha': 0.914, 'colsample_bytree': 0.9}. Best is trial#144 with value: 0.7666666666666667.\n",
      "[I 2020-05-15 22:24:59,826] Finished trial#215 with value: 0.7611111111111111 with parameters: {'n_estimators': 454, 'max_depth': 6, 'min_child_weight': 14, 'learning_rate': 0.079, 'subsample': 0.9, 'reg_lambda': 0.37, 'reg_alpha': 0.868, 'colsample_bytree': 0.9}. Best is trial#144 with value: 0.7666666666666667.\n",
      "[I 2020-05-15 22:25:00,842] Finished trial#216 with value: 0.7333333333333333 with parameters: {'n_estimators': 498, 'max_depth': 6, 'min_child_weight': 13, 'learning_rate': 0.017, 'subsample': 0.9, 'reg_lambda': 0.339, 'reg_alpha': 0.875, 'colsample_bytree': 0.9}. Best is trial#144 with value: 0.7666666666666667.\n",
      "[I 2020-05-15 22:25:01,715] Finished trial#217 with value: 0.75 with parameters: {'n_estimators': 427, 'max_depth': 5, 'min_child_weight': 14, 'learning_rate': 0.081, 'subsample': 0.9, 'reg_lambda': 0.375, 'reg_alpha': 0.904, 'colsample_bytree': 0.9}. Best is trial#144 with value: 0.7666666666666667.\n",
      "[I 2020-05-15 22:25:02,885] Finished trial#218 with value: 0.75 with parameters: {'n_estimators': 452, 'max_depth': 6, 'min_child_weight': 14, 'learning_rate': 0.077, 'subsample': 0.9, 'reg_lambda': 0.742, 'reg_alpha': 0.8230000000000001, 'colsample_bytree': 0.9}. Best is trial#144 with value: 0.7666666666666667.\n",
      "[I 2020-05-15 22:25:03,766] Finished trial#219 with value: 0.7611111111111111 with parameters: {'n_estimators': 413, 'max_depth': 5, 'min_child_weight': 14, 'learning_rate': 0.106, 'subsample': 0.9, 'reg_lambda': 0.776, 'reg_alpha': 0.885, 'colsample_bytree': 0.9}. Best is trial#144 with value: 0.7666666666666667.\n",
      "[I 2020-05-15 22:25:04,511] Finished trial#220 with value: 0.7555555555555555 with parameters: {'n_estimators': 369, 'max_depth': 8, 'min_child_weight': 14, 'learning_rate': 0.10400000000000001, 'subsample': 0.9, 'reg_lambda': 0.385, 'reg_alpha': 0.894, 'colsample_bytree': 0.9}. Best is trial#144 with value: 0.7666666666666667.\n",
      "[I 2020-05-15 22:25:05,437] Finished trial#221 with value: 0.7666666666666667 with parameters: {'n_estimators': 426, 'max_depth': 4, 'min_child_weight': 14, 'learning_rate': 0.10400000000000001, 'subsample': 0.9, 'reg_lambda': 0.391, 'reg_alpha': 0.887, 'colsample_bytree': 0.9}. Best is trial#144 with value: 0.7666666666666667.\n",
      "[I 2020-05-15 22:25:06,218] Finished trial#222 with value: 0.7666666666666667 with parameters: {'n_estimators': 408, 'max_depth': 7, 'min_child_weight': 15, 'learning_rate': 0.10500000000000001, 'subsample': 0.9, 'reg_lambda': 0.17400000000000002, 'reg_alpha': 0.863, 'colsample_bytree': 0.9}. Best is trial#144 with value: 0.7666666666666667.\n",
      "[I 2020-05-15 22:25:07,147] Finished trial#223 with value: 0.7555555555555555 with parameters: {'n_estimators': 457, 'max_depth': 6, 'min_child_weight': 14, 'learning_rate': 0.10400000000000001, 'subsample': 0.9, 'reg_lambda': 0.778, 'reg_alpha': 0.869, 'colsample_bytree': 0.9}. Best is trial#144 with value: 0.7666666666666667.\n",
      "[I 2020-05-15 22:25:07,848] Finished trial#224 with value: 0.7611111111111111 with parameters: {'n_estimators': 417, 'max_depth': 5, 'min_child_weight': 16, 'learning_rate': 0.08800000000000001, 'subsample': 0.9, 'reg_lambda': 0.354, 'reg_alpha': 0.86, 'colsample_bytree': 0.9}. Best is trial#144 with value: 0.7666666666666667.\n",
      "[I 2020-05-15 22:25:08,700] Finished trial#225 with value: 0.7555555555555555 with parameters: {'n_estimators': 417, 'max_depth': 5, 'min_child_weight': 14, 'learning_rate': 0.1, 'subsample': 0.9, 'reg_lambda': 0.33, 'reg_alpha': 0.886, 'colsample_bytree': 0.9}. Best is trial#144 with value: 0.7666666666666667.\n"
     ]
    },
    {
     "name": "stderr",
     "output_type": "stream",
     "text": [
      "[I 2020-05-15 22:25:09,511] Finished trial#226 with value: 0.7444444444444445 with parameters: {'n_estimators': 417, 'max_depth': 5, 'min_child_weight': 13, 'learning_rate': 0.083, 'subsample': 0.9, 'reg_lambda': 0.355, 'reg_alpha': 0.861, 'colsample_bytree': 0.9}. Best is trial#144 with value: 0.7666666666666667.\n",
      "[I 2020-05-15 22:25:10,289] Finished trial#227 with value: 0.7611111111111111 with parameters: {'n_estimators': 431, 'max_depth': 6, 'min_child_weight': 16, 'learning_rate': 0.096, 'subsample': 0.9, 'reg_lambda': 0.398, 'reg_alpha': 0.885, 'colsample_bytree': 0.9}. Best is trial#144 with value: 0.7666666666666667.\n",
      "[I 2020-05-15 22:25:10,901] Finished trial#228 with value: 0.75 with parameters: {'n_estimators': 432, 'max_depth': 6, 'min_child_weight': 15, 'learning_rate': 0.091, 'subsample': 0.9, 'reg_lambda': 0.393, 'reg_alpha': 0.918, 'colsample_bytree': 0.9}. Best is trial#144 with value: 0.7666666666666667.\n",
      "[I 2020-05-15 22:25:11,495] Finished trial#229 with value: 0.7555555555555555 with parameters: {'n_estimators': 450, 'max_depth': 6, 'min_child_weight': 15, 'learning_rate': 0.095, 'subsample': 0.9, 'reg_lambda': 0.777, 'reg_alpha': 0.877, 'colsample_bytree': 0.9}. Best is trial#144 with value: 0.7666666666666667.\n",
      "[I 2020-05-15 22:25:12,167] Finished trial#230 with value: 0.7388888888888889 with parameters: {'n_estimators': 401, 'max_depth': 7, 'min_child_weight': 15, 'learning_rate': 0.094, 'subsample': 0.9, 'reg_lambda': 0.363, 'reg_alpha': 0.895, 'colsample_bytree': 0.9}. Best is trial#144 with value: 0.7666666666666667.\n",
      "[I 2020-05-15 22:25:12,807] Finished trial#231 with value: 0.7555555555555555 with parameters: {'n_estimators': 432, 'max_depth': 4, 'min_child_weight': 14, 'learning_rate': 0.08700000000000001, 'subsample': 0.9, 'reg_lambda': 0.309, 'reg_alpha': 0.858, 'colsample_bytree': 0.9}. Best is trial#144 with value: 0.7666666666666667.\n",
      "[I 2020-05-15 22:25:13,383] Finished trial#232 with value: 0.7611111111111111 with parameters: {'n_estimators': 407, 'max_depth': 5, 'min_child_weight': 14, 'learning_rate': 0.10500000000000001, 'subsample': 0.9, 'reg_lambda': 0.41300000000000003, 'reg_alpha': 0.884, 'colsample_bytree': 0.9}. Best is trial#144 with value: 0.7666666666666667.\n",
      "[I 2020-05-15 22:25:13,975] Finished trial#233 with value: 0.7666666666666667 with parameters: {'n_estimators': 416, 'max_depth': 4, 'min_child_weight': 15, 'learning_rate': 0.107, 'subsample': 0.9, 'reg_lambda': 0.387, 'reg_alpha': 0.882, 'colsample_bytree': 0.9}. Best is trial#144 with value: 0.7666666666666667.\n",
      "[I 2020-05-15 22:25:14,593] Finished trial#234 with value: 0.75 with parameters: {'n_estimators': 430, 'max_depth': 3, 'min_child_weight': 14, 'learning_rate': 0.101, 'subsample': 0.9, 'reg_lambda': 0.4, 'reg_alpha': 0.888, 'colsample_bytree': 0.9}. Best is trial#144 with value: 0.7666666666666667.\n",
      "[I 2020-05-15 22:25:15,150] Finished trial#235 with value: 0.7333333333333333 with parameters: {'n_estimators': 405, 'max_depth': 4, 'min_child_weight': 13, 'learning_rate': 0.096, 'subsample': 0.9, 'reg_lambda': 0.384, 'reg_alpha': 0.908, 'colsample_bytree': 0.9}. Best is trial#144 with value: 0.7666666666666667.\n",
      "[I 2020-05-15 22:25:15,715] Finished trial#236 with value: 0.7611111111111111 with parameters: {'n_estimators': 393, 'max_depth': 5, 'min_child_weight': 14, 'learning_rate': 0.10500000000000001, 'subsample': 0.9, 'reg_lambda': 0.41200000000000003, 'reg_alpha': 0.878, 'colsample_bytree': 0.9}. Best is trial#144 with value: 0.7666666666666667.\n",
      "[I 2020-05-15 22:25:16,305] Finished trial#237 with value: 0.75 with parameters: {'n_estimators': 413, 'max_depth': 5, 'min_child_weight': 14, 'learning_rate': 0.08700000000000001, 'subsample': 0.9, 'reg_lambda': 0.34600000000000003, 'reg_alpha': 0.871, 'colsample_bytree': 0.9}. Best is trial#144 with value: 0.7666666666666667.\n",
      "[I 2020-05-15 22:25:16,896] Finished trial#238 with value: 0.7444444444444445 with parameters: {'n_estimators': 392, 'max_depth': 7, 'min_child_weight': 16, 'learning_rate': 0.107, 'subsample': 0.9, 'reg_lambda': 0.41000000000000003, 'reg_alpha': 0.888, 'colsample_bytree': 0.9}. Best is trial#144 with value: 0.7666666666666667.\n",
      "[I 2020-05-15 22:25:17,469] Finished trial#239 with value: 0.75 with parameters: {'n_estimators': 414, 'max_depth': 5, 'min_child_weight': 16, 'learning_rate': 0.10400000000000001, 'subsample': 0.9, 'reg_lambda': 0.378, 'reg_alpha': 0.864, 'colsample_bytree': 0.9}. Best is trial#144 with value: 0.7666666666666667.\n",
      "[I 2020-05-15 22:25:18,061] Finished trial#240 with value: 0.7611111111111111 with parameters: {'n_estimators': 383, 'max_depth': 4, 'min_child_weight': 14, 'learning_rate': 0.07100000000000001, 'subsample': 0.9, 'reg_lambda': 0.42, 'reg_alpha': 0.917, 'colsample_bytree': 0.9}. Best is trial#144 with value: 0.7666666666666667.\n",
      "[I 2020-05-15 22:25:18,631] Finished trial#241 with value: 0.7555555555555555 with parameters: {'n_estimators': 385, 'max_depth': 4, 'min_child_weight': 14, 'learning_rate': 0.065, 'subsample': 0.9, 'reg_lambda': 0.41500000000000004, 'reg_alpha': 0.901, 'colsample_bytree': 0.9}. Best is trial#144 with value: 0.7666666666666667.\n",
      "[I 2020-05-15 22:25:19,181] Finished trial#242 with value: 0.7222222222222222 with parameters: {'n_estimators': 393, 'max_depth': 4, 'min_child_weight': 13, 'learning_rate': 0.069, 'subsample': 0.9, 'reg_lambda': 0.393, 'reg_alpha': 0.884, 'colsample_bytree': 0.9}. Best is trial#144 with value: 0.7666666666666667.\n",
      "[I 2020-05-15 22:25:19,818] Finished trial#243 with value: 0.7444444444444445 with parameters: {'n_estimators': 376, 'max_depth': 6, 'min_child_weight': 14, 'learning_rate': 0.07200000000000001, 'subsample': 0.9, 'reg_lambda': 0.366, 'reg_alpha': 0.92, 'colsample_bytree': 0.9}. Best is trial#144 with value: 0.7666666666666667.\n",
      "[I 2020-05-15 22:25:20,528] Finished trial#244 with value: 0.7555555555555555 with parameters: {'n_estimators': 401, 'max_depth': 5, 'min_child_weight': 14, 'learning_rate': 0.08, 'subsample': 0.9, 'reg_lambda': 0.40900000000000003, 'reg_alpha': 0.901, 'colsample_bytree': 0.9}. Best is trial#144 with value: 0.7666666666666667.\n",
      "[I 2020-05-15 22:25:21,202] Finished trial#245 with value: 0.7555555555555555 with parameters: {'n_estimators': 450, 'max_depth': 6, 'min_child_weight': 14, 'learning_rate': 0.10400000000000001, 'subsample': 0.9, 'reg_lambda': 0.388, 'reg_alpha': 0.87, 'colsample_bytree': 0.9}. Best is trial#144 with value: 0.7666666666666667.\n",
      "[I 2020-05-15 22:25:22,090] Finished trial#246 with value: 0.7555555555555555 with parameters: {'n_estimators': 425, 'max_depth': 5, 'min_child_weight': 14, 'learning_rate': 0.1, 'subsample': 0.9, 'reg_lambda': 0.357, 'reg_alpha': 0.848, 'colsample_bytree': 0.9}. Best is trial#144 with value: 0.7666666666666667.\n",
      "[I 2020-05-15 22:25:22,960] Finished trial#247 with value: 0.7333333333333333 with parameters: {'n_estimators': 406, 'max_depth': 4, 'min_child_weight': 13, 'learning_rate': 0.097, 'subsample': 0.9, 'reg_lambda': 0.178, 'reg_alpha': 0.915, 'colsample_bytree': 0.9}. Best is trial#144 with value: 0.7666666666666667.\n",
      "[I 2020-05-15 22:25:23,919] Finished trial#248 with value: 0.75 with parameters: {'n_estimators': 378, 'max_depth': 6, 'min_child_weight': 15, 'learning_rate': 0.10500000000000001, 'subsample': 0.9, 'reg_lambda': 0.222, 'reg_alpha': 0.841, 'colsample_bytree': 0.9}. Best is trial#144 with value: 0.7666666666666667.\n",
      "[I 2020-05-15 22:25:24,633] Finished trial#249 with value: 0.7444444444444445 with parameters: {'n_estimators': 421, 'max_depth': 3, 'min_child_weight': 15, 'learning_rate': 0.109, 'subsample': 0.9, 'reg_lambda': 0.433, 'reg_alpha': 0.881, 'colsample_bytree': 0.9}. Best is trial#144 with value: 0.7666666666666667.\n",
      "[I 2020-05-15 22:25:25,427] Finished trial#250 with value: 0.7388888888888889 with parameters: {'n_estimators': 215, 'max_depth': 5, 'min_child_weight': 12, 'learning_rate': 0.1, 'subsample': 0.9, 'reg_lambda': 0.42, 'reg_alpha': 0.888, 'colsample_bytree': 0.9}. Best is trial#144 with value: 0.7666666666666667.\n"
     ]
    },
    {
     "name": "stderr",
     "output_type": "stream",
     "text": [
      "[I 2020-05-15 22:25:26,192] Finished trial#251 with value: 0.7444444444444445 with parameters: {'n_estimators': 434, 'max_depth': 3, 'min_child_weight': 14, 'learning_rate': 0.107, 'subsample': 0.9, 'reg_lambda': 0.372, 'reg_alpha': 0.932, 'colsample_bytree': 0.9}. Best is trial#144 with value: 0.7666666666666667.\n",
      "[I 2020-05-15 22:25:26,909] Finished trial#252 with value: 0.7277777777777777 with parameters: {'n_estimators': 390, 'max_depth': 4, 'min_child_weight': 13, 'learning_rate': 0.098, 'subsample': 0.9, 'reg_lambda': 0.4, 'reg_alpha': 0.903, 'colsample_bytree': 0.9}. Best is trial#144 with value: 0.7666666666666667.\n",
      "[I 2020-05-15 22:25:27,784] Finished trial#253 with value: 0.7611111111111111 with parameters: {'n_estimators': 463, 'max_depth': 7, 'min_child_weight': 15, 'learning_rate': 0.091, 'subsample': 0.9, 'reg_lambda': 0.417, 'reg_alpha': 0.866, 'colsample_bytree': 0.9}. Best is trial#144 with value: 0.7666666666666667.\n",
      "[I 2020-05-15 22:25:28,790] Finished trial#254 with value: 0.7444444444444445 with parameters: {'n_estimators': 446, 'max_depth': 6, 'min_child_weight': 15, 'learning_rate': 0.059000000000000004, 'subsample': 0.9, 'reg_lambda': 0.423, 'reg_alpha': 0.862, 'colsample_bytree': 0.9}. Best is trial#144 with value: 0.7666666666666667.\n",
      "[I 2020-05-15 22:25:29,722] Finished trial#255 with value: 0.7611111111111111 with parameters: {'n_estimators': 479, 'max_depth': 7, 'min_child_weight': 16, 'learning_rate': 0.091, 'subsample': 0.9, 'reg_lambda': 0.385, 'reg_alpha': 0.872, 'colsample_bytree': 0.9}. Best is trial#144 with value: 0.7666666666666667.\n",
      "[I 2020-05-15 22:25:30,458] Finished trial#256 with value: 0.75 with parameters: {'n_estimators': 479, 'max_depth': 7, 'min_child_weight': 16, 'learning_rate': 0.091, 'subsample': 0.9, 'reg_lambda': 0.34600000000000003, 'reg_alpha': 0.856, 'colsample_bytree': 0.9}. Best is trial#144 with value: 0.7666666666666667.\n",
      "[I 2020-05-15 22:25:31,174] Finished trial#257 with value: 0.75 with parameters: {'n_estimators': 474, 'max_depth': 6, 'min_child_weight': 17, 'learning_rate': 0.084, 'subsample': 0.9, 'reg_lambda': 0.395, 'reg_alpha': 0.842, 'colsample_bytree': 0.9}. Best is trial#144 with value: 0.7666666666666667.\n",
      "[I 2020-05-15 22:25:31,838] Finished trial#258 with value: 0.7444444444444445 with parameters: {'n_estimators': 461, 'max_depth': 7, 'min_child_weight': 16, 'learning_rate': 0.094, 'subsample': 0.9, 'reg_lambda': 0.452, 'reg_alpha': 0.875, 'colsample_bytree': 0.9}. Best is trial#144 with value: 0.7666666666666667.\n",
      "[I 2020-05-15 22:25:32,492] Finished trial#259 with value: 0.7611111111111111 with parameters: {'n_estimators': 414, 'max_depth': 5, 'min_child_weight': 16, 'learning_rate': 0.07300000000000001, 'subsample': 0.9, 'reg_lambda': 0.378, 'reg_alpha': 0.892, 'colsample_bytree': 0.9}. Best is trial#144 with value: 0.7666666666666667.\n",
      "[I 2020-05-15 22:25:33,108] Finished trial#260 with value: 0.7388888888888889 with parameters: {'n_estimators': 404, 'max_depth': 5, 'min_child_weight': 16, 'learning_rate': 0.07300000000000001, 'subsample': 0.9, 'reg_lambda': 0.317, 'reg_alpha': 0.86, 'colsample_bytree': 0.9}. Best is trial#144 with value: 0.7666666666666667.\n",
      "[I 2020-05-15 22:25:33,686] Finished trial#261 with value: 0.75 with parameters: {'n_estimators': 425, 'max_depth': 4, 'min_child_weight': 15, 'learning_rate': 0.078, 'subsample': 0.9, 'reg_lambda': 0.375, 'reg_alpha': 0.915, 'colsample_bytree': 0.9}. Best is trial#144 with value: 0.7666666666666667.\n",
      "[I 2020-05-15 22:25:34,079] Finished trial#262 with value: 0.7277777777777777 with parameters: {'n_estimators': 179, 'max_depth': 3, 'min_child_weight': 16, 'learning_rate': 0.07200000000000001, 'subsample': 0.9, 'reg_lambda': 0.34700000000000003, 'reg_alpha': 0.894, 'colsample_bytree': 0.9}. Best is trial#144 with value: 0.7666666666666667.\n",
      "[I 2020-05-15 22:25:34,714] Finished trial#263 with value: 0.7388888888888889 with parameters: {'n_estimators': 398, 'max_depth': 7, 'min_child_weight': 17, 'learning_rate': 0.081, 'subsample': 0.9, 'reg_lambda': 0.388, 'reg_alpha': 0.877, 'colsample_bytree': 0.9}. Best is trial#144 with value: 0.7666666666666667.\n",
      "[I 2020-05-15 22:25:35,303] Finished trial#264 with value: 0.7555555555555555 with parameters: {'n_estimators': 443, 'max_depth': 4, 'min_child_weight': 15, 'learning_rate': 0.101, 'subsample': 0.9, 'reg_lambda': 0.41600000000000004, 'reg_alpha': 0.9390000000000001, 'colsample_bytree': 0.9}. Best is trial#144 with value: 0.7666666666666667.\n",
      "[I 2020-05-15 22:25:35,972] Finished trial#265 with value: 0.7333333333333333 with parameters: {'n_estimators': 485, 'max_depth': 6, 'min_child_weight': 17, 'learning_rate': 0.091, 'subsample': 0.9, 'reg_lambda': 0.36, 'reg_alpha': 0.884, 'colsample_bytree': 0.9}. Best is trial#144 with value: 0.7666666666666667.\n",
      "[I 2020-05-15 22:25:36,621] Finished trial#266 with value: 0.7388888888888889 with parameters: {'n_estimators': 434, 'max_depth': 4, 'min_child_weight': 14, 'learning_rate': 0.10300000000000001, 'subsample': 0.9, 'reg_lambda': 0.023, 'reg_alpha': 0.101, 'colsample_bytree': 0.9}. Best is trial#144 with value: 0.7666666666666667.\n",
      "[I 2020-05-15 22:25:37,231] Finished trial#267 with value: 0.7444444444444445 with parameters: {'n_estimators': 412, 'max_depth': 5, 'min_child_weight': 15, 'learning_rate': 0.078, 'subsample': 0.9, 'reg_lambda': 0.28400000000000003, 'reg_alpha': 0.907, 'colsample_bytree': 0.9}. Best is trial#144 with value: 0.7666666666666667.\n",
      "[I 2020-05-15 22:25:37,771] Finished trial#268 with value: 0.7388888888888889 with parameters: {'n_estimators': 421, 'max_depth': 3, 'min_child_weight': 14, 'learning_rate': 0.17600000000000002, 'subsample': 0.9, 'reg_lambda': 0.441, 'reg_alpha': 0.923, 'colsample_bytree': 0.9}. Best is trial#144 with value: 0.7666666666666667.\n",
      "[I 2020-05-15 22:25:38,267] Finished trial#269 with value: 0.7555555555555555 with parameters: {'n_estimators': 443, 'max_depth': 2, 'min_child_weight': 13, 'learning_rate': 0.075, 'subsample': 0.9, 'reg_lambda': 0.105, 'reg_alpha': 0.902, 'colsample_bytree': 0.9}. Best is trial#144 with value: 0.7666666666666667.\n",
      "[I 2020-05-15 22:25:38,884] Finished trial#270 with value: 0.7555555555555555 with parameters: {'n_estimators': 458, 'max_depth': 4, 'min_child_weight': 15, 'learning_rate': 0.069, 'subsample': 0.9, 'reg_lambda': 0.449, 'reg_alpha': 0.846, 'colsample_bytree': 0.9}. Best is trial#144 with value: 0.7666666666666667.\n",
      "[I 2020-05-15 22:25:39,845] Finished trial#271 with value: 0.7444444444444445 with parameters: {'n_estimators': 747, 'max_depth': 5, 'min_child_weight': 14, 'learning_rate': 0.08800000000000001, 'subsample': 0.9, 'reg_lambda': 0.41200000000000003, 'reg_alpha': 0.8310000000000001, 'colsample_bytree': 0.9}. Best is trial#144 with value: 0.7666666666666667.\n",
      "[I 2020-05-15 22:25:40,540] Finished trial#272 with value: 0.7666666666666667 with parameters: {'n_estimators': 471, 'max_depth': 6, 'min_child_weight': 16, 'learning_rate': 0.096, 'subsample': 0.9, 'reg_lambda': 0.373, 'reg_alpha': 0.863, 'colsample_bytree': 0.9}. Best is trial#144 with value: 0.7666666666666667.\n",
      "[I 2020-05-15 22:25:41,211] Finished trial#273 with value: 0.7388888888888889 with parameters: {'n_estimators': 378, 'max_depth': 3, 'min_child_weight': 14, 'learning_rate': 0.098, 'subsample': 0.9, 'reg_lambda': 0.463, 'reg_alpha': 0.651, 'colsample_bytree': 0.9}. Best is trial#144 with value: 0.7666666666666667.\n",
      "[I 2020-05-15 22:25:42,061] Finished trial#274 with value: 0.7666666666666667 with parameters: {'n_estimators': 497, 'max_depth': 7, 'min_child_weight': 16, 'learning_rate': 0.092, 'subsample': 0.9, 'reg_lambda': 0.379, 'reg_alpha': 0.219, 'colsample_bytree': 0.9}. Best is trial#144 with value: 0.7666666666666667.\n",
      "[I 2020-05-15 22:25:42,887] Finished trial#275 with value: 0.7444444444444445 with parameters: {'n_estimators': 491, 'max_depth': 6, 'min_child_weight': 17, 'learning_rate': 0.064, 'subsample': 0.9, 'reg_lambda': 0.339, 'reg_alpha': 0.876, 'colsample_bytree': 0.9}. Best is trial#144 with value: 0.7666666666666667.\n"
     ]
    },
    {
     "name": "stderr",
     "output_type": "stream",
     "text": [
      "[I 2020-05-15 22:25:43,572] Finished trial#276 with value: 0.75 with parameters: {'n_estimators': 436, 'max_depth': 9, 'min_child_weight': 16, 'learning_rate': 0.094, 'subsample': 0.9, 'reg_lambda': 0.37, 'reg_alpha': 0.211, 'colsample_bytree': 0.9}. Best is trial#144 with value: 0.7666666666666667.\n",
      "[I 2020-05-15 22:25:44,218] Finished trial#277 with value: 0.7277777777777777 with parameters: {'n_estimators': 359, 'max_depth': 8, 'min_child_weight': 15, 'learning_rate': 0.085, 'subsample': 0.9, 'reg_lambda': 0.39, 'reg_alpha': 0.40700000000000003, 'colsample_bytree': 0.9}. Best is trial#144 with value: 0.7666666666666667.\n",
      "[I 2020-05-15 22:25:44,933] Finished trial#278 with value: 0.7666666666666667 with parameters: {'n_estimators': 487, 'max_depth': 8, 'min_child_weight': 16, 'learning_rate': 0.089, 'subsample': 0.9, 'reg_lambda': 0.33, 'reg_alpha': 0.853, 'colsample_bytree': 0.9}. Best is trial#144 with value: 0.7666666666666667.\n",
      "[I 2020-05-15 22:25:45,873] Finished trial#279 with value: 0.7388888888888889 with parameters: {'n_estimators': 519, 'max_depth': 8, 'min_child_weight': 16, 'learning_rate': 0.089, 'subsample': 0.9, 'reg_lambda': 0.315, 'reg_alpha': 0.591, 'colsample_bytree': 0.9}. Best is trial#144 with value: 0.7666666666666667.\n",
      "[I 2020-05-15 22:25:46,547] Finished trial#280 with value: 0.7555555555555555 with parameters: {'n_estimators': 534, 'max_depth': 7, 'min_child_weight': 16, 'learning_rate': 0.093, 'subsample': 0.9, 'reg_lambda': 0.329, 'reg_alpha': 0.834, 'colsample_bytree': 0.9}. Best is trial#144 with value: 0.7666666666666667.\n",
      "[I 2020-05-15 22:25:47,273] Finished trial#281 with value: 0.7722222222222223 with parameters: {'n_estimators': 498, 'max_depth': 7, 'min_child_weight': 16, 'learning_rate': 0.08600000000000001, 'subsample': 0.9, 'reg_lambda': 0.399, 'reg_alpha': 0.861, 'colsample_bytree': 0.9}. Best is trial#281 with value: 0.7722222222222223.\n",
      "[I 2020-05-15 22:25:48,000] Finished trial#282 with value: 0.7666666666666667 with parameters: {'n_estimators': 503, 'max_depth': 8, 'min_child_weight': 16, 'learning_rate': 0.08800000000000001, 'subsample': 0.9, 'reg_lambda': 0.391, 'reg_alpha': 0.849, 'colsample_bytree': 0.9}. Best is trial#281 with value: 0.7722222222222223.\n",
      "[I 2020-05-15 22:25:48,653] Finished trial#283 with value: 0.7444444444444445 with parameters: {'n_estimators': 502, 'max_depth': 6, 'min_child_weight': 17, 'learning_rate': 0.084, 'subsample': 0.9, 'reg_lambda': 0.352, 'reg_alpha': 0.167, 'colsample_bytree': 0.9}. Best is trial#281 with value: 0.7722222222222223.\n",
      "[I 2020-05-15 22:25:49,327] Finished trial#284 with value: 0.75 with parameters: {'n_estimators': 547, 'max_depth': 8, 'min_child_weight': 17, 'learning_rate': 0.08700000000000001, 'subsample': 0.9, 'reg_lambda': 0.292, 'reg_alpha': 0.849, 'colsample_bytree': 0.9}. Best is trial#281 with value: 0.7722222222222223.\n",
      "[I 2020-05-15 22:25:49,983] Finished trial#285 with value: 0.7666666666666667 with parameters: {'n_estimators': 497, 'max_depth': 7, 'min_child_weight': 16, 'learning_rate': 0.096, 'subsample': 0.9, 'reg_lambda': 0.402, 'reg_alpha': 0.8170000000000001, 'colsample_bytree': 0.9}. Best is trial#281 with value: 0.7722222222222223.\n",
      "[I 2020-05-15 22:25:50,645] Finished trial#286 with value: 0.75 with parameters: {'n_estimators': 528, 'max_depth': 8, 'min_child_weight': 16, 'learning_rate': 0.095, 'subsample': 0.9, 'reg_lambda': 0.361, 'reg_alpha': 0.8140000000000001, 'colsample_bytree': 0.9}. Best is trial#281 with value: 0.7722222222222223.\n",
      "[I 2020-05-15 22:25:51,408] Finished trial#287 with value: 0.7444444444444445 with parameters: {'n_estimators': 505, 'max_depth': 9, 'min_child_weight': 16, 'learning_rate': 0.092, 'subsample': 0.9, 'reg_lambda': 0.40800000000000003, 'reg_alpha': 0.8, 'colsample_bytree': 0.9}. Best is trial#281 with value: 0.7722222222222223.\n",
      "[I 2020-05-15 22:25:52,074] Finished trial#288 with value: 0.75 with parameters: {'n_estimators': 504, 'max_depth': 7, 'min_child_weight': 16, 'learning_rate': 0.111, 'subsample': 0.9, 'reg_lambda': 0.398, 'reg_alpha': 0.8210000000000001, 'colsample_bytree': 0.9}. Best is trial#281 with value: 0.7722222222222223.\n",
      "[I 2020-05-15 22:25:52,640] Finished trial#289 with value: 0.7111111111111111 with parameters: {'n_estimators': 490, 'max_depth': 1, 'min_child_weight': 17, 'learning_rate': 0.083, 'subsample': 0.9, 'reg_lambda': 0.33, 'reg_alpha': 0.849, 'colsample_bytree': 0.9}. Best is trial#281 with value: 0.7722222222222223.\n",
      "[I 2020-05-15 22:25:53,399] Finished trial#290 with value: 0.7444444444444445 with parameters: {'n_estimators': 483, 'max_depth': 6, 'min_child_weight': 16, 'learning_rate': 0.098, 'subsample': 0.9, 'reg_lambda': 0.366, 'reg_alpha': 0.317, 'colsample_bytree': 0.9}. Best is trial#281 with value: 0.7722222222222223.\n",
      "[I 2020-05-15 22:25:54,136] Finished trial#291 with value: 0.7555555555555555 with parameters: {'n_estimators': 520, 'max_depth': 9, 'min_child_weight': 16, 'learning_rate': 0.089, 'subsample': 0.9, 'reg_lambda': 0.386, 'reg_alpha': 0.86, 'colsample_bytree': 0.9}. Best is trial#281 with value: 0.7722222222222223.\n",
      "[I 2020-05-15 22:25:54,825] Finished trial#292 with value: 0.7555555555555555 with parameters: {'n_estimators': 480, 'max_depth': 7, 'min_child_weight': 16, 'learning_rate': 0.08700000000000001, 'subsample': 0.9, 'reg_lambda': 0.371, 'reg_alpha': 0.837, 'colsample_bytree': 0.9}. Best is trial#281 with value: 0.7722222222222223.\n",
      "[I 2020-05-15 22:25:55,532] Finished trial#293 with value: 0.75 with parameters: {'n_estimators': 590, 'max_depth': 7, 'min_child_weight': 16, 'learning_rate': 0.092, 'subsample': 0.9, 'reg_lambda': 0.34600000000000003, 'reg_alpha': 0.865, 'colsample_bytree': 0.9}. Best is trial#281 with value: 0.7722222222222223.\n",
      "[I 2020-05-15 22:25:56,178] Finished trial#294 with value: 0.7444444444444445 with parameters: {'n_estimators': 477, 'max_depth': 8, 'min_child_weight': 15, 'learning_rate': 0.081, 'subsample': 0.9, 'reg_lambda': 0.424, 'reg_alpha': 0.837, 'colsample_bytree': 0.9}. Best is trial#281 with value: 0.7722222222222223.\n",
      "[I 2020-05-15 22:25:56,842] Finished trial#295 with value: 0.7388888888888889 with parameters: {'n_estimators': 467, 'max_depth': 7, 'min_child_weight': 17, 'learning_rate': 0.096, 'subsample': 0.9, 'reg_lambda': 0.388, 'reg_alpha': 0.857, 'colsample_bytree': 0.9}. Best is trial#281 with value: 0.7722222222222223.\n",
      "[I 2020-05-15 22:25:57,726] Finished trial#296 with value: 0.7 with parameters: {'n_estimators': 566, 'max_depth': 9, 'min_child_weight': 4, 'learning_rate': 0.101, 'subsample': 0.9, 'reg_lambda': 0.434, 'reg_alpha': 0.9530000000000001, 'colsample_bytree': 0.9}. Best is trial#281 with value: 0.7722222222222223.\n",
      "[I 2020-05-15 22:25:58,447] Finished trial#297 with value: 0.7611111111111111 with parameters: {'n_estimators': 498, 'max_depth': 8, 'min_child_weight': 16, 'learning_rate': 0.08800000000000001, 'subsample': 0.9, 'reg_lambda': 0.402, 'reg_alpha': 0.891, 'colsample_bytree': 0.9}. Best is trial#281 with value: 0.7722222222222223.\n",
      "[I 2020-05-15 22:25:59,177] Finished trial#298 with value: 0.7611111111111111 with parameters: {'n_estimators': 526, 'max_depth': 23, 'min_child_weight': 15, 'learning_rate': 0.074, 'subsample': 0.9, 'reg_lambda': 0.381, 'reg_alpha': 0.47600000000000003, 'colsample_bytree': 0.9}. Best is trial#281 with value: 0.7722222222222223.\n",
      "[I 2020-05-15 22:25:59,867] Finished trial#299 with value: 0.7388888888888889 with parameters: {'n_estimators': 505, 'max_depth': 8, 'min_child_weight': 16, 'learning_rate': 0.079, 'subsample': 0.9, 'reg_lambda': 0.40700000000000003, 'reg_alpha': 0.031, 'colsample_bytree': 0.9}. Best is trial#281 with value: 0.7722222222222223.\n",
      "[I 2020-05-15 22:26:00,616] Finished trial#300 with value: 0.7666666666666667 with parameters: {'n_estimators': 555, 'max_depth': 22, 'min_child_weight': 16, 'learning_rate': 0.076, 'subsample': 0.9, 'reg_lambda': 0.372, 'reg_alpha': 0.245, 'colsample_bytree': 0.9}. Best is trial#281 with value: 0.7722222222222223.\n"
     ]
    },
    {
     "name": "stderr",
     "output_type": "stream",
     "text": [
      "[I 2020-05-15 22:26:01,453] Finished trial#301 with value: 0.7444444444444445 with parameters: {'n_estimators': 609, 'max_depth': 24, 'min_child_weight': 17, 'learning_rate': 0.096, 'subsample': 0.9, 'reg_lambda': 0.41600000000000004, 'reg_alpha': 0.225, 'colsample_bytree': 0.9}. Best is trial#281 with value: 0.7722222222222223.\n",
      "[I 2020-05-15 22:26:02,205] Finished trial#302 with value: 0.75 with parameters: {'n_estimators': 466, 'max_depth': 22, 'min_child_weight': 16, 'learning_rate': 0.092, 'subsample': 0.9, 'reg_lambda': 0.382, 'reg_alpha': 0.209, 'colsample_bytree': 0.9}. Best is trial#281 with value: 0.7722222222222223.\n",
      "[I 2020-05-15 22:26:02,899] Finished trial#303 with value: 0.75 with parameters: {'n_estimators': 543, 'max_depth': 6, 'min_child_weight': 17, 'learning_rate': 0.10300000000000001, 'subsample': 0.9, 'reg_lambda': 0.333, 'reg_alpha': 0.8170000000000001, 'colsample_bytree': 0.9}. Best is trial#281 with value: 0.7722222222222223.\n",
      "[I 2020-05-15 22:26:03,687] Finished trial#304 with value: 0.7388888888888889 with parameters: {'n_estimators': 580, 'max_depth': 6, 'min_child_weight': 16, 'learning_rate': 0.15, 'subsample': 0.9, 'reg_lambda': 0.354, 'reg_alpha': 0.253, 'colsample_bytree': 0.9}. Best is trial#281 with value: 0.7722222222222223.\n",
      "[I 2020-05-15 22:26:04,420] Finished trial#305 with value: 0.7611111111111111 with parameters: {'n_estimators': 467, 'max_depth': 22, 'min_child_weight': 15, 'learning_rate': 0.067, 'subsample': 0.9, 'reg_lambda': 0.432, 'reg_alpha': 0.926, 'colsample_bytree': 0.9}. Best is trial#281 with value: 0.7722222222222223.\n",
      "[I 2020-05-15 22:26:05,123] Finished trial#306 with value: 0.7388888888888889 with parameters: {'n_estimators': 560, 'max_depth': 5, 'min_child_weight': 16, 'learning_rate': 0.107, 'subsample': 0.9, 'reg_lambda': 0.747, 'reg_alpha': 0.17, 'colsample_bytree': 0.9}. Best is trial#281 with value: 0.7722222222222223.\n",
      "[I 2020-05-15 22:26:05,646] Finished trial#307 with value: 0.75 with parameters: {'n_estimators': 250, 'max_depth': 22, 'min_child_weight': 15, 'learning_rate': 0.057, 'subsample': 0.9, 'reg_lambda': 0.307, 'reg_alpha': 0.295, 'colsample_bytree': 0.9}. Best is trial#281 with value: 0.7722222222222223.\n",
      "[I 2020-05-15 22:26:06,360] Finished trial#308 with value: 0.7722222222222223 with parameters: {'n_estimators': 486, 'max_depth': 7, 'min_child_weight': 16, 'learning_rate': 0.09, 'subsample': 0.9, 'reg_lambda': 0.367, 'reg_alpha': 0.863, 'colsample_bytree': 0.9}. Best is trial#281 with value: 0.7722222222222223.\n",
      "[I 2020-05-15 22:26:06,693] Finished trial#309 with value: 0.7222222222222222 with parameters: {'n_estimators': 30, 'max_depth': 7, 'min_child_weight': 16, 'learning_rate': 0.08600000000000001, 'subsample': 0.9, 'reg_lambda': 0.36, 'reg_alpha': 0.854, 'colsample_bytree': 0.9}. Best is trial#281 with value: 0.7722222222222223.\n",
      "[I 2020-05-15 22:26:07,428] Finished trial#310 with value: 0.7388888888888889 with parameters: {'n_estimators': 492, 'max_depth': 6, 'min_child_weight': 17, 'learning_rate': 0.098, 'subsample': 0.9, 'reg_lambda': 0.373, 'reg_alpha': 0.794, 'colsample_bytree': 0.9}. Best is trial#281 with value: 0.7722222222222223.\n",
      "[I 2020-05-15 22:26:08,135] Finished trial#311 with value: 0.7722222222222223 with parameters: {'n_estimators': 538, 'max_depth': 7, 'min_child_weight': 16, 'learning_rate': 0.09, 'subsample': 0.9, 'reg_lambda': 0.265, 'reg_alpha': 0.8300000000000001, 'colsample_bytree': 0.9}. Best is trial#281 with value: 0.7722222222222223.\n",
      "[I 2020-05-15 22:26:08,918] Finished trial#312 with value: 0.7611111111111111 with parameters: {'n_estimators': 538, 'max_depth': 7, 'min_child_weight': 16, 'learning_rate': 0.085, 'subsample': 0.9, 'reg_lambda': 0.257, 'reg_alpha': 0.23700000000000002, 'colsample_bytree': 0.9}. Best is trial#281 with value: 0.7722222222222223.\n",
      "[I 2020-05-15 22:26:09,695] Finished trial#313 with value: 0.7611111111111111 with parameters: {'n_estimators': 518, 'max_depth': 8, 'min_child_weight': 16, 'learning_rate': 0.082, 'subsample': 0.9, 'reg_lambda': 0.34600000000000003, 'reg_alpha': 0.8220000000000001, 'colsample_bytree': 0.9}. Best is trial#281 with value: 0.7722222222222223.\n",
      "[I 2020-05-15 22:26:10,416] Finished trial#314 with value: 0.7444444444444445 with parameters: {'n_estimators': 563, 'max_depth': 10, 'min_child_weight': 17, 'learning_rate': 0.094, 'subsample': 0.9, 'reg_lambda': 0.319, 'reg_alpha': 0.199, 'colsample_bytree': 0.9}. Best is trial#281 with value: 0.7722222222222223.\n",
      "[I 2020-05-15 22:26:11,108] Finished trial#315 with value: 0.7611111111111111 with parameters: {'n_estimators': 530, 'max_depth': 8, 'min_child_weight': 16, 'learning_rate': 0.089, 'subsample': 0.9, 'reg_lambda': 0.343, 'reg_alpha': 0.8140000000000001, 'colsample_bytree': 0.9}. Best is trial#281 with value: 0.7722222222222223.\n",
      "[I 2020-05-15 22:26:11,792] Finished trial#316 with value: 0.7611111111111111 with parameters: {'n_estimators': 498, 'max_depth': 7, 'min_child_weight': 16, 'learning_rate': 0.089, 'subsample': 0.9, 'reg_lambda': 0.38, 'reg_alpha': 0.27, 'colsample_bytree': 0.9}. Best is trial#281 with value: 0.7722222222222223.\n",
      "[I 2020-05-15 22:26:12,528] Finished trial#317 with value: 0.7388888888888889 with parameters: {'n_estimators': 554, 'max_depth': 8, 'min_child_weight': 15, 'learning_rate': 0.099, 'subsample': 0.9, 'reg_lambda': 0.303, 'reg_alpha': 0.8220000000000001, 'colsample_bytree': 0.9}. Best is trial#281 with value: 0.7722222222222223.\n",
      "[I 2020-05-15 22:26:13,236] Finished trial#318 with value: 0.7611111111111111 with parameters: {'n_estimators': 480, 'max_depth': 7, 'min_child_weight': 16, 'learning_rate': 0.081, 'subsample': 0.9, 'reg_lambda': 0.228, 'reg_alpha': 0.866, 'colsample_bytree': 0.9}. Best is trial#281 with value: 0.7722222222222223.\n",
      "[I 2020-05-15 22:26:14,008] Finished trial#319 with value: 0.7277777777777777 with parameters: {'n_estimators': 519, 'max_depth': 9, 'min_child_weight': 15, 'learning_rate': 0.14500000000000002, 'subsample': 0.9, 'reg_lambda': 0.467, 'reg_alpha': 0.787, 'colsample_bytree': 0.9}. Best is trial#281 with value: 0.7722222222222223.\n",
      "[I 2020-05-15 22:26:14,846] Finished trial#320 with value: 0.7333333333333333 with parameters: {'n_estimators': 547, 'max_depth': 21, 'min_child_weight': 17, 'learning_rate': 0.108, 'subsample': 0.9, 'reg_lambda': 0.726, 'reg_alpha': 0.833, 'colsample_bytree': 0.9}. Best is trial#281 with value: 0.7722222222222223.\n",
      "[I 2020-05-15 22:26:15,760] Finished trial#321 with value: 0.7611111111111111 with parameters: {'n_estimators': 499, 'max_depth': 8, 'min_child_weight': 16, 'learning_rate': 0.08800000000000001, 'subsample': 0.9, 'reg_lambda': 0.274, 'reg_alpha': 0.804, 'colsample_bytree': 0.9}. Best is trial#281 with value: 0.7722222222222223.\n",
      "[I 2020-05-15 22:26:16,695] Finished trial#322 with value: 0.7277777777777777 with parameters: {'n_estimators': 589, 'max_depth': 23, 'min_child_weight': 15, 'learning_rate': 0.078, 'subsample': 0.9, 'reg_lambda': 0.327, 'reg_alpha': 0.46900000000000003, 'colsample_bytree': 0.9}. Best is trial#281 with value: 0.7722222222222223.\n",
      "[I 2020-05-15 22:26:17,424] Finished trial#323 with value: 0.75 with parameters: {'n_estimators': 451, 'max_depth': 6, 'min_child_weight': 15, 'learning_rate': 0.084, 'subsample': 0.9, 'reg_lambda': 0.372, 'reg_alpha': 0.845, 'colsample_bytree': 0.9}. Best is trial#281 with value: 0.7722222222222223.\n",
      "[I 2020-05-15 22:26:18,202] Finished trial#324 with value: 0.75 with parameters: {'n_estimators': 512, 'max_depth': 5, 'min_child_weight': 17, 'learning_rate': 0.069, 'subsample': 0.9, 'reg_lambda': 0.074, 'reg_alpha': 0.867, 'colsample_bytree': 0.9}. Best is trial#281 with value: 0.7722222222222223.\n",
      "[I 2020-05-15 22:26:18,988] Finished trial#325 with value: 0.7611111111111111 with parameters: {'n_estimators': 476, 'max_depth': 7, 'min_child_weight': 16, 'learning_rate': 0.075, 'subsample': 0.9, 'reg_lambda': 0.193, 'reg_alpha': 0.858, 'colsample_bytree': 0.9}. Best is trial#281 with value: 0.7722222222222223.\n"
     ]
    },
    {
     "name": "stderr",
     "output_type": "stream",
     "text": [
      "[I 2020-05-15 22:26:20,045] Finished trial#326 with value: 0.75 with parameters: {'n_estimators': 537, 'max_depth': 6, 'min_child_weight': 15, 'learning_rate': 0.076, 'subsample': 0.9, 'reg_lambda': 0.162, 'reg_alpha': 0.843, 'colsample_bytree': 0.9}. Best is trial#281 with value: 0.7722222222222223.\n",
      "[I 2020-05-15 22:26:21,119] Finished trial#327 with value: 0.7666666666666667 with parameters: {'n_estimators': 465, 'max_depth': 7, 'min_child_weight': 16, 'learning_rate': 0.092, 'subsample': 0.9, 'reg_lambda': 0.395, 'reg_alpha': 0.875, 'colsample_bytree': 0.9}. Best is trial#281 with value: 0.7722222222222223.\n",
      "[I 2020-05-15 22:26:22,103] Finished trial#328 with value: 0.75 with parameters: {'n_estimators': 452, 'max_depth': 7, 'min_child_weight': 15, 'learning_rate': 0.084, 'subsample': 0.9, 'reg_lambda': 0.352, 'reg_alpha': 0.884, 'colsample_bytree': 0.9}. Best is trial#281 with value: 0.7722222222222223.\n",
      "[I 2020-05-15 22:26:23,150] Finished trial#329 with value: 0.7611111111111111 with parameters: {'n_estimators': 495, 'max_depth': 8, 'min_child_weight': 16, 'learning_rate': 0.078, 'subsample': 0.9, 'reg_lambda': 0.243, 'reg_alpha': 0.802, 'colsample_bytree': 0.9}. Best is trial#281 with value: 0.7722222222222223.\n",
      "[I 2020-05-15 22:26:24,193] Finished trial#330 with value: 0.7444444444444445 with parameters: {'n_estimators': 444, 'max_depth': 5, 'min_child_weight': 16, 'learning_rate': 0.095, 'subsample': 0.9, 'reg_lambda': 0.4, 'reg_alpha': 0.836, 'colsample_bytree': 0.9}. Best is trial#281 with value: 0.7722222222222223.\n",
      "[I 2020-05-15 22:26:25,470] Finished trial#331 with value: 0.7444444444444445 with parameters: {'n_estimators': 474, 'max_depth': 9, 'min_child_weight': 15, 'learning_rate': 0.091, 'subsample': 0.9, 'reg_lambda': 0.429, 'reg_alpha': 0.937, 'colsample_bytree': 0.9}. Best is trial#281 with value: 0.7722222222222223.\n",
      "[I 2020-05-15 22:26:26,419] Finished trial#332 with value: 0.75 with parameters: {'n_estimators': 488, 'max_depth': 7, 'min_child_weight': 16, 'learning_rate': 0.089, 'subsample': 0.9, 'reg_lambda': 0.841, 'reg_alpha': 0.898, 'colsample_bytree': 0.9}. Best is trial#281 with value: 0.7722222222222223.\n",
      "[I 2020-05-15 22:26:27,065] Finished trial#333 with value: 0.75 with parameters: {'n_estimators': 462, 'max_depth': 6, 'min_child_weight': 17, 'learning_rate': 0.093, 'subsample': 0.9, 'reg_lambda': 0.366, 'reg_alpha': 0.833, 'colsample_bytree': 0.9}. Best is trial#281 with value: 0.7722222222222223.\n",
      "[I 2020-05-15 22:26:27,747] Finished trial#334 with value: 0.7555555555555555 with parameters: {'n_estimators': 511, 'max_depth': 7, 'min_child_weight': 16, 'learning_rate': 0.097, 'subsample': 0.9, 'reg_lambda': 0.402, 'reg_alpha': 0.185, 'colsample_bytree': 0.9}. Best is trial#281 with value: 0.7722222222222223.\n",
      "[I 2020-05-15 22:26:28,248] Finished trial#335 with value: 0.7444444444444445 with parameters: {'n_estimators': 241, 'max_depth': 5, 'min_child_weight': 16, 'learning_rate': 0.07300000000000001, 'subsample': 0.9, 'reg_lambda': 0.895, 'reg_alpha': 0.853, 'colsample_bytree': 0.9}. Best is trial#281 with value: 0.7722222222222223.\n",
      "[I 2020-05-15 22:26:28,911] Finished trial#336 with value: 0.7388888888888889 with parameters: {'n_estimators': 485, 'max_depth': 9, 'min_child_weight': 17, 'learning_rate': 0.081, 'subsample': 0.9, 'reg_lambda': 0.23900000000000002, 'reg_alpha': 0.775, 'colsample_bytree': 0.9}. Best is trial#281 with value: 0.7722222222222223.\n",
      "[I 2020-05-15 22:26:29,709] Finished trial#337 with value: 0.75 with parameters: {'n_estimators': 534, 'max_depth': 25, 'min_child_weight': 16, 'learning_rate': 0.085, 'subsample': 0.9, 'reg_lambda': 0.381, 'reg_alpha': 0.544, 'colsample_bytree': 0.9}. Best is trial#281 with value: 0.7722222222222223.\n",
      "[I 2020-05-15 22:26:30,385] Finished trial#338 with value: 0.7388888888888889 with parameters: {'n_estimators': 464, 'max_depth': 7, 'min_child_weight': 15, 'learning_rate': 0.07100000000000001, 'subsample': 0.9, 'reg_lambda': 0.395, 'reg_alpha': 0.912, 'colsample_bytree': 0.9}. Best is trial#281 with value: 0.7722222222222223.\n",
      "[I 2020-05-15 22:26:31,171] Finished trial#339 with value: 0.7444444444444445 with parameters: {'n_estimators': 520, 'max_depth': 23, 'min_child_weight': 17, 'learning_rate': 0.08800000000000001, 'subsample': 0.9, 'reg_lambda': 0.395, 'reg_alpha': 0.6970000000000001, 'colsample_bytree': 0.9}. Best is trial#281 with value: 0.7722222222222223.\n",
      "[I 2020-05-15 22:26:32,004] Finished trial#340 with value: 0.7666666666666667 with parameters: {'n_estimators': 549, 'max_depth': 10, 'min_child_weight': 16, 'learning_rate': 0.106, 'subsample': 0.9, 'reg_lambda': 0.4, 'reg_alpha': 0.883, 'colsample_bytree': 0.9}. Best is trial#281 with value: 0.7722222222222223.\n",
      "[I 2020-05-15 22:26:32,824] Finished trial#341 with value: 0.7666666666666667 with parameters: {'n_estimators': 564, 'max_depth': 6, 'min_child_weight': 16, 'learning_rate': 0.099, 'subsample': 0.9, 'reg_lambda': 0.365, 'reg_alpha': 0.869, 'colsample_bytree': 0.9}. Best is trial#281 with value: 0.7722222222222223.\n",
      "[I 2020-05-15 22:26:33,556] Finished trial#342 with value: 0.7611111111111111 with parameters: {'n_estimators': 559, 'max_depth': 6, 'min_child_weight': 16, 'learning_rate': 0.10200000000000001, 'subsample': 0.9, 'reg_lambda': 0.353, 'reg_alpha': 0.877, 'colsample_bytree': 0.9}. Best is trial#281 with value: 0.7722222222222223.\n",
      "[I 2020-05-15 22:26:34,293] Finished trial#343 with value: 0.7277777777777777 with parameters: {'n_estimators': 580, 'max_depth': 9, 'min_child_weight': 17, 'learning_rate': 0.061, 'subsample': 0.9, 'reg_lambda': 0.39, 'reg_alpha': 0.903, 'colsample_bytree': 0.9}. Best is trial#281 with value: 0.7722222222222223.\n",
      "[I 2020-05-15 22:26:35,201] Finished trial#344 with value: 0.7611111111111111 with parameters: {'n_estimators': 600, 'max_depth': 10, 'min_child_weight': 16, 'learning_rate': 0.09, 'subsample': 0.9, 'reg_lambda': 0.253, 'reg_alpha': 0.802, 'colsample_bytree': 0.9}. Best is trial#281 with value: 0.7722222222222223.\n",
      "[I 2020-05-15 22:26:36,073] Finished trial#345 with value: 0.7555555555555555 with parameters: {'n_estimators': 609, 'max_depth': 11, 'min_child_weight': 16, 'learning_rate': 0.093, 'subsample': 0.9, 'reg_lambda': 0.263, 'reg_alpha': 0.874, 'colsample_bytree': 0.9}. Best is trial#281 with value: 0.7722222222222223.\n",
      "[I 2020-05-15 22:26:37,012] Finished trial#346 with value: 0.7611111111111111 with parameters: {'n_estimators': 537, 'max_depth': 24, 'min_child_weight': 16, 'learning_rate': 0.097, 'subsample': 0.9, 'reg_lambda': 0.378, 'reg_alpha': 0.89, 'colsample_bytree': 0.9}. Best is trial#281 with value: 0.7722222222222223.\n",
      "[I 2020-05-15 22:26:37,765] Finished trial#347 with value: 0.7444444444444445 with parameters: {'n_estimators': 570, 'max_depth': 6, 'min_child_weight': 17, 'learning_rate': 0.098, 'subsample': 0.9, 'reg_lambda': 0.366, 'reg_alpha': 0.855, 'colsample_bytree': 0.9}. Best is trial#281 with value: 0.7722222222222223.\n",
      "[I 2020-05-15 22:26:38,556] Finished trial#348 with value: 0.7222222222222222 with parameters: {'n_estimators': 627, 'max_depth': 23, 'min_child_weight': 15, 'learning_rate': 0.115, 'subsample': 0.9, 'reg_lambda': 0.9580000000000001, 'reg_alpha': 0.232, 'colsample_bytree': 0.9}. Best is trial#281 with value: 0.7722222222222223.\n",
      "[I 2020-05-15 22:26:39,277] Finished trial#349 with value: 0.75 with parameters: {'n_estimators': 553, 'max_depth': 10, 'min_child_weight': 16, 'learning_rate': 0.085, 'subsample': 0.9, 'reg_lambda': 0.328, 'reg_alpha': 0.271, 'colsample_bytree': 0.9}. Best is trial#281 with value: 0.7722222222222223.\n",
      "[I 2020-05-15 22:26:39,976] Finished trial#350 with value: 0.7388888888888889 with parameters: {'n_estimators': 536, 'max_depth': 8, 'min_child_weight': 17, 'learning_rate': 0.064, 'subsample': 0.9, 'reg_lambda': 0.439, 'reg_alpha': 0.254, 'colsample_bytree': 0.9}. Best is trial#281 with value: 0.7722222222222223.\n"
     ]
    },
    {
     "name": "stderr",
     "output_type": "stream",
     "text": [
      "[I 2020-05-15 22:26:40,716] Finished trial#351 with value: 0.7555555555555555 with parameters: {'n_estimators': 516, 'max_depth': 21, 'min_child_weight': 16, 'learning_rate': 0.091, 'subsample': 0.9, 'reg_lambda': 0.419, 'reg_alpha': 0.923, 'colsample_bytree': 0.9}. Best is trial#281 with value: 0.7722222222222223.\n",
      "[I 2020-05-15 22:26:41,476] Finished trial#352 with value: 0.75 with parameters: {'n_estimators': 570, 'max_depth': 22, 'min_child_weight': 15, 'learning_rate': 0.108, 'subsample': 0.9, 'reg_lambda': 0.444, 'reg_alpha': 0.91, 'colsample_bytree': 0.9}. Best is trial#281 with value: 0.7722222222222223.\n",
      "[I 2020-05-15 22:26:42,240] Finished trial#353 with value: 0.75 with parameters: {'n_estimators': 509, 'max_depth': 8, 'min_child_weight': 16, 'learning_rate': 0.085, 'subsample': 0.9, 'reg_lambda': 0.279, 'reg_alpha': 0.222, 'colsample_bytree': 0.9}. Best is trial#281 with value: 0.7722222222222223.\n",
      "[I 2020-05-15 22:26:43,038] Finished trial#354 with value: 0.7611111111111111 with parameters: {'n_estimators': 531, 'max_depth': 9, 'min_child_weight': 16, 'learning_rate': 0.079, 'subsample': 0.9, 'reg_lambda': 0.138, 'reg_alpha': 0.588, 'colsample_bytree': 0.9}. Best is trial#281 with value: 0.7722222222222223.\n",
      "[I 2020-05-15 22:26:43,778] Finished trial#355 with value: 0.7444444444444445 with parameters: {'n_estimators': 543, 'max_depth': 9, 'min_child_weight': 16, 'learning_rate': 0.067, 'subsample': 0.9, 'reg_lambda': 0.166, 'reg_alpha': 0.343, 'colsample_bytree': 0.9}. Best is trial#281 with value: 0.7722222222222223.\n",
      "[I 2020-05-15 22:26:44,516] Finished trial#356 with value: 0.7666666666666667 with parameters: {'n_estimators': 554, 'max_depth': 8, 'min_child_weight': 16, 'learning_rate': 0.08700000000000001, 'subsample': 0.9, 'reg_lambda': 0.293, 'reg_alpha': 0.267, 'colsample_bytree': 0.9}. Best is trial#281 with value: 0.7722222222222223.\n",
      "[I 2020-05-15 22:26:45,495] Finished trial#357 with value: 0.7111111111111111 with parameters: {'n_estimators': 553, 'max_depth': 22, 'min_child_weight': 8, 'learning_rate': 0.065, 'subsample': 0.9, 'reg_lambda': 0.403, 'reg_alpha': 0.169, 'colsample_bytree': 0.9}. Best is trial#281 with value: 0.7722222222222223.\n",
      "[I 2020-05-15 22:26:46,324] Finished trial#358 with value: 0.7555555555555555 with parameters: {'n_estimators': 498, 'max_depth': 7, 'min_child_weight': 17, 'learning_rate': 0.093, 'subsample': 0.9, 'reg_lambda': 0.293, 'reg_alpha': 0.281, 'colsample_bytree': 0.9}. Best is trial#281 with value: 0.7722222222222223.\n",
      "[I 2020-05-15 22:26:47,487] Finished trial#359 with value: 0.75 with parameters: {'n_estimators': 578, 'max_depth': 8, 'min_child_weight': 15, 'learning_rate': 0.10200000000000001, 'subsample': 0.9, 'reg_lambda': 0.321, 'reg_alpha': 0.863, 'colsample_bytree': 0.9}. Best is trial#281 with value: 0.7722222222222223.\n",
      "[I 2020-05-15 22:26:48,560] Finished trial#360 with value: 0.7666666666666667 with parameters: {'n_estimators': 522, 'max_depth': 8, 'min_child_weight': 16, 'learning_rate': 0.08800000000000001, 'subsample': 0.9, 'reg_lambda': 0.34600000000000003, 'reg_alpha': 0.258, 'colsample_bytree': 0.9}. Best is trial#281 with value: 0.7722222222222223.\n",
      "[I 2020-05-15 22:26:49,539] Finished trial#361 with value: 0.7611111111111111 with parameters: {'n_estimators': 560, 'max_depth': 8, 'min_child_weight': 16, 'learning_rate': 0.089, 'subsample': 0.9, 'reg_lambda': 0.34, 'reg_alpha': 0.27, 'colsample_bytree': 0.9}. Best is trial#281 with value: 0.7722222222222223.\n",
      "[I 2020-05-15 22:26:50,510] Finished trial#362 with value: 0.7333333333333333 with parameters: {'n_estimators': 538, 'max_depth': 10, 'min_child_weight': 16, 'learning_rate': 0.167, 'subsample': 0.9, 'reg_lambda': 0.213, 'reg_alpha': 0.24, 'colsample_bytree': 0.9}. Best is trial#281 with value: 0.7722222222222223.\n",
      "[I 2020-05-15 22:26:51,437] Finished trial#363 with value: 0.75 with parameters: {'n_estimators': 518, 'max_depth': 8, 'min_child_weight': 17, 'learning_rate': 0.08600000000000001, 'subsample': 0.9, 'reg_lambda': 0.201, 'reg_alpha': 0.3, 'colsample_bytree': 0.9}. Best is trial#281 with value: 0.7722222222222223.\n",
      "[I 2020-05-15 22:26:52,297] Finished trial#364 with value: 0.7444444444444445 with parameters: {'n_estimators': 499, 'max_depth': 9, 'min_child_weight': 16, 'learning_rate': 0.083, 'subsample': 0.9, 'reg_lambda': 0.32, 'reg_alpha': 0.263, 'colsample_bytree': 0.9}. Best is trial#281 with value: 0.7722222222222223.\n",
      "[I 2020-05-15 22:26:53,150] Finished trial#365 with value: 0.75 with parameters: {'n_estimators': 531, 'max_depth': 9, 'min_child_weight': 16, 'learning_rate': 0.081, 'subsample': 0.9, 'reg_lambda': 0.145, 'reg_alpha': 0.24, 'colsample_bytree': 0.9}. Best is trial#281 with value: 0.7722222222222223.\n",
      "[I 2020-05-15 22:26:54,035] Finished trial#366 with value: 0.7611111111111111 with parameters: {'n_estimators': 516, 'max_depth': 8, 'min_child_weight': 17, 'learning_rate': 0.076, 'subsample': 0.9, 'reg_lambda': 0.359, 'reg_alpha': 0.49, 'colsample_bytree': 0.9}. Best is trial#281 with value: 0.7722222222222223.\n",
      "[I 2020-05-15 22:26:54,828] Finished trial#367 with value: 0.7333333333333333 with parameters: {'n_estimators': 498, 'max_depth': 8, 'min_child_weight': 18, 'learning_rate': 0.076, 'subsample': 0.9, 'reg_lambda': 0.299, 'reg_alpha': 0.62, 'colsample_bytree': 0.9}. Best is trial#281 with value: 0.7722222222222223.\n",
      "[I 2020-05-15 22:26:55,620] Finished trial#368 with value: 0.75 with parameters: {'n_estimators': 566, 'max_depth': 7, 'min_child_weight': 16, 'learning_rate': 0.082, 'subsample': 0.9, 'reg_lambda': 0.192, 'reg_alpha': 0.384, 'colsample_bytree': 0.9}. Best is trial#281 with value: 0.7722222222222223.\n",
      "[I 2020-05-15 22:26:56,400] Finished trial#369 with value: 0.75 with parameters: {'n_estimators': 590, 'max_depth': 7, 'min_child_weight': 16, 'learning_rate': 0.097, 'subsample': 0.9, 'reg_lambda': 0.376, 'reg_alpha': 0.885, 'colsample_bytree': 0.9}. Best is trial#281 with value: 0.7722222222222223.\n",
      "[I 2020-05-15 22:26:57,120] Finished trial#370 with value: 0.7166666666666667 with parameters: {'n_estimators': 486, 'max_depth': 7, 'min_child_weight': 16, 'learning_rate': 0.092, 'subsample': 0.6, 'reg_lambda': 0.40900000000000003, 'reg_alpha': 0.201, 'colsample_bytree': 0.9}. Best is trial#281 with value: 0.7722222222222223.\n",
      "[I 2020-05-15 22:26:57,849] Finished trial#371 with value: 0.7333333333333333 with parameters: {'n_estimators': 577, 'max_depth': 11, 'min_child_weight': 16, 'learning_rate': 0.112, 'subsample': 0.9, 'reg_lambda': 0.246, 'reg_alpha': 0.809, 'colsample_bytree': 0.9}. Best is trial#281 with value: 0.7722222222222223.\n",
      "[I 2020-05-15 22:26:58,761] Finished trial#372 with value: 0.7277777777777777 with parameters: {'n_estimators': 633, 'max_depth': 8, 'min_child_weight': 17, 'learning_rate': 0.10500000000000001, 'subsample': 0.9, 'reg_lambda': 0.186, 'reg_alpha': 0.255, 'colsample_bytree': 0.9}. Best is trial#281 with value: 0.7722222222222223.\n",
      "[I 2020-05-15 22:26:59,559] Finished trial#373 with value: 0.7611111111111111 with parameters: {'n_estimators': 483, 'max_depth': 7, 'min_child_weight': 16, 'learning_rate': 0.078, 'subsample': 0.9, 'reg_lambda': 0.245, 'reg_alpha': 0.862, 'colsample_bytree': 0.9}. Best is trial#281 with value: 0.7722222222222223.\n",
      "[I 2020-05-15 22:26:59,943] Finished trial#374 with value: 0.7 with parameters: {'n_estimators': 72, 'max_depth': 2, 'min_child_weight': 17, 'learning_rate': 0.08800000000000001, 'subsample': 0.9, 'reg_lambda': 0.34400000000000003, 'reg_alpha': 0.294, 'colsample_bytree': 0.9}. Best is trial#281 with value: 0.7722222222222223.\n",
      "[I 2020-05-15 22:27:00,654] Finished trial#375 with value: 0.7444444444444445 with parameters: {'n_estimators': 545, 'max_depth': 9, 'min_child_weight': 16, 'learning_rate': 0.08600000000000001, 'subsample': 0.9, 'reg_lambda': 0.289, 'reg_alpha': 0.23900000000000002, 'colsample_bytree': 0.9}. Best is trial#281 with value: 0.7722222222222223.\n"
     ]
    },
    {
     "name": "stderr",
     "output_type": "stream",
     "text": [
      "[I 2020-05-15 22:27:01,355] Finished trial#376 with value: 0.7722222222222223 with parameters: {'n_estimators': 516, 'max_depth': 8, 'min_child_weight': 16, 'learning_rate': 0.089, 'subsample': 0.9, 'reg_lambda': 0.263, 'reg_alpha': 0.772, 'colsample_bytree': 0.9}. Best is trial#281 with value: 0.7722222222222223.\n",
      "[I 2020-05-15 22:27:02,084] Finished trial#377 with value: 0.7444444444444445 with parameters: {'n_estimators': 516, 'max_depth': 10, 'min_child_weight': 17, 'learning_rate': 0.076, 'subsample': 0.9, 'reg_lambda': 0.272, 'reg_alpha': 0.774, 'colsample_bytree': 0.9}. Best is trial#281 with value: 0.7722222222222223.\n",
      "[I 2020-05-15 22:27:02,813] Finished trial#378 with value: 0.75 with parameters: {'n_estimators': 528, 'max_depth': 8, 'min_child_weight': 16, 'learning_rate': 0.084, 'subsample': 0.9, 'reg_lambda': 0.23, 'reg_alpha': 0.267, 'colsample_bytree': 0.9}. Best is trial#281 with value: 0.7722222222222223.\n",
      "[I 2020-05-15 22:27:03,522] Finished trial#379 with value: 0.7111111111111111 with parameters: {'n_estimators': 511, 'max_depth': 6, 'min_child_weight': 15, 'learning_rate': 0.189, 'subsample': 0.9, 'reg_lambda': 0.271, 'reg_alpha': 0.836, 'colsample_bytree': 0.9}. Best is trial#281 with value: 0.7722222222222223.\n",
      "[I 2020-05-15 22:27:04,384] Finished trial#380 with value: 0.7 with parameters: {'n_estimators': 552, 'max_depth': 8, 'min_child_weight': 10, 'learning_rate': 0.095, 'subsample': 0.9, 'reg_lambda': 0.291, 'reg_alpha': 0.224, 'colsample_bytree': 0.9}. Best is trial#281 with value: 0.7722222222222223.\n",
      "[I 2020-05-15 22:27:05,217] Finished trial#381 with value: 0.7555555555555555 with parameters: {'n_estimators': 527, 'max_depth': 25, 'min_child_weight': 15, 'learning_rate': 0.069, 'subsample': 0.9, 'reg_lambda': 0.393, 'reg_alpha': 0.8210000000000001, 'colsample_bytree': 0.9}. Best is trial#281 with value: 0.7722222222222223.\n",
      "[I 2020-05-15 22:27:05,979] Finished trial#382 with value: 0.7555555555555555 with parameters: {'n_estimators': 549, 'max_depth': 9, 'min_child_weight': 16, 'learning_rate': 0.08600000000000001, 'subsample': 0.9, 'reg_lambda': 0.32, 'reg_alpha': 0.182, 'colsample_bytree': 0.9}. Best is trial#281 with value: 0.7722222222222223.\n",
      "[I 2020-05-15 22:27:06,672] Finished trial#383 with value: 0.7388888888888889 with parameters: {'n_estimators': 482, 'max_depth': 20, 'min_child_weight': 17, 'learning_rate': 0.099, 'subsample': 0.9, 'reg_lambda': 0.212, 'reg_alpha': 0.138, 'colsample_bytree': 0.9}. Best is trial#281 with value: 0.7722222222222223.\n",
      "[I 2020-05-15 22:27:07,412] Finished trial#384 with value: 0.7555555555555555 with parameters: {'n_estimators': 502, 'max_depth': 21, 'min_child_weight': 15, 'learning_rate': 0.094, 'subsample': 0.9, 'reg_lambda': 0.334, 'reg_alpha': 0.842, 'colsample_bytree': 0.9}. Best is trial#281 with value: 0.7722222222222223.\n",
      "[I 2020-05-15 22:27:08,165] Finished trial#385 with value: 0.75 with parameters: {'n_estimators': 467, 'max_depth': 37, 'min_child_weight': 15, 'learning_rate': 0.091, 'subsample': 0.9, 'reg_lambda': 0.342, 'reg_alpha': 0.8160000000000001, 'colsample_bytree': 0.8}. Best is trial#281 with value: 0.7722222222222223.\n",
      "[I 2020-05-15 22:27:08,949] Finished trial#386 with value: 0.7444444444444445 with parameters: {'n_estimators': 531, 'max_depth': 19, 'min_child_weight': 16, 'learning_rate': 0.05, 'subsample': 0.9, 'reg_lambda': 0.305, 'reg_alpha': 0.785, 'colsample_bytree': 0.9}. Best is trial#281 with value: 0.7722222222222223.\n",
      "[I 2020-05-15 22:27:09,471] Finished trial#387 with value: 0.7166666666666667 with parameters: {'n_estimators': 282, 'max_depth': 7, 'min_child_weight': 15, 'learning_rate': 0.094, 'subsample': 0.5, 'reg_lambda': 0.358, 'reg_alpha': 0.8280000000000001, 'colsample_bytree': 0.9}. Best is trial#281 with value: 0.7722222222222223.\n",
      "[I 2020-05-15 22:27:10,421] Finished trial#388 with value: 0.7444444444444445 with parameters: {'n_estimators': 505, 'max_depth': 6, 'min_child_weight': 15, 'learning_rate': 0.089, 'subsample': 0.9, 'reg_lambda': 0.382, 'reg_alpha': 0.854, 'colsample_bytree': 0.9}. Best is trial#281 with value: 0.7722222222222223.\n",
      "[I 2020-05-15 22:27:11,393] Finished trial#389 with value: 0.7611111111111111 with parameters: {'n_estimators': 483, 'max_depth': 7, 'min_child_weight': 16, 'learning_rate': 0.078, 'subsample': 0.9, 'reg_lambda': 0.26, 'reg_alpha': 0.793, 'colsample_bytree': 0.9}. Best is trial#281 with value: 0.7722222222222223.\n",
      "[I 2020-05-15 22:27:12,541] Finished trial#390 with value: 0.7611111111111111 with parameters: {'n_estimators': 497, 'max_depth': 8, 'min_child_weight': 16, 'learning_rate': 0.091, 'subsample': 0.9, 'reg_lambda': 0.274, 'reg_alpha': 0.281, 'colsample_bytree': 0.9}. Best is trial#281 with value: 0.7722222222222223.\n",
      "[I 2020-05-15 22:27:13,525] Finished trial#391 with value: 0.7611111111111111 with parameters: {'n_estimators': 598, 'max_depth': 6, 'min_child_weight': 17, 'learning_rate': 0.08800000000000001, 'subsample': 0.9, 'reg_lambda': 0.361, 'reg_alpha': 0.8300000000000001, 'colsample_bytree': 0.9}. Best is trial#281 with value: 0.7722222222222223.\n",
      "[I 2020-05-15 22:27:14,354] Finished trial#392 with value: 0.7333333333333333 with parameters: {'n_estimators': 667, 'max_depth': 7, 'min_child_weight': 17, 'learning_rate': 0.089, 'subsample': 0.9, 'reg_lambda': 0.337, 'reg_alpha': 0.8280000000000001, 'colsample_bytree': 0.9}. Best is trial#281 with value: 0.7722222222222223.\n",
      "[I 2020-05-15 22:27:15,165] Finished trial#393 with value: 0.7611111111111111 with parameters: {'n_estimators': 549, 'max_depth': 9, 'min_child_weight': 16, 'learning_rate': 0.082, 'subsample': 0.9, 'reg_lambda': 0.307, 'reg_alpha': 0.754, 'colsample_bytree': 0.9}. Best is trial#281 with value: 0.7722222222222223.\n",
      "[I 2020-05-15 22:27:16,026] Finished trial#394 with value: 0.7555555555555555 with parameters: {'n_estimators': 551, 'max_depth': 8, 'min_child_weight': 16, 'learning_rate': 0.083, 'subsample': 0.9, 'reg_lambda': 0.265, 'reg_alpha': 0.253, 'colsample_bytree': 0.9}. Best is trial#281 with value: 0.7722222222222223.\n",
      "[I 2020-05-15 22:27:16,788] Finished trial#395 with value: 0.7444444444444445 with parameters: {'n_estimators': 580, 'max_depth': 6, 'min_child_weight': 17, 'learning_rate': 0.1, 'subsample': 0.9, 'reg_lambda': 0.358, 'reg_alpha': 0.87, 'colsample_bytree': 0.9}. Best is trial#281 with value: 0.7722222222222223.\n",
      "[I 2020-05-15 22:27:17,358] Finished trial#396 with value: 0.7166666666666667 with parameters: {'n_estimators': 469, 'max_depth': 1, 'min_child_weight': 11, 'learning_rate': 0.14, 'subsample': 0.9, 'reg_lambda': 0.43, 'reg_alpha': 0.901, 'colsample_bytree': 0.9}. Best is trial#281 with value: 0.7722222222222223.\n",
      "[I 2020-05-15 22:27:18,221] Finished trial#397 with value: 0.75 with parameters: {'n_estimators': 523, 'max_depth': 10, 'min_child_weight': 16, 'learning_rate': 0.095, 'subsample': 0.9, 'reg_lambda': 0.343, 'reg_alpha': 0.231, 'colsample_bytree': 0.9}. Best is trial#281 with value: 0.7722222222222223.\n",
      "[I 2020-05-15 22:27:19,188] Finished trial#398 with value: 0.7444444444444445 with parameters: {'n_estimators': 609, 'max_depth': 8, 'min_child_weight': 16, 'learning_rate': 0.10300000000000001, 'subsample': 0.9, 'reg_lambda': 0.343, 'reg_alpha': 0.802, 'colsample_bytree': 0.9}. Best is trial#281 with value: 0.7722222222222223.\n",
      "[I 2020-05-15 22:27:20,054] Finished trial#399 with value: 0.7444444444444445 with parameters: {'n_estimators': 584, 'max_depth': 7, 'min_child_weight': 16, 'learning_rate': 0.1, 'subsample': 0.9, 'reg_lambda': 0.375, 'reg_alpha': 0.848, 'colsample_bytree': 0.9}. Best is trial#281 with value: 0.7722222222222223.\n",
      "[I 2020-05-15 22:27:21,010] Finished trial#400 with value: 0.7444444444444445 with parameters: {'n_estimators': 604, 'max_depth': 9, 'min_child_weight': 18, 'learning_rate': 0.092, 'subsample': 0.9, 'reg_lambda': 0.234, 'reg_alpha': 0.788, 'colsample_bytree': 0.9}. Best is trial#281 with value: 0.7722222222222223.\n"
     ]
    },
    {
     "name": "stderr",
     "output_type": "stream",
     "text": [
      "[I 2020-05-15 22:27:21,925] Finished trial#401 with value: 0.7722222222222223 with parameters: {'n_estimators': 503, 'max_depth': 10, 'min_child_weight': 16, 'learning_rate': 0.08700000000000001, 'subsample': 0.9, 'reg_lambda': 0.28400000000000003, 'reg_alpha': 0.81, 'colsample_bytree': 0.9}. Best is trial#281 with value: 0.7722222222222223.\n",
      "[I 2020-05-15 22:27:22,664] Finished trial#402 with value: 0.7388888888888889 with parameters: {'n_estimators': 538, 'max_depth': 11, 'min_child_weight': 17, 'learning_rate': 0.159, 'subsample': 0.9, 'reg_lambda': 0.28800000000000003, 'reg_alpha': 0.799, 'colsample_bytree': 0.9}. Best is trial#281 with value: 0.7722222222222223.\n",
      "[I 2020-05-15 22:27:23,410] Finished trial#403 with value: 0.7277777777777777 with parameters: {'n_estimators': 510, 'max_depth': 10, 'min_child_weight': 16, 'learning_rate': 0.04, 'subsample': 0.9, 'reg_lambda': 0.302, 'reg_alpha': 0.20600000000000002, 'colsample_bytree': 0.9}. Best is trial#281 with value: 0.7722222222222223.\n",
      "[I 2020-05-15 22:27:23,976] Finished trial#404 with value: 0.7388888888888889 with parameters: {'n_estimators': 261, 'max_depth': 4, 'min_child_weight': 15, 'learning_rate': 0.111, 'subsample': 0.9, 'reg_lambda': 0.307, 'reg_alpha': 0.837, 'colsample_bytree': 0.9}. Best is trial#281 with value: 0.7722222222222223.\n",
      "[I 2020-05-15 22:27:24,823] Finished trial#405 with value: 0.7555555555555555 with parameters: {'n_estimators': 564, 'max_depth': 8, 'min_child_weight': 16, 'learning_rate': 0.089, 'subsample': 0.9, 'reg_lambda': 0.28800000000000003, 'reg_alpha': 0.319, 'colsample_bytree': 0.9}. Best is trial#281 with value: 0.7722222222222223.\n",
      "[I 2020-05-15 22:27:25,608] Finished trial#406 with value: 0.7388888888888889 with parameters: {'n_estimators': 566, 'max_depth': 10, 'min_child_weight': 16, 'learning_rate': 0.107, 'subsample': 0.9, 'reg_lambda': 0.40800000000000003, 'reg_alpha': 0.306, 'colsample_bytree': 0.9}. Best is trial#281 with value: 0.7722222222222223.\n",
      "[I 2020-05-15 22:27:26,475] Finished trial#407 with value: 0.7444444444444445 with parameters: {'n_estimators': 604, 'max_depth': 12, 'min_child_weight': 17, 'learning_rate': 0.10200000000000001, 'subsample': 0.9, 'reg_lambda': 0.321, 'reg_alpha': 0.766, 'colsample_bytree': 0.9}. Best is trial#281 with value: 0.7722222222222223.\n",
      "[I 2020-05-15 22:27:27,282] Finished trial#408 with value: 0.7555555555555555 with parameters: {'n_estimators': 501, 'max_depth': 12, 'min_child_weight': 16, 'learning_rate': 0.106, 'subsample': 0.9, 'reg_lambda': 0.246, 'reg_alpha': 0.876, 'colsample_bytree': 0.9}. Best is trial#281 with value: 0.7722222222222223.\n",
      "[I 2020-05-15 22:27:27,991] Finished trial#409 with value: 0.7666666666666667 with parameters: {'n_estimators': 479, 'max_depth': 7, 'min_child_weight': 16, 'learning_rate': 0.08700000000000001, 'subsample': 0.9, 'reg_lambda': 0.28200000000000003, 'reg_alpha': 0.85, 'colsample_bytree': 0.9}. Best is trial#281 with value: 0.7722222222222223.\n",
      "[I 2020-05-15 22:27:28,696] Finished trial#410 with value: 0.7611111111111111 with parameters: {'n_estimators': 490, 'max_depth': 7, 'min_child_weight': 16, 'learning_rate': 0.08800000000000001, 'subsample': 0.9, 'reg_lambda': 0.28, 'reg_alpha': 0.274, 'colsample_bytree': 0.9}. Best is trial#281 with value: 0.7722222222222223.\n",
      "[I 2020-05-15 22:27:29,213] Finished trial#411 with value: 0.7333333333333333 with parameters: {'n_estimators': 213, 'max_depth': 9, 'min_child_weight': 15, 'learning_rate': 0.07200000000000001, 'subsample': 0.9, 'reg_lambda': 0.171, 'reg_alpha': 0.812, 'colsample_bytree': 0.9}. Best is trial#281 with value: 0.7722222222222223.\n",
      "[I 2020-05-15 22:27:29,998] Finished trial#412 with value: 0.7611111111111111 with parameters: {'n_estimators': 472, 'max_depth': 7, 'min_child_weight': 15, 'learning_rate': 0.11, 'subsample': 0.9, 'reg_lambda': 0.385, 'reg_alpha': 0.848, 'colsample_bytree': 0.9}. Best is trial#281 with value: 0.7722222222222223.\n",
      "[I 2020-05-15 22:27:30,756] Finished trial#413 with value: 0.75 with parameters: {'n_estimators': 523, 'max_depth': 15, 'min_child_weight': 16, 'learning_rate': 0.095, 'subsample': 0.9, 'reg_lambda': 0.222, 'reg_alpha': 0.8150000000000001, 'colsample_bytree': 0.9}. Best is trial#281 with value: 0.7722222222222223.\n",
      "[I 2020-05-15 22:27:31,473] Finished trial#414 with value: 0.7444444444444445 with parameters: {'n_estimators': 496, 'max_depth': 8, 'min_child_weight': 17, 'learning_rate': 0.08, 'subsample': 0.9, 'reg_lambda': 0.127, 'reg_alpha': 0.859, 'colsample_bytree': 0.9}. Best is trial#281 with value: 0.7722222222222223.\n",
      "[I 2020-05-15 22:27:32,358] Finished trial#415 with value: 0.7555555555555555 with parameters: {'n_estimators': 522, 'max_depth': 24, 'min_child_weight': 15, 'learning_rate': 0.085, 'subsample': 0.9, 'reg_lambda': 0.332, 'reg_alpha': 0.442, 'colsample_bytree': 0.9}. Best is trial#281 with value: 0.7722222222222223.\n",
      "[I 2020-05-15 22:27:33,102] Finished trial#416 with value: 0.7611111111111111 with parameters: {'n_estimators': 476, 'max_depth': 9, 'min_child_weight': 16, 'learning_rate': 0.098, 'subsample': 0.9, 'reg_lambda': 0.306, 'reg_alpha': 0.78, 'colsample_bytree': 0.9}. Best is trial#281 with value: 0.7722222222222223.\n",
      "[I 2020-05-15 22:27:33,837] Finished trial#417 with value: 0.7111111111111111 with parameters: {'n_estimators': 541, 'max_depth': 10, 'min_child_weight': 15, 'learning_rate': 0.137, 'subsample': 0.7, 'reg_lambda': 0.622, 'reg_alpha': 0.726, 'colsample_bytree': 0.9}. Best is trial#281 with value: 0.7722222222222223.\n",
      "[I 2020-05-15 22:27:34,583] Finished trial#418 with value: 0.7722222222222223 with parameters: {'n_estimators': 528, 'max_depth': 9, 'min_child_weight': 17, 'learning_rate': 0.085, 'subsample': 0.9, 'reg_lambda': 0.27, 'reg_alpha': 0.24, 'colsample_bytree': 0.9}. Best is trial#281 with value: 0.7722222222222223.\n",
      "[I 2020-05-15 22:27:35,536] Finished trial#419 with value: 0.7333333333333333 with parameters: {'n_estimators': 526, 'max_depth': 23, 'min_child_weight': 18, 'learning_rate': 0.096, 'subsample': 0.9, 'reg_lambda': 0.268, 'reg_alpha': 0.218, 'colsample_bytree': 0.9}. Best is trial#281 with value: 0.7722222222222223.\n",
      "[I 2020-05-15 22:27:36,393] Finished trial#420 with value: 0.7277777777777777 with parameters: {'n_estimators': 510, 'max_depth': 9, 'min_child_weight': 17, 'learning_rate': 0.154, 'subsample': 0.9, 'reg_lambda': 0.257, 'reg_alpha': 0.803, 'colsample_bytree': 0.9}. Best is trial#281 with value: 0.7722222222222223.\n",
      "[I 2020-05-15 22:27:37,260] Finished trial#421 with value: 0.75 with parameters: {'n_estimators': 565, 'max_depth': 11, 'min_child_weight': 17, 'learning_rate': 0.092, 'subsample': 0.9, 'reg_lambda': 0.28700000000000003, 'reg_alpha': 0.251, 'colsample_bytree': 0.9}. Best is trial#281 with value: 0.7722222222222223.\n",
      "[I 2020-05-15 22:27:38,031] Finished trial#422 with value: 0.75 with parameters: {'n_estimators': 488, 'max_depth': 8, 'min_child_weight': 17, 'learning_rate': 0.08, 'subsample': 0.9, 'reg_lambda': 0.24, 'reg_alpha': 0.846, 'colsample_bytree': 0.9}. Best is trial#281 with value: 0.7722222222222223.\n",
      "[I 2020-05-15 22:27:38,731] Finished trial#423 with value: 0.7388888888888889 with parameters: {'n_estimators': 457, 'max_depth': 6, 'min_child_weight': 18, 'learning_rate': 0.08600000000000001, 'subsample': 0.9, 'reg_lambda': 0.359, 'reg_alpha': 0.243, 'colsample_bytree': 0.9}. Best is trial#281 with value: 0.7722222222222223.\n",
      "[I 2020-05-15 22:27:39,481] Finished trial#424 with value: 0.75 with parameters: {'n_estimators': 541, 'max_depth': 26, 'min_child_weight': 17, 'learning_rate': 0.093, 'subsample': 0.9, 'reg_lambda': 0.314, 'reg_alpha': 0.8280000000000001, 'colsample_bytree': 0.9}. Best is trial#281 with value: 0.7722222222222223.\n",
      "[I 2020-05-15 22:27:39,952] Finished trial#425 with value: 0.7166666666666667 with parameters: {'n_estimators': 158, 'max_depth': 7, 'min_child_weight': 16, 'learning_rate': 0.083, 'subsample': 0.9, 'reg_lambda': 0.271, 'reg_alpha': 0.211, 'colsample_bytree': 0.9}. Best is trial#281 with value: 0.7722222222222223.\n"
     ]
    },
    {
     "name": "stderr",
     "output_type": "stream",
     "text": [
      "[I 2020-05-15 22:27:40,443] Finished trial#426 with value: 0.7222222222222222 with parameters: {'n_estimators': 124, 'max_depth': 8, 'min_child_weight': 16, 'learning_rate': 0.08700000000000001, 'subsample': 0.9, 'reg_lambda': 0.342, 'reg_alpha': 0.8270000000000001, 'colsample_bytree': 0.9}. Best is trial#281 with value: 0.7722222222222223.\n",
      "[I 2020-05-15 22:27:41,193] Finished trial#427 with value: 0.7444444444444445 with parameters: {'n_estimators': 580, 'max_depth': 7, 'min_child_weight': 18, 'learning_rate': 0.08700000000000001, 'subsample': 0.9, 'reg_lambda': 0.294, 'reg_alpha': 0.85, 'colsample_bytree': 0.9}. Best is trial#281 with value: 0.7722222222222223.\n",
      "[I 2020-05-15 22:27:41,918] Finished trial#428 with value: 0.75 with parameters: {'n_estimators': 516, 'max_depth': 6, 'min_child_weight': 16, 'learning_rate': 0.09, 'subsample': 0.9, 'reg_lambda': 0.393, 'reg_alpha': 0.868, 'colsample_bytree': 0.9}. Best is trial#281 with value: 0.7722222222222223.\n",
      "[I 2020-05-15 22:27:42,711] Finished trial#429 with value: 0.7611111111111111 with parameters: {'n_estimators': 537, 'max_depth': 29, 'min_child_weight': 16, 'learning_rate': 0.099, 'subsample': 0.9, 'reg_lambda': 0.377, 'reg_alpha': 0.9, 'colsample_bytree': 0.9}. Best is trial#281 with value: 0.7722222222222223.\n",
      "[I 2020-05-15 22:27:43,545] Finished trial#430 with value: 0.7388888888888889 with parameters: {'n_estimators': 550, 'max_depth': 10, 'min_child_weight': 17, 'learning_rate': 0.09, 'subsample': 0.9, 'reg_lambda': 0.324, 'reg_alpha': 0.8170000000000001, 'colsample_bytree': 0.9}. Best is trial#281 with value: 0.7722222222222223.\n",
      "[I 2020-05-15 22:27:44,304] Finished trial#431 with value: 0.7555555555555555 with parameters: {'n_estimators': 523, 'max_depth': 26, 'min_child_weight': 16, 'learning_rate': 0.084, 'subsample': 0.9, 'reg_lambda': 0.342, 'reg_alpha': 0.812, 'colsample_bytree': 0.9}. Best is trial#281 with value: 0.7722222222222223.\n",
      "[I 2020-05-15 22:27:45,056] Finished trial#432 with value: 0.7555555555555555 with parameters: {'n_estimators': 499, 'max_depth': 9, 'min_child_weight': 15, 'learning_rate': 0.095, 'subsample': 0.9, 'reg_lambda': 0.812, 'reg_alpha': 0.189, 'colsample_bytree': 0.9}. Best is trial#281 with value: 0.7722222222222223.\n",
      "[I 2020-05-15 22:27:45,839] Finished trial#433 with value: 0.7444444444444445 with parameters: {'n_estimators': 490, 'max_depth': 8, 'min_child_weight': 17, 'learning_rate': 0.082, 'subsample': 0.9, 'reg_lambda': 0.25, 'reg_alpha': 0.754, 'colsample_bytree': 0.9}. Best is trial#281 with value: 0.7722222222222223.\n",
      "[I 2020-05-15 22:27:46,605] Finished trial#434 with value: 0.7444444444444445 with parameters: {'n_estimators': 582, 'max_depth': 9, 'min_child_weight': 17, 'learning_rate': 0.085, 'subsample': 0.9, 'reg_lambda': 0.275, 'reg_alpha': 0.834, 'colsample_bytree': 0.9}. Best is trial#281 with value: 0.7722222222222223.\n",
      "[I 2020-05-15 22:27:47,338] Finished trial#435 with value: 0.7388888888888889 with parameters: {'n_estimators': 503, 'max_depth': 8, 'min_child_weight': 18, 'learning_rate': 0.08, 'subsample': 0.9, 'reg_lambda': 0.363, 'reg_alpha': 0.855, 'colsample_bytree': 0.9}. Best is trial#281 with value: 0.7722222222222223.\n",
      "[I 2020-05-15 22:27:48,574] Finished trial#436 with value: 0.7111111111111111 with parameters: {'n_estimators': 995, 'max_depth': 7, 'min_child_weight': 16, 'learning_rate': 0.09, 'subsample': 0.9, 'reg_lambda': 0.26, 'reg_alpha': 0.258, 'colsample_bytree': 0.9}. Best is trial#281 with value: 0.7722222222222223.\n",
      "[I 2020-05-15 22:27:49,310] Finished trial#437 with value: 0.7611111111111111 with parameters: {'n_estimators': 479, 'max_depth': 6, 'min_child_weight': 16, 'learning_rate': 0.076, 'subsample': 0.9, 'reg_lambda': 0.316, 'reg_alpha': 0.862, 'colsample_bytree': 0.9}. Best is trial#281 with value: 0.7722222222222223.\n",
      "[I 2020-05-15 22:27:50,038] Finished trial#438 with value: 0.7611111111111111 with parameters: {'n_estimators': 500, 'max_depth': 7, 'min_child_weight': 16, 'learning_rate': 0.08700000000000001, 'subsample': 0.9, 'reg_lambda': 0.23500000000000001, 'reg_alpha': 0.229, 'colsample_bytree': 0.9}. Best is trial#281 with value: 0.7722222222222223.\n",
      "[I 2020-05-15 22:27:50,731] Finished trial#439 with value: 0.75 with parameters: {'n_estimators': 465, 'max_depth': 6, 'min_child_weight': 15, 'learning_rate': 0.081, 'subsample': 0.9, 'reg_lambda': 0.369, 'reg_alpha': 0.848, 'colsample_bytree': 0.9}. Best is trial#281 with value: 0.7722222222222223.\n",
      "[I 2020-05-15 22:27:51,477] Finished trial#440 with value: 0.7666666666666667 with parameters: {'n_estimators': 446, 'max_depth': 11, 'min_child_weight': 15, 'learning_rate': 0.092, 'subsample': 0.9, 'reg_lambda': 0.303, 'reg_alpha': 0.884, 'colsample_bytree': 0.9}. Best is trial#281 with value: 0.7722222222222223.\n",
      "[I 2020-05-15 22:27:52,197] Finished trial#441 with value: 0.7555555555555555 with parameters: {'n_estimators': 525, 'max_depth': 10, 'min_child_weight': 16, 'learning_rate': 0.093, 'subsample': 0.9, 'reg_lambda': 0.303, 'reg_alpha': 0.88, 'colsample_bytree': 0.9}. Best is trial#281 with value: 0.7722222222222223.\n",
      "[I 2020-05-15 22:27:53,063] Finished trial#442 with value: 0.7666666666666667 with parameters: {'n_estimators': 457, 'max_depth': 11, 'min_child_weight': 15, 'learning_rate': 0.091, 'subsample': 0.9, 'reg_lambda': 0.29, 'reg_alpha': 0.836, 'colsample_bytree': 0.9}. Best is trial#281 with value: 0.7722222222222223.\n",
      "[I 2020-05-15 22:27:53,943] Finished trial#443 with value: 0.7611111111111111 with parameters: {'n_estimators': 451, 'max_depth': 13, 'min_child_weight': 15, 'learning_rate': 0.095, 'subsample': 0.9, 'reg_lambda': 0.29, 'reg_alpha': 0.87, 'colsample_bytree': 0.9}. Best is trial#281 with value: 0.7722222222222223.\n",
      "[I 2020-05-15 22:27:54,852] Finished trial#444 with value: 0.7555555555555555 with parameters: {'n_estimators': 472, 'max_depth': 11, 'min_child_weight': 15, 'learning_rate': 0.091, 'subsample': 0.9, 'reg_lambda': 0.277, 'reg_alpha': 0.147, 'colsample_bytree': 0.9}. Best is trial#281 with value: 0.7722222222222223.\n",
      "[I 2020-05-15 22:27:55,640] Finished trial#445 with value: 0.7388888888888889 with parameters: {'n_estimators': 446, 'max_depth': 13, 'min_child_weight': 15, 'learning_rate': 0.096, 'subsample': 0.9, 'reg_lambda': 0.299, 'reg_alpha': 0.847, 'colsample_bytree': 0.9}. Best is trial#281 with value: 0.7722222222222223.\n",
      "[I 2020-05-15 22:27:56,447] Finished trial#446 with value: 0.7611111111111111 with parameters: {'n_estimators': 478, 'max_depth': 12, 'min_child_weight': 16, 'learning_rate': 0.099, 'subsample': 0.9, 'reg_lambda': 0.305, 'reg_alpha': 0.838, 'colsample_bytree': 0.9}. Best is trial#281 with value: 0.7722222222222223.\n",
      "[I 2020-05-15 22:27:57,189] Finished trial#447 with value: 0.75 with parameters: {'n_estimators': 452, 'max_depth': 10, 'min_child_weight': 16, 'learning_rate': 0.093, 'subsample': 0.9, 'reg_lambda': 0.332, 'reg_alpha': 0.889, 'colsample_bytree': 0.9}. Best is trial#281 with value: 0.7722222222222223.\n",
      "[I 2020-05-15 22:27:57,896] Finished trial#448 with value: 0.75 with parameters: {'n_estimators': 475, 'max_depth': 11, 'min_child_weight': 15, 'learning_rate': 0.116, 'subsample': 0.9, 'reg_lambda': 0.28200000000000003, 'reg_alpha': 0.842, 'colsample_bytree': 0.9}. Best is trial#281 with value: 0.7722222222222223.\n",
      "[I 2020-05-15 22:27:58,922] Finished trial#449 with value: 0.7 with parameters: {'n_estimators': 507, 'max_depth': 11, 'min_child_weight': 1, 'learning_rate': 0.08700000000000001, 'subsample': 0.9, 'reg_lambda': 0.32, 'reg_alpha': 0.875, 'colsample_bytree': 0.9}. Best is trial#281 with value: 0.7722222222222223.\n",
      "[I 2020-05-15 22:27:59,825] Finished trial#450 with value: 0.75 with parameters: {'n_estimators': 554, 'max_depth': 11, 'min_child_weight': 15, 'learning_rate': 0.098, 'subsample': 0.9, 'reg_lambda': 0.394, 'reg_alpha': 0.869, 'colsample_bytree': 0.9}. Best is trial#281 with value: 0.7722222222222223.\n"
     ]
    },
    {
     "name": "stderr",
     "output_type": "stream",
     "text": [
      "[I 2020-05-15 22:28:00,860] Finished trial#451 with value: 0.7388888888888889 with parameters: {'n_estimators': 881, 'max_depth': 9, 'min_child_weight': 17, 'learning_rate': 0.084, 'subsample': 0.9, 'reg_lambda': 0.24, 'reg_alpha': 0.8260000000000001, 'colsample_bytree': 0.9}. Best is trial#281 with value: 0.7722222222222223.\n",
      "[I 2020-05-15 22:28:01,658] Finished trial#452 with value: 0.7611111111111111 with parameters: {'n_estimators': 461, 'max_depth': 10, 'min_child_weight': 15, 'learning_rate': 0.10200000000000001, 'subsample': 0.9, 'reg_lambda': 0.26, 'reg_alpha': 0.795, 'colsample_bytree': 0.9}. Best is trial#281 with value: 0.7722222222222223.\n",
      "[I 2020-05-15 22:28:02,483] Finished trial#453 with value: 0.7444444444444445 with parameters: {'n_estimators': 534, 'max_depth': 12, 'min_child_weight': 16, 'learning_rate': 0.09, 'subsample': 0.9, 'reg_lambda': 0.28500000000000003, 'reg_alpha': 0.5640000000000001, 'colsample_bytree': 0.9}. Best is trial#281 with value: 0.7722222222222223.\n",
      "[I 2020-05-15 22:28:03,267] Finished trial#454 with value: 0.7444444444444445 with parameters: {'n_estimators': 562, 'max_depth': 10, 'min_child_weight': 16, 'learning_rate': 0.085, 'subsample': 0.9, 'reg_lambda': 0.322, 'reg_alpha': 0.20700000000000002, 'colsample_bytree': 0.9}. Best is trial#281 with value: 0.7722222222222223.\n",
      "[I 2020-05-15 22:28:04,028] Finished trial#455 with value: 0.7611111111111111 with parameters: {'n_estimators': 514, 'max_depth': 9, 'min_child_weight': 15, 'learning_rate': 0.095, 'subsample': 0.9, 'reg_lambda': 0.405, 'reg_alpha': 0.884, 'colsample_bytree': 0.9}. Best is trial#281 with value: 0.7722222222222223.\n",
      "[I 2020-05-15 22:28:04,832] Finished trial#456 with value: 0.7444444444444445 with parameters: {'n_estimators': 494, 'max_depth': 9, 'min_child_weight': 16, 'learning_rate': 0.093, 'subsample': 0.9, 'reg_lambda': 0.364, 'reg_alpha': 0.906, 'colsample_bytree': 0.9}. Best is trial#281 with value: 0.7722222222222223.\n",
      "[I 2020-05-15 22:28:05,621] Finished trial#457 with value: 0.7388888888888889 with parameters: {'n_estimators': 513, 'max_depth': 8, 'min_child_weight': 17, 'learning_rate': 0.177, 'subsample': 0.9, 'reg_lambda': 0.35000000000000003, 'reg_alpha': 0.662, 'colsample_bytree': 0.9}. Best is trial#281 with value: 0.7722222222222223.\n",
      "[I 2020-05-15 22:28:06,326] Finished trial#458 with value: 0.7555555555555555 with parameters: {'n_estimators': 442, 'max_depth': 10, 'min_child_weight': 15, 'learning_rate': 0.098, 'subsample': 0.9, 'reg_lambda': 0.397, 'reg_alpha': 0.856, 'colsample_bytree': 0.9}. Best is trial#281 with value: 0.7722222222222223.\n",
      "[I 2020-05-15 22:28:06,920] Finished trial#459 with value: 0.7055555555555556 with parameters: {'n_estimators': 230, 'max_depth': 9, 'min_child_weight': 6, 'learning_rate': 0.09, 'subsample': 0.9, 'reg_lambda': 0.099, 'reg_alpha': 0.835, 'colsample_bytree': 0.9}. Best is trial#281 with value: 0.7722222222222223.\n",
      "[I 2020-05-15 22:28:07,695] Finished trial#460 with value: 0.7555555555555555 with parameters: {'n_estimators': 480, 'max_depth': 7, 'min_child_weight': 16, 'learning_rate': 0.08600000000000001, 'subsample': 0.9, 'reg_lambda': 0.194, 'reg_alpha': 0.855, 'colsample_bytree': 0.9}. Best is trial#281 with value: 0.7722222222222223.\n",
      "[I 2020-05-15 22:28:08,478] Finished trial#461 with value: 0.7666666666666667 with parameters: {'n_estimators': 547, 'max_depth': 9, 'min_child_weight': 16, 'learning_rate': 0.08700000000000001, 'subsample': 0.9, 'reg_lambda': 0.306, 'reg_alpha': 0.754, 'colsample_bytree': 0.9}. Best is trial#281 with value: 0.7722222222222223.\n",
      "[I 2020-05-15 22:28:09,233] Finished trial#462 with value: 0.7555555555555555 with parameters: {'n_estimators': 538, 'max_depth': 11, 'min_child_weight': 17, 'learning_rate': 0.089, 'subsample': 0.9, 'reg_lambda': 0.299, 'reg_alpha': 0.746, 'colsample_bytree': 0.9}. Best is trial#281 with value: 0.7722222222222223.\n",
      "[I 2020-05-15 22:28:10,088] Finished trial#463 with value: 0.7611111111111111 with parameters: {'n_estimators': 558, 'max_depth': 12, 'min_child_weight': 16, 'learning_rate': 0.093, 'subsample': 0.9, 'reg_lambda': 0.317, 'reg_alpha': 0.771, 'colsample_bytree': 0.9}. Best is trial#281 with value: 0.7722222222222223.\n",
      "[I 2020-05-15 22:28:10,946] Finished trial#464 with value: 0.7388888888888889 with parameters: {'n_estimators': 568, 'max_depth': 9, 'min_child_weight': 15, 'learning_rate': 0.08700000000000001, 'subsample': 0.9, 'reg_lambda': 0.267, 'reg_alpha': 0.711, 'colsample_bytree': 0.8}. Best is trial#281 with value: 0.7722222222222223.\n",
      "[I 2020-05-15 22:28:11,728] Finished trial#465 with value: 0.7388888888888889 with parameters: {'n_estimators': 546, 'max_depth': 10, 'min_child_weight': 16, 'learning_rate': 0.083, 'subsample': 0.9, 'reg_lambda': 0.309, 'reg_alpha': 0.091, 'colsample_bytree': 0.9}. Best is trial#281 with value: 0.7722222222222223.\n",
      "[I 2020-05-15 22:28:12,491] Finished trial#466 with value: 0.7611111111111111 with parameters: {'n_estimators': 519, 'max_depth': 8, 'min_child_weight': 16, 'learning_rate': 0.094, 'subsample': 0.9, 'reg_lambda': 0.333, 'reg_alpha': 0.783, 'colsample_bytree': 0.9}. Best is trial#281 with value: 0.7722222222222223.\n",
      "[I 2020-05-15 22:28:13,258] Finished trial#467 with value: 0.75 with parameters: {'n_estimators': 497, 'max_depth': 9, 'min_child_weight': 17, 'learning_rate': 0.09, 'subsample': 0.9, 'reg_lambda': 0.279, 'reg_alpha': 0.28400000000000003, 'colsample_bytree': 0.9}. Best is trial#281 with value: 0.7722222222222223.\n",
      "[I 2020-05-15 22:28:14,012] Finished trial#468 with value: 0.7611111111111111 with parameters: {'n_estimators': 546, 'max_depth': 8, 'min_child_weight': 16, 'learning_rate': 0.098, 'subsample': 0.9, 'reg_lambda': 0.29, 'reg_alpha': 0.811, 'colsample_bytree': 0.9}. Best is trial#281 with value: 0.7722222222222223.\n",
      "[I 2020-05-15 22:28:14,793] Finished trial#469 with value: 0.7444444444444445 with parameters: {'n_estimators': 575, 'max_depth': 9, 'min_child_weight': 17, 'learning_rate': 0.08600000000000001, 'subsample': 0.9, 'reg_lambda': 0.329, 'reg_alpha': 0.793, 'colsample_bytree': 0.9}. Best is trial#281 with value: 0.7722222222222223.\n",
      "[I 2020-05-15 22:28:15,574] Finished trial#470 with value: 0.7555555555555555 with parameters: {'n_estimators': 526, 'max_depth': 10, 'min_child_weight': 15, 'learning_rate': 0.091, 'subsample': 0.9, 'reg_lambda': 0.353, 'reg_alpha': 0.23900000000000002, 'colsample_bytree': 0.9}. Best is trial#281 with value: 0.7722222222222223.\n",
      "[I 2020-05-15 22:28:16,352] Finished trial#471 with value: 0.7611111111111111 with parameters: {'n_estimators': 487, 'max_depth': 8, 'min_child_weight': 16, 'learning_rate': 0.083, 'subsample': 0.9, 'reg_lambda': 0.261, 'reg_alpha': 0.768, 'colsample_bytree': 0.9}. Best is trial#281 with value: 0.7722222222222223.\n",
      "[I 2020-05-15 22:28:17,069] Finished trial#472 with value: 0.75 with parameters: {'n_estimators': 505, 'max_depth': 8, 'min_child_weight': 16, 'learning_rate': 0.096, 'subsample': 0.9, 'reg_lambda': 0.306, 'reg_alpha': 0.8160000000000001, 'colsample_bytree': 0.9}. Best is trial#281 with value: 0.7722222222222223.\n",
      "[I 2020-05-15 22:28:17,810] Finished trial#473 with value: 0.7388888888888889 with parameters: {'n_estimators': 530, 'max_depth': 7, 'min_child_weight': 15, 'learning_rate': 0.091, 'subsample': 0.9, 'reg_lambda': 0.371, 'reg_alpha': 0.8280000000000001, 'colsample_bytree': 0.9}. Best is trial#281 with value: 0.7722222222222223.\n",
      "[I 2020-05-15 22:28:18,592] Finished trial#474 with value: 0.7388888888888889 with parameters: {'n_estimators': 459, 'max_depth': 8, 'min_child_weight': 16, 'learning_rate': 0.101, 'subsample': 0.9, 'reg_lambda': 0.293, 'reg_alpha': 0.841, 'colsample_bytree': 0.9}. Best is trial#281 with value: 0.7722222222222223.\n",
      "[I 2020-05-15 22:28:19,325] Finished trial#475 with value: 0.75 with parameters: {'n_estimators': 561, 'max_depth': 14, 'min_child_weight': 17, 'learning_rate': 0.08800000000000001, 'subsample': 0.9, 'reg_lambda': 0.34700000000000003, 'reg_alpha': 0.866, 'colsample_bytree': 0.9}. Best is trial#281 with value: 0.7722222222222223.\n"
     ]
    },
    {
     "name": "stderr",
     "output_type": "stream",
     "text": [
      "[I 2020-05-15 22:28:20,039] Finished trial#476 with value: 0.7444444444444445 with parameters: {'n_estimators': 510, 'max_depth': 11, 'min_child_weight': 15, 'learning_rate': 0.08, 'subsample': 0.9, 'reg_lambda': 0.32, 'reg_alpha': 0.223, 'colsample_bytree': 0.9}. Best is trial#281 with value: 0.7722222222222223.\n",
      "[I 2020-05-15 22:28:20,721] Finished trial#477 with value: 0.7555555555555555 with parameters: {'n_estimators': 484, 'max_depth': 7, 'min_child_weight': 16, 'learning_rate': 0.094, 'subsample': 0.9, 'reg_lambda': 0.381, 'reg_alpha': 0.741, 'colsample_bytree': 0.9}. Best is trial#281 with value: 0.7722222222222223.\n",
      "[I 2020-05-15 22:28:21,527] Finished trial#478 with value: 0.7277777777777777 with parameters: {'n_estimators': 462, 'max_depth': 10, 'min_child_weight': 15, 'learning_rate': 0.165, 'subsample': 0.9, 'reg_lambda': 0.257, 'reg_alpha': 0.805, 'colsample_bytree': 0.9}. Best is trial#281 with value: 0.7722222222222223.\n",
      "[I 2020-05-15 22:28:22,337] Finished trial#479 with value: 0.7555555555555555 with parameters: {'n_estimators': 550, 'max_depth': 9, 'min_child_weight': 16, 'learning_rate': 0.084, 'subsample': 0.9, 'reg_lambda': 0.359, 'reg_alpha': 0.891, 'colsample_bytree': 0.9}. Best is trial#281 with value: 0.7722222222222223.\n",
      "[I 2020-05-15 22:28:23,142] Finished trial#480 with value: 0.7333333333333333 with parameters: {'n_estimators': 493, 'max_depth': 7, 'min_child_weight': 17, 'learning_rate': 0.096, 'subsample': 0.9, 'reg_lambda': 0.333, 'reg_alpha': 0.263, 'colsample_bytree': 0.9}. Best is trial#281 with value: 0.7722222222222223.\n",
      "[I 2020-05-15 22:28:24,069] Finished trial#481 with value: 0.7555555555555555 with parameters: {'n_estimators': 529, 'max_depth': 9, 'min_child_weight': 16, 'learning_rate': 0.08800000000000001, 'subsample': 0.9, 'reg_lambda': 0.278, 'reg_alpha': 0.847, 'colsample_bytree': 0.9}. Best is trial#281 with value: 0.7722222222222223.\n",
      "[I 2020-05-15 22:28:24,933] Finished trial#482 with value: 0.7333333333333333 with parameters: {'n_estimators': 579, 'max_depth': 8, 'min_child_weight': 15, 'learning_rate': 0.092, 'subsample': 0.9, 'reg_lambda': 0.381, 'reg_alpha': 0.784, 'colsample_bytree': 0.9}. Best is trial#281 with value: 0.7722222222222223.\n",
      "[I 2020-05-15 22:28:25,603] Finished trial#483 with value: 0.7277777777777777 with parameters: {'n_estimators': 443, 'max_depth': 7, 'min_child_weight': 17, 'learning_rate': 0.1, 'subsample': 0.9, 'reg_lambda': 0.219, 'reg_alpha': 0.8230000000000001, 'colsample_bytree': 0.9}. Best is trial#281 with value: 0.7722222222222223.\n",
      "[I 2020-05-15 22:28:26,248] Finished trial#484 with value: 0.7277777777777777 with parameters: {'n_estimators': 472, 'max_depth': 8, 'min_child_weight': 16, 'learning_rate': 0.2, 'subsample': 0.9, 'reg_lambda': 0.294, 'reg_alpha': 0.876, 'colsample_bytree': 0.9}. Best is trial#281 with value: 0.7722222222222223.\n",
      "[I 2020-05-15 22:28:27,036] Finished trial#485 with value: 0.75 with parameters: {'n_estimators': 506, 'max_depth': 7, 'min_child_weight': 16, 'learning_rate': 0.081, 'subsample': 0.9, 'reg_lambda': 0.42, 'reg_alpha': 0.41100000000000003, 'colsample_bytree': 0.9}. Best is trial#281 with value: 0.7722222222222223.\n",
      "[I 2020-05-15 22:28:27,754] Finished trial#486 with value: 0.75 with parameters: {'n_estimators': 540, 'max_depth': 10, 'min_child_weight': 15, 'learning_rate': 0.08700000000000001, 'subsample': 0.9, 'reg_lambda': 0.358, 'reg_alpha': 0.866, 'colsample_bytree': 0.9}. Best is trial#281 with value: 0.7722222222222223.\n",
      "[I 2020-05-15 22:28:28,446] Finished trial#487 with value: 0.7555555555555555 with parameters: {'n_estimators': 523, 'max_depth': 6, 'min_child_weight': 16, 'learning_rate': 0.097, 'subsample': 0.9, 'reg_lambda': 0.316, 'reg_alpha': 0.846, 'colsample_bytree': 0.9}. Best is trial#281 with value: 0.7722222222222223.\n",
      "[I 2020-05-15 22:28:29,201] Finished trial#488 with value: 0.75 with parameters: {'n_estimators': 493, 'max_depth': 9, 'min_child_weight': 15, 'learning_rate': 0.092, 'subsample': 0.9, 'reg_lambda': 0.404, 'reg_alpha': 0.894, 'colsample_bytree': 0.9}. Best is trial#281 with value: 0.7722222222222223.\n",
      "[I 2020-05-15 22:28:29,851] Finished trial#489 with value: 0.7611111111111111 with parameters: {'n_estimators': 460, 'max_depth': 8, 'min_child_weight': 17, 'learning_rate': 0.10300000000000001, 'subsample': 0.9, 'reg_lambda': 0.34, 'reg_alpha': 0.243, 'colsample_bytree': 0.9}. Best is trial#281 with value: 0.7722222222222223.\n",
      "[I 2020-05-15 22:28:30,569] Finished trial#490 with value: 0.7666666666666667 with parameters: {'n_estimators': 589, 'max_depth': 7, 'min_child_weight': 16, 'learning_rate': 0.085, 'subsample': 0.9, 'reg_lambda': 0.372, 'reg_alpha': 0.809, 'colsample_bytree': 0.9}. Best is trial#281 with value: 0.7722222222222223.\n",
      "[I 2020-05-15 22:28:31,352] Finished trial#491 with value: 0.7222222222222222 with parameters: {'n_estimators': 593, 'max_depth': 7, 'min_child_weight': 9, 'learning_rate': 0.083, 'subsample': 0.9, 'reg_lambda': 0.307, 'reg_alpha': 0.762, 'colsample_bytree': 0.9}. Best is trial#281 with value: 0.7722222222222223.\n",
      "[I 2020-05-15 22:28:32,196] Finished trial#492 with value: 0.7388888888888889 with parameters: {'n_estimators': 615, 'max_depth': 9, 'min_child_weight': 15, 'learning_rate': 0.08, 'subsample': 0.9, 'reg_lambda': 0.374, 'reg_alpha': 0.787, 'colsample_bytree': 0.9}. Best is trial#281 with value: 0.7722222222222223.\n",
      "[I 2020-05-15 22:28:32,848] Finished trial#493 with value: 0.75 with parameters: {'n_estimators': 443, 'max_depth': 6, 'min_child_weight': 16, 'learning_rate': 0.08700000000000001, 'subsample': 0.9, 'reg_lambda': 0.389, 'reg_alpha': 0.804, 'colsample_bytree': 0.9}. Best is trial#281 with value: 0.7722222222222223.\n",
      "[I 2020-05-15 22:28:33,556] Finished trial#494 with value: 0.7444444444444445 with parameters: {'n_estimators': 559, 'max_depth': 11, 'min_child_weight': 17, 'learning_rate': 0.085, 'subsample': 0.9, 'reg_lambda': 0.257, 'reg_alpha': 0.8140000000000001, 'colsample_bytree': 0.9}. Best is trial#281 with value: 0.7722222222222223.\n",
      "[I 2020-05-15 22:28:34,213] Finished trial#495 with value: 0.7555555555555555 with parameters: {'n_estimators': 476, 'max_depth': 8, 'min_child_weight': 16, 'learning_rate': 0.076, 'subsample': 0.9, 'reg_lambda': 0.417, 'reg_alpha': 0.774, 'colsample_bytree': 0.9}. Best is trial#281 with value: 0.7722222222222223.\n",
      "[I 2020-05-15 22:28:35,024] Finished trial#496 with value: 0.75 with parameters: {'n_estimators': 654, 'max_depth': 10, 'min_child_weight': 15, 'learning_rate': 0.08, 'subsample': 0.9, 'reg_lambda': 0.28500000000000003, 'reg_alpha': 0.8280000000000001, 'colsample_bytree': 0.9}. Best is trial#281 with value: 0.7722222222222223.\n",
      "[I 2020-05-15 22:28:35,742] Finished trial#497 with value: 0.75 with parameters: {'n_estimators': 591, 'max_depth': 6, 'min_child_weight': 16, 'learning_rate': 0.093, 'subsample': 0.9, 'reg_lambda': 0.37, 'reg_alpha': 0.798, 'colsample_bytree': 0.9}. Best is trial#281 with value: 0.7722222222222223.\n",
      "[I 2020-05-15 22:28:36,489] Finished trial#498 with value: 0.75 with parameters: {'n_estimators': 632, 'max_depth': 34, 'min_child_weight': 17, 'learning_rate': 0.08800000000000001, 'subsample': 0.9, 'reg_lambda': 0.334, 'reg_alpha': 0.20500000000000002, 'colsample_bytree': 0.9}. Best is trial#281 with value: 0.7722222222222223.\n",
      "[I 2020-05-15 22:28:37,242] Finished trial#499 with value: 0.7444444444444445 with parameters: {'n_estimators': 585, 'max_depth': 7, 'min_child_weight': 16, 'learning_rate': 0.084, 'subsample': 0.8, 'reg_lambda': 0.275, 'reg_alpha': 0.839, 'colsample_bytree': 0.9}. Best is trial#281 with value: 0.7722222222222223.\n"
     ]
    }
   ],
   "source": [
    "opt = optxgb\n",
    "\n",
    "\n",
    "study = optuna.create_study(direction = 'maximize')\n",
    "study.optimize(functools.partial(opt, X_train, y_train, X_val, y_val), n_trials=500)"
   ]
  },
  {
   "cell_type": "code",
   "execution_count": 99,
   "metadata": {},
   "outputs": [
    {
     "data": {
      "text/plain": [
       "{'n_estimators': 498,\n",
       " 'max_depth': 7,\n",
       " 'min_child_weight': 16,\n",
       " 'learning_rate': 0.08600000000000001,\n",
       " 'subsample': 0.9,\n",
       " 'reg_lambda': 0.399,\n",
       " 'reg_alpha': 0.861,\n",
       " 'colsample_bytree': 0.9}"
      ]
     },
     "execution_count": 99,
     "metadata": {},
     "output_type": "execute_result"
    }
   ],
   "source": [
    "study.best_params"
   ]
  },
  {
   "cell_type": "code",
   "execution_count": 100,
   "metadata": {},
   "outputs": [],
   "source": [
    "xgb_model=XGBClassifier(**study.best_params,random_state=1)"
   ]
  },
  {
   "cell_type": "code",
   "execution_count": 101,
   "metadata": {},
   "outputs": [
    {
     "data": {
      "text/plain": [
       "XGBClassifier(base_score=0.5, booster=None, colsample_bylevel=1,\n",
       "              colsample_bynode=1, colsample_bytree=0.9, gamma=0, gpu_id=-1,\n",
       "              importance_type='gain', interaction_constraints=None,\n",
       "              learning_rate=0.08600000000000001, max_delta_step=0, max_depth=7,\n",
       "              min_child_weight=16, missing=nan, monotone_constraints=None,\n",
       "              n_estimators=498, n_jobs=0, num_parallel_tree=1,\n",
       "              objective='binary:logistic', random_state=1, reg_alpha=0.861,\n",
       "              reg_lambda=0.399, scale_pos_weight=1, subsample=0.9,\n",
       "              tree_method=None, validate_parameters=False, verbosity=None)"
      ]
     },
     "execution_count": 101,
     "metadata": {},
     "output_type": "execute_result"
    }
   ],
   "source": [
    "xgb_model.fit(X_train, y_train)"
   ]
  },
  {
   "cell_type": "code",
   "execution_count": 102,
   "metadata": {},
   "outputs": [
    {
     "data": {
      "text/plain": [
       "0.7994428969359332"
      ]
     },
     "execution_count": 102,
     "metadata": {},
     "output_type": "execute_result"
    }
   ],
   "source": [
    "xgb_model.score(X_train,y_train)"
   ]
  },
  {
   "cell_type": "code",
   "execution_count": 103,
   "metadata": {},
   "outputs": [
    {
     "data": {
      "text/plain": [
       "0.7722222222222223"
      ]
     },
     "execution_count": 103,
     "metadata": {},
     "output_type": "execute_result"
    }
   ],
   "source": [
    "xgb_model.score(X_val, y_val)"
   ]
  },
  {
   "cell_type": "code",
   "execution_count": null,
   "metadata": {},
   "outputs": [],
   "source": []
  }
 ],
 "metadata": {
  "kernelspec": {
   "display_name": "Python 3",
   "language": "python",
   "name": "python3"
  },
  "language_info": {
   "codemirror_mode": {
    "name": "ipython",
    "version": 3
   },
   "file_extension": ".py",
   "mimetype": "text/x-python",
   "name": "python",
   "nbconvert_exporter": "python",
   "pygments_lexer": "ipython3",
   "version": "3.7.3"
  }
 },
 "nbformat": 4,
 "nbformat_minor": 4
}
